{
  "nbformat": 4,
  "nbformat_minor": 0,
  "metadata": {
    "kernelspec": {
      "display_name": "Python 3",
      "language": "python",
      "name": "python3"
    },
    "language_info": {
      "codemirror_mode": {
        "name": "ipython",
        "version": 3
      },
      "file_extension": ".py",
      "mimetype": "text/x-python",
      "name": "python",
      "nbconvert_exporter": "python",
      "pygments_lexer": "ipython3",
      "version": "3.7.3"
    },
    "colab": {
      "name": "Kiva_Project_CS_Def.ipynb",
      "provenance": [],
      "collapsed_sections": [],
      "toc_visible": true,
      "machine_shape": "hm"
    }
  },
  "cells": [
    {
      "cell_type": "markdown",
      "metadata": {
        "id": "V_rJV9buHiWy",
        "colab_type": "text"
      },
      "source": [
        "# Kiva Project: Computer Science"
      ]
    },
    {
      "cell_type": "markdown",
      "metadata": {
        "id": "iD9RT69pQzKE",
        "colab_type": "text"
      },
      "source": [
        "Foundation of Computer Science Project on Kiva Dataset\n",
        "\n",
        "Mattia Rigiroli, 819987\n",
        "\n",
        "21-01-2020"
      ]
    },
    {
      "cell_type": "code",
      "metadata": {
        "id": "aEBXrL_OHmnb",
        "colab_type": "code",
        "colab": {
          "base_uri": "https://localhost:8080/",
          "height": 122
        },
        "outputId": "2e0d3688-91ca-449f-dc94-6d4e5eb2bc19"
      },
      "source": [
        "from google.colab import drive\n",
        "drive.mount('/content/drive')"
      ],
      "execution_count": 1,
      "outputs": [
        {
          "output_type": "stream",
          "text": [
            "Go to this URL in a browser: https://accounts.google.com/o/oauth2/auth?client_id=947318989803-6bn6qk8qdgf4n4g3pfee6491hc0brc4i.apps.googleusercontent.com&redirect_uri=urn%3aietf%3awg%3aoauth%3a2.0%3aoob&response_type=code&scope=email%20https%3a%2f%2fwww.googleapis.com%2fauth%2fdocs.test%20https%3a%2f%2fwww.googleapis.com%2fauth%2fdrive%20https%3a%2f%2fwww.googleapis.com%2fauth%2fdrive.photos.readonly%20https%3a%2f%2fwww.googleapis.com%2fauth%2fpeopleapi.readonly\n",
            "\n",
            "Enter your authorization code:\n",
            "··········\n",
            "Mounted at /content/drive\n"
          ],
          "name": "stdout"
        }
      ]
    },
    {
      "cell_type": "markdown",
      "metadata": {
        "id": "RaTDzUzDAiTL",
        "colab_type": "text"
      },
      "source": [
        "Ho deciso di utilizzare Google Colab in quanto il mio computer non supportava il caricamento del dataset loans per memoria insufficiente. \n"
      ]
    },
    {
      "cell_type": "markdown",
      "metadata": {
        "id": "qY2oHRhs-bln",
        "colab_type": "text"
      },
      "source": [
        "Importo tutte le librerie necessarie:"
      ]
    },
    {
      "cell_type": "code",
      "metadata": {
        "id": "AFQ42keEHiW3",
        "colab_type": "code",
        "colab": {}
      },
      "source": [
        "import pandas as pd\n",
        "import numpy as np\n",
        "import time\n",
        "import datetime\n",
        "import random"
      ],
      "execution_count": 0,
      "outputs": []
    },
    {
      "cell_type": "markdown",
      "metadata": {
        "id": "gToRsX0OHiW7",
        "colab_type": "text"
      },
      "source": [
        "# 1- Normalize the loan_lenders table. In the normalized table, each row must have one loan_id and one lender."
      ]
    },
    {
      "cell_type": "code",
      "metadata": {
        "id": "S_IdzK-iHiW8",
        "colab_type": "code",
        "colab": {}
      },
      "source": [
        "loan_lenders=pd.read_csv(\"/content/drive/My Drive/CS Project/Kiva_Dataset/loans_lenders.csv\")"
      ],
      "execution_count": 0,
      "outputs": []
    },
    {
      "cell_type": "code",
      "metadata": {
        "id": "N7vYQG2HHiW-",
        "colab_type": "code",
        "outputId": "00955971-8e73-4c5f-a0d3-5dd3a09cf9ae",
        "colab": {
          "base_uri": "https://localhost:8080/",
          "height": 204
        }
      },
      "source": [
        "loan_lenders.head()"
      ],
      "execution_count": 4,
      "outputs": [
        {
          "output_type": "execute_result",
          "data": {
            "text/html": [
              "<div>\n",
              "<style scoped>\n",
              "    .dataframe tbody tr th:only-of-type {\n",
              "        vertical-align: middle;\n",
              "    }\n",
              "\n",
              "    .dataframe tbody tr th {\n",
              "        vertical-align: top;\n",
              "    }\n",
              "\n",
              "    .dataframe thead th {\n",
              "        text-align: right;\n",
              "    }\n",
              "</style>\n",
              "<table border=\"1\" class=\"dataframe\">\n",
              "  <thead>\n",
              "    <tr style=\"text-align: right;\">\n",
              "      <th></th>\n",
              "      <th>loan_id</th>\n",
              "      <th>lenders</th>\n",
              "    </tr>\n",
              "  </thead>\n",
              "  <tbody>\n",
              "    <tr>\n",
              "      <th>0</th>\n",
              "      <td>483693</td>\n",
              "      <td>muc888, sam4326, camaran3922, lachheb1865, reb...</td>\n",
              "    </tr>\n",
              "    <tr>\n",
              "      <th>1</th>\n",
              "      <td>483738</td>\n",
              "      <td>muc888, nora3555, williammanashi, barbara5610,...</td>\n",
              "    </tr>\n",
              "    <tr>\n",
              "      <th>2</th>\n",
              "      <td>485000</td>\n",
              "      <td>muc888, terrystl, richardandsusan8352, sherri4...</td>\n",
              "    </tr>\n",
              "    <tr>\n",
              "      <th>3</th>\n",
              "      <td>486087</td>\n",
              "      <td>muc888, james5068, rudi5955, daniel9859, don92...</td>\n",
              "    </tr>\n",
              "    <tr>\n",
              "      <th>4</th>\n",
              "      <td>534428</td>\n",
              "      <td>muc888, niki3008, teresa9174, mike4896, david7...</td>\n",
              "    </tr>\n",
              "  </tbody>\n",
              "</table>\n",
              "</div>"
            ],
            "text/plain": [
              "   loan_id                                            lenders\n",
              "0   483693  muc888, sam4326, camaran3922, lachheb1865, reb...\n",
              "1   483738  muc888, nora3555, williammanashi, barbara5610,...\n",
              "2   485000  muc888, terrystl, richardandsusan8352, sherri4...\n",
              "3   486087  muc888, james5068, rudi5955, daniel9859, don92...\n",
              "4   534428  muc888, niki3008, teresa9174, mike4896, david7..."
            ]
          },
          "metadata": {
            "tags": []
          },
          "execution_count": 4
        }
      ]
    },
    {
      "cell_type": "code",
      "metadata": {
        "id": "22EU-zDx_OWT",
        "colab_type": "code",
        "outputId": "b77b87d8-464f-465d-fbde-93b61897e3fb",
        "colab": {
          "base_uri": "https://localhost:8080/",
          "height": 204
        }
      },
      "source": [
        "loan_short=loan_lenders[0:100]\n",
        "df = pd.DataFrame({'loan_id':[], 'lender':[]})\n",
        "for i in range(0,len(loan_short)):\n",
        "    loan_id=loan_short[\"loan_id\"][i]\n",
        "    lenders=loan_short['lenders'][i]\n",
        "    lenders_list=lenders.split(',')\n",
        "    for k in range(0,len(lenders_list)):\n",
        "        df = pd.DataFrame(np.array([[loan_id,lenders_list[k]]]),columns=[\"loan_id\", \"lender\"]).append(df, ignore_index=True)\n",
        "df.head()"
      ],
      "execution_count": 5,
      "outputs": [
        {
          "output_type": "execute_result",
          "data": {
            "text/html": [
              "<div>\n",
              "<style scoped>\n",
              "    .dataframe tbody tr th:only-of-type {\n",
              "        vertical-align: middle;\n",
              "    }\n",
              "\n",
              "    .dataframe tbody tr th {\n",
              "        vertical-align: top;\n",
              "    }\n",
              "\n",
              "    .dataframe thead th {\n",
              "        text-align: right;\n",
              "    }\n",
              "</style>\n",
              "<table border=\"1\" class=\"dataframe\">\n",
              "  <thead>\n",
              "    <tr style=\"text-align: right;\">\n",
              "      <th></th>\n",
              "      <th>loan_id</th>\n",
              "      <th>lender</th>\n",
              "    </tr>\n",
              "  </thead>\n",
              "  <tbody>\n",
              "    <tr>\n",
              "      <th>0</th>\n",
              "      <td>338792</td>\n",
              "      <td>emily3379</td>\n",
              "    </tr>\n",
              "    <tr>\n",
              "      <th>1</th>\n",
              "      <td>338792</td>\n",
              "      <td>shannon3680</td>\n",
              "    </tr>\n",
              "    <tr>\n",
              "      <th>2</th>\n",
              "      <td>338792</td>\n",
              "      <td>anders5148</td>\n",
              "    </tr>\n",
              "    <tr>\n",
              "      <th>3</th>\n",
              "      <td>338792</td>\n",
              "      <td>scott9318</td>\n",
              "    </tr>\n",
              "    <tr>\n",
              "      <th>4</th>\n",
              "      <td>282917</td>\n",
              "      <td>rs7257</td>\n",
              "    </tr>\n",
              "  </tbody>\n",
              "</table>\n",
              "</div>"
            ],
            "text/plain": [
              "  loan_id        lender\n",
              "0  338792     emily3379\n",
              "1  338792   shannon3680\n",
              "2  338792    anders5148\n",
              "3  338792     scott9318\n",
              "4  282917        rs7257"
            ]
          },
          "metadata": {
            "tags": []
          },
          "execution_count": 5
        }
      ]
    },
    {
      "cell_type": "markdown",
      "metadata": {
        "id": "wD7gHlH3_X4U",
        "colab_type": "text"
      },
      "source": [
        "Questo metodo applicato all'intero dataset risulta molto lento e inefficace. Ho quindi applicato un altra metodologia."
      ]
    },
    {
      "cell_type": "markdown",
      "metadata": {
        "id": "pATImbD1HiXH",
        "colab_type": "text"
      },
      "source": [
        "Elaborazione sull'intero dataset:"
      ]
    },
    {
      "cell_type": "code",
      "metadata": {
        "id": "aDMa5o68HiXH",
        "colab_type": "code",
        "outputId": "343897af-db37-4bae-e083-70c544401c00",
        "colab": {
          "base_uri": "https://localhost:8080/",
          "height": 187
        }
      },
      "source": [
        "# Creo una lista di ID \n",
        "id_list=[x for x in loan_lenders['loan_id']]\n",
        "id_list[0:10]"
      ],
      "execution_count": 6,
      "outputs": [
        {
          "output_type": "execute_result",
          "data": {
            "text/plain": [
              "[483693,\n",
              " 483738,\n",
              " 485000,\n",
              " 486087,\n",
              " 534428,\n",
              " 558112,\n",
              " 563395,\n",
              " 575414,\n",
              " 578029,\n",
              " 551251]"
            ]
          },
          "metadata": {
            "tags": []
          },
          "execution_count": 6
        }
      ]
    },
    {
      "cell_type": "code",
      "metadata": {
        "id": "p-QVjnNMHiXN",
        "colab_type": "code",
        "outputId": "33e02eb6-bda7-47e2-d263-4da8f6e67358",
        "colab": {
          "base_uri": "https://localhost:8080/",
          "height": 357
        }
      },
      "source": [
        "# Creo una lista di lenders\n",
        "lenders_list=[y for x in loan_lenders['lenders'] for y in x.split(',')]\n",
        "lenders_list[0:20]"
      ],
      "execution_count": 7,
      "outputs": [
        {
          "output_type": "execute_result",
          "data": {
            "text/plain": [
              "['muc888',\n",
              " ' sam4326',\n",
              " ' camaran3922',\n",
              " ' lachheb1865',\n",
              " ' rebecca3499',\n",
              " ' karlheinz4543',\n",
              " ' jerrydb',\n",
              " ' paula8951',\n",
              " ' gmct',\n",
              " ' amra9383',\n",
              " ' r3922',\n",
              " ' brian9451',\n",
              " ' shree8053',\n",
              " ' alan5513',\n",
              " ' oisin3389',\n",
              " ' helle8622',\n",
              " ' bo3186',\n",
              " ' ric8947',\n",
              " ' daniel98469874',\n",
              " ' nick9464']"
            ]
          },
          "metadata": {
            "tags": []
          },
          "execution_count": 7
        }
      ]
    },
    {
      "cell_type": "code",
      "metadata": {
        "id": "iWal8MLjHiXP",
        "colab_type": "code",
        "outputId": "bec9431c-7212-43fb-9248-48320e1c905d",
        "colab": {
          "base_uri": "https://localhost:8080/",
          "height": 34
        }
      },
      "source": [
        "len(lenders_list)"
      ],
      "execution_count": 8,
      "outputs": [
        {
          "output_type": "execute_result",
          "data": {
            "text/plain": [
              "28293931"
            ]
          },
          "metadata": {
            "tags": []
          },
          "execution_count": 8
        }
      ]
    },
    {
      "cell_type": "code",
      "metadata": {
        "id": "EfwPcOLDHiXU",
        "colab_type": "code",
        "outputId": "1a4a9643-3ac8-45c7-b4c5-ff9db7a1b2a4",
        "colab": {
          "base_uri": "https://localhost:8080/",
          "height": 34
        }
      },
      "source": [
        "# Creo una lista che contiene il numero di lenders per ciascun ID\n",
        "# In questo caso, al primo loan_id corrispondono 40 lenders e così via. \n",
        "lunghezza=[len(x.split(',')) for x in loan_lenders['lenders']]\n",
        "lunghezza[0:10]"
      ],
      "execution_count": 9,
      "outputs": [
        {
          "output_type": "execute_result",
          "data": {
            "text/plain": [
              "[40, 15, 15, 13, 19, 13, 11, 23, 13, 32]"
            ]
          },
          "metadata": {
            "tags": []
          },
          "execution_count": 9
        }
      ]
    },
    {
      "cell_type": "code",
      "metadata": {
        "id": "43Fyt4zXHiXa",
        "colab_type": "code",
        "outputId": "3265ddfe-4149-48e0-ca1c-d7f116fb8106",
        "colab": {
          "base_uri": "https://localhost:8080/",
          "height": 187
        }
      },
      "source": [
        "# Aggiungo ad una nuova lista ciascun ID presente nella lista id_list per il numero di volte \n",
        "# presente in lunghezza (n di lenders per ciascun ID). \n",
        "id_list1=[]\n",
        "for i in range(0,len(lunghezza)):\n",
        "    id_list1.append([id_list[i]]*lunghezza[i])\n",
        "# Il risultato è una lista di liste: estraggo perciò i singoli ID e li metto in un'unica lista. \n",
        "id_finale=[y for x in id_list1 for y in x]\n",
        "id_finale[0:10]    "
      ],
      "execution_count": 10,
      "outputs": [
        {
          "output_type": "execute_result",
          "data": {
            "text/plain": [
              "[483693,\n",
              " 483693,\n",
              " 483693,\n",
              " 483693,\n",
              " 483693,\n",
              " 483693,\n",
              " 483693,\n",
              " 483693,\n",
              " 483693,\n",
              " 483693]"
            ]
          },
          "metadata": {
            "tags": []
          },
          "execution_count": 10
        }
      ]
    },
    {
      "cell_type": "code",
      "metadata": {
        "id": "T8WqrabtHiXj",
        "colab_type": "code",
        "outputId": "15168f44-282e-43d7-918d-2697bd01ba87",
        "colab": {
          "base_uri": "https://localhost:8080/",
          "height": 34
        }
      },
      "source": [
        "# Verifico che il numero di ID sia uguale al numero di lenders. \n",
        "len(id_finale)"
      ],
      "execution_count": 11,
      "outputs": [
        {
          "output_type": "execute_result",
          "data": {
            "text/plain": [
              "28293931"
            ]
          },
          "metadata": {
            "tags": []
          },
          "execution_count": 11
        }
      ]
    },
    {
      "cell_type": "code",
      "metadata": {
        "id": "hWO759PBHiXr",
        "colab_type": "code",
        "colab": {}
      },
      "source": [
        "# Creo il dataset loan lender normalizzato\n",
        "loan_lender_norm = pd.DataFrame({'loan_id':id_finale, 'lender':lenders_list})"
      ],
      "execution_count": 0,
      "outputs": []
    },
    {
      "cell_type": "code",
      "metadata": {
        "id": "DvsfbnexHiXu",
        "colab_type": "code",
        "outputId": "41d6905a-e55a-44e9-b783-6219666c07e0",
        "colab": {
          "base_uri": "https://localhost:8080/",
          "height": 419
        }
      },
      "source": [
        "loan_lender_norm"
      ],
      "execution_count": 13,
      "outputs": [
        {
          "output_type": "execute_result",
          "data": {
            "text/html": [
              "<div>\n",
              "<style scoped>\n",
              "    .dataframe tbody tr th:only-of-type {\n",
              "        vertical-align: middle;\n",
              "    }\n",
              "\n",
              "    .dataframe tbody tr th {\n",
              "        vertical-align: top;\n",
              "    }\n",
              "\n",
              "    .dataframe thead th {\n",
              "        text-align: right;\n",
              "    }\n",
              "</style>\n",
              "<table border=\"1\" class=\"dataframe\">\n",
              "  <thead>\n",
              "    <tr style=\"text-align: right;\">\n",
              "      <th></th>\n",
              "      <th>loan_id</th>\n",
              "      <th>lender</th>\n",
              "    </tr>\n",
              "  </thead>\n",
              "  <tbody>\n",
              "    <tr>\n",
              "      <th>0</th>\n",
              "      <td>483693</td>\n",
              "      <td>muc888</td>\n",
              "    </tr>\n",
              "    <tr>\n",
              "      <th>1</th>\n",
              "      <td>483693</td>\n",
              "      <td>sam4326</td>\n",
              "    </tr>\n",
              "    <tr>\n",
              "      <th>2</th>\n",
              "      <td>483693</td>\n",
              "      <td>camaran3922</td>\n",
              "    </tr>\n",
              "    <tr>\n",
              "      <th>3</th>\n",
              "      <td>483693</td>\n",
              "      <td>lachheb1865</td>\n",
              "    </tr>\n",
              "    <tr>\n",
              "      <th>4</th>\n",
              "      <td>483693</td>\n",
              "      <td>rebecca3499</td>\n",
              "    </tr>\n",
              "    <tr>\n",
              "      <th>...</th>\n",
              "      <td>...</td>\n",
              "      <td>...</td>\n",
              "    </tr>\n",
              "    <tr>\n",
              "      <th>28293926</th>\n",
              "      <td>1206425</td>\n",
              "      <td>trogdorfamily7622</td>\n",
              "    </tr>\n",
              "    <tr>\n",
              "      <th>28293927</th>\n",
              "      <td>1206425</td>\n",
              "      <td>danny6470</td>\n",
              "    </tr>\n",
              "    <tr>\n",
              "      <th>28293928</th>\n",
              "      <td>1206425</td>\n",
              "      <td>don6118</td>\n",
              "    </tr>\n",
              "    <tr>\n",
              "      <th>28293929</th>\n",
              "      <td>1206486</td>\n",
              "      <td>alan5175</td>\n",
              "    </tr>\n",
              "    <tr>\n",
              "      <th>28293930</th>\n",
              "      <td>1206486</td>\n",
              "      <td>amy38101311</td>\n",
              "    </tr>\n",
              "  </tbody>\n",
              "</table>\n",
              "<p>28293931 rows × 2 columns</p>\n",
              "</div>"
            ],
            "text/plain": [
              "          loan_id              lender\n",
              "0          483693              muc888\n",
              "1          483693             sam4326\n",
              "2          483693         camaran3922\n",
              "3          483693         lachheb1865\n",
              "4          483693         rebecca3499\n",
              "...           ...                 ...\n",
              "28293926  1206425   trogdorfamily7622\n",
              "28293927  1206425           danny6470\n",
              "28293928  1206425             don6118\n",
              "28293929  1206486            alan5175\n",
              "28293930  1206486         amy38101311\n",
              "\n",
              "[28293931 rows x 2 columns]"
            ]
          },
          "metadata": {
            "tags": []
          },
          "execution_count": 13
        }
      ]
    },
    {
      "cell_type": "markdown",
      "metadata": {
        "id": "SICgtnf1HiYE",
        "colab_type": "text"
      },
      "source": [
        "# 2- For each loan, add a column duration corresponding to the number of days between the disburse time and the planned expiration time. If any of those two dates is missing, also the duration must be missing."
      ]
    },
    {
      "cell_type": "code",
      "metadata": {
        "id": "ErFfZ8zIHiYI",
        "colab_type": "code",
        "colab": {}
      },
      "source": [
        "loans=pd.read_csv(\"/content/drive/My Drive/CS Project/Kiva_Dataset/loans.csv\")"
      ],
      "execution_count": 0,
      "outputs": []
    },
    {
      "cell_type": "code",
      "metadata": {
        "id": "HNTF-pVLHiYL",
        "colab_type": "code",
        "outputId": "64e01b1c-b80f-4069-9e0f-3966680e87a5",
        "colab": {
          "base_uri": "https://localhost:8080/",
          "height": 581
        }
      },
      "source": [
        "loans.head()"
      ],
      "execution_count": 15,
      "outputs": [
        {
          "output_type": "execute_result",
          "data": {
            "text/html": [
              "<div>\n",
              "<style scoped>\n",
              "    .dataframe tbody tr th:only-of-type {\n",
              "        vertical-align: middle;\n",
              "    }\n",
              "\n",
              "    .dataframe tbody tr th {\n",
              "        vertical-align: top;\n",
              "    }\n",
              "\n",
              "    .dataframe thead th {\n",
              "        text-align: right;\n",
              "    }\n",
              "</style>\n",
              "<table border=\"1\" class=\"dataframe\">\n",
              "  <thead>\n",
              "    <tr style=\"text-align: right;\">\n",
              "      <th></th>\n",
              "      <th>loan_id</th>\n",
              "      <th>loan_name</th>\n",
              "      <th>original_language</th>\n",
              "      <th>description</th>\n",
              "      <th>description_translated</th>\n",
              "      <th>funded_amount</th>\n",
              "      <th>loan_amount</th>\n",
              "      <th>status</th>\n",
              "      <th>activity_name</th>\n",
              "      <th>sector_name</th>\n",
              "      <th>loan_use</th>\n",
              "      <th>country_code</th>\n",
              "      <th>country_name</th>\n",
              "      <th>town_name</th>\n",
              "      <th>currency_policy</th>\n",
              "      <th>currency_exchange_coverage_rate</th>\n",
              "      <th>currency</th>\n",
              "      <th>partner_id</th>\n",
              "      <th>posted_time</th>\n",
              "      <th>planned_expiration_time</th>\n",
              "      <th>disburse_time</th>\n",
              "      <th>raised_time</th>\n",
              "      <th>lender_term</th>\n",
              "      <th>num_lenders_total</th>\n",
              "      <th>num_journal_entries</th>\n",
              "      <th>num_bulk_entries</th>\n",
              "      <th>tags</th>\n",
              "      <th>borrower_genders</th>\n",
              "      <th>borrower_pictured</th>\n",
              "      <th>repayment_interval</th>\n",
              "      <th>distribution_model</th>\n",
              "    </tr>\n",
              "  </thead>\n",
              "  <tbody>\n",
              "    <tr>\n",
              "      <th>0</th>\n",
              "      <td>657307</td>\n",
              "      <td>Aivy</td>\n",
              "      <td>English</td>\n",
              "      <td>Aivy, 21 years of age, is single and lives in ...</td>\n",
              "      <td>NaN</td>\n",
              "      <td>125.0</td>\n",
              "      <td>125.0</td>\n",
              "      <td>funded</td>\n",
              "      <td>General Store</td>\n",
              "      <td>Retail</td>\n",
              "      <td>to buy additional inventories for her sari-sa...</td>\n",
              "      <td>PH</td>\n",
              "      <td>Philippines</td>\n",
              "      <td>Ozamiz - Ozamiz City</td>\n",
              "      <td>shared</td>\n",
              "      <td>0.1</td>\n",
              "      <td>PHP</td>\n",
              "      <td>126.0</td>\n",
              "      <td>2014-01-15 02:23:45.000 +0000</td>\n",
              "      <td>2014-02-14 03:30:06.000 +0000</td>\n",
              "      <td>2013-12-22 08:00:00.000 +0000</td>\n",
              "      <td>2014-01-15 04:48:22.000 +0000</td>\n",
              "      <td>7.0</td>\n",
              "      <td>3</td>\n",
              "      <td>2</td>\n",
              "      <td>1</td>\n",
              "      <td>NaN</td>\n",
              "      <td>female</td>\n",
              "      <td>true</td>\n",
              "      <td>irregular</td>\n",
              "      <td>field_partner</td>\n",
              "    </tr>\n",
              "    <tr>\n",
              "      <th>1</th>\n",
              "      <td>657259</td>\n",
              "      <td>Idalia Marizza</td>\n",
              "      <td>Spanish</td>\n",
              "      <td>Doña Idalia, esta casada, tiene 57 años de eda...</td>\n",
              "      <td>Idalia, 57, is married and lives with her husb...</td>\n",
              "      <td>400.0</td>\n",
              "      <td>400.0</td>\n",
              "      <td>funded</td>\n",
              "      <td>Used Clothing</td>\n",
              "      <td>Clothing</td>\n",
              "      <td>To buy American clothing such as blouses, shir...</td>\n",
              "      <td>HN</td>\n",
              "      <td>Honduras</td>\n",
              "      <td>La Lopez, Choloma</td>\n",
              "      <td>shared</td>\n",
              "      <td>0.1</td>\n",
              "      <td>HNL</td>\n",
              "      <td>201.0</td>\n",
              "      <td>2014-01-14 20:23:20.000 +0000</td>\n",
              "      <td>2014-03-26 22:25:07.000 +0000</td>\n",
              "      <td>2013-12-20 08:00:00.000 +0000</td>\n",
              "      <td>2014-02-25 06:42:06.000 +0000</td>\n",
              "      <td>8.0</td>\n",
              "      <td>11</td>\n",
              "      <td>2</td>\n",
              "      <td>1</td>\n",
              "      <td>NaN</td>\n",
              "      <td>female</td>\n",
              "      <td>true</td>\n",
              "      <td>monthly</td>\n",
              "      <td>field_partner</td>\n",
              "    </tr>\n",
              "    <tr>\n",
              "      <th>2</th>\n",
              "      <td>658010</td>\n",
              "      <td>Aasia</td>\n",
              "      <td>English</td>\n",
              "      <td>Aasia is a 45-year-old married lady and she ha...</td>\n",
              "      <td>NaN</td>\n",
              "      <td>400.0</td>\n",
              "      <td>400.0</td>\n",
              "      <td>funded</td>\n",
              "      <td>General Store</td>\n",
              "      <td>Retail</td>\n",
              "      <td>to buy stock of rice, sugar and flour</td>\n",
              "      <td>PK</td>\n",
              "      <td>Pakistan</td>\n",
              "      <td>Lala Musa</td>\n",
              "      <td>shared</td>\n",
              "      <td>0.1</td>\n",
              "      <td>PKR</td>\n",
              "      <td>245.0</td>\n",
              "      <td>2014-01-16 11:32:58.000 +0000</td>\n",
              "      <td>2014-02-15 21:10:05.000 +0000</td>\n",
              "      <td>2014-01-09 08:00:00.000 +0000</td>\n",
              "      <td>2014-01-24 23:06:18.000 +0000</td>\n",
              "      <td>14.0</td>\n",
              "      <td>16</td>\n",
              "      <td>2</td>\n",
              "      <td>1</td>\n",
              "      <td>#Woman Owned Biz, #Supporting Family, user_fav...</td>\n",
              "      <td>female</td>\n",
              "      <td>true</td>\n",
              "      <td>monthly</td>\n",
              "      <td>field_partner</td>\n",
              "    </tr>\n",
              "    <tr>\n",
              "      <th>3</th>\n",
              "      <td>659347</td>\n",
              "      <td>Gulmira</td>\n",
              "      <td>Russian</td>\n",
              "      <td>Гулмире 36 лет, замужем, вместе с супругом вос...</td>\n",
              "      <td>Gulmira is 36 years old and married.  She and ...</td>\n",
              "      <td>625.0</td>\n",
              "      <td>625.0</td>\n",
              "      <td>funded</td>\n",
              "      <td>Farming</td>\n",
              "      <td>Agriculture</td>\n",
              "      <td>to buy cucumber and tomato seeds, as well as f...</td>\n",
              "      <td>KG</td>\n",
              "      <td>Kyrgyzstan</td>\n",
              "      <td>Aravan village, Osh region</td>\n",
              "      <td>shared</td>\n",
              "      <td>0.1</td>\n",
              "      <td>KGS</td>\n",
              "      <td>171.0</td>\n",
              "      <td>2014-01-20 09:59:48.000 +0000</td>\n",
              "      <td>2014-02-21 03:10:02.000 +0000</td>\n",
              "      <td>2014-01-17 08:00:00.000 +0000</td>\n",
              "      <td>2014-01-22 05:29:28.000 +0000</td>\n",
              "      <td>14.0</td>\n",
              "      <td>21</td>\n",
              "      <td>2</td>\n",
              "      <td>1</td>\n",
              "      <td>user_favorite</td>\n",
              "      <td>female</td>\n",
              "      <td>true</td>\n",
              "      <td>monthly</td>\n",
              "      <td>field_partner</td>\n",
              "    </tr>\n",
              "    <tr>\n",
              "      <th>4</th>\n",
              "      <td>656933</td>\n",
              "      <td>Ricky\\t</td>\n",
              "      <td>English</td>\n",
              "      <td>Ricky is a farmer who currently cultivates his...</td>\n",
              "      <td>NaN</td>\n",
              "      <td>425.0</td>\n",
              "      <td>425.0</td>\n",
              "      <td>funded</td>\n",
              "      <td>Farming</td>\n",
              "      <td>Agriculture</td>\n",
              "      <td>to buy organic fertilizer and agrochemical pr...</td>\n",
              "      <td>PH</td>\n",
              "      <td>Philippines</td>\n",
              "      <td>Baleleng, Sto. Thomas, Isabela</td>\n",
              "      <td>shared</td>\n",
              "      <td>0.1</td>\n",
              "      <td>PHP</td>\n",
              "      <td>123.0</td>\n",
              "      <td>2014-01-14 05:46:21.000 +0000</td>\n",
              "      <td>2014-02-13 06:10:02.000 +0000</td>\n",
              "      <td>2013-12-17 08:00:00.000 +0000</td>\n",
              "      <td>2014-01-14 17:29:27.000 +0000</td>\n",
              "      <td>7.0</td>\n",
              "      <td>15</td>\n",
              "      <td>2</td>\n",
              "      <td>1</td>\n",
              "      <td>#Animals, #Eco-friendly, #Sustainable Ag</td>\n",
              "      <td>male</td>\n",
              "      <td>true</td>\n",
              "      <td>bullet</td>\n",
              "      <td>field_partner</td>\n",
              "    </tr>\n",
              "  </tbody>\n",
              "</table>\n",
              "</div>"
            ],
            "text/plain": [
              "   loan_id       loan_name  ... repayment_interval distribution_model\n",
              "0   657307            Aivy  ...          irregular      field_partner\n",
              "1   657259  Idalia Marizza  ...            monthly      field_partner\n",
              "2   658010           Aasia  ...            monthly      field_partner\n",
              "3   659347         Gulmira  ...            monthly      field_partner\n",
              "4   656933         Ricky\\t  ...             bullet      field_partner\n",
              "\n",
              "[5 rows x 31 columns]"
            ]
          },
          "metadata": {
            "tags": []
          },
          "execution_count": 15
        }
      ]
    },
    {
      "cell_type": "code",
      "metadata": {
        "id": "8D4O0dI4HiYV",
        "colab_type": "code",
        "outputId": "0a18848c-841a-43d7-d069-93990fb187e6",
        "colab": {
          "base_uri": "https://localhost:8080/",
          "height": 34
        }
      },
      "source": [
        "type(loans['disburse_time'][1])"
      ],
      "execution_count": 16,
      "outputs": [
        {
          "output_type": "execute_result",
          "data": {
            "text/plain": [
              "str"
            ]
          },
          "metadata": {
            "tags": []
          },
          "execution_count": 16
        }
      ]
    },
    {
      "cell_type": "code",
      "metadata": {
        "id": "UmO1U01gD1ru",
        "colab_type": "code",
        "outputId": "c21fb1d9-9a1c-4758-c703-4fb5a154450d",
        "colab": {
          "base_uri": "https://localhost:8080/",
          "height": 34
        }
      },
      "source": [
        "type(loans['planned_expiration_time'][1])"
      ],
      "execution_count": 17,
      "outputs": [
        {
          "output_type": "execute_result",
          "data": {
            "text/plain": [
              "str"
            ]
          },
          "metadata": {
            "tags": []
          },
          "execution_count": 17
        }
      ]
    },
    {
      "cell_type": "code",
      "metadata": {
        "id": "6wn6TkemHiYY",
        "colab_type": "code",
        "outputId": "1e794059-2102-44ee-9f8c-ba4cb88e5274",
        "colab": {
          "base_uri": "https://localhost:8080/",
          "height": 34
        }
      },
      "source": [
        "loans['disburse_time'][1]"
      ],
      "execution_count": 18,
      "outputs": [
        {
          "output_type": "execute_result",
          "data": {
            "text/plain": [
              "'2013-12-20 08:00:00.000 +0000'"
            ]
          },
          "metadata": {
            "tags": []
          },
          "execution_count": 18
        }
      ]
    },
    {
      "cell_type": "code",
      "metadata": {
        "id": "kTpgsAeaHiYd",
        "colab_type": "code",
        "colab": {}
      },
      "source": [
        "loans['planned_expiration_time'] = pd.to_datetime(loans['planned_expiration_time'])\n",
        "loans['disburse_time']= pd.to_datetime(loans['disburse_time'])"
      ],
      "execution_count": 0,
      "outputs": []
    },
    {
      "cell_type": "code",
      "metadata": {
        "id": "KOuW4KM0HiYg",
        "colab_type": "code",
        "colab": {}
      },
      "source": [
        "loans['loans_duration']=abs(loans['planned_expiration_time']-loans['disburse_time'])"
      ],
      "execution_count": 0,
      "outputs": []
    },
    {
      "cell_type": "code",
      "metadata": {
        "id": "sMTJLQeWHiYj",
        "colab_type": "code",
        "outputId": "8ec191db-98d1-43dd-be06-266a25203e91",
        "colab": {
          "base_uri": "https://localhost:8080/",
          "height": 119
        }
      },
      "source": [
        "loans['loans_duration'][0:5]"
      ],
      "execution_count": 21,
      "outputs": [
        {
          "output_type": "execute_result",
          "data": {
            "text/plain": [
              "0   53 days 19:30:06\n",
              "1   96 days 14:25:07\n",
              "2   37 days 13:10:05\n",
              "3   34 days 19:10:02\n",
              "4   57 days 22:10:02\n",
              "Name: loans_duration, dtype: timedelta64[ns]"
            ]
          },
          "metadata": {
            "tags": []
          },
          "execution_count": 21
        }
      ]
    },
    {
      "cell_type": "code",
      "metadata": {
        "id": "3Rk1bPcXzmuN",
        "colab_type": "code",
        "outputId": "7f44ac08-40b6-4c92-d2a2-0d94339082d9",
        "colab": {
          "base_uri": "https://localhost:8080/",
          "height": 68
        }
      },
      "source": [
        "# Controllo la persenza di valori nulli nelle due variabili considerate:\n",
        "print(loans['disburse_time'].isnull().any())\n",
        "print(loans['planned_expiration_time'].isnull().any())\n",
        "print(loans['loans_duration'].isnull().any())"
      ],
      "execution_count": 22,
      "outputs": [
        {
          "output_type": "stream",
          "text": [
            "True\n",
            "True\n",
            "True\n"
          ],
          "name": "stdout"
        }
      ]
    },
    {
      "cell_type": "code",
      "metadata": {
        "id": "HTGgAd7DC-B9",
        "colab_type": "code",
        "outputId": "19838f48-fa3a-42cc-ea34-37a2d7fdb5f3",
        "colab": {
          "base_uri": "https://localhost:8080/",
          "height": 85
        }
      },
      "source": [
        "# Valore nullo in planned_expiration_time e loans_duration\n",
        "loans[['disburse_time','planned_expiration_time','loans_duration']].iloc[64]"
      ],
      "execution_count": 23,
      "outputs": [
        {
          "output_type": "execute_result",
          "data": {
            "text/plain": [
              "disburse_time              2010-11-18 08:00:00+00:00\n",
              "planned_expiration_time                          NaT\n",
              "loans_duration                                   NaT\n",
              "Name: 64, dtype: object"
            ]
          },
          "metadata": {
            "tags": []
          },
          "execution_count": 23
        }
      ]
    },
    {
      "cell_type": "code",
      "metadata": {
        "id": "3mWxA8hiDsZV",
        "colab_type": "code",
        "outputId": "4eb81904-8334-42db-f9cc-dd31c8933935",
        "colab": {
          "base_uri": "https://localhost:8080/",
          "height": 85
        }
      },
      "source": [
        "# Valore nullo in planned_expiration_time e loans_duration\n",
        "loans[['disburse_time','planned_expiration_time','loans_duration']].iloc[31106]"
      ],
      "execution_count": 24,
      "outputs": [
        {
          "output_type": "execute_result",
          "data": {
            "text/plain": [
              "disburse_time                                    NaT\n",
              "planned_expiration_time    2017-12-06 16:41:36+00:00\n",
              "loans_duration                                   NaT\n",
              "Name: 31106, dtype: object"
            ]
          },
          "metadata": {
            "tags": []
          },
          "execution_count": 24
        }
      ]
    },
    {
      "cell_type": "markdown",
      "metadata": {
        "id": "fwm4mhLnFgW3",
        "colab_type": "text"
      },
      "source": [
        "Ho effettuato un controllo sui valori mancanti e quando disburse_time o planned_expiration_time sono nulle (o entrambe sono nulle), loans_duration è nulla."
      ]
    },
    {
      "cell_type": "code",
      "metadata": {
        "id": "XEZB_rciRI-u",
        "colab_type": "code",
        "outputId": "db169e4b-84ef-439c-aac2-0d2b43f68432",
        "colab": {
          "base_uri": "https://localhost:8080/",
          "height": 359
        }
      },
      "source": [
        "loans[['loan_id','loans_duration']].head(10)"
      ],
      "execution_count": 25,
      "outputs": [
        {
          "output_type": "execute_result",
          "data": {
            "text/html": [
              "<div>\n",
              "<style scoped>\n",
              "    .dataframe tbody tr th:only-of-type {\n",
              "        vertical-align: middle;\n",
              "    }\n",
              "\n",
              "    .dataframe tbody tr th {\n",
              "        vertical-align: top;\n",
              "    }\n",
              "\n",
              "    .dataframe thead th {\n",
              "        text-align: right;\n",
              "    }\n",
              "</style>\n",
              "<table border=\"1\" class=\"dataframe\">\n",
              "  <thead>\n",
              "    <tr style=\"text-align: right;\">\n",
              "      <th></th>\n",
              "      <th>loan_id</th>\n",
              "      <th>loans_duration</th>\n",
              "    </tr>\n",
              "  </thead>\n",
              "  <tbody>\n",
              "    <tr>\n",
              "      <th>0</th>\n",
              "      <td>657307</td>\n",
              "      <td>53 days 19:30:06</td>\n",
              "    </tr>\n",
              "    <tr>\n",
              "      <th>1</th>\n",
              "      <td>657259</td>\n",
              "      <td>96 days 14:25:07</td>\n",
              "    </tr>\n",
              "    <tr>\n",
              "      <th>2</th>\n",
              "      <td>658010</td>\n",
              "      <td>37 days 13:10:05</td>\n",
              "    </tr>\n",
              "    <tr>\n",
              "      <th>3</th>\n",
              "      <td>659347</td>\n",
              "      <td>34 days 19:10:02</td>\n",
              "    </tr>\n",
              "    <tr>\n",
              "      <th>4</th>\n",
              "      <td>656933</td>\n",
              "      <td>57 days 22:10:02</td>\n",
              "    </tr>\n",
              "    <tr>\n",
              "      <th>5</th>\n",
              "      <td>659605</td>\n",
              "      <td>35 days 18:30:07</td>\n",
              "    </tr>\n",
              "    <tr>\n",
              "      <th>6</th>\n",
              "      <td>660240</td>\n",
              "      <td>31 days 23:50:11</td>\n",
              "    </tr>\n",
              "    <tr>\n",
              "      <th>7</th>\n",
              "      <td>661601</td>\n",
              "      <td>46 days 01:50:03</td>\n",
              "    </tr>\n",
              "    <tr>\n",
              "      <th>8</th>\n",
              "      <td>661960</td>\n",
              "      <td>33 days 16:10:03</td>\n",
              "    </tr>\n",
              "    <tr>\n",
              "      <th>9</th>\n",
              "      <td>662117</td>\n",
              "      <td>68 days 05:40:02</td>\n",
              "    </tr>\n",
              "  </tbody>\n",
              "</table>\n",
              "</div>"
            ],
            "text/plain": [
              "   loan_id   loans_duration\n",
              "0   657307 53 days 19:30:06\n",
              "1   657259 96 days 14:25:07\n",
              "2   658010 37 days 13:10:05\n",
              "3   659347 34 days 19:10:02\n",
              "4   656933 57 days 22:10:02\n",
              "5   659605 35 days 18:30:07\n",
              "6   660240 31 days 23:50:11\n",
              "7   661601 46 days 01:50:03\n",
              "8   661960 33 days 16:10:03\n",
              "9   662117 68 days 05:40:02"
            ]
          },
          "metadata": {
            "tags": []
          },
          "execution_count": 25
        }
      ]
    },
    {
      "cell_type": "code",
      "metadata": {
        "id": "TVvpKNMnQ-f5",
        "colab_type": "code",
        "outputId": "906173ce-ed99-416e-d740-b70be75be113",
        "colab": {
          "base_uri": "https://localhost:8080/",
          "height": 359
        }
      },
      "source": [
        "loans[['loan_id','loans_duration']].tail(10)"
      ],
      "execution_count": 26,
      "outputs": [
        {
          "output_type": "execute_result",
          "data": {
            "text/html": [
              "<div>\n",
              "<style scoped>\n",
              "    .dataframe tbody tr th:only-of-type {\n",
              "        vertical-align: middle;\n",
              "    }\n",
              "\n",
              "    .dataframe tbody tr th {\n",
              "        vertical-align: top;\n",
              "    }\n",
              "\n",
              "    .dataframe thead th {\n",
              "        text-align: right;\n",
              "    }\n",
              "</style>\n",
              "<table border=\"1\" class=\"dataframe\">\n",
              "  <thead>\n",
              "    <tr style=\"text-align: right;\">\n",
              "      <th></th>\n",
              "      <th>loan_id</th>\n",
              "      <th>loans_duration</th>\n",
              "    </tr>\n",
              "  </thead>\n",
              "  <tbody>\n",
              "    <tr>\n",
              "      <th>1419597</th>\n",
              "      <td>984735</td>\n",
              "      <td>63 days 06:20:02</td>\n",
              "    </tr>\n",
              "    <tr>\n",
              "      <th>1419598</th>\n",
              "      <td>985764</td>\n",
              "      <td>46 days 02:40:05</td>\n",
              "    </tr>\n",
              "    <tr>\n",
              "      <th>1419599</th>\n",
              "      <td>986756</td>\n",
              "      <td>44 days 12:20:04</td>\n",
              "    </tr>\n",
              "    <tr>\n",
              "      <th>1419600</th>\n",
              "      <td>986789</td>\n",
              "      <td>40 days 11:50:04</td>\n",
              "    </tr>\n",
              "    <tr>\n",
              "      <th>1419601</th>\n",
              "      <td>987606</td>\n",
              "      <td>42 days 08:30:11</td>\n",
              "    </tr>\n",
              "    <tr>\n",
              "      <th>1419602</th>\n",
              "      <td>988180</td>\n",
              "      <td>39 days 17:00:03</td>\n",
              "    </tr>\n",
              "    <tr>\n",
              "      <th>1419603</th>\n",
              "      <td>988213</td>\n",
              "      <td>39 days 08:40:07</td>\n",
              "    </tr>\n",
              "    <tr>\n",
              "      <th>1419604</th>\n",
              "      <td>989109</td>\n",
              "      <td>51 days 14:20:04</td>\n",
              "    </tr>\n",
              "    <tr>\n",
              "      <th>1419605</th>\n",
              "      <td>989143</td>\n",
              "      <td>63 days 00:50:02</td>\n",
              "    </tr>\n",
              "    <tr>\n",
              "      <th>1419606</th>\n",
              "      <td>989240</td>\n",
              "      <td>61 days 12:50:06</td>\n",
              "    </tr>\n",
              "  </tbody>\n",
              "</table>\n",
              "</div>"
            ],
            "text/plain": [
              "         loan_id   loans_duration\n",
              "1419597   984735 63 days 06:20:02\n",
              "1419598   985764 46 days 02:40:05\n",
              "1419599   986756 44 days 12:20:04\n",
              "1419600   986789 40 days 11:50:04\n",
              "1419601   987606 42 days 08:30:11\n",
              "1419602   988180 39 days 17:00:03\n",
              "1419603   988213 39 days 08:40:07\n",
              "1419604   989109 51 days 14:20:04\n",
              "1419605   989143 63 days 00:50:02\n",
              "1419606   989240 61 days 12:50:06"
            ]
          },
          "metadata": {
            "tags": []
          },
          "execution_count": 26
        }
      ]
    },
    {
      "cell_type": "markdown",
      "metadata": {
        "id": "gexF2tSGHiYs",
        "colab_type": "text"
      },
      "source": [
        "# 3- Find the lenders that have funded at least twice."
      ]
    },
    {
      "cell_type": "code",
      "metadata": {
        "id": "lXaA37iKHiY6",
        "colab_type": "code",
        "outputId": "1783a1ea-48a8-4889-9640-3f9cbf99b066",
        "colab": {
          "base_uri": "https://localhost:8080/",
          "height": 204
        }
      },
      "source": [
        "loan_lender_norm.head()"
      ],
      "execution_count": 27,
      "outputs": [
        {
          "output_type": "execute_result",
          "data": {
            "text/html": [
              "<div>\n",
              "<style scoped>\n",
              "    .dataframe tbody tr th:only-of-type {\n",
              "        vertical-align: middle;\n",
              "    }\n",
              "\n",
              "    .dataframe tbody tr th {\n",
              "        vertical-align: top;\n",
              "    }\n",
              "\n",
              "    .dataframe thead th {\n",
              "        text-align: right;\n",
              "    }\n",
              "</style>\n",
              "<table border=\"1\" class=\"dataframe\">\n",
              "  <thead>\n",
              "    <tr style=\"text-align: right;\">\n",
              "      <th></th>\n",
              "      <th>loan_id</th>\n",
              "      <th>lender</th>\n",
              "    </tr>\n",
              "  </thead>\n",
              "  <tbody>\n",
              "    <tr>\n",
              "      <th>0</th>\n",
              "      <td>483693</td>\n",
              "      <td>muc888</td>\n",
              "    </tr>\n",
              "    <tr>\n",
              "      <th>1</th>\n",
              "      <td>483693</td>\n",
              "      <td>sam4326</td>\n",
              "    </tr>\n",
              "    <tr>\n",
              "      <th>2</th>\n",
              "      <td>483693</td>\n",
              "      <td>camaran3922</td>\n",
              "    </tr>\n",
              "    <tr>\n",
              "      <th>3</th>\n",
              "      <td>483693</td>\n",
              "      <td>lachheb1865</td>\n",
              "    </tr>\n",
              "    <tr>\n",
              "      <th>4</th>\n",
              "      <td>483693</td>\n",
              "      <td>rebecca3499</td>\n",
              "    </tr>\n",
              "  </tbody>\n",
              "</table>\n",
              "</div>"
            ],
            "text/plain": [
              "   loan_id        lender\n",
              "0   483693        muc888\n",
              "1   483693       sam4326\n",
              "2   483693   camaran3922\n",
              "3   483693   lachheb1865\n",
              "4   483693   rebecca3499"
            ]
          },
          "metadata": {
            "tags": []
          },
          "execution_count": 27
        }
      ]
    },
    {
      "cell_type": "code",
      "metadata": {
        "id": "R1CMEWaNHiZI",
        "colab_type": "code",
        "colab": {}
      },
      "source": [
        "d_funded=loan_lender_norm.groupby('lender').count()\n",
        "d_funded.rename(columns={'loan_id': 'n loan x lender'}, inplace=True)"
      ],
      "execution_count": 0,
      "outputs": []
    },
    {
      "cell_type": "code",
      "metadata": {
        "id": "SrTpQq01HiZK",
        "colab_type": "code",
        "outputId": "7f55236c-6efc-4a75-dfe7-b93dd8501aea",
        "colab": {
          "base_uri": "https://localhost:8080/",
          "height": 235
        }
      },
      "source": [
        "d_funded.head()"
      ],
      "execution_count": 29,
      "outputs": [
        {
          "output_type": "execute_result",
          "data": {
            "text/html": [
              "<div>\n",
              "<style scoped>\n",
              "    .dataframe tbody tr th:only-of-type {\n",
              "        vertical-align: middle;\n",
              "    }\n",
              "\n",
              "    .dataframe tbody tr th {\n",
              "        vertical-align: top;\n",
              "    }\n",
              "\n",
              "    .dataframe thead th {\n",
              "        text-align: right;\n",
              "    }\n",
              "</style>\n",
              "<table border=\"1\" class=\"dataframe\">\n",
              "  <thead>\n",
              "    <tr style=\"text-align: right;\">\n",
              "      <th></th>\n",
              "      <th>n loan x lender</th>\n",
              "    </tr>\n",
              "    <tr>\n",
              "      <th>lender</th>\n",
              "      <th></th>\n",
              "    </tr>\n",
              "  </thead>\n",
              "  <tbody>\n",
              "    <tr>\n",
              "      <th>000</th>\n",
              "      <td>39</td>\n",
              "    </tr>\n",
              "    <tr>\n",
              "      <th>00000</th>\n",
              "      <td>39</td>\n",
              "    </tr>\n",
              "    <tr>\n",
              "      <th>0002</th>\n",
              "      <td>70</td>\n",
              "    </tr>\n",
              "    <tr>\n",
              "      <th>00mike00</th>\n",
              "      <td>1</td>\n",
              "    </tr>\n",
              "    <tr>\n",
              "      <th>0101craign0101</th>\n",
              "      <td>71</td>\n",
              "    </tr>\n",
              "  </tbody>\n",
              "</table>\n",
              "</div>"
            ],
            "text/plain": [
              "                 n loan x lender\n",
              "lender                          \n",
              " 000                          39\n",
              " 00000                        39\n",
              " 0002                         70\n",
              " 00mike00                      1\n",
              " 0101craign0101               71"
            ]
          },
          "metadata": {
            "tags": []
          },
          "execution_count": 29
        }
      ]
    },
    {
      "cell_type": "code",
      "metadata": {
        "id": "8mK9pnHHHiZQ",
        "colab_type": "code",
        "outputId": "b61f120f-7c84-45fb-ab8b-a9bb3932da7d",
        "colab": {
          "base_uri": "https://localhost:8080/",
          "height": 450
        }
      },
      "source": [
        "# Seleziono solamente i lenders che hanno finanziato almeno due volte e creo un nuovo DataFrame. \n",
        "d_funded_2=d_funded[d_funded['n loan x lender']>=2].sort_values(by='n loan x lender', ascending=False)\n",
        "d_funded_2"
      ],
      "execution_count": 30,
      "outputs": [
        {
          "output_type": "execute_result",
          "data": {
            "text/html": [
              "<div>\n",
              "<style scoped>\n",
              "    .dataframe tbody tr th:only-of-type {\n",
              "        vertical-align: middle;\n",
              "    }\n",
              "\n",
              "    .dataframe tbody tr th {\n",
              "        vertical-align: top;\n",
              "    }\n",
              "\n",
              "    .dataframe thead th {\n",
              "        text-align: right;\n",
              "    }\n",
              "</style>\n",
              "<table border=\"1\" class=\"dataframe\">\n",
              "  <thead>\n",
              "    <tr style=\"text-align: right;\">\n",
              "      <th></th>\n",
              "      <th>n loan x lender</th>\n",
              "    </tr>\n",
              "    <tr>\n",
              "      <th>lender</th>\n",
              "      <th></th>\n",
              "    </tr>\n",
              "  </thead>\n",
              "  <tbody>\n",
              "    <tr>\n",
              "      <th>gooddogg1</th>\n",
              "      <td>151307</td>\n",
              "    </tr>\n",
              "    <tr>\n",
              "      <th>trolltech4460</th>\n",
              "      <td>148347</td>\n",
              "    </tr>\n",
              "    <tr>\n",
              "      <th>gmct</th>\n",
              "      <td>127089</td>\n",
              "    </tr>\n",
              "    <tr>\n",
              "      <th>nms</th>\n",
              "      <td>100360</td>\n",
              "    </tr>\n",
              "    <tr>\n",
              "      <th>themissionbeltco</th>\n",
              "      <td>76986</td>\n",
              "    </tr>\n",
              "    <tr>\n",
              "      <th>...</th>\n",
              "      <td>...</td>\n",
              "    </tr>\n",
              "    <tr>\n",
              "      <th>omurhu9493</th>\n",
              "      <td>2</td>\n",
              "    </tr>\n",
              "    <tr>\n",
              "      <th>beth36573246</th>\n",
              "      <td>2</td>\n",
              "    </tr>\n",
              "    <tr>\n",
              "      <th>omri1441</th>\n",
              "      <td>2</td>\n",
              "    </tr>\n",
              "    <tr>\n",
              "      <th>omprasad9006</th>\n",
              "      <td>2</td>\n",
              "    </tr>\n",
              "    <tr>\n",
              "      <th>zzrvmf8538</th>\n",
              "      <td>2</td>\n",
              "    </tr>\n",
              "  </tbody>\n",
              "</table>\n",
              "<p>1005111 rows × 1 columns</p>\n",
              "</div>"
            ],
            "text/plain": [
              "                   n loan x lender\n",
              "lender                            \n",
              " gooddogg1                  151307\n",
              " trolltech4460              148347\n",
              " gmct                       127089\n",
              " nms                        100360\n",
              " themissionbeltco            76986\n",
              "...                            ...\n",
              " omurhu9493                      2\n",
              " beth36573246                    2\n",
              " omri1441                        2\n",
              " omprasad9006                    2\n",
              "zzrvmf8538                       2\n",
              "\n",
              "[1005111 rows x 1 columns]"
            ]
          },
          "metadata": {
            "tags": []
          },
          "execution_count": 30
        }
      ]
    },
    {
      "cell_type": "markdown",
      "metadata": {
        "id": "4SNQ8-wbHiZX",
        "colab_type": "text"
      },
      "source": [
        "# 4-  For each country, compute how many loans have involved that country as borrowers."
      ]
    },
    {
      "cell_type": "code",
      "metadata": {
        "id": "Y_P8vAYEHiZa",
        "colab_type": "code",
        "outputId": "796f34ac-e9b9-4f3d-c68a-ed1d7100d8c9",
        "colab": {
          "base_uri": "https://localhost:8080/",
          "height": 581
        }
      },
      "source": [
        "loans.head()"
      ],
      "execution_count": 31,
      "outputs": [
        {
          "output_type": "execute_result",
          "data": {
            "text/html": [
              "<div>\n",
              "<style scoped>\n",
              "    .dataframe tbody tr th:only-of-type {\n",
              "        vertical-align: middle;\n",
              "    }\n",
              "\n",
              "    .dataframe tbody tr th {\n",
              "        vertical-align: top;\n",
              "    }\n",
              "\n",
              "    .dataframe thead th {\n",
              "        text-align: right;\n",
              "    }\n",
              "</style>\n",
              "<table border=\"1\" class=\"dataframe\">\n",
              "  <thead>\n",
              "    <tr style=\"text-align: right;\">\n",
              "      <th></th>\n",
              "      <th>loan_id</th>\n",
              "      <th>loan_name</th>\n",
              "      <th>original_language</th>\n",
              "      <th>description</th>\n",
              "      <th>description_translated</th>\n",
              "      <th>funded_amount</th>\n",
              "      <th>loan_amount</th>\n",
              "      <th>status</th>\n",
              "      <th>activity_name</th>\n",
              "      <th>sector_name</th>\n",
              "      <th>loan_use</th>\n",
              "      <th>country_code</th>\n",
              "      <th>country_name</th>\n",
              "      <th>town_name</th>\n",
              "      <th>currency_policy</th>\n",
              "      <th>currency_exchange_coverage_rate</th>\n",
              "      <th>currency</th>\n",
              "      <th>partner_id</th>\n",
              "      <th>posted_time</th>\n",
              "      <th>planned_expiration_time</th>\n",
              "      <th>disburse_time</th>\n",
              "      <th>raised_time</th>\n",
              "      <th>lender_term</th>\n",
              "      <th>num_lenders_total</th>\n",
              "      <th>num_journal_entries</th>\n",
              "      <th>num_bulk_entries</th>\n",
              "      <th>tags</th>\n",
              "      <th>borrower_genders</th>\n",
              "      <th>borrower_pictured</th>\n",
              "      <th>repayment_interval</th>\n",
              "      <th>distribution_model</th>\n",
              "      <th>loans_duration</th>\n",
              "    </tr>\n",
              "  </thead>\n",
              "  <tbody>\n",
              "    <tr>\n",
              "      <th>0</th>\n",
              "      <td>657307</td>\n",
              "      <td>Aivy</td>\n",
              "      <td>English</td>\n",
              "      <td>Aivy, 21 years of age, is single and lives in ...</td>\n",
              "      <td>NaN</td>\n",
              "      <td>125.0</td>\n",
              "      <td>125.0</td>\n",
              "      <td>funded</td>\n",
              "      <td>General Store</td>\n",
              "      <td>Retail</td>\n",
              "      <td>to buy additional inventories for her sari-sa...</td>\n",
              "      <td>PH</td>\n",
              "      <td>Philippines</td>\n",
              "      <td>Ozamiz - Ozamiz City</td>\n",
              "      <td>shared</td>\n",
              "      <td>0.1</td>\n",
              "      <td>PHP</td>\n",
              "      <td>126.0</td>\n",
              "      <td>2014-01-15 02:23:45.000 +0000</td>\n",
              "      <td>2014-02-14 03:30:06+00:00</td>\n",
              "      <td>2013-12-22 08:00:00+00:00</td>\n",
              "      <td>2014-01-15 04:48:22.000 +0000</td>\n",
              "      <td>7.0</td>\n",
              "      <td>3</td>\n",
              "      <td>2</td>\n",
              "      <td>1</td>\n",
              "      <td>NaN</td>\n",
              "      <td>female</td>\n",
              "      <td>true</td>\n",
              "      <td>irregular</td>\n",
              "      <td>field_partner</td>\n",
              "      <td>53 days 19:30:06</td>\n",
              "    </tr>\n",
              "    <tr>\n",
              "      <th>1</th>\n",
              "      <td>657259</td>\n",
              "      <td>Idalia Marizza</td>\n",
              "      <td>Spanish</td>\n",
              "      <td>Doña Idalia, esta casada, tiene 57 años de eda...</td>\n",
              "      <td>Idalia, 57, is married and lives with her husb...</td>\n",
              "      <td>400.0</td>\n",
              "      <td>400.0</td>\n",
              "      <td>funded</td>\n",
              "      <td>Used Clothing</td>\n",
              "      <td>Clothing</td>\n",
              "      <td>To buy American clothing such as blouses, shir...</td>\n",
              "      <td>HN</td>\n",
              "      <td>Honduras</td>\n",
              "      <td>La Lopez, Choloma</td>\n",
              "      <td>shared</td>\n",
              "      <td>0.1</td>\n",
              "      <td>HNL</td>\n",
              "      <td>201.0</td>\n",
              "      <td>2014-01-14 20:23:20.000 +0000</td>\n",
              "      <td>2014-03-26 22:25:07+00:00</td>\n",
              "      <td>2013-12-20 08:00:00+00:00</td>\n",
              "      <td>2014-02-25 06:42:06.000 +0000</td>\n",
              "      <td>8.0</td>\n",
              "      <td>11</td>\n",
              "      <td>2</td>\n",
              "      <td>1</td>\n",
              "      <td>NaN</td>\n",
              "      <td>female</td>\n",
              "      <td>true</td>\n",
              "      <td>monthly</td>\n",
              "      <td>field_partner</td>\n",
              "      <td>96 days 14:25:07</td>\n",
              "    </tr>\n",
              "    <tr>\n",
              "      <th>2</th>\n",
              "      <td>658010</td>\n",
              "      <td>Aasia</td>\n",
              "      <td>English</td>\n",
              "      <td>Aasia is a 45-year-old married lady and she ha...</td>\n",
              "      <td>NaN</td>\n",
              "      <td>400.0</td>\n",
              "      <td>400.0</td>\n",
              "      <td>funded</td>\n",
              "      <td>General Store</td>\n",
              "      <td>Retail</td>\n",
              "      <td>to buy stock of rice, sugar and flour</td>\n",
              "      <td>PK</td>\n",
              "      <td>Pakistan</td>\n",
              "      <td>Lala Musa</td>\n",
              "      <td>shared</td>\n",
              "      <td>0.1</td>\n",
              "      <td>PKR</td>\n",
              "      <td>245.0</td>\n",
              "      <td>2014-01-16 11:32:58.000 +0000</td>\n",
              "      <td>2014-02-15 21:10:05+00:00</td>\n",
              "      <td>2014-01-09 08:00:00+00:00</td>\n",
              "      <td>2014-01-24 23:06:18.000 +0000</td>\n",
              "      <td>14.0</td>\n",
              "      <td>16</td>\n",
              "      <td>2</td>\n",
              "      <td>1</td>\n",
              "      <td>#Woman Owned Biz, #Supporting Family, user_fav...</td>\n",
              "      <td>female</td>\n",
              "      <td>true</td>\n",
              "      <td>monthly</td>\n",
              "      <td>field_partner</td>\n",
              "      <td>37 days 13:10:05</td>\n",
              "    </tr>\n",
              "    <tr>\n",
              "      <th>3</th>\n",
              "      <td>659347</td>\n",
              "      <td>Gulmira</td>\n",
              "      <td>Russian</td>\n",
              "      <td>Гулмире 36 лет, замужем, вместе с супругом вос...</td>\n",
              "      <td>Gulmira is 36 years old and married.  She and ...</td>\n",
              "      <td>625.0</td>\n",
              "      <td>625.0</td>\n",
              "      <td>funded</td>\n",
              "      <td>Farming</td>\n",
              "      <td>Agriculture</td>\n",
              "      <td>to buy cucumber and tomato seeds, as well as f...</td>\n",
              "      <td>KG</td>\n",
              "      <td>Kyrgyzstan</td>\n",
              "      <td>Aravan village, Osh region</td>\n",
              "      <td>shared</td>\n",
              "      <td>0.1</td>\n",
              "      <td>KGS</td>\n",
              "      <td>171.0</td>\n",
              "      <td>2014-01-20 09:59:48.000 +0000</td>\n",
              "      <td>2014-02-21 03:10:02+00:00</td>\n",
              "      <td>2014-01-17 08:00:00+00:00</td>\n",
              "      <td>2014-01-22 05:29:28.000 +0000</td>\n",
              "      <td>14.0</td>\n",
              "      <td>21</td>\n",
              "      <td>2</td>\n",
              "      <td>1</td>\n",
              "      <td>user_favorite</td>\n",
              "      <td>female</td>\n",
              "      <td>true</td>\n",
              "      <td>monthly</td>\n",
              "      <td>field_partner</td>\n",
              "      <td>34 days 19:10:02</td>\n",
              "    </tr>\n",
              "    <tr>\n",
              "      <th>4</th>\n",
              "      <td>656933</td>\n",
              "      <td>Ricky\\t</td>\n",
              "      <td>English</td>\n",
              "      <td>Ricky is a farmer who currently cultivates his...</td>\n",
              "      <td>NaN</td>\n",
              "      <td>425.0</td>\n",
              "      <td>425.0</td>\n",
              "      <td>funded</td>\n",
              "      <td>Farming</td>\n",
              "      <td>Agriculture</td>\n",
              "      <td>to buy organic fertilizer and agrochemical pr...</td>\n",
              "      <td>PH</td>\n",
              "      <td>Philippines</td>\n",
              "      <td>Baleleng, Sto. Thomas, Isabela</td>\n",
              "      <td>shared</td>\n",
              "      <td>0.1</td>\n",
              "      <td>PHP</td>\n",
              "      <td>123.0</td>\n",
              "      <td>2014-01-14 05:46:21.000 +0000</td>\n",
              "      <td>2014-02-13 06:10:02+00:00</td>\n",
              "      <td>2013-12-17 08:00:00+00:00</td>\n",
              "      <td>2014-01-14 17:29:27.000 +0000</td>\n",
              "      <td>7.0</td>\n",
              "      <td>15</td>\n",
              "      <td>2</td>\n",
              "      <td>1</td>\n",
              "      <td>#Animals, #Eco-friendly, #Sustainable Ag</td>\n",
              "      <td>male</td>\n",
              "      <td>true</td>\n",
              "      <td>bullet</td>\n",
              "      <td>field_partner</td>\n",
              "      <td>57 days 22:10:02</td>\n",
              "    </tr>\n",
              "  </tbody>\n",
              "</table>\n",
              "</div>"
            ],
            "text/plain": [
              "   loan_id       loan_name  ... distribution_model   loans_duration\n",
              "0   657307            Aivy  ...      field_partner 53 days 19:30:06\n",
              "1   657259  Idalia Marizza  ...      field_partner 96 days 14:25:07\n",
              "2   658010           Aasia  ...      field_partner 37 days 13:10:05\n",
              "3   659347         Gulmira  ...      field_partner 34 days 19:10:02\n",
              "4   656933         Ricky\\t  ...      field_partner 57 days 22:10:02\n",
              "\n",
              "[5 rows x 32 columns]"
            ]
          },
          "metadata": {
            "tags": []
          },
          "execution_count": 31
        }
      ]
    },
    {
      "cell_type": "code",
      "metadata": {
        "id": "eI2bGT46HiZd",
        "colab_type": "code",
        "outputId": "98924ce4-465a-45b1-ad88-84305b8a47bd",
        "colab": {
          "base_uri": "https://localhost:8080/",
          "height": 450
        }
      },
      "source": [
        "# Il dataset loans si riferisce ai mutui perciò ho raggruppato per paese\n",
        "# contanto quante volte ciauscun paese compariva.\n",
        "count_borrowers=pd.DataFrame(loans.groupby('country_name').count()['loan_id'])\n",
        "count_borrowers.rename(columns={'loan_id': 'tot_loan'}, inplace=True)\n",
        "count_borrowers=count_borrowers.sort_values(by='tot_loan', ascending=False)\n",
        "count_borrowers"
      ],
      "execution_count": 32,
      "outputs": [
        {
          "output_type": "execute_result",
          "data": {
            "text/html": [
              "<div>\n",
              "<style scoped>\n",
              "    .dataframe tbody tr th:only-of-type {\n",
              "        vertical-align: middle;\n",
              "    }\n",
              "\n",
              "    .dataframe tbody tr th {\n",
              "        vertical-align: top;\n",
              "    }\n",
              "\n",
              "    .dataframe thead th {\n",
              "        text-align: right;\n",
              "    }\n",
              "</style>\n",
              "<table border=\"1\" class=\"dataframe\">\n",
              "  <thead>\n",
              "    <tr style=\"text-align: right;\">\n",
              "      <th></th>\n",
              "      <th>tot_loan</th>\n",
              "    </tr>\n",
              "    <tr>\n",
              "      <th>country_name</th>\n",
              "      <th></th>\n",
              "    </tr>\n",
              "  </thead>\n",
              "  <tbody>\n",
              "    <tr>\n",
              "      <th>Philippines</th>\n",
              "      <td>285336</td>\n",
              "    </tr>\n",
              "    <tr>\n",
              "      <th>Kenya</th>\n",
              "      <td>143699</td>\n",
              "    </tr>\n",
              "    <tr>\n",
              "      <th>Peru</th>\n",
              "      <td>86000</td>\n",
              "    </tr>\n",
              "    <tr>\n",
              "      <th>Cambodia</th>\n",
              "      <td>79701</td>\n",
              "    </tr>\n",
              "    <tr>\n",
              "      <th>El Salvador</th>\n",
              "      <td>64037</td>\n",
              "    </tr>\n",
              "    <tr>\n",
              "      <th>...</th>\n",
              "      <td>...</td>\n",
              "    </tr>\n",
              "    <tr>\n",
              "      <th>Canada</th>\n",
              "      <td>1</td>\n",
              "    </tr>\n",
              "    <tr>\n",
              "      <th>Papua New Guinea</th>\n",
              "      <td>1</td>\n",
              "    </tr>\n",
              "    <tr>\n",
              "      <th>Botswana</th>\n",
              "      <td>1</td>\n",
              "    </tr>\n",
              "    <tr>\n",
              "      <th>Uruguay</th>\n",
              "      <td>1</td>\n",
              "    </tr>\n",
              "    <tr>\n",
              "      <th>Mauritania</th>\n",
              "      <td>1</td>\n",
              "    </tr>\n",
              "  </tbody>\n",
              "</table>\n",
              "<p>96 rows × 1 columns</p>\n",
              "</div>"
            ],
            "text/plain": [
              "                  tot_loan\n",
              "country_name              \n",
              "Philippines         285336\n",
              "Kenya               143699\n",
              "Peru                 86000\n",
              "Cambodia             79701\n",
              "El Salvador          64037\n",
              "...                    ...\n",
              "Canada                   1\n",
              "Papua New Guinea         1\n",
              "Botswana                 1\n",
              "Uruguay                  1\n",
              "Mauritania               1\n",
              "\n",
              "[96 rows x 1 columns]"
            ]
          },
          "metadata": {
            "tags": []
          },
          "execution_count": 32
        }
      ]
    },
    {
      "cell_type": "markdown",
      "metadata": {
        "id": "mZue--lCHiZh",
        "colab_type": "text"
      },
      "source": [
        "# 5- For each country, compute the overall amount of money borrowed."
      ]
    },
    {
      "cell_type": "code",
      "metadata": {
        "id": "8WsXgBW7HiZi",
        "colab_type": "code",
        "outputId": "b1965fd5-b7ee-44bf-fb4d-61b498f49886",
        "colab": {
          "base_uri": "https://localhost:8080/",
          "height": 450
        }
      },
      "source": [
        "cash_borrowed=pd.DataFrame(loans.groupby('country_name').sum()['loan_amount'])\n",
        "cash_borrowed.rename(columns={'loan_amount': 'overall_amount'}, inplace=True)\n",
        "cash_borrowed=cash_borrowed.sort_values(by='overall_amount', ascending=False)\n",
        "cash_borrowed"
      ],
      "execution_count": 33,
      "outputs": [
        {
          "output_type": "execute_result",
          "data": {
            "text/html": [
              "<div>\n",
              "<style scoped>\n",
              "    .dataframe tbody tr th:only-of-type {\n",
              "        vertical-align: middle;\n",
              "    }\n",
              "\n",
              "    .dataframe tbody tr th {\n",
              "        vertical-align: top;\n",
              "    }\n",
              "\n",
              "    .dataframe thead th {\n",
              "        text-align: right;\n",
              "    }\n",
              "</style>\n",
              "<table border=\"1\" class=\"dataframe\">\n",
              "  <thead>\n",
              "    <tr style=\"text-align: right;\">\n",
              "      <th></th>\n",
              "      <th>overall_amount</th>\n",
              "    </tr>\n",
              "    <tr>\n",
              "      <th>country_name</th>\n",
              "      <th></th>\n",
              "    </tr>\n",
              "  </thead>\n",
              "  <tbody>\n",
              "    <tr>\n",
              "      <th>Philippines</th>\n",
              "      <td>97984600.0</td>\n",
              "    </tr>\n",
              "    <tr>\n",
              "      <th>Peru</th>\n",
              "      <td>79437775.0</td>\n",
              "    </tr>\n",
              "    <tr>\n",
              "      <th>Kenya</th>\n",
              "      <td>66735975.0</td>\n",
              "    </tr>\n",
              "    <tr>\n",
              "      <th>Paraguay</th>\n",
              "      <td>53964700.0</td>\n",
              "    </tr>\n",
              "    <tr>\n",
              "      <th>Cambodia</th>\n",
              "      <td>51613525.0</td>\n",
              "    </tr>\n",
              "    <tr>\n",
              "      <th>...</th>\n",
              "      <td>...</td>\n",
              "    </tr>\n",
              "    <tr>\n",
              "      <th>Virgin Islands</th>\n",
              "      <td>10000.0</td>\n",
              "    </tr>\n",
              "    <tr>\n",
              "      <th>Vanuatu</th>\n",
              "      <td>9250.0</td>\n",
              "    </tr>\n",
              "    <tr>\n",
              "      <th>Botswana</th>\n",
              "      <td>8000.0</td>\n",
              "    </tr>\n",
              "    <tr>\n",
              "      <th>Uruguay</th>\n",
              "      <td>8000.0</td>\n",
              "    </tr>\n",
              "    <tr>\n",
              "      <th>Gaza</th>\n",
              "      <td>5000.0</td>\n",
              "    </tr>\n",
              "  </tbody>\n",
              "</table>\n",
              "<p>96 rows × 1 columns</p>\n",
              "</div>"
            ],
            "text/plain": [
              "                overall_amount\n",
              "country_name                  \n",
              "Philippines         97984600.0\n",
              "Peru                79437775.0\n",
              "Kenya               66735975.0\n",
              "Paraguay            53964700.0\n",
              "Cambodia            51613525.0\n",
              "...                        ...\n",
              "Virgin Islands         10000.0\n",
              "Vanuatu                 9250.0\n",
              "Botswana                8000.0\n",
              "Uruguay                 8000.0\n",
              "Gaza                    5000.0\n",
              "\n",
              "[96 rows x 1 columns]"
            ]
          },
          "metadata": {
            "tags": []
          },
          "execution_count": 33
        }
      ]
    },
    {
      "cell_type": "code",
      "metadata": {
        "id": "W-39CYsKHiZm",
        "colab_type": "code",
        "outputId": "96025751-19fa-4493-9bc5-b6aa36726693",
        "colab": {
          "base_uri": "https://localhost:8080/",
          "height": 34
        }
      },
      "source": [
        "# Calcolo il totale di soldi finanziati che servirà nei punti successivi. \n",
        "totale=sum(cash_borrowed['overall_amount'])\n",
        "totale"
      ],
      "execution_count": 34,
      "outputs": [
        {
          "output_type": "execute_result",
          "data": {
            "text/plain": [
              "1181437300.0"
            ]
          },
          "metadata": {
            "tags": []
          },
          "execution_count": 34
        }
      ]
    },
    {
      "cell_type": "markdown",
      "metadata": {
        "id": "FRC-0oECHiZq",
        "colab_type": "text"
      },
      "source": [
        "# 6- Like the previous point, but expressed as a percentage of the overall amount lent.\n"
      ]
    },
    {
      "cell_type": "code",
      "metadata": {
        "id": "x26DSanFHiZq",
        "colab_type": "code",
        "outputId": "dc3aff87-bc5f-4982-d6d1-ac8ce0674cec",
        "colab": {
          "base_uri": "https://localhost:8080/",
          "height": 450
        }
      },
      "source": [
        "perc_cash_borrowed=pd.DataFrame(((loans.groupby('country_name').sum()['loan_amount'])/totale)*100)\n",
        "perc_cash_borrowed.rename(columns={'loan_amount': 'perc_total_amount'}, inplace=True)\n",
        "perc_cash_borrowed=perc_cash_borrowed.sort_values(by='perc_total_amount', ascending=False)\n",
        "perc_cash_borrowed"
      ],
      "execution_count": 35,
      "outputs": [
        {
          "output_type": "execute_result",
          "data": {
            "text/html": [
              "<div>\n",
              "<style scoped>\n",
              "    .dataframe tbody tr th:only-of-type {\n",
              "        vertical-align: middle;\n",
              "    }\n",
              "\n",
              "    .dataframe tbody tr th {\n",
              "        vertical-align: top;\n",
              "    }\n",
              "\n",
              "    .dataframe thead th {\n",
              "        text-align: right;\n",
              "    }\n",
              "</style>\n",
              "<table border=\"1\" class=\"dataframe\">\n",
              "  <thead>\n",
              "    <tr style=\"text-align: right;\">\n",
              "      <th></th>\n",
              "      <th>perc_total_amount</th>\n",
              "    </tr>\n",
              "    <tr>\n",
              "      <th>country_name</th>\n",
              "      <th></th>\n",
              "    </tr>\n",
              "  </thead>\n",
              "  <tbody>\n",
              "    <tr>\n",
              "      <th>Philippines</th>\n",
              "      <td>8.293678</td>\n",
              "    </tr>\n",
              "    <tr>\n",
              "      <th>Peru</th>\n",
              "      <td>6.723825</td>\n",
              "    </tr>\n",
              "    <tr>\n",
              "      <th>Kenya</th>\n",
              "      <td>5.648711</td>\n",
              "    </tr>\n",
              "    <tr>\n",
              "      <th>Paraguay</th>\n",
              "      <td>4.567716</td>\n",
              "    </tr>\n",
              "    <tr>\n",
              "      <th>Cambodia</th>\n",
              "      <td>4.368706</td>\n",
              "    </tr>\n",
              "    <tr>\n",
              "      <th>...</th>\n",
              "      <td>...</td>\n",
              "    </tr>\n",
              "    <tr>\n",
              "      <th>Virgin Islands</th>\n",
              "      <td>0.000846</td>\n",
              "    </tr>\n",
              "    <tr>\n",
              "      <th>Vanuatu</th>\n",
              "      <td>0.000783</td>\n",
              "    </tr>\n",
              "    <tr>\n",
              "      <th>Botswana</th>\n",
              "      <td>0.000677</td>\n",
              "    </tr>\n",
              "    <tr>\n",
              "      <th>Uruguay</th>\n",
              "      <td>0.000677</td>\n",
              "    </tr>\n",
              "    <tr>\n",
              "      <th>Gaza</th>\n",
              "      <td>0.000423</td>\n",
              "    </tr>\n",
              "  </tbody>\n",
              "</table>\n",
              "<p>96 rows × 1 columns</p>\n",
              "</div>"
            ],
            "text/plain": [
              "                perc_total_amount\n",
              "country_name                     \n",
              "Philippines              8.293678\n",
              "Peru                     6.723825\n",
              "Kenya                    5.648711\n",
              "Paraguay                 4.567716\n",
              "Cambodia                 4.368706\n",
              "...                           ...\n",
              "Virgin Islands           0.000846\n",
              "Vanuatu                  0.000783\n",
              "Botswana                 0.000677\n",
              "Uruguay                  0.000677\n",
              "Gaza                     0.000423\n",
              "\n",
              "[96 rows x 1 columns]"
            ]
          },
          "metadata": {
            "tags": []
          },
          "execution_count": 35
        }
      ]
    },
    {
      "cell_type": "markdown",
      "metadata": {
        "id": "NDvYJv_xHiZu",
        "colab_type": "text"
      },
      "source": [
        "# 7- Like the three previous points, but split for each year (with respect to disburse time).\n"
      ]
    },
    {
      "cell_type": "code",
      "metadata": {
        "id": "CoetxXmTHiZv",
        "colab_type": "code",
        "colab": {}
      },
      "source": [
        "# Creo una variabile anno per ciascun loans:\n",
        "loans['disburse_years']=pd.to_datetime(loans['disburse_time']).dt.year"
      ],
      "execution_count": 0,
      "outputs": []
    },
    {
      "cell_type": "code",
      "metadata": {
        "id": "lof8fKa4HiZx",
        "colab_type": "code",
        "outputId": "c45cd822-799b-4eb7-e9b5-17f2c946f872",
        "colab": {
          "base_uri": "https://localhost:8080/",
          "height": 514
        }
      },
      "source": [
        "# Calcolo il totale per ogni anno:\n",
        "tot_year=pd.DataFrame(loans.groupby('disburse_years').sum()['loan_amount'])\n",
        "tot_year.rename(columns={'loan_amount': 'year_overall_amount'}, inplace=True)\n",
        "tot_year"
      ],
      "execution_count": 37,
      "outputs": [
        {
          "output_type": "execute_result",
          "data": {
            "text/html": [
              "<div>\n",
              "<style scoped>\n",
              "    .dataframe tbody tr th:only-of-type {\n",
              "        vertical-align: middle;\n",
              "    }\n",
              "\n",
              "    .dataframe tbody tr th {\n",
              "        vertical-align: top;\n",
              "    }\n",
              "\n",
              "    .dataframe thead th {\n",
              "        text-align: right;\n",
              "    }\n",
              "</style>\n",
              "<table border=\"1\" class=\"dataframe\">\n",
              "  <thead>\n",
              "    <tr style=\"text-align: right;\">\n",
              "      <th></th>\n",
              "      <th>year_overall_amount</th>\n",
              "    </tr>\n",
              "    <tr>\n",
              "      <th>disburse_years</th>\n",
              "      <th></th>\n",
              "    </tr>\n",
              "  </thead>\n",
              "  <tbody>\n",
              "    <tr>\n",
              "      <th>2005.0</th>\n",
              "      <td>102850.0</td>\n",
              "    </tr>\n",
              "    <tr>\n",
              "      <th>2006.0</th>\n",
              "      <td>1376575.0</td>\n",
              "    </tr>\n",
              "    <tr>\n",
              "      <th>2007.0</th>\n",
              "      <td>15446525.0</td>\n",
              "    </tr>\n",
              "    <tr>\n",
              "      <th>2008.0</th>\n",
              "      <td>39423050.0</td>\n",
              "    </tr>\n",
              "    <tr>\n",
              "      <th>2009.0</th>\n",
              "      <td>59689475.0</td>\n",
              "    </tr>\n",
              "    <tr>\n",
              "      <th>2010.0</th>\n",
              "      <td>72609150.0</td>\n",
              "    </tr>\n",
              "    <tr>\n",
              "      <th>2011.0</th>\n",
              "      <td>93699300.0</td>\n",
              "    </tr>\n",
              "    <tr>\n",
              "      <th>2012.0</th>\n",
              "      <td>119977575.0</td>\n",
              "    </tr>\n",
              "    <tr>\n",
              "      <th>2013.0</th>\n",
              "      <td>132043925.0</td>\n",
              "    </tr>\n",
              "    <tr>\n",
              "      <th>2014.0</th>\n",
              "      <td>152270425.0</td>\n",
              "    </tr>\n",
              "    <tr>\n",
              "      <th>2015.0</th>\n",
              "      <td>155835650.0</td>\n",
              "    </tr>\n",
              "    <tr>\n",
              "      <th>2016.0</th>\n",
              "      <td>160978375.0</td>\n",
              "    </tr>\n",
              "    <tr>\n",
              "      <th>2017.0</th>\n",
              "      <td>166053650.0</td>\n",
              "    </tr>\n",
              "    <tr>\n",
              "      <th>2018.0</th>\n",
              "      <td>990025.0</td>\n",
              "    </tr>\n",
              "  </tbody>\n",
              "</table>\n",
              "</div>"
            ],
            "text/plain": [
              "                year_overall_amount\n",
              "disburse_years                     \n",
              "2005.0                     102850.0\n",
              "2006.0                    1376575.0\n",
              "2007.0                   15446525.0\n",
              "2008.0                   39423050.0\n",
              "2009.0                   59689475.0\n",
              "2010.0                   72609150.0\n",
              "2011.0                   93699300.0\n",
              "2012.0                  119977575.0\n",
              "2013.0                  132043925.0\n",
              "2014.0                  152270425.0\n",
              "2015.0                  155835650.0\n",
              "2016.0                  160978375.0\n",
              "2017.0                  166053650.0\n",
              "2018.0                     990025.0"
            ]
          },
          "metadata": {
            "tags": []
          },
          "execution_count": 37
        }
      ]
    },
    {
      "cell_type": "code",
      "metadata": {
        "id": "OkAoWEnjHiZz",
        "colab_type": "code",
        "outputId": "1e354428-e25f-4d5f-939f-c8770abe36b1",
        "colab": {
          "base_uri": "https://localhost:8080/",
          "height": 34
        }
      },
      "source": [
        "sum(tot_year['year_overall_amount'])\n",
        "# Il totale non corrisponde al totale calcolato al punto precedente\n",
        "# ed è minore in quanto probabilmente vi sono più valori nulli in\n",
        "# disrburse time rispetto che al paese. "
      ],
      "execution_count": 38,
      "outputs": [
        {
          "output_type": "execute_result",
          "data": {
            "text/plain": [
              "1170496550.0"
            ]
          },
          "metadata": {
            "tags": []
          },
          "execution_count": 38
        }
      ]
    },
    {
      "cell_type": "code",
      "metadata": {
        "id": "YPMa1CVrHiZ0",
        "colab_type": "code",
        "outputId": "6e02d870-4340-47ed-cf36-e3edc3eeddca",
        "colab": {
          "base_uri": "https://localhost:8080/",
          "height": 450
        }
      },
      "source": [
        "perc_cash_borrowed_year=pd.DataFrame(((loans.groupby(['country_name','disburse_years']).sum()['loan_amount'])/(loans.groupby('disburse_years').sum()['loan_amount']))*100)\n",
        "perc_cash_borrowed_year.rename(columns={'loan_amount': 'perc_total_amount'}, inplace=True)\n",
        "perc_cash_borrowed_year"
      ],
      "execution_count": 39,
      "outputs": [
        {
          "output_type": "execute_result",
          "data": {
            "text/html": [
              "<div>\n",
              "<style scoped>\n",
              "    .dataframe tbody tr th:only-of-type {\n",
              "        vertical-align: middle;\n",
              "    }\n",
              "\n",
              "    .dataframe tbody tr th {\n",
              "        vertical-align: top;\n",
              "    }\n",
              "\n",
              "    .dataframe thead th {\n",
              "        text-align: right;\n",
              "    }\n",
              "</style>\n",
              "<table border=\"1\" class=\"dataframe\">\n",
              "  <thead>\n",
              "    <tr style=\"text-align: right;\">\n",
              "      <th></th>\n",
              "      <th></th>\n",
              "      <th>perc_total_amount</th>\n",
              "    </tr>\n",
              "    <tr>\n",
              "      <th>country_name</th>\n",
              "      <th>disburse_years</th>\n",
              "      <th></th>\n",
              "    </tr>\n",
              "  </thead>\n",
              "  <tbody>\n",
              "    <tr>\n",
              "      <th rowspan=\"5\" valign=\"top\">Afghanistan</th>\n",
              "      <th>2007.0</th>\n",
              "      <td>1.262258</td>\n",
              "    </tr>\n",
              "    <tr>\n",
              "      <th>2008.0</th>\n",
              "      <td>0.926806</td>\n",
              "    </tr>\n",
              "    <tr>\n",
              "      <th>2009.0</th>\n",
              "      <td>0.980282</td>\n",
              "    </tr>\n",
              "    <tr>\n",
              "      <th>2010.0</th>\n",
              "      <td>0.775866</td>\n",
              "    </tr>\n",
              "    <tr>\n",
              "      <th>2011.0</th>\n",
              "      <td>0.261608</td>\n",
              "    </tr>\n",
              "    <tr>\n",
              "      <th>...</th>\n",
              "      <th>...</th>\n",
              "      <td>...</td>\n",
              "    </tr>\n",
              "    <tr>\n",
              "      <th rowspan=\"5\" valign=\"top\">Zimbabwe</th>\n",
              "      <th>2013.0</th>\n",
              "      <td>0.513863</td>\n",
              "    </tr>\n",
              "    <tr>\n",
              "      <th>2014.0</th>\n",
              "      <td>0.861346</td>\n",
              "    </tr>\n",
              "    <tr>\n",
              "      <th>2015.0</th>\n",
              "      <td>0.464351</td>\n",
              "    </tr>\n",
              "    <tr>\n",
              "      <th>2016.0</th>\n",
              "      <td>0.489879</td>\n",
              "    </tr>\n",
              "    <tr>\n",
              "      <th>2017.0</th>\n",
              "      <td>0.745301</td>\n",
              "    </tr>\n",
              "  </tbody>\n",
              "</table>\n",
              "<p>748 rows × 1 columns</p>\n",
              "</div>"
            ],
            "text/plain": [
              "                             perc_total_amount\n",
              "country_name disburse_years                   \n",
              "Afghanistan  2007.0                   1.262258\n",
              "             2008.0                   0.926806\n",
              "             2009.0                   0.980282\n",
              "             2010.0                   0.775866\n",
              "             2011.0                   0.261608\n",
              "...                                        ...\n",
              "Zimbabwe     2013.0                   0.513863\n",
              "             2014.0                   0.861346\n",
              "             2015.0                   0.464351\n",
              "             2016.0                   0.489879\n",
              "             2017.0                   0.745301\n",
              "\n",
              "[748 rows x 1 columns]"
            ]
          },
          "metadata": {
            "tags": []
          },
          "execution_count": 39
        }
      ]
    },
    {
      "cell_type": "markdown",
      "metadata": {
        "id": "3_SamG2WF5-A",
        "colab_type": "text"
      },
      "source": [
        "Ad esempio, l'Afghanistan nel 2007 ha preso in prestito l'1,26% del totale di soldi presi in prestito nel 2007."
      ]
    },
    {
      "cell_type": "markdown",
      "metadata": {
        "id": "v4KTGfFiHiZ7",
        "colab_type": "text"
      },
      "source": [
        "# 8- For each lender, compute the overall amount of money lent. For each loan that has more than one lender, you must assume that all lenders contributed the same amount."
      ]
    },
    {
      "cell_type": "code",
      "metadata": {
        "id": "if-QkjngZUIP",
        "colab_type": "code",
        "outputId": "377d950f-681a-4f1e-e6b5-7368edfc08b6",
        "colab": {
          "base_uri": "https://localhost:8080/",
          "height": 581
        }
      },
      "source": [
        "loans.head()"
      ],
      "execution_count": 40,
      "outputs": [
        {
          "output_type": "execute_result",
          "data": {
            "text/html": [
              "<div>\n",
              "<style scoped>\n",
              "    .dataframe tbody tr th:only-of-type {\n",
              "        vertical-align: middle;\n",
              "    }\n",
              "\n",
              "    .dataframe tbody tr th {\n",
              "        vertical-align: top;\n",
              "    }\n",
              "\n",
              "    .dataframe thead th {\n",
              "        text-align: right;\n",
              "    }\n",
              "</style>\n",
              "<table border=\"1\" class=\"dataframe\">\n",
              "  <thead>\n",
              "    <tr style=\"text-align: right;\">\n",
              "      <th></th>\n",
              "      <th>loan_id</th>\n",
              "      <th>loan_name</th>\n",
              "      <th>original_language</th>\n",
              "      <th>description</th>\n",
              "      <th>description_translated</th>\n",
              "      <th>funded_amount</th>\n",
              "      <th>loan_amount</th>\n",
              "      <th>status</th>\n",
              "      <th>activity_name</th>\n",
              "      <th>sector_name</th>\n",
              "      <th>loan_use</th>\n",
              "      <th>country_code</th>\n",
              "      <th>country_name</th>\n",
              "      <th>town_name</th>\n",
              "      <th>currency_policy</th>\n",
              "      <th>currency_exchange_coverage_rate</th>\n",
              "      <th>currency</th>\n",
              "      <th>partner_id</th>\n",
              "      <th>posted_time</th>\n",
              "      <th>planned_expiration_time</th>\n",
              "      <th>disburse_time</th>\n",
              "      <th>raised_time</th>\n",
              "      <th>lender_term</th>\n",
              "      <th>num_lenders_total</th>\n",
              "      <th>num_journal_entries</th>\n",
              "      <th>num_bulk_entries</th>\n",
              "      <th>tags</th>\n",
              "      <th>borrower_genders</th>\n",
              "      <th>borrower_pictured</th>\n",
              "      <th>repayment_interval</th>\n",
              "      <th>distribution_model</th>\n",
              "      <th>loans_duration</th>\n",
              "      <th>disburse_years</th>\n",
              "    </tr>\n",
              "  </thead>\n",
              "  <tbody>\n",
              "    <tr>\n",
              "      <th>0</th>\n",
              "      <td>657307</td>\n",
              "      <td>Aivy</td>\n",
              "      <td>English</td>\n",
              "      <td>Aivy, 21 years of age, is single and lives in ...</td>\n",
              "      <td>NaN</td>\n",
              "      <td>125.0</td>\n",
              "      <td>125.0</td>\n",
              "      <td>funded</td>\n",
              "      <td>General Store</td>\n",
              "      <td>Retail</td>\n",
              "      <td>to buy additional inventories for her sari-sa...</td>\n",
              "      <td>PH</td>\n",
              "      <td>Philippines</td>\n",
              "      <td>Ozamiz - Ozamiz City</td>\n",
              "      <td>shared</td>\n",
              "      <td>0.1</td>\n",
              "      <td>PHP</td>\n",
              "      <td>126.0</td>\n",
              "      <td>2014-01-15 02:23:45.000 +0000</td>\n",
              "      <td>2014-02-14 03:30:06+00:00</td>\n",
              "      <td>2013-12-22 08:00:00+00:00</td>\n",
              "      <td>2014-01-15 04:48:22.000 +0000</td>\n",
              "      <td>7.0</td>\n",
              "      <td>3</td>\n",
              "      <td>2</td>\n",
              "      <td>1</td>\n",
              "      <td>NaN</td>\n",
              "      <td>female</td>\n",
              "      <td>true</td>\n",
              "      <td>irregular</td>\n",
              "      <td>field_partner</td>\n",
              "      <td>53 days 19:30:06</td>\n",
              "      <td>2013.0</td>\n",
              "    </tr>\n",
              "    <tr>\n",
              "      <th>1</th>\n",
              "      <td>657259</td>\n",
              "      <td>Idalia Marizza</td>\n",
              "      <td>Spanish</td>\n",
              "      <td>Doña Idalia, esta casada, tiene 57 años de eda...</td>\n",
              "      <td>Idalia, 57, is married and lives with her husb...</td>\n",
              "      <td>400.0</td>\n",
              "      <td>400.0</td>\n",
              "      <td>funded</td>\n",
              "      <td>Used Clothing</td>\n",
              "      <td>Clothing</td>\n",
              "      <td>To buy American clothing such as blouses, shir...</td>\n",
              "      <td>HN</td>\n",
              "      <td>Honduras</td>\n",
              "      <td>La Lopez, Choloma</td>\n",
              "      <td>shared</td>\n",
              "      <td>0.1</td>\n",
              "      <td>HNL</td>\n",
              "      <td>201.0</td>\n",
              "      <td>2014-01-14 20:23:20.000 +0000</td>\n",
              "      <td>2014-03-26 22:25:07+00:00</td>\n",
              "      <td>2013-12-20 08:00:00+00:00</td>\n",
              "      <td>2014-02-25 06:42:06.000 +0000</td>\n",
              "      <td>8.0</td>\n",
              "      <td>11</td>\n",
              "      <td>2</td>\n",
              "      <td>1</td>\n",
              "      <td>NaN</td>\n",
              "      <td>female</td>\n",
              "      <td>true</td>\n",
              "      <td>monthly</td>\n",
              "      <td>field_partner</td>\n",
              "      <td>96 days 14:25:07</td>\n",
              "      <td>2013.0</td>\n",
              "    </tr>\n",
              "    <tr>\n",
              "      <th>2</th>\n",
              "      <td>658010</td>\n",
              "      <td>Aasia</td>\n",
              "      <td>English</td>\n",
              "      <td>Aasia is a 45-year-old married lady and she ha...</td>\n",
              "      <td>NaN</td>\n",
              "      <td>400.0</td>\n",
              "      <td>400.0</td>\n",
              "      <td>funded</td>\n",
              "      <td>General Store</td>\n",
              "      <td>Retail</td>\n",
              "      <td>to buy stock of rice, sugar and flour</td>\n",
              "      <td>PK</td>\n",
              "      <td>Pakistan</td>\n",
              "      <td>Lala Musa</td>\n",
              "      <td>shared</td>\n",
              "      <td>0.1</td>\n",
              "      <td>PKR</td>\n",
              "      <td>245.0</td>\n",
              "      <td>2014-01-16 11:32:58.000 +0000</td>\n",
              "      <td>2014-02-15 21:10:05+00:00</td>\n",
              "      <td>2014-01-09 08:00:00+00:00</td>\n",
              "      <td>2014-01-24 23:06:18.000 +0000</td>\n",
              "      <td>14.0</td>\n",
              "      <td>16</td>\n",
              "      <td>2</td>\n",
              "      <td>1</td>\n",
              "      <td>#Woman Owned Biz, #Supporting Family, user_fav...</td>\n",
              "      <td>female</td>\n",
              "      <td>true</td>\n",
              "      <td>monthly</td>\n",
              "      <td>field_partner</td>\n",
              "      <td>37 days 13:10:05</td>\n",
              "      <td>2014.0</td>\n",
              "    </tr>\n",
              "    <tr>\n",
              "      <th>3</th>\n",
              "      <td>659347</td>\n",
              "      <td>Gulmira</td>\n",
              "      <td>Russian</td>\n",
              "      <td>Гулмире 36 лет, замужем, вместе с супругом вос...</td>\n",
              "      <td>Gulmira is 36 years old and married.  She and ...</td>\n",
              "      <td>625.0</td>\n",
              "      <td>625.0</td>\n",
              "      <td>funded</td>\n",
              "      <td>Farming</td>\n",
              "      <td>Agriculture</td>\n",
              "      <td>to buy cucumber and tomato seeds, as well as f...</td>\n",
              "      <td>KG</td>\n",
              "      <td>Kyrgyzstan</td>\n",
              "      <td>Aravan village, Osh region</td>\n",
              "      <td>shared</td>\n",
              "      <td>0.1</td>\n",
              "      <td>KGS</td>\n",
              "      <td>171.0</td>\n",
              "      <td>2014-01-20 09:59:48.000 +0000</td>\n",
              "      <td>2014-02-21 03:10:02+00:00</td>\n",
              "      <td>2014-01-17 08:00:00+00:00</td>\n",
              "      <td>2014-01-22 05:29:28.000 +0000</td>\n",
              "      <td>14.0</td>\n",
              "      <td>21</td>\n",
              "      <td>2</td>\n",
              "      <td>1</td>\n",
              "      <td>user_favorite</td>\n",
              "      <td>female</td>\n",
              "      <td>true</td>\n",
              "      <td>monthly</td>\n",
              "      <td>field_partner</td>\n",
              "      <td>34 days 19:10:02</td>\n",
              "      <td>2014.0</td>\n",
              "    </tr>\n",
              "    <tr>\n",
              "      <th>4</th>\n",
              "      <td>656933</td>\n",
              "      <td>Ricky\\t</td>\n",
              "      <td>English</td>\n",
              "      <td>Ricky is a farmer who currently cultivates his...</td>\n",
              "      <td>NaN</td>\n",
              "      <td>425.0</td>\n",
              "      <td>425.0</td>\n",
              "      <td>funded</td>\n",
              "      <td>Farming</td>\n",
              "      <td>Agriculture</td>\n",
              "      <td>to buy organic fertilizer and agrochemical pr...</td>\n",
              "      <td>PH</td>\n",
              "      <td>Philippines</td>\n",
              "      <td>Baleleng, Sto. Thomas, Isabela</td>\n",
              "      <td>shared</td>\n",
              "      <td>0.1</td>\n",
              "      <td>PHP</td>\n",
              "      <td>123.0</td>\n",
              "      <td>2014-01-14 05:46:21.000 +0000</td>\n",
              "      <td>2014-02-13 06:10:02+00:00</td>\n",
              "      <td>2013-12-17 08:00:00+00:00</td>\n",
              "      <td>2014-01-14 17:29:27.000 +0000</td>\n",
              "      <td>7.0</td>\n",
              "      <td>15</td>\n",
              "      <td>2</td>\n",
              "      <td>1</td>\n",
              "      <td>#Animals, #Eco-friendly, #Sustainable Ag</td>\n",
              "      <td>male</td>\n",
              "      <td>true</td>\n",
              "      <td>bullet</td>\n",
              "      <td>field_partner</td>\n",
              "      <td>57 days 22:10:02</td>\n",
              "      <td>2013.0</td>\n",
              "    </tr>\n",
              "  </tbody>\n",
              "</table>\n",
              "</div>"
            ],
            "text/plain": [
              "   loan_id       loan_name  ...   loans_duration disburse_years\n",
              "0   657307            Aivy  ... 53 days 19:30:06         2013.0\n",
              "1   657259  Idalia Marizza  ... 96 days 14:25:07         2013.0\n",
              "2   658010           Aasia  ... 37 days 13:10:05         2014.0\n",
              "3   659347         Gulmira  ... 34 days 19:10:02         2014.0\n",
              "4   656933         Ricky\\t  ... 57 days 22:10:02         2013.0\n",
              "\n",
              "[5 rows x 33 columns]"
            ]
          },
          "metadata": {
            "tags": []
          },
          "execution_count": 40
        }
      ]
    },
    {
      "cell_type": "code",
      "metadata": {
        "id": "ZeRFR7r4fw6C",
        "colab_type": "code",
        "colab": {}
      },
      "source": [
        "# Creo un sottodataset di loans con le sole variabili d'interesse:\n",
        "loans_sel=loans[['loan_id','num_lenders_total','funded_amount']]"
      ],
      "execution_count": 0,
      "outputs": []
    },
    {
      "cell_type": "code",
      "metadata": {
        "id": "9-3pFYhuHiaH",
        "colab_type": "code",
        "colab": {}
      },
      "source": [
        "# Unisco il dataset normnalizzato con il sottodataset di loans\n",
        "df=pd.merge(loan_lender_norm,loans_sel,on='loan_id')"
      ],
      "execution_count": 0,
      "outputs": []
    },
    {
      "cell_type": "code",
      "metadata": {
        "id": "2032KKWZHiaI",
        "colab_type": "code",
        "outputId": "2da798f8-7929-4f2b-9003-6db6f2b94e8e",
        "colab": {
          "base_uri": "https://localhost:8080/",
          "height": 204
        }
      },
      "source": [
        "df.head()"
      ],
      "execution_count": 43,
      "outputs": [
        {
          "output_type": "execute_result",
          "data": {
            "text/html": [
              "<div>\n",
              "<style scoped>\n",
              "    .dataframe tbody tr th:only-of-type {\n",
              "        vertical-align: middle;\n",
              "    }\n",
              "\n",
              "    .dataframe tbody tr th {\n",
              "        vertical-align: top;\n",
              "    }\n",
              "\n",
              "    .dataframe thead th {\n",
              "        text-align: right;\n",
              "    }\n",
              "</style>\n",
              "<table border=\"1\" class=\"dataframe\">\n",
              "  <thead>\n",
              "    <tr style=\"text-align: right;\">\n",
              "      <th></th>\n",
              "      <th>loan_id</th>\n",
              "      <th>lender</th>\n",
              "      <th>num_lenders_total</th>\n",
              "      <th>funded_amount</th>\n",
              "    </tr>\n",
              "  </thead>\n",
              "  <tbody>\n",
              "    <tr>\n",
              "      <th>0</th>\n",
              "      <td>483693</td>\n",
              "      <td>muc888</td>\n",
              "      <td>44</td>\n",
              "      <td>1225.0</td>\n",
              "    </tr>\n",
              "    <tr>\n",
              "      <th>1</th>\n",
              "      <td>483693</td>\n",
              "      <td>sam4326</td>\n",
              "      <td>44</td>\n",
              "      <td>1225.0</td>\n",
              "    </tr>\n",
              "    <tr>\n",
              "      <th>2</th>\n",
              "      <td>483693</td>\n",
              "      <td>camaran3922</td>\n",
              "      <td>44</td>\n",
              "      <td>1225.0</td>\n",
              "    </tr>\n",
              "    <tr>\n",
              "      <th>3</th>\n",
              "      <td>483693</td>\n",
              "      <td>lachheb1865</td>\n",
              "      <td>44</td>\n",
              "      <td>1225.0</td>\n",
              "    </tr>\n",
              "    <tr>\n",
              "      <th>4</th>\n",
              "      <td>483693</td>\n",
              "      <td>rebecca3499</td>\n",
              "      <td>44</td>\n",
              "      <td>1225.0</td>\n",
              "    </tr>\n",
              "  </tbody>\n",
              "</table>\n",
              "</div>"
            ],
            "text/plain": [
              "   loan_id        lender  num_lenders_total  funded_amount\n",
              "0   483693        muc888                 44         1225.0\n",
              "1   483693       sam4326                 44         1225.0\n",
              "2   483693   camaran3922                 44         1225.0\n",
              "3   483693   lachheb1865                 44         1225.0\n",
              "4   483693   rebecca3499                 44         1225.0"
            ]
          },
          "metadata": {
            "tags": []
          },
          "execution_count": 43
        }
      ]
    },
    {
      "cell_type": "code",
      "metadata": {
        "id": "GJW3TeS0HiaK",
        "colab_type": "code",
        "colab": {}
      },
      "source": [
        "# Calcolo il contributo di ciascun lenders per ciascun loans\n",
        "df['$lenders']=df['funded_amount']/df['num_lenders_total']"
      ],
      "execution_count": 0,
      "outputs": []
    },
    {
      "cell_type": "code",
      "metadata": {
        "id": "CBKQUKHJHiaM",
        "colab_type": "code",
        "outputId": "44281613-5954-4a3e-cf3c-dfe2cd1121db",
        "colab": {
          "base_uri": "https://localhost:8080/",
          "height": 204
        }
      },
      "source": [
        "df.head()"
      ],
      "execution_count": 45,
      "outputs": [
        {
          "output_type": "execute_result",
          "data": {
            "text/html": [
              "<div>\n",
              "<style scoped>\n",
              "    .dataframe tbody tr th:only-of-type {\n",
              "        vertical-align: middle;\n",
              "    }\n",
              "\n",
              "    .dataframe tbody tr th {\n",
              "        vertical-align: top;\n",
              "    }\n",
              "\n",
              "    .dataframe thead th {\n",
              "        text-align: right;\n",
              "    }\n",
              "</style>\n",
              "<table border=\"1\" class=\"dataframe\">\n",
              "  <thead>\n",
              "    <tr style=\"text-align: right;\">\n",
              "      <th></th>\n",
              "      <th>loan_id</th>\n",
              "      <th>lender</th>\n",
              "      <th>num_lenders_total</th>\n",
              "      <th>funded_amount</th>\n",
              "      <th>$lenders</th>\n",
              "    </tr>\n",
              "  </thead>\n",
              "  <tbody>\n",
              "    <tr>\n",
              "      <th>0</th>\n",
              "      <td>483693</td>\n",
              "      <td>muc888</td>\n",
              "      <td>44</td>\n",
              "      <td>1225.0</td>\n",
              "      <td>27.840909</td>\n",
              "    </tr>\n",
              "    <tr>\n",
              "      <th>1</th>\n",
              "      <td>483693</td>\n",
              "      <td>sam4326</td>\n",
              "      <td>44</td>\n",
              "      <td>1225.0</td>\n",
              "      <td>27.840909</td>\n",
              "    </tr>\n",
              "    <tr>\n",
              "      <th>2</th>\n",
              "      <td>483693</td>\n",
              "      <td>camaran3922</td>\n",
              "      <td>44</td>\n",
              "      <td>1225.0</td>\n",
              "      <td>27.840909</td>\n",
              "    </tr>\n",
              "    <tr>\n",
              "      <th>3</th>\n",
              "      <td>483693</td>\n",
              "      <td>lachheb1865</td>\n",
              "      <td>44</td>\n",
              "      <td>1225.0</td>\n",
              "      <td>27.840909</td>\n",
              "    </tr>\n",
              "    <tr>\n",
              "      <th>4</th>\n",
              "      <td>483693</td>\n",
              "      <td>rebecca3499</td>\n",
              "      <td>44</td>\n",
              "      <td>1225.0</td>\n",
              "      <td>27.840909</td>\n",
              "    </tr>\n",
              "  </tbody>\n",
              "</table>\n",
              "</div>"
            ],
            "text/plain": [
              "   loan_id        lender  num_lenders_total  funded_amount   $lenders\n",
              "0   483693        muc888                 44         1225.0  27.840909\n",
              "1   483693       sam4326                 44         1225.0  27.840909\n",
              "2   483693   camaran3922                 44         1225.0  27.840909\n",
              "3   483693   lachheb1865                 44         1225.0  27.840909\n",
              "4   483693   rebecca3499                 44         1225.0  27.840909"
            ]
          },
          "metadata": {
            "tags": []
          },
          "execution_count": 45
        }
      ]
    },
    {
      "cell_type": "code",
      "metadata": {
        "id": "Eh4vW4U-HiaO",
        "colab_type": "code",
        "outputId": "9ef9f7bf-3f11-448b-b7a2-083b50254f14",
        "colab": {
          "base_uri": "https://localhost:8080/",
          "height": 419
        }
      },
      "source": [
        "df1=pd.DataFrame(df.groupby('lender').sum()['$lenders'])\n",
        "#df1=df1.sort_values(by='$lenders', ascending=False)\n",
        "df1=df1.reset_index()\n",
        "df1"
      ],
      "execution_count": 46,
      "outputs": [
        {
          "output_type": "execute_result",
          "data": {
            "text/html": [
              "<div>\n",
              "<style scoped>\n",
              "    .dataframe tbody tr th:only-of-type {\n",
              "        vertical-align: middle;\n",
              "    }\n",
              "\n",
              "    .dataframe tbody tr th {\n",
              "        vertical-align: top;\n",
              "    }\n",
              "\n",
              "    .dataframe thead th {\n",
              "        text-align: right;\n",
              "    }\n",
              "</style>\n",
              "<table border=\"1\" class=\"dataframe\">\n",
              "  <thead>\n",
              "    <tr style=\"text-align: right;\">\n",
              "      <th></th>\n",
              "      <th>lender</th>\n",
              "      <th>$lenders</th>\n",
              "    </tr>\n",
              "  </thead>\n",
              "  <tbody>\n",
              "    <tr>\n",
              "      <th>0</th>\n",
              "      <td>000</td>\n",
              "      <td>1485.309656</td>\n",
              "    </tr>\n",
              "    <tr>\n",
              "      <th>1</th>\n",
              "      <td>00000</td>\n",
              "      <td>1249.127691</td>\n",
              "    </tr>\n",
              "    <tr>\n",
              "      <th>2</th>\n",
              "      <td>0002</td>\n",
              "      <td>2201.180463</td>\n",
              "    </tr>\n",
              "    <tr>\n",
              "      <th>3</th>\n",
              "      <td>00mike00</td>\n",
              "      <td>38.461538</td>\n",
              "    </tr>\n",
              "    <tr>\n",
              "      <th>4</th>\n",
              "      <td>0101craign0101</td>\n",
              "      <td>2424.088932</td>\n",
              "    </tr>\n",
              "    <tr>\n",
              "      <th>...</th>\n",
              "      <td>...</td>\n",
              "      <td>...</td>\n",
              "    </tr>\n",
              "    <tr>\n",
              "      <th>1639021</th>\n",
              "      <td>zzanita</td>\n",
              "      <td>62.500000</td>\n",
              "    </tr>\n",
              "    <tr>\n",
              "      <th>1639022</th>\n",
              "      <td>zzcyna7269</td>\n",
              "      <td>44.285714</td>\n",
              "    </tr>\n",
              "    <tr>\n",
              "      <th>1639023</th>\n",
              "      <td>zzinnia</td>\n",
              "      <td>32.758621</td>\n",
              "    </tr>\n",
              "    <tr>\n",
              "      <th>1639024</th>\n",
              "      <td>zzmcfate</td>\n",
              "      <td>1889.702578</td>\n",
              "    </tr>\n",
              "    <tr>\n",
              "      <th>1639025</th>\n",
              "      <td>zzrvmf8538</td>\n",
              "      <td>70.512821</td>\n",
              "    </tr>\n",
              "  </tbody>\n",
              "</table>\n",
              "<p>1639026 rows × 2 columns</p>\n",
              "</div>"
            ],
            "text/plain": [
              "                  lender     $lenders\n",
              "0                    000  1485.309656\n",
              "1                  00000  1249.127691\n",
              "2                   0002  2201.180463\n",
              "3               00mike00    38.461538\n",
              "4         0101craign0101  2424.088932\n",
              "...                  ...          ...\n",
              "1639021          zzanita    62.500000\n",
              "1639022       zzcyna7269    44.285714\n",
              "1639023          zzinnia    32.758621\n",
              "1639024         zzmcfate  1889.702578\n",
              "1639025       zzrvmf8538    70.512821\n",
              "\n",
              "[1639026 rows x 2 columns]"
            ]
          },
          "metadata": {
            "tags": []
          },
          "execution_count": 46
        }
      ]
    },
    {
      "cell_type": "markdown",
      "metadata": {
        "id": "PyM3oGMNHibB",
        "colab_type": "text"
      },
      "source": [
        "# 9- For each country, compute the difference between the overall amount of money lent and the overall amount of money borrowed. Since the country of the lender is often unknown, you can assume that the true distribution among the countries is the same as the one computed from the rows where the country is known."
      ]
    },
    {
      "cell_type": "code",
      "metadata": {
        "id": "XWb_BAsHHibD",
        "colab_type": "code",
        "colab": {}
      },
      "source": [
        "lender=pd.read_csv(\"/content/drive/My Drive/CS Project/Kiva_Dataset/lenders.csv\")"
      ],
      "execution_count": 0,
      "outputs": []
    },
    {
      "cell_type": "code",
      "metadata": {
        "id": "hyh78vUaHibG",
        "colab_type": "code",
        "outputId": "78d56b8d-81c4-4ead-c732-c1e1b05abfdc",
        "colab": {
          "base_uri": "https://localhost:8080/",
          "height": 204
        }
      },
      "source": [
        "lender.head()"
      ],
      "execution_count": 48,
      "outputs": [
        {
          "output_type": "execute_result",
          "data": {
            "text/html": [
              "<div>\n",
              "<style scoped>\n",
              "    .dataframe tbody tr th:only-of-type {\n",
              "        vertical-align: middle;\n",
              "    }\n",
              "\n",
              "    .dataframe tbody tr th {\n",
              "        vertical-align: top;\n",
              "    }\n",
              "\n",
              "    .dataframe thead th {\n",
              "        text-align: right;\n",
              "    }\n",
              "</style>\n",
              "<table border=\"1\" class=\"dataframe\">\n",
              "  <thead>\n",
              "    <tr style=\"text-align: right;\">\n",
              "      <th></th>\n",
              "      <th>permanent_name</th>\n",
              "      <th>display_name</th>\n",
              "      <th>city</th>\n",
              "      <th>state</th>\n",
              "      <th>country_code</th>\n",
              "      <th>member_since</th>\n",
              "      <th>occupation</th>\n",
              "      <th>loan_because</th>\n",
              "      <th>loan_purchase_num</th>\n",
              "      <th>invited_by</th>\n",
              "      <th>num_invited</th>\n",
              "    </tr>\n",
              "  </thead>\n",
              "  <tbody>\n",
              "    <tr>\n",
              "      <th>0</th>\n",
              "      <td>qian3013</td>\n",
              "      <td>Qian</td>\n",
              "      <td>NaN</td>\n",
              "      <td>NaN</td>\n",
              "      <td>NaN</td>\n",
              "      <td>1461300457</td>\n",
              "      <td>NaN</td>\n",
              "      <td>NaN</td>\n",
              "      <td>1.0</td>\n",
              "      <td>NaN</td>\n",
              "      <td>0</td>\n",
              "    </tr>\n",
              "    <tr>\n",
              "      <th>1</th>\n",
              "      <td>reena6733</td>\n",
              "      <td>Reena</td>\n",
              "      <td>NaN</td>\n",
              "      <td>NaN</td>\n",
              "      <td>NaN</td>\n",
              "      <td>1461300634</td>\n",
              "      <td>NaN</td>\n",
              "      <td>NaN</td>\n",
              "      <td>9.0</td>\n",
              "      <td>NaN</td>\n",
              "      <td>0</td>\n",
              "    </tr>\n",
              "    <tr>\n",
              "      <th>2</th>\n",
              "      <td>mai5982</td>\n",
              "      <td>Mai</td>\n",
              "      <td>NaN</td>\n",
              "      <td>NaN</td>\n",
              "      <td>NaN</td>\n",
              "      <td>1461300853</td>\n",
              "      <td>NaN</td>\n",
              "      <td>NaN</td>\n",
              "      <td>NaN</td>\n",
              "      <td>NaN</td>\n",
              "      <td>0</td>\n",
              "    </tr>\n",
              "    <tr>\n",
              "      <th>3</th>\n",
              "      <td>andrew86079135</td>\n",
              "      <td>Andrew</td>\n",
              "      <td>NaN</td>\n",
              "      <td>NaN</td>\n",
              "      <td>NaN</td>\n",
              "      <td>1461301091</td>\n",
              "      <td>NaN</td>\n",
              "      <td>NaN</td>\n",
              "      <td>5.0</td>\n",
              "      <td>Peter Tan</td>\n",
              "      <td>0</td>\n",
              "    </tr>\n",
              "    <tr>\n",
              "      <th>4</th>\n",
              "      <td>nguyen6962</td>\n",
              "      <td>Nguyen</td>\n",
              "      <td>NaN</td>\n",
              "      <td>NaN</td>\n",
              "      <td>NaN</td>\n",
              "      <td>1461301154</td>\n",
              "      <td>NaN</td>\n",
              "      <td>NaN</td>\n",
              "      <td>NaN</td>\n",
              "      <td>NaN</td>\n",
              "      <td>0</td>\n",
              "    </tr>\n",
              "  </tbody>\n",
              "</table>\n",
              "</div>"
            ],
            "text/plain": [
              "   permanent_name display_name city  ... loan_purchase_num invited_by  num_invited\n",
              "0        qian3013         Qian  NaN  ...               1.0        NaN            0\n",
              "1       reena6733        Reena  NaN  ...               9.0        NaN            0\n",
              "2         mai5982          Mai  NaN  ...               NaN        NaN            0\n",
              "3  andrew86079135       Andrew  NaN  ...               5.0  Peter Tan            0\n",
              "4      nguyen6962       Nguyen  NaN  ...               NaN        NaN            0\n",
              "\n",
              "[5 rows x 11 columns]"
            ]
          },
          "metadata": {
            "tags": []
          },
          "execution_count": 48
        }
      ]
    },
    {
      "cell_type": "code",
      "metadata": {
        "id": "Iebma1xUHXx_",
        "colab_type": "code",
        "outputId": "074efc6a-8625-41af-ea4a-e12cdbdcc4cc",
        "colab": {
          "base_uri": "https://localhost:8080/",
          "height": 34
        }
      },
      "source": [
        "round(sum(lender['country_code'].isnull())/len(lender)*100,2)"
      ],
      "execution_count": 49,
      "outputs": [
        {
          "output_type": "execute_result",
          "data": {
            "text/plain": [
              "62.09"
            ]
          },
          "metadata": {
            "tags": []
          },
          "execution_count": 49
        }
      ]
    },
    {
      "cell_type": "markdown",
      "metadata": {
        "id": "dyFWPjeuiFBb",
        "colab_type": "text"
      },
      "source": [
        "Notiamo che la presenza di valori mancanti per country_code è rilevante:\n",
        "imputo i valori mancati per country_code simulando la distribuzione dei valori di country_code non mancanti. "
      ]
    },
    {
      "cell_type": "code",
      "metadata": {
        "id": "lVfPscxdHibH",
        "colab_type": "code",
        "colab": {}
      },
      "source": [
        "# Creo un dataset con tutti i valori nulli per country_code:\n",
        "lender_vuoto=lender[lender['country_code'].isnull()==True]"
      ],
      "execution_count": 0,
      "outputs": []
    },
    {
      "cell_type": "code",
      "metadata": {
        "id": "J_FUTDQ2jkTj",
        "colab_type": "code",
        "outputId": "fab87b66-c7b5-40d5-efde-1c0d3ee1b442",
        "colab": {
          "base_uri": "https://localhost:8080/",
          "height": 34
        }
      },
      "source": [
        "len(lender_vuoto)"
      ],
      "execution_count": 51,
      "outputs": [
        {
          "output_type": "execute_result",
          "data": {
            "text/plain": [
              "1458635"
            ]
          },
          "metadata": {
            "tags": []
          },
          "execution_count": 51
        }
      ]
    },
    {
      "cell_type": "code",
      "metadata": {
        "scrolled": true,
        "id": "FvCTnyFFHibI",
        "colab_type": "code",
        "colab": {}
      },
      "source": [
        "# Creo un dataset con tutti i valori non nulli per country_code:\n",
        "lender_pieno=lender[lender['country_code'].isnull()==False]"
      ],
      "execution_count": 0,
      "outputs": []
    },
    {
      "cell_type": "code",
      "metadata": {
        "id": "KV7AKZRXHibK",
        "colab_type": "code",
        "outputId": "7b483458-eb71-4247-c86b-4224bd31b0c5",
        "colab": {
          "base_uri": "https://localhost:8080/",
          "height": 204
        }
      },
      "source": [
        "# Conto quante volte appare ogni stato nel dataset relativo ai valori non nulli:\n",
        "n_stati=pd.DataFrame(lender_pieno.groupby('country_code').size())\n",
        "n_stati.rename(columns={0: 'n_stati'}, inplace=True)\n",
        "n_stati=n_stati.reset_index()\n",
        "n_stati.head()"
      ],
      "execution_count": 53,
      "outputs": [
        {
          "output_type": "execute_result",
          "data": {
            "text/html": [
              "<div>\n",
              "<style scoped>\n",
              "    .dataframe tbody tr th:only-of-type {\n",
              "        vertical-align: middle;\n",
              "    }\n",
              "\n",
              "    .dataframe tbody tr th {\n",
              "        vertical-align: top;\n",
              "    }\n",
              "\n",
              "    .dataframe thead th {\n",
              "        text-align: right;\n",
              "    }\n",
              "</style>\n",
              "<table border=\"1\" class=\"dataframe\">\n",
              "  <thead>\n",
              "    <tr style=\"text-align: right;\">\n",
              "      <th></th>\n",
              "      <th>country_code</th>\n",
              "      <th>n_stati</th>\n",
              "    </tr>\n",
              "  </thead>\n",
              "  <tbody>\n",
              "    <tr>\n",
              "      <th>0</th>\n",
              "      <td>AD</td>\n",
              "      <td>15</td>\n",
              "    </tr>\n",
              "    <tr>\n",
              "      <th>1</th>\n",
              "      <td>AE</td>\n",
              "      <td>1043</td>\n",
              "    </tr>\n",
              "    <tr>\n",
              "      <th>2</th>\n",
              "      <td>AF</td>\n",
              "      <td>228</td>\n",
              "    </tr>\n",
              "    <tr>\n",
              "      <th>3</th>\n",
              "      <td>AG</td>\n",
              "      <td>8</td>\n",
              "    </tr>\n",
              "    <tr>\n",
              "      <th>4</th>\n",
              "      <td>AI</td>\n",
              "      <td>4</td>\n",
              "    </tr>\n",
              "  </tbody>\n",
              "</table>\n",
              "</div>"
            ],
            "text/plain": [
              "  country_code  n_stati\n",
              "0           AD       15\n",
              "1           AE     1043\n",
              "2           AF      228\n",
              "3           AG        8\n",
              "4           AI        4"
            ]
          },
          "metadata": {
            "tags": []
          },
          "execution_count": 53
        }
      ]
    },
    {
      "cell_type": "code",
      "metadata": {
        "id": "uMWYxeEVHibO",
        "colab_type": "code",
        "colab": {}
      },
      "source": [
        "# Creo una lista in cui ogni country_code è ripetuto per il numero di volte che \n",
        "# compare nel dataset dei valori non nulli. \n",
        "# Creo la lista\n",
        "lista_stati=[x for x in n_stati['country_code']]\n",
        "# Conto quante volte compare ogni stato\n",
        "volte=[x for x in n_stati['n_stati']]\n",
        "# Ripeto ogni stato per il numero di volte in cui compare\n",
        "ll=[]\n",
        "for i in range(0,len(n_stati)):\n",
        "    ll.append([lista_stati[i]]*volte[i])\n",
        "lista_stati_real=[y for x in ll for y in x]"
      ],
      "execution_count": 0,
      "outputs": []
    },
    {
      "cell_type": "code",
      "metadata": {
        "id": "YI8TsMJoHibY",
        "colab_type": "code",
        "outputId": "573c3ce1-741d-446e-a010-cbe15bb4085b",
        "colab": {
          "base_uri": "https://localhost:8080/",
          "height": 119
        }
      },
      "source": [
        "# Vado a riempire la colonna country_code nel dataset vuoto simulando in modo\n",
        "# casuale (basandomi sulla lista appena creata) il country_code. \n",
        "random.seed(9999)\n",
        "ll_casual=[]\n",
        "for i in range (0,len(lender_vuoto)):\n",
        "    ll_casual.append(random.sample(lista_stati_real,1)[0])\n",
        "lender_vuoto['country_code']=ll_casual"
      ],
      "execution_count": 55,
      "outputs": [
        {
          "output_type": "stream",
          "text": [
            "/usr/local/lib/python3.6/dist-packages/ipykernel_launcher.py:5: SettingWithCopyWarning: \n",
            "A value is trying to be set on a copy of a slice from a DataFrame.\n",
            "Try using .loc[row_indexer,col_indexer] = value instead\n",
            "\n",
            "See the caveats in the documentation: http://pandas.pydata.org/pandas-docs/stable/user_guide/indexing.html#returning-a-view-versus-a-copy\n",
            "  \"\"\"\n"
          ],
          "name": "stderr"
        }
      ]
    },
    {
      "cell_type": "code",
      "metadata": {
        "id": "fltkwNzCHibZ",
        "colab_type": "code",
        "outputId": "5e97919d-71ba-4502-e148-9552fa37b248",
        "colab": {
          "base_uri": "https://localhost:8080/",
          "height": 34
        }
      },
      "source": [
        "len(ll_casual)"
      ],
      "execution_count": 56,
      "outputs": [
        {
          "output_type": "execute_result",
          "data": {
            "text/plain": [
              "1458635"
            ]
          },
          "metadata": {
            "tags": []
          },
          "execution_count": 56
        }
      ]
    },
    {
      "cell_type": "code",
      "metadata": {
        "id": "BscTXk2gHibc",
        "colab_type": "code",
        "colab": {}
      },
      "source": [
        "# Unisco i due dataset:\n",
        "lender_pieno=lender_pieno.append(lender_vuoto)"
      ],
      "execution_count": 0,
      "outputs": []
    },
    {
      "cell_type": "code",
      "metadata": {
        "id": "dM4RBbe5Hibd",
        "colab_type": "code",
        "outputId": "6cd092be-bd75-4360-b83d-bfc49b7596d0",
        "colab": {
          "base_uri": "https://localhost:8080/",
          "height": 204
        }
      },
      "source": [
        "lender_pieno.head()"
      ],
      "execution_count": 58,
      "outputs": [
        {
          "output_type": "execute_result",
          "data": {
            "text/html": [
              "<div>\n",
              "<style scoped>\n",
              "    .dataframe tbody tr th:only-of-type {\n",
              "        vertical-align: middle;\n",
              "    }\n",
              "\n",
              "    .dataframe tbody tr th {\n",
              "        vertical-align: top;\n",
              "    }\n",
              "\n",
              "    .dataframe thead th {\n",
              "        text-align: right;\n",
              "    }\n",
              "</style>\n",
              "<table border=\"1\" class=\"dataframe\">\n",
              "  <thead>\n",
              "    <tr style=\"text-align: right;\">\n",
              "      <th></th>\n",
              "      <th>permanent_name</th>\n",
              "      <th>display_name</th>\n",
              "      <th>city</th>\n",
              "      <th>state</th>\n",
              "      <th>country_code</th>\n",
              "      <th>member_since</th>\n",
              "      <th>occupation</th>\n",
              "      <th>loan_because</th>\n",
              "      <th>loan_purchase_num</th>\n",
              "      <th>invited_by</th>\n",
              "      <th>num_invited</th>\n",
              "    </tr>\n",
              "  </thead>\n",
              "  <tbody>\n",
              "    <tr>\n",
              "      <th>16</th>\n",
              "      <td>naresh2074</td>\n",
              "      <td>Naresh</td>\n",
              "      <td>NaN</td>\n",
              "      <td>NaN</td>\n",
              "      <td>US</td>\n",
              "      <td>1461303119</td>\n",
              "      <td>NaN</td>\n",
              "      <td>NaN</td>\n",
              "      <td>3.0</td>\n",
              "      <td>NaN</td>\n",
              "      <td>0</td>\n",
              "    </tr>\n",
              "    <tr>\n",
              "      <th>31</th>\n",
              "      <td>christina27976796</td>\n",
              "      <td>Christina</td>\n",
              "      <td>NaN</td>\n",
              "      <td>NaN</td>\n",
              "      <td>US</td>\n",
              "      <td>1461303341</td>\n",
              "      <td>NaN</td>\n",
              "      <td>NaN</td>\n",
              "      <td>1.0</td>\n",
              "      <td>Peter Tan</td>\n",
              "      <td>0</td>\n",
              "    </tr>\n",
              "    <tr>\n",
              "      <th>37</th>\n",
              "      <td>vikas1098</td>\n",
              "      <td>Vikas</td>\n",
              "      <td>Bengaluru</td>\n",
              "      <td>NaN</td>\n",
              "      <td>IN</td>\n",
              "      <td>1461301846</td>\n",
              "      <td>Software Engineer</td>\n",
              "      <td>NaN</td>\n",
              "      <td>2.0</td>\n",
              "      <td>NaN</td>\n",
              "      <td>0</td>\n",
              "    </tr>\n",
              "    <tr>\n",
              "      <th>39</th>\n",
              "      <td>qian1385</td>\n",
              "      <td>Qian</td>\n",
              "      <td>NaN</td>\n",
              "      <td>NaN</td>\n",
              "      <td>US</td>\n",
              "      <td>1461302036</td>\n",
              "      <td>NaN</td>\n",
              "      <td>NaN</td>\n",
              "      <td>2.0</td>\n",
              "      <td>NaN</td>\n",
              "      <td>0</td>\n",
              "    </tr>\n",
              "    <tr>\n",
              "      <th>42</th>\n",
              "      <td>xigg8769</td>\n",
              "      <td>Darla</td>\n",
              "      <td>Madison</td>\n",
              "      <td>NaN</td>\n",
              "      <td>US</td>\n",
              "      <td>1461302503</td>\n",
              "      <td>NaN</td>\n",
              "      <td>NaN</td>\n",
              "      <td>NaN</td>\n",
              "      <td>NaN</td>\n",
              "      <td>0</td>\n",
              "    </tr>\n",
              "  </tbody>\n",
              "</table>\n",
              "</div>"
            ],
            "text/plain": [
              "       permanent_name display_name  ... invited_by num_invited\n",
              "16         naresh2074       Naresh  ...        NaN           0\n",
              "31  christina27976796    Christina  ...  Peter Tan           0\n",
              "37          vikas1098        Vikas  ...        NaN           0\n",
              "39           qian1385         Qian  ...        NaN           0\n",
              "42           xigg8769        Darla  ...        NaN           0\n",
              "\n",
              "[5 rows x 11 columns]"
            ]
          },
          "metadata": {
            "tags": []
          },
          "execution_count": 58
        }
      ]
    },
    {
      "cell_type": "code",
      "metadata": {
        "id": "C9s3nOIBll2V",
        "colab_type": "code",
        "outputId": "0e0e0791-51f0-4b66-db08-58253638496f",
        "colab": {
          "base_uri": "https://localhost:8080/",
          "height": 102
        }
      },
      "source": [
        "lender_sel=lender_pieno[['permanent_name','country_code']]\n",
        "lender_sel.rename(columns={'permanent_name': 'lender'}, inplace=True)"
      ],
      "execution_count": 59,
      "outputs": [
        {
          "output_type": "stream",
          "text": [
            "/usr/local/lib/python3.6/dist-packages/pandas/core/frame.py:4238: SettingWithCopyWarning: \n",
            "A value is trying to be set on a copy of a slice from a DataFrame\n",
            "\n",
            "See the caveats in the documentation: http://pandas.pydata.org/pandas-docs/stable/user_guide/indexing.html#returning-a-view-versus-a-copy\n",
            "  return super().rename(**kwargs)\n"
          ],
          "name": "stderr"
        }
      ]
    },
    {
      "cell_type": "code",
      "metadata": {
        "id": "YcNUER9bmA5s",
        "colab_type": "code",
        "outputId": "337386f5-9135-4d01-b224-65be11ef63fa",
        "colab": {
          "base_uri": "https://localhost:8080/",
          "height": 204
        }
      },
      "source": [
        "lender_sel.head()"
      ],
      "execution_count": 60,
      "outputs": [
        {
          "output_type": "execute_result",
          "data": {
            "text/html": [
              "<div>\n",
              "<style scoped>\n",
              "    .dataframe tbody tr th:only-of-type {\n",
              "        vertical-align: middle;\n",
              "    }\n",
              "\n",
              "    .dataframe tbody tr th {\n",
              "        vertical-align: top;\n",
              "    }\n",
              "\n",
              "    .dataframe thead th {\n",
              "        text-align: right;\n",
              "    }\n",
              "</style>\n",
              "<table border=\"1\" class=\"dataframe\">\n",
              "  <thead>\n",
              "    <tr style=\"text-align: right;\">\n",
              "      <th></th>\n",
              "      <th>lender</th>\n",
              "      <th>country_code</th>\n",
              "    </tr>\n",
              "  </thead>\n",
              "  <tbody>\n",
              "    <tr>\n",
              "      <th>16</th>\n",
              "      <td>naresh2074</td>\n",
              "      <td>US</td>\n",
              "    </tr>\n",
              "    <tr>\n",
              "      <th>31</th>\n",
              "      <td>christina27976796</td>\n",
              "      <td>US</td>\n",
              "    </tr>\n",
              "    <tr>\n",
              "      <th>37</th>\n",
              "      <td>vikas1098</td>\n",
              "      <td>IN</td>\n",
              "    </tr>\n",
              "    <tr>\n",
              "      <th>39</th>\n",
              "      <td>qian1385</td>\n",
              "      <td>US</td>\n",
              "    </tr>\n",
              "    <tr>\n",
              "      <th>42</th>\n",
              "      <td>xigg8769</td>\n",
              "      <td>US</td>\n",
              "    </tr>\n",
              "  </tbody>\n",
              "</table>\n",
              "</div>"
            ],
            "text/plain": [
              "               lender country_code\n",
              "16         naresh2074           US\n",
              "31  christina27976796           US\n",
              "37          vikas1098           IN\n",
              "39           qian1385           US\n",
              "42           xigg8769           US"
            ]
          },
          "metadata": {
            "tags": []
          },
          "execution_count": 60
        }
      ]
    },
    {
      "cell_type": "code",
      "metadata": {
        "id": "Ld25_EA1kgGz",
        "colab_type": "code",
        "outputId": "6914a6ed-9332-4839-9733-a5864d7b3e07",
        "colab": {
          "base_uri": "https://localhost:8080/",
          "height": 204
        }
      },
      "source": [
        "df1.head()"
      ],
      "execution_count": 61,
      "outputs": [
        {
          "output_type": "execute_result",
          "data": {
            "text/html": [
              "<div>\n",
              "<style scoped>\n",
              "    .dataframe tbody tr th:only-of-type {\n",
              "        vertical-align: middle;\n",
              "    }\n",
              "\n",
              "    .dataframe tbody tr th {\n",
              "        vertical-align: top;\n",
              "    }\n",
              "\n",
              "    .dataframe thead th {\n",
              "        text-align: right;\n",
              "    }\n",
              "</style>\n",
              "<table border=\"1\" class=\"dataframe\">\n",
              "  <thead>\n",
              "    <tr style=\"text-align: right;\">\n",
              "      <th></th>\n",
              "      <th>lender</th>\n",
              "      <th>$lenders</th>\n",
              "    </tr>\n",
              "  </thead>\n",
              "  <tbody>\n",
              "    <tr>\n",
              "      <th>0</th>\n",
              "      <td>000</td>\n",
              "      <td>1485.309656</td>\n",
              "    </tr>\n",
              "    <tr>\n",
              "      <th>1</th>\n",
              "      <td>00000</td>\n",
              "      <td>1249.127691</td>\n",
              "    </tr>\n",
              "    <tr>\n",
              "      <th>2</th>\n",
              "      <td>0002</td>\n",
              "      <td>2201.180463</td>\n",
              "    </tr>\n",
              "    <tr>\n",
              "      <th>3</th>\n",
              "      <td>00mike00</td>\n",
              "      <td>38.461538</td>\n",
              "    </tr>\n",
              "    <tr>\n",
              "      <th>4</th>\n",
              "      <td>0101craign0101</td>\n",
              "      <td>2424.088932</td>\n",
              "    </tr>\n",
              "  </tbody>\n",
              "</table>\n",
              "</div>"
            ],
            "text/plain": [
              "            lender     $lenders\n",
              "0              000  1485.309656\n",
              "1            00000  1249.127691\n",
              "2             0002  2201.180463\n",
              "3         00mike00    38.461538\n",
              "4   0101craign0101  2424.088932"
            ]
          },
          "metadata": {
            "tags": []
          },
          "execution_count": 61
        }
      ]
    },
    {
      "cell_type": "code",
      "metadata": {
        "id": "NGWPkqdalGIW",
        "colab_type": "code",
        "colab": {}
      },
      "source": [
        "df2=pd.merge(df1,lender_sel,on='lender')"
      ],
      "execution_count": 0,
      "outputs": []
    },
    {
      "cell_type": "code",
      "metadata": {
        "id": "5Cjiik8DmPhr",
        "colab_type": "code",
        "outputId": "d9ef05f2-78ab-478b-9083-29a1aea969c7",
        "colab": {
          "base_uri": "https://localhost:8080/",
          "height": 204
        }
      },
      "source": [
        "df2.head()"
      ],
      "execution_count": 63,
      "outputs": [
        {
          "output_type": "execute_result",
          "data": {
            "text/html": [
              "<div>\n",
              "<style scoped>\n",
              "    .dataframe tbody tr th:only-of-type {\n",
              "        vertical-align: middle;\n",
              "    }\n",
              "\n",
              "    .dataframe tbody tr th {\n",
              "        vertical-align: top;\n",
              "    }\n",
              "\n",
              "    .dataframe thead th {\n",
              "        text-align: right;\n",
              "    }\n",
              "</style>\n",
              "<table border=\"1\" class=\"dataframe\">\n",
              "  <thead>\n",
              "    <tr style=\"text-align: right;\">\n",
              "      <th></th>\n",
              "      <th>lender</th>\n",
              "      <th>$lenders</th>\n",
              "      <th>country_code</th>\n",
              "    </tr>\n",
              "  </thead>\n",
              "  <tbody>\n",
              "    <tr>\n",
              "      <th>0</th>\n",
              "      <td>000</td>\n",
              "      <td>26.785714</td>\n",
              "      <td>US</td>\n",
              "    </tr>\n",
              "    <tr>\n",
              "      <th>1</th>\n",
              "      <td>0161130</td>\n",
              "      <td>25.000000</td>\n",
              "      <td>US</td>\n",
              "    </tr>\n",
              "    <tr>\n",
              "      <th>2</th>\n",
              "      <td>0169713</td>\n",
              "      <td>25.000000</td>\n",
              "      <td>US</td>\n",
              "    </tr>\n",
              "    <tr>\n",
              "      <th>3</th>\n",
              "      <td>0197462</td>\n",
              "      <td>25.000000</td>\n",
              "      <td>IT</td>\n",
              "    </tr>\n",
              "    <tr>\n",
              "      <th>4</th>\n",
              "      <td>0206338</td>\n",
              "      <td>29.687500</td>\n",
              "      <td>US</td>\n",
              "    </tr>\n",
              "  </tbody>\n",
              "</table>\n",
              "</div>"
            ],
            "text/plain": [
              "    lender   $lenders country_code\n",
              "0      000  26.785714           US\n",
              "1  0161130  25.000000           US\n",
              "2  0169713  25.000000           US\n",
              "3  0197462  25.000000           IT\n",
              "4  0206338  29.687500           US"
            ]
          },
          "metadata": {
            "tags": []
          },
          "execution_count": 63
        }
      ]
    },
    {
      "cell_type": "code",
      "metadata": {
        "id": "7BRLpyzFmVO0",
        "colab_type": "code",
        "outputId": "484354f5-2308-4262-f93a-15c6150faebb",
        "colab": {
          "base_uri": "https://localhost:8080/",
          "height": 450
        }
      },
      "source": [
        "df3=pd.DataFrame(df2.groupby('country_code').sum()['$lenders'])\n",
        "#df3=df3.reset_index()\n",
        "df3"
      ],
      "execution_count": 64,
      "outputs": [
        {
          "output_type": "execute_result",
          "data": {
            "text/html": [
              "<div>\n",
              "<style scoped>\n",
              "    .dataframe tbody tr th:only-of-type {\n",
              "        vertical-align: middle;\n",
              "    }\n",
              "\n",
              "    .dataframe tbody tr th {\n",
              "        vertical-align: top;\n",
              "    }\n",
              "\n",
              "    .dataframe thead th {\n",
              "        text-align: right;\n",
              "    }\n",
              "</style>\n",
              "<table border=\"1\" class=\"dataframe\">\n",
              "  <thead>\n",
              "    <tr style=\"text-align: right;\">\n",
              "      <th></th>\n",
              "      <th>$lenders</th>\n",
              "    </tr>\n",
              "    <tr>\n",
              "      <th>country_code</th>\n",
              "      <th></th>\n",
              "    </tr>\n",
              "  </thead>\n",
              "  <tbody>\n",
              "    <tr>\n",
              "      <th>AD</th>\n",
              "      <td>101.190476</td>\n",
              "    </tr>\n",
              "    <tr>\n",
              "      <th>AE</th>\n",
              "      <td>101048.682373</td>\n",
              "    </tr>\n",
              "    <tr>\n",
              "      <th>AF</th>\n",
              "      <td>6556.186516</td>\n",
              "    </tr>\n",
              "    <tr>\n",
              "      <th>AI</th>\n",
              "      <td>29.687500</td>\n",
              "    </tr>\n",
              "    <tr>\n",
              "      <th>AL</th>\n",
              "      <td>1190.344522</td>\n",
              "    </tr>\n",
              "    <tr>\n",
              "      <th>...</th>\n",
              "      <td>...</td>\n",
              "    </tr>\n",
              "    <tr>\n",
              "      <th>YE</th>\n",
              "      <td>6462.320637</td>\n",
              "    </tr>\n",
              "    <tr>\n",
              "      <th>YT</th>\n",
              "      <td>64.656381</td>\n",
              "    </tr>\n",
              "    <tr>\n",
              "      <th>ZA</th>\n",
              "      <td>30814.844264</td>\n",
              "    </tr>\n",
              "    <tr>\n",
              "      <th>ZM</th>\n",
              "      <td>665.994181</td>\n",
              "    </tr>\n",
              "    <tr>\n",
              "      <th>ZW</th>\n",
              "      <td>327.033499</td>\n",
              "    </tr>\n",
              "  </tbody>\n",
              "</table>\n",
              "<p>218 rows × 1 columns</p>\n",
              "</div>"
            ],
            "text/plain": [
              "                   $lenders\n",
              "country_code               \n",
              "AD               101.190476\n",
              "AE            101048.682373\n",
              "AF              6556.186516\n",
              "AI                29.687500\n",
              "AL              1190.344522\n",
              "...                     ...\n",
              "YE              6462.320637\n",
              "YT                64.656381\n",
              "ZA             30814.844264\n",
              "ZM               665.994181\n",
              "ZW               327.033499\n",
              "\n",
              "[218 rows x 1 columns]"
            ]
          },
          "metadata": {
            "tags": []
          },
          "execution_count": 64
        }
      ]
    },
    {
      "cell_type": "markdown",
      "metadata": {
        "id": "fuWSi0iCI8e9",
        "colab_type": "text"
      },
      "source": [
        "Qui ho l'ammontare di denaro prestato da ogni stato"
      ]
    },
    {
      "cell_type": "code",
      "metadata": {
        "id": "JXaw6Ls1j99z",
        "colab_type": "code",
        "outputId": "0a27ef7e-e9a3-4c19-c0ab-b1a2cb351414",
        "colab": {
          "base_uri": "https://localhost:8080/",
          "height": 450
        }
      },
      "source": [
        "cash_borrowed=pd.DataFrame(loans.groupby('country_code').sum()['loan_amount'])\n",
        "cash_borrowed.rename(columns={'loan_amount': 'overall_amount'}, inplace=True)\n",
        "#cash_borrowed=cash_borrowed.reset_index()\n",
        "cash_borrowed"
      ],
      "execution_count": 65,
      "outputs": [
        {
          "output_type": "execute_result",
          "data": {
            "text/html": [
              "<div>\n",
              "<style scoped>\n",
              "    .dataframe tbody tr th:only-of-type {\n",
              "        vertical-align: middle;\n",
              "    }\n",
              "\n",
              "    .dataframe tbody tr th {\n",
              "        vertical-align: top;\n",
              "    }\n",
              "\n",
              "    .dataframe thead th {\n",
              "        text-align: right;\n",
              "    }\n",
              "</style>\n",
              "<table border=\"1\" class=\"dataframe\">\n",
              "  <thead>\n",
              "    <tr style=\"text-align: right;\">\n",
              "      <th></th>\n",
              "      <th>overall_amount</th>\n",
              "    </tr>\n",
              "    <tr>\n",
              "      <th>country_code</th>\n",
              "      <th></th>\n",
              "    </tr>\n",
              "  </thead>\n",
              "  <tbody>\n",
              "    <tr>\n",
              "      <th>AF</th>\n",
              "      <td>1967950.0</td>\n",
              "    </tr>\n",
              "    <tr>\n",
              "      <th>AL</th>\n",
              "      <td>4307350.0</td>\n",
              "    </tr>\n",
              "    <tr>\n",
              "      <th>AM</th>\n",
              "      <td>22950475.0</td>\n",
              "    </tr>\n",
              "    <tr>\n",
              "      <th>AZ</th>\n",
              "      <td>14784625.0</td>\n",
              "    </tr>\n",
              "    <tr>\n",
              "      <th>BA</th>\n",
              "      <td>477250.0</td>\n",
              "    </tr>\n",
              "    <tr>\n",
              "      <th>...</th>\n",
              "      <td>...</td>\n",
              "    </tr>\n",
              "    <tr>\n",
              "      <th>XK</th>\n",
              "      <td>3083025.0</td>\n",
              "    </tr>\n",
              "    <tr>\n",
              "      <th>YE</th>\n",
              "      <td>3444000.0</td>\n",
              "    </tr>\n",
              "    <tr>\n",
              "      <th>ZA</th>\n",
              "      <td>1006525.0</td>\n",
              "    </tr>\n",
              "    <tr>\n",
              "      <th>ZM</th>\n",
              "      <td>1978975.0</td>\n",
              "    </tr>\n",
              "    <tr>\n",
              "      <th>ZW</th>\n",
              "      <td>5851875.0</td>\n",
              "    </tr>\n",
              "  </tbody>\n",
              "</table>\n",
              "<p>95 rows × 1 columns</p>\n",
              "</div>"
            ],
            "text/plain": [
              "              overall_amount\n",
              "country_code                \n",
              "AF                 1967950.0\n",
              "AL                 4307350.0\n",
              "AM                22950475.0\n",
              "AZ                14784625.0\n",
              "BA                  477250.0\n",
              "...                      ...\n",
              "XK                 3083025.0\n",
              "YE                 3444000.0\n",
              "ZA                 1006525.0\n",
              "ZM                 1978975.0\n",
              "ZW                 5851875.0\n",
              "\n",
              "[95 rows x 1 columns]"
            ]
          },
          "metadata": {
            "tags": []
          },
          "execution_count": 65
        }
      ]
    },
    {
      "cell_type": "code",
      "metadata": {
        "id": "gC6p6RFF1mar",
        "colab_type": "code",
        "outputId": "ed2cbf71-bcaa-4035-b1a5-f79d1fbb59de",
        "colab": {
          "base_uri": "https://localhost:8080/",
          "height": 419
        }
      },
      "source": [
        "difference=pd.DataFrame(df3['$lenders']-cash_borrowed['overall_amount'])\n",
        "difference.rename(columns={0: 'difference_amount'}, inplace=True)\n",
        "difference=difference.reset_index()\n",
        "difference.rename(columns={'index': 'country_code'}, inplace=True)\n",
        "difference\n",
        "# Vi sono dei valori nulli ove alcuni stati non hanno mai prestato / preso a \n",
        "# prestito..."
      ],
      "execution_count": 66,
      "outputs": [
        {
          "output_type": "execute_result",
          "data": {
            "text/html": [
              "<div>\n",
              "<style scoped>\n",
              "    .dataframe tbody tr th:only-of-type {\n",
              "        vertical-align: middle;\n",
              "    }\n",
              "\n",
              "    .dataframe tbody tr th {\n",
              "        vertical-align: top;\n",
              "    }\n",
              "\n",
              "    .dataframe thead th {\n",
              "        text-align: right;\n",
              "    }\n",
              "</style>\n",
              "<table border=\"1\" class=\"dataframe\">\n",
              "  <thead>\n",
              "    <tr style=\"text-align: right;\">\n",
              "      <th></th>\n",
              "      <th>country_code</th>\n",
              "      <th>difference_amount</th>\n",
              "    </tr>\n",
              "  </thead>\n",
              "  <tbody>\n",
              "    <tr>\n",
              "      <th>0</th>\n",
              "      <td>AD</td>\n",
              "      <td>NaN</td>\n",
              "    </tr>\n",
              "    <tr>\n",
              "      <th>1</th>\n",
              "      <td>AE</td>\n",
              "      <td>NaN</td>\n",
              "    </tr>\n",
              "    <tr>\n",
              "      <th>2</th>\n",
              "      <td>AF</td>\n",
              "      <td>-1.961394e+06</td>\n",
              "    </tr>\n",
              "    <tr>\n",
              "      <th>3</th>\n",
              "      <td>AI</td>\n",
              "      <td>NaN</td>\n",
              "    </tr>\n",
              "    <tr>\n",
              "      <th>4</th>\n",
              "      <td>AL</td>\n",
              "      <td>-4.306160e+06</td>\n",
              "    </tr>\n",
              "    <tr>\n",
              "      <th>...</th>\n",
              "      <td>...</td>\n",
              "      <td>...</td>\n",
              "    </tr>\n",
              "    <tr>\n",
              "      <th>215</th>\n",
              "      <td>YE</td>\n",
              "      <td>-3.437538e+06</td>\n",
              "    </tr>\n",
              "    <tr>\n",
              "      <th>216</th>\n",
              "      <td>YT</td>\n",
              "      <td>NaN</td>\n",
              "    </tr>\n",
              "    <tr>\n",
              "      <th>217</th>\n",
              "      <td>ZA</td>\n",
              "      <td>-9.757102e+05</td>\n",
              "    </tr>\n",
              "    <tr>\n",
              "      <th>218</th>\n",
              "      <td>ZM</td>\n",
              "      <td>-1.978309e+06</td>\n",
              "    </tr>\n",
              "    <tr>\n",
              "      <th>219</th>\n",
              "      <td>ZW</td>\n",
              "      <td>-5.851548e+06</td>\n",
              "    </tr>\n",
              "  </tbody>\n",
              "</table>\n",
              "<p>220 rows × 2 columns</p>\n",
              "</div>"
            ],
            "text/plain": [
              "    country_code  difference_amount\n",
              "0             AD                NaN\n",
              "1             AE                NaN\n",
              "2             AF      -1.961394e+06\n",
              "3             AI                NaN\n",
              "4             AL      -4.306160e+06\n",
              "..           ...                ...\n",
              "215           YE      -3.437538e+06\n",
              "216           YT                NaN\n",
              "217           ZA      -9.757102e+05\n",
              "218           ZM      -1.978309e+06\n",
              "219           ZW      -5.851548e+06\n",
              "\n",
              "[220 rows x 2 columns]"
            ]
          },
          "metadata": {
            "tags": []
          },
          "execution_count": 66
        }
      ]
    },
    {
      "cell_type": "code",
      "metadata": {
        "id": "C4yU-VeXDABQ",
        "colab_type": "code",
        "colab": {}
      },
      "source": [
        "# Creo due dizionari che contengono i precedenti dataset:\n",
        "diz_lenders=df3.to_dict()\n",
        "diz_lenders=diz_lenders['$lenders']\n",
        "diz_borrowers=cash_borrowed.to_dict()\n",
        "diz_borrowers=diz_borrowers['overall_amount']"
      ],
      "execution_count": 0,
      "outputs": []
    },
    {
      "cell_type": "code",
      "metadata": {
        "id": "1Y6L_QCQCptr",
        "colab_type": "code",
        "outputId": "b41b32d8-1128-4933-aa73-38ba13ab26db",
        "colab": {
          "base_uri": "https://localhost:8080/",
          "height": 187
        }
      },
      "source": [
        "for i in range(0,len(difference)):\n",
        "  if pd.isna(difference.iloc[i]['difference_amount'])==True:\n",
        "    if difference['country_code'][i] in diz_lenders:\n",
        "      difference['difference_amount'][i]=diz_lenders[difference['country_code'][i]]\n",
        "    else:\n",
        "      difference['difference_amount'][i]=diz_borrowers[difference['country_code'][i]]"
      ],
      "execution_count": 68,
      "outputs": [
        {
          "output_type": "stream",
          "text": [
            "/usr/local/lib/python3.6/dist-packages/ipykernel_launcher.py:4: SettingWithCopyWarning: \n",
            "A value is trying to be set on a copy of a slice from a DataFrame\n",
            "\n",
            "See the caveats in the documentation: http://pandas.pydata.org/pandas-docs/stable/user_guide/indexing.html#returning-a-view-versus-a-copy\n",
            "  after removing the cwd from sys.path.\n",
            "/usr/local/lib/python3.6/dist-packages/ipykernel_launcher.py:6: SettingWithCopyWarning: \n",
            "A value is trying to be set on a copy of a slice from a DataFrame\n",
            "\n",
            "See the caveats in the documentation: http://pandas.pydata.org/pandas-docs/stable/user_guide/indexing.html#returning-a-view-versus-a-copy\n",
            "  \n"
          ],
          "name": "stderr"
        }
      ]
    },
    {
      "cell_type": "code",
      "metadata": {
        "id": "mDLHM_gvCpyc",
        "colab_type": "code",
        "outputId": "04f36c91-309f-4f54-fdec-e474be4afd40",
        "colab": {
          "base_uri": "https://localhost:8080/",
          "height": 419
        }
      },
      "source": [
        "difference"
      ],
      "execution_count": 69,
      "outputs": [
        {
          "output_type": "execute_result",
          "data": {
            "text/html": [
              "<div>\n",
              "<style scoped>\n",
              "    .dataframe tbody tr th:only-of-type {\n",
              "        vertical-align: middle;\n",
              "    }\n",
              "\n",
              "    .dataframe tbody tr th {\n",
              "        vertical-align: top;\n",
              "    }\n",
              "\n",
              "    .dataframe thead th {\n",
              "        text-align: right;\n",
              "    }\n",
              "</style>\n",
              "<table border=\"1\" class=\"dataframe\">\n",
              "  <thead>\n",
              "    <tr style=\"text-align: right;\">\n",
              "      <th></th>\n",
              "      <th>country_code</th>\n",
              "      <th>difference_amount</th>\n",
              "    </tr>\n",
              "  </thead>\n",
              "  <tbody>\n",
              "    <tr>\n",
              "      <th>0</th>\n",
              "      <td>AD</td>\n",
              "      <td>1.011905e+02</td>\n",
              "    </tr>\n",
              "    <tr>\n",
              "      <th>1</th>\n",
              "      <td>AE</td>\n",
              "      <td>1.010487e+05</td>\n",
              "    </tr>\n",
              "    <tr>\n",
              "      <th>2</th>\n",
              "      <td>AF</td>\n",
              "      <td>-1.961394e+06</td>\n",
              "    </tr>\n",
              "    <tr>\n",
              "      <th>3</th>\n",
              "      <td>AI</td>\n",
              "      <td>2.968750e+01</td>\n",
              "    </tr>\n",
              "    <tr>\n",
              "      <th>4</th>\n",
              "      <td>AL</td>\n",
              "      <td>-4.306160e+06</td>\n",
              "    </tr>\n",
              "    <tr>\n",
              "      <th>...</th>\n",
              "      <td>...</td>\n",
              "      <td>...</td>\n",
              "    </tr>\n",
              "    <tr>\n",
              "      <th>215</th>\n",
              "      <td>YE</td>\n",
              "      <td>-3.437538e+06</td>\n",
              "    </tr>\n",
              "    <tr>\n",
              "      <th>216</th>\n",
              "      <td>YT</td>\n",
              "      <td>6.465638e+01</td>\n",
              "    </tr>\n",
              "    <tr>\n",
              "      <th>217</th>\n",
              "      <td>ZA</td>\n",
              "      <td>-9.757102e+05</td>\n",
              "    </tr>\n",
              "    <tr>\n",
              "      <th>218</th>\n",
              "      <td>ZM</td>\n",
              "      <td>-1.978309e+06</td>\n",
              "    </tr>\n",
              "    <tr>\n",
              "      <th>219</th>\n",
              "      <td>ZW</td>\n",
              "      <td>-5.851548e+06</td>\n",
              "    </tr>\n",
              "  </tbody>\n",
              "</table>\n",
              "<p>220 rows × 2 columns</p>\n",
              "</div>"
            ],
            "text/plain": [
              "    country_code  difference_amount\n",
              "0             AD       1.011905e+02\n",
              "1             AE       1.010487e+05\n",
              "2             AF      -1.961394e+06\n",
              "3             AI       2.968750e+01\n",
              "4             AL      -4.306160e+06\n",
              "..           ...                ...\n",
              "215           YE      -3.437538e+06\n",
              "216           YT       6.465638e+01\n",
              "217           ZA      -9.757102e+05\n",
              "218           ZM      -1.978309e+06\n",
              "219           ZW      -5.851548e+06\n",
              "\n",
              "[220 rows x 2 columns]"
            ]
          },
          "metadata": {
            "tags": []
          },
          "execution_count": 69
        }
      ]
    },
    {
      "cell_type": "markdown",
      "metadata": {
        "id": "LditlrnLJuRW",
        "colab_type": "text"
      },
      "source": [
        "In questo modo, abbiamo risolto il problema per tutti gli stati che avevano solo prestato o preso a prestito."
      ]
    },
    {
      "cell_type": "markdown",
      "metadata": {
        "id": "OS5ECfqFHibh",
        "colab_type": "text"
      },
      "source": [
        "# 10- Which country has the highest ratio between the difference computed at the previous point and the population?\n"
      ]
    },
    {
      "cell_type": "code",
      "metadata": {
        "id": "QYS-m6rWHibi",
        "colab_type": "code",
        "colab": {}
      },
      "source": [
        "country=pd.read_csv('/content/drive/My Drive/CS Project/Kiva_Dataset/country_stats.csv')"
      ],
      "execution_count": 0,
      "outputs": []
    },
    {
      "cell_type": "code",
      "metadata": {
        "id": "P65elO_gqamn",
        "colab_type": "code",
        "outputId": "edd0c7c7-2fc7-4b2c-99ca-077128b044be",
        "colab": {
          "base_uri": "https://localhost:8080/",
          "height": 592
        }
      },
      "source": [
        "country"
      ],
      "execution_count": 71,
      "outputs": [
        {
          "output_type": "execute_result",
          "data": {
            "text/html": [
              "<div>\n",
              "<style scoped>\n",
              "    .dataframe tbody tr th:only-of-type {\n",
              "        vertical-align: middle;\n",
              "    }\n",
              "\n",
              "    .dataframe tbody tr th {\n",
              "        vertical-align: top;\n",
              "    }\n",
              "\n",
              "    .dataframe thead th {\n",
              "        text-align: right;\n",
              "    }\n",
              "</style>\n",
              "<table border=\"1\" class=\"dataframe\">\n",
              "  <thead>\n",
              "    <tr style=\"text-align: right;\">\n",
              "      <th></th>\n",
              "      <th>country_name</th>\n",
              "      <th>country_code</th>\n",
              "      <th>country_code3</th>\n",
              "      <th>continent</th>\n",
              "      <th>region</th>\n",
              "      <th>population</th>\n",
              "      <th>population_below_poverty_line</th>\n",
              "      <th>hdi</th>\n",
              "      <th>life_expectancy</th>\n",
              "      <th>expected_years_of_schooling</th>\n",
              "      <th>mean_years_of_schooling</th>\n",
              "      <th>gni</th>\n",
              "      <th>kiva_country_name</th>\n",
              "    </tr>\n",
              "  </thead>\n",
              "  <tbody>\n",
              "    <tr>\n",
              "      <th>0</th>\n",
              "      <td>India</td>\n",
              "      <td>IN</td>\n",
              "      <td>IND</td>\n",
              "      <td>Asia</td>\n",
              "      <td>Southern Asia</td>\n",
              "      <td>1339180127</td>\n",
              "      <td>21.9</td>\n",
              "      <td>0.623559</td>\n",
              "      <td>68.322</td>\n",
              "      <td>11.696590</td>\n",
              "      <td>6.298834</td>\n",
              "      <td>5663.474799</td>\n",
              "      <td>India</td>\n",
              "    </tr>\n",
              "    <tr>\n",
              "      <th>1</th>\n",
              "      <td>Nigeria</td>\n",
              "      <td>NG</td>\n",
              "      <td>NGA</td>\n",
              "      <td>Africa</td>\n",
              "      <td>Western Africa</td>\n",
              "      <td>190886311</td>\n",
              "      <td>70.0</td>\n",
              "      <td>0.527105</td>\n",
              "      <td>53.057</td>\n",
              "      <td>9.970482</td>\n",
              "      <td>6.000000</td>\n",
              "      <td>5442.901264</td>\n",
              "      <td>Nigeria</td>\n",
              "    </tr>\n",
              "    <tr>\n",
              "      <th>2</th>\n",
              "      <td>Mexico</td>\n",
              "      <td>MX</td>\n",
              "      <td>MEX</td>\n",
              "      <td>Americas</td>\n",
              "      <td>Central America</td>\n",
              "      <td>129163276</td>\n",
              "      <td>46.2</td>\n",
              "      <td>0.761683</td>\n",
              "      <td>76.972</td>\n",
              "      <td>13.299090</td>\n",
              "      <td>8.554985</td>\n",
              "      <td>16383.106680</td>\n",
              "      <td>Mexico</td>\n",
              "    </tr>\n",
              "    <tr>\n",
              "      <th>3</th>\n",
              "      <td>Pakistan</td>\n",
              "      <td>PK</td>\n",
              "      <td>PAK</td>\n",
              "      <td>Asia</td>\n",
              "      <td>Southern Asia</td>\n",
              "      <td>197015955</td>\n",
              "      <td>29.5</td>\n",
              "      <td>0.550354</td>\n",
              "      <td>66.365</td>\n",
              "      <td>8.106910</td>\n",
              "      <td>5.089460</td>\n",
              "      <td>5031.173074</td>\n",
              "      <td>Pakistan</td>\n",
              "    </tr>\n",
              "    <tr>\n",
              "      <th>4</th>\n",
              "      <td>Bangladesh</td>\n",
              "      <td>BD</td>\n",
              "      <td>BGD</td>\n",
              "      <td>Asia</td>\n",
              "      <td>Southern Asia</td>\n",
              "      <td>164669751</td>\n",
              "      <td>31.5</td>\n",
              "      <td>0.578824</td>\n",
              "      <td>71.985</td>\n",
              "      <td>10.178706</td>\n",
              "      <td>5.241577</td>\n",
              "      <td>3341.490722</td>\n",
              "      <td>Bangladesh</td>\n",
              "    </tr>\n",
              "    <tr>\n",
              "      <th>...</th>\n",
              "      <td>...</td>\n",
              "      <td>...</td>\n",
              "      <td>...</td>\n",
              "      <td>...</td>\n",
              "      <td>...</td>\n",
              "      <td>...</td>\n",
              "      <td>...</td>\n",
              "      <td>...</td>\n",
              "      <td>...</td>\n",
              "      <td>...</td>\n",
              "      <td>...</td>\n",
              "      <td>...</td>\n",
              "      <td>...</td>\n",
              "    </tr>\n",
              "    <tr>\n",
              "      <th>169</th>\n",
              "      <td>Somalia</td>\n",
              "      <td>SO</td>\n",
              "      <td>SOM</td>\n",
              "      <td>Africa</td>\n",
              "      <td>Eastern Africa</td>\n",
              "      <td>14742523</td>\n",
              "      <td>NaN</td>\n",
              "      <td>NaN</td>\n",
              "      <td>NaN</td>\n",
              "      <td>NaN</td>\n",
              "      <td>NaN</td>\n",
              "      <td>NaN</td>\n",
              "      <td>Somalia</td>\n",
              "    </tr>\n",
              "    <tr>\n",
              "      <th>170</th>\n",
              "      <td>Central African Republic</td>\n",
              "      <td>CF</td>\n",
              "      <td>CAF</td>\n",
              "      <td>Africa</td>\n",
              "      <td>Middle Africa</td>\n",
              "      <td>4659080</td>\n",
              "      <td>NaN</td>\n",
              "      <td>0.352440</td>\n",
              "      <td>51.458</td>\n",
              "      <td>7.098980</td>\n",
              "      <td>4.230000</td>\n",
              "      <td>587.473961</td>\n",
              "      <td>Central African Republic</td>\n",
              "    </tr>\n",
              "    <tr>\n",
              "      <th>171</th>\n",
              "      <td>Samoa</td>\n",
              "      <td>WS</td>\n",
              "      <td>WSM</td>\n",
              "      <td>Oceania</td>\n",
              "      <td>Polynesia</td>\n",
              "      <td>196440</td>\n",
              "      <td>NaN</td>\n",
              "      <td>0.702000</td>\n",
              "      <td>NaN</td>\n",
              "      <td>NaN</td>\n",
              "      <td>NaN</td>\n",
              "      <td>NaN</td>\n",
              "      <td>Samoa</td>\n",
              "    </tr>\n",
              "    <tr>\n",
              "      <th>172</th>\n",
              "      <td>Palestine</td>\n",
              "      <td>PS</td>\n",
              "      <td>PS</td>\n",
              "      <td>Asia</td>\n",
              "      <td>Western Asia</td>\n",
              "      <td>4920724</td>\n",
              "      <td>NaN</td>\n",
              "      <td>0.677000</td>\n",
              "      <td>NaN</td>\n",
              "      <td>NaN</td>\n",
              "      <td>NaN</td>\n",
              "      <td>NaN</td>\n",
              "      <td>Palestine</td>\n",
              "    </tr>\n",
              "    <tr>\n",
              "      <th>173</th>\n",
              "      <td>Kosovo</td>\n",
              "      <td>XK</td>\n",
              "      <td>NaN</td>\n",
              "      <td>Europe</td>\n",
              "      <td>Southern Europe</td>\n",
              "      <td>1895250</td>\n",
              "      <td>30.0</td>\n",
              "      <td>0.786000</td>\n",
              "      <td>NaN</td>\n",
              "      <td>NaN</td>\n",
              "      <td>NaN</td>\n",
              "      <td>NaN</td>\n",
              "      <td>Kosovo</td>\n",
              "    </tr>\n",
              "  </tbody>\n",
              "</table>\n",
              "<p>174 rows × 13 columns</p>\n",
              "</div>"
            ],
            "text/plain": [
              "                 country_name  ...         kiva_country_name\n",
              "0                       India  ...                     India\n",
              "1                     Nigeria  ...                   Nigeria\n",
              "2                      Mexico  ...                    Mexico\n",
              "3                    Pakistan  ...                  Pakistan\n",
              "4                  Bangladesh  ...                Bangladesh\n",
              "..                        ...  ...                       ...\n",
              "169                   Somalia  ...                   Somalia\n",
              "170  Central African Republic  ...  Central African Republic\n",
              "171                     Samoa  ...                     Samoa\n",
              "172                 Palestine  ...                 Palestine\n",
              "173                    Kosovo  ...                    Kosovo\n",
              "\n",
              "[174 rows x 13 columns]"
            ]
          },
          "metadata": {
            "tags": []
          },
          "execution_count": 71
        }
      ]
    },
    {
      "cell_type": "code",
      "metadata": {
        "id": "aVOsKq89NOZs",
        "colab_type": "code",
        "colab": {}
      },
      "source": [
        "ratio=pd.merge(country,difference,on='country_code')[['country_code','difference_amount','population','population_below_poverty_line']]"
      ],
      "execution_count": 0,
      "outputs": []
    },
    {
      "cell_type": "code",
      "metadata": {
        "id": "pFcXI6iVNtHr",
        "colab_type": "code",
        "outputId": "bf2da0b3-1fbb-415e-b2a7-370deb40443f",
        "colab": {
          "base_uri": "https://localhost:8080/",
          "height": 204
        }
      },
      "source": [
        "ratio.head()"
      ],
      "execution_count": 73,
      "outputs": [
        {
          "output_type": "execute_result",
          "data": {
            "text/html": [
              "<div>\n",
              "<style scoped>\n",
              "    .dataframe tbody tr th:only-of-type {\n",
              "        vertical-align: middle;\n",
              "    }\n",
              "\n",
              "    .dataframe tbody tr th {\n",
              "        vertical-align: top;\n",
              "    }\n",
              "\n",
              "    .dataframe thead th {\n",
              "        text-align: right;\n",
              "    }\n",
              "</style>\n",
              "<table border=\"1\" class=\"dataframe\">\n",
              "  <thead>\n",
              "    <tr style=\"text-align: right;\">\n",
              "      <th></th>\n",
              "      <th>country_code</th>\n",
              "      <th>difference_amount</th>\n",
              "      <th>population</th>\n",
              "      <th>population_below_poverty_line</th>\n",
              "    </tr>\n",
              "  </thead>\n",
              "  <tbody>\n",
              "    <tr>\n",
              "      <th>0</th>\n",
              "      <td>IN</td>\n",
              "      <td>-8.862555e+06</td>\n",
              "      <td>1339180127</td>\n",
              "      <td>21.9</td>\n",
              "    </tr>\n",
              "    <tr>\n",
              "      <th>1</th>\n",
              "      <td>NG</td>\n",
              "      <td>-7.741916e+06</td>\n",
              "      <td>190886311</td>\n",
              "      <td>70.0</td>\n",
              "    </tr>\n",
              "    <tr>\n",
              "      <th>2</th>\n",
              "      <td>MX</td>\n",
              "      <td>-2.504378e+07</td>\n",
              "      <td>129163276</td>\n",
              "      <td>46.2</td>\n",
              "    </tr>\n",
              "    <tr>\n",
              "      <th>3</th>\n",
              "      <td>PK</td>\n",
              "      <td>-2.497789e+07</td>\n",
              "      <td>197015955</td>\n",
              "      <td>29.5</td>\n",
              "    </tr>\n",
              "    <tr>\n",
              "      <th>4</th>\n",
              "      <td>BD</td>\n",
              "      <td>1.286030e+04</td>\n",
              "      <td>164669751</td>\n",
              "      <td>31.5</td>\n",
              "    </tr>\n",
              "  </tbody>\n",
              "</table>\n",
              "</div>"
            ],
            "text/plain": [
              "  country_code  difference_amount  population  population_below_poverty_line\n",
              "0           IN      -8.862555e+06  1339180127                           21.9\n",
              "1           NG      -7.741916e+06   190886311                           70.0\n",
              "2           MX      -2.504378e+07   129163276                           46.2\n",
              "3           PK      -2.497789e+07   197015955                           29.5\n",
              "4           BD       1.286030e+04   164669751                           31.5"
            ]
          },
          "metadata": {
            "tags": []
          },
          "execution_count": 73
        }
      ]
    },
    {
      "cell_type": "code",
      "metadata": {
        "id": "3x4fehUdqauh",
        "colab_type": "code",
        "outputId": "5a3a5e1e-8465-4bcd-8f28-9ccbef933b9b",
        "colab": {
          "base_uri": "https://localhost:8080/",
          "height": 419
        }
      },
      "source": [
        "ratio['ratio1']=ratio['difference_amount']/ratio['population']\n",
        "ratio=ratio.sort_values(by='ratio1', ascending=False)\n",
        "ratio[['country_code','ratio1']]"
      ],
      "execution_count": 74,
      "outputs": [
        {
          "output_type": "execute_result",
          "data": {
            "text/html": [
              "<div>\n",
              "<style scoped>\n",
              "    .dataframe tbody tr th:only-of-type {\n",
              "        vertical-align: middle;\n",
              "    }\n",
              "\n",
              "    .dataframe tbody tr th {\n",
              "        vertical-align: top;\n",
              "    }\n",
              "\n",
              "    .dataframe thead th {\n",
              "        text-align: right;\n",
              "    }\n",
              "</style>\n",
              "<table border=\"1\" class=\"dataframe\">\n",
              "  <thead>\n",
              "    <tr style=\"text-align: right;\">\n",
              "      <th></th>\n",
              "      <th>country_code</th>\n",
              "      <th>ratio1</th>\n",
              "    </tr>\n",
              "  </thead>\n",
              "  <tbody>\n",
              "    <tr>\n",
              "      <th>154</th>\n",
              "      <td>LU</td>\n",
              "      <td>0.227167</td>\n",
              "    </tr>\n",
              "    <tr>\n",
              "      <th>156</th>\n",
              "      <td>NO</td>\n",
              "      <td>0.178351</td>\n",
              "    </tr>\n",
              "    <tr>\n",
              "      <th>72</th>\n",
              "      <td>CA</td>\n",
              "      <td>0.155486</td>\n",
              "    </tr>\n",
              "    <tr>\n",
              "      <th>146</th>\n",
              "      <td>AU</td>\n",
              "      <td>0.128979</td>\n",
              "    </tr>\n",
              "    <tr>\n",
              "      <th>152</th>\n",
              "      <td>IS</td>\n",
              "      <td>0.107300</td>\n",
              "    </tr>\n",
              "    <tr>\n",
              "      <th>...</th>\n",
              "      <td>...</td>\n",
              "      <td>...</td>\n",
              "    </tr>\n",
              "    <tr>\n",
              "      <th>116</th>\n",
              "      <td>MN</td>\n",
              "      <td>-4.988573</td>\n",
              "    </tr>\n",
              "    <tr>\n",
              "      <th>82</th>\n",
              "      <td>SV</td>\n",
              "      <td>-6.536562</td>\n",
              "    </tr>\n",
              "    <tr>\n",
              "      <th>108</th>\n",
              "      <td>AM</td>\n",
              "      <td>-7.830867</td>\n",
              "    </tr>\n",
              "    <tr>\n",
              "      <th>93</th>\n",
              "      <td>PY</td>\n",
              "      <td>-7.922696</td>\n",
              "    </tr>\n",
              "    <tr>\n",
              "      <th>164</th>\n",
              "      <td>WS</td>\n",
              "      <td>-62.163364</td>\n",
              "    </tr>\n",
              "  </tbody>\n",
              "</table>\n",
              "<p>167 rows × 2 columns</p>\n",
              "</div>"
            ],
            "text/plain": [
              "    country_code     ratio1\n",
              "154           LU   0.227167\n",
              "156           NO   0.178351\n",
              "72            CA   0.155486\n",
              "146           AU   0.128979\n",
              "152           IS   0.107300\n",
              "..           ...        ...\n",
              "116           MN  -4.988573\n",
              "82            SV  -6.536562\n",
              "108           AM  -7.830867\n",
              "93            PY  -7.922696\n",
              "164           WS -62.163364\n",
              "\n",
              "[167 rows x 2 columns]"
            ]
          },
          "metadata": {
            "tags": []
          },
          "execution_count": 74
        }
      ]
    },
    {
      "cell_type": "markdown",
      "metadata": {
        "id": "APgblcsi9TnH",
        "colab_type": "text"
      },
      "source": [
        "Il Lussemburgo è il paese con il rapporto maggiore."
      ]
    },
    {
      "cell_type": "markdown",
      "metadata": {
        "id": "P5Xnh11lHibj",
        "colab_type": "text"
      },
      "source": [
        "# 11- Which country has the highest ratio between the difference computed at point 9 and the population that is not below the poverty line?"
      ]
    },
    {
      "cell_type": "code",
      "metadata": {
        "id": "-1zN7f-TtXSO",
        "colab_type": "code",
        "outputId": "11d71937-3e88-454a-cba1-b480d689e8c6",
        "colab": {
          "base_uri": "https://localhost:8080/",
          "height": 309
        }
      },
      "source": [
        "country.head()"
      ],
      "execution_count": 75,
      "outputs": [
        {
          "output_type": "execute_result",
          "data": {
            "text/html": [
              "<div>\n",
              "<style scoped>\n",
              "    .dataframe tbody tr th:only-of-type {\n",
              "        vertical-align: middle;\n",
              "    }\n",
              "\n",
              "    .dataframe tbody tr th {\n",
              "        vertical-align: top;\n",
              "    }\n",
              "\n",
              "    .dataframe thead th {\n",
              "        text-align: right;\n",
              "    }\n",
              "</style>\n",
              "<table border=\"1\" class=\"dataframe\">\n",
              "  <thead>\n",
              "    <tr style=\"text-align: right;\">\n",
              "      <th></th>\n",
              "      <th>country_name</th>\n",
              "      <th>country_code</th>\n",
              "      <th>country_code3</th>\n",
              "      <th>continent</th>\n",
              "      <th>region</th>\n",
              "      <th>population</th>\n",
              "      <th>population_below_poverty_line</th>\n",
              "      <th>hdi</th>\n",
              "      <th>life_expectancy</th>\n",
              "      <th>expected_years_of_schooling</th>\n",
              "      <th>mean_years_of_schooling</th>\n",
              "      <th>gni</th>\n",
              "      <th>kiva_country_name</th>\n",
              "    </tr>\n",
              "  </thead>\n",
              "  <tbody>\n",
              "    <tr>\n",
              "      <th>0</th>\n",
              "      <td>India</td>\n",
              "      <td>IN</td>\n",
              "      <td>IND</td>\n",
              "      <td>Asia</td>\n",
              "      <td>Southern Asia</td>\n",
              "      <td>1339180127</td>\n",
              "      <td>21.9</td>\n",
              "      <td>0.623559</td>\n",
              "      <td>68.322</td>\n",
              "      <td>11.696590</td>\n",
              "      <td>6.298834</td>\n",
              "      <td>5663.474799</td>\n",
              "      <td>India</td>\n",
              "    </tr>\n",
              "    <tr>\n",
              "      <th>1</th>\n",
              "      <td>Nigeria</td>\n",
              "      <td>NG</td>\n",
              "      <td>NGA</td>\n",
              "      <td>Africa</td>\n",
              "      <td>Western Africa</td>\n",
              "      <td>190886311</td>\n",
              "      <td>70.0</td>\n",
              "      <td>0.527105</td>\n",
              "      <td>53.057</td>\n",
              "      <td>9.970482</td>\n",
              "      <td>6.000000</td>\n",
              "      <td>5442.901264</td>\n",
              "      <td>Nigeria</td>\n",
              "    </tr>\n",
              "    <tr>\n",
              "      <th>2</th>\n",
              "      <td>Mexico</td>\n",
              "      <td>MX</td>\n",
              "      <td>MEX</td>\n",
              "      <td>Americas</td>\n",
              "      <td>Central America</td>\n",
              "      <td>129163276</td>\n",
              "      <td>46.2</td>\n",
              "      <td>0.761683</td>\n",
              "      <td>76.972</td>\n",
              "      <td>13.299090</td>\n",
              "      <td>8.554985</td>\n",
              "      <td>16383.106680</td>\n",
              "      <td>Mexico</td>\n",
              "    </tr>\n",
              "    <tr>\n",
              "      <th>3</th>\n",
              "      <td>Pakistan</td>\n",
              "      <td>PK</td>\n",
              "      <td>PAK</td>\n",
              "      <td>Asia</td>\n",
              "      <td>Southern Asia</td>\n",
              "      <td>197015955</td>\n",
              "      <td>29.5</td>\n",
              "      <td>0.550354</td>\n",
              "      <td>66.365</td>\n",
              "      <td>8.106910</td>\n",
              "      <td>5.089460</td>\n",
              "      <td>5031.173074</td>\n",
              "      <td>Pakistan</td>\n",
              "    </tr>\n",
              "    <tr>\n",
              "      <th>4</th>\n",
              "      <td>Bangladesh</td>\n",
              "      <td>BD</td>\n",
              "      <td>BGD</td>\n",
              "      <td>Asia</td>\n",
              "      <td>Southern Asia</td>\n",
              "      <td>164669751</td>\n",
              "      <td>31.5</td>\n",
              "      <td>0.578824</td>\n",
              "      <td>71.985</td>\n",
              "      <td>10.178706</td>\n",
              "      <td>5.241577</td>\n",
              "      <td>3341.490722</td>\n",
              "      <td>Bangladesh</td>\n",
              "    </tr>\n",
              "  </tbody>\n",
              "</table>\n",
              "</div>"
            ],
            "text/plain": [
              "  country_name country_code  ...           gni kiva_country_name\n",
              "0        India           IN  ...   5663.474799             India\n",
              "1      Nigeria           NG  ...   5442.901264           Nigeria\n",
              "2       Mexico           MX  ...  16383.106680            Mexico\n",
              "3     Pakistan           PK  ...   5031.173074          Pakistan\n",
              "4   Bangladesh           BD  ...   3341.490722        Bangladesh\n",
              "\n",
              "[5 rows x 13 columns]"
            ]
          },
          "metadata": {
            "tags": []
          },
          "execution_count": 75
        }
      ]
    },
    {
      "cell_type": "code",
      "metadata": {
        "id": "2IqOsuYQtcvG",
        "colab_type": "code",
        "colab": {}
      },
      "source": [
        "country['population_not_poor']=country['population']-(country['population_below_poverty_line']*country['population']/100)"
      ],
      "execution_count": 0,
      "outputs": []
    },
    {
      "cell_type": "code",
      "metadata": {
        "id": "FBCSWL-xPMLn",
        "colab_type": "code",
        "outputId": "27c4d9d0-bd5e-443a-d50e-4f725b9a2151",
        "colab": {
          "base_uri": "https://localhost:8080/",
          "height": 419
        }
      },
      "source": [
        "ratio['ratio2']=ratio['difference_amount']/country['population_not_poor']\n",
        "ratio=ratio.sort_values(by='ratio2', ascending=False)\n",
        "ratio[['country_code','ratio2']]"
      ],
      "execution_count": 77,
      "outputs": [
        {
          "output_type": "execute_result",
          "data": {
            "text/html": [
              "<div>\n",
              "<style scoped>\n",
              "    .dataframe tbody tr th:only-of-type {\n",
              "        vertical-align: middle;\n",
              "    }\n",
              "\n",
              "    .dataframe tbody tr th {\n",
              "        vertical-align: top;\n",
              "    }\n",
              "\n",
              "    .dataframe thead th {\n",
              "        text-align: right;\n",
              "    }\n",
              "</style>\n",
              "<table border=\"1\" class=\"dataframe\">\n",
              "  <thead>\n",
              "    <tr style=\"text-align: right;\">\n",
              "      <th></th>\n",
              "      <th>country_code</th>\n",
              "      <th>ratio2</th>\n",
              "    </tr>\n",
              "  </thead>\n",
              "  <tbody>\n",
              "    <tr>\n",
              "      <th>146</th>\n",
              "      <td>AU</td>\n",
              "      <td>2.709463</td>\n",
              "    </tr>\n",
              "    <tr>\n",
              "      <th>132</th>\n",
              "      <td>AT</td>\n",
              "      <td>0.813652</td>\n",
              "    </tr>\n",
              "    <tr>\n",
              "      <th>119</th>\n",
              "      <td>CH</td>\n",
              "      <td>0.222593</td>\n",
              "    </tr>\n",
              "    <tr>\n",
              "      <th>72</th>\n",
              "      <td>CA</td>\n",
              "      <td>0.171618</td>\n",
              "    </tr>\n",
              "    <tr>\n",
              "      <th>103</th>\n",
              "      <td>MY</td>\n",
              "      <td>0.149837</td>\n",
              "    </tr>\n",
              "    <tr>\n",
              "      <th>...</th>\n",
              "      <td>...</td>\n",
              "      <td>...</td>\n",
              "    </tr>\n",
              "    <tr>\n",
              "      <th>158</th>\n",
              "      <td>PR</td>\n",
              "      <td>NaN</td>\n",
              "    </tr>\n",
              "    <tr>\n",
              "      <th>162</th>\n",
              "      <td>SB</td>\n",
              "      <td>NaN</td>\n",
              "    </tr>\n",
              "    <tr>\n",
              "      <th>166</th>\n",
              "      <td>XK</td>\n",
              "      <td>NaN</td>\n",
              "    </tr>\n",
              "    <tr>\n",
              "      <th>165</th>\n",
              "      <td>PS</td>\n",
              "      <td>NaN</td>\n",
              "    </tr>\n",
              "    <tr>\n",
              "      <th>164</th>\n",
              "      <td>WS</td>\n",
              "      <td>NaN</td>\n",
              "    </tr>\n",
              "  </tbody>\n",
              "</table>\n",
              "<p>167 rows × 2 columns</p>\n",
              "</div>"
            ],
            "text/plain": [
              "    country_code    ratio2\n",
              "146           AU  2.709463\n",
              "132           AT  0.813652\n",
              "119           CH  0.222593\n",
              "72            CA  0.171618\n",
              "103           MY  0.149837\n",
              "..           ...       ...\n",
              "158           PR       NaN\n",
              "162           SB       NaN\n",
              "166           XK       NaN\n",
              "165           PS       NaN\n",
              "164           WS       NaN\n",
              "\n",
              "[167 rows x 2 columns]"
            ]
          },
          "metadata": {
            "tags": []
          },
          "execution_count": 77
        }
      ]
    },
    {
      "cell_type": "markdown",
      "metadata": {
        "id": "1lKkE4dMHibj",
        "colab_type": "text"
      },
      "source": [
        "# 12- For each year, compute the total amount of loans. Each loan that has planned expiration time and disburse time in different years must have its amount distributed proportionally to the number of days in each year. For example, a loan with disburse time December 1st, 2016, planned expiration time January 30th 2018, and amount 5000USD has an amount of 5000USD * 31 / (31+365+30) = 363.85 for 2016, 5000USD * 365 / (31+365+30) = 4284.04 for 2017, and 5000USD * 30 / (31+365+30) = 352.11 for 2018."
      ]
    },
    {
      "cell_type": "code",
      "metadata": {
        "id": "qiVEepeHHibj",
        "colab_type": "code",
        "outputId": "01076cb7-831c-4097-99ee-eaa7a9c24f28",
        "colab": {
          "base_uri": "https://localhost:8080/",
          "height": 581
        }
      },
      "source": [
        "loans.head()"
      ],
      "execution_count": 78,
      "outputs": [
        {
          "output_type": "execute_result",
          "data": {
            "text/html": [
              "<div>\n",
              "<style scoped>\n",
              "    .dataframe tbody tr th:only-of-type {\n",
              "        vertical-align: middle;\n",
              "    }\n",
              "\n",
              "    .dataframe tbody tr th {\n",
              "        vertical-align: top;\n",
              "    }\n",
              "\n",
              "    .dataframe thead th {\n",
              "        text-align: right;\n",
              "    }\n",
              "</style>\n",
              "<table border=\"1\" class=\"dataframe\">\n",
              "  <thead>\n",
              "    <tr style=\"text-align: right;\">\n",
              "      <th></th>\n",
              "      <th>loan_id</th>\n",
              "      <th>loan_name</th>\n",
              "      <th>original_language</th>\n",
              "      <th>description</th>\n",
              "      <th>description_translated</th>\n",
              "      <th>funded_amount</th>\n",
              "      <th>loan_amount</th>\n",
              "      <th>status</th>\n",
              "      <th>activity_name</th>\n",
              "      <th>sector_name</th>\n",
              "      <th>loan_use</th>\n",
              "      <th>country_code</th>\n",
              "      <th>country_name</th>\n",
              "      <th>town_name</th>\n",
              "      <th>currency_policy</th>\n",
              "      <th>currency_exchange_coverage_rate</th>\n",
              "      <th>currency</th>\n",
              "      <th>partner_id</th>\n",
              "      <th>posted_time</th>\n",
              "      <th>planned_expiration_time</th>\n",
              "      <th>disburse_time</th>\n",
              "      <th>raised_time</th>\n",
              "      <th>lender_term</th>\n",
              "      <th>num_lenders_total</th>\n",
              "      <th>num_journal_entries</th>\n",
              "      <th>num_bulk_entries</th>\n",
              "      <th>tags</th>\n",
              "      <th>borrower_genders</th>\n",
              "      <th>borrower_pictured</th>\n",
              "      <th>repayment_interval</th>\n",
              "      <th>distribution_model</th>\n",
              "      <th>loans_duration</th>\n",
              "      <th>disburse_years</th>\n",
              "    </tr>\n",
              "  </thead>\n",
              "  <tbody>\n",
              "    <tr>\n",
              "      <th>0</th>\n",
              "      <td>657307</td>\n",
              "      <td>Aivy</td>\n",
              "      <td>English</td>\n",
              "      <td>Aivy, 21 years of age, is single and lives in ...</td>\n",
              "      <td>NaN</td>\n",
              "      <td>125.0</td>\n",
              "      <td>125.0</td>\n",
              "      <td>funded</td>\n",
              "      <td>General Store</td>\n",
              "      <td>Retail</td>\n",
              "      <td>to buy additional inventories for her sari-sa...</td>\n",
              "      <td>PH</td>\n",
              "      <td>Philippines</td>\n",
              "      <td>Ozamiz - Ozamiz City</td>\n",
              "      <td>shared</td>\n",
              "      <td>0.1</td>\n",
              "      <td>PHP</td>\n",
              "      <td>126.0</td>\n",
              "      <td>2014-01-15 02:23:45.000 +0000</td>\n",
              "      <td>2014-02-14 03:30:06+00:00</td>\n",
              "      <td>2013-12-22 08:00:00+00:00</td>\n",
              "      <td>2014-01-15 04:48:22.000 +0000</td>\n",
              "      <td>7.0</td>\n",
              "      <td>3</td>\n",
              "      <td>2</td>\n",
              "      <td>1</td>\n",
              "      <td>NaN</td>\n",
              "      <td>female</td>\n",
              "      <td>true</td>\n",
              "      <td>irregular</td>\n",
              "      <td>field_partner</td>\n",
              "      <td>53 days 19:30:06</td>\n",
              "      <td>2013.0</td>\n",
              "    </tr>\n",
              "    <tr>\n",
              "      <th>1</th>\n",
              "      <td>657259</td>\n",
              "      <td>Idalia Marizza</td>\n",
              "      <td>Spanish</td>\n",
              "      <td>Doña Idalia, esta casada, tiene 57 años de eda...</td>\n",
              "      <td>Idalia, 57, is married and lives with her husb...</td>\n",
              "      <td>400.0</td>\n",
              "      <td>400.0</td>\n",
              "      <td>funded</td>\n",
              "      <td>Used Clothing</td>\n",
              "      <td>Clothing</td>\n",
              "      <td>To buy American clothing such as blouses, shir...</td>\n",
              "      <td>HN</td>\n",
              "      <td>Honduras</td>\n",
              "      <td>La Lopez, Choloma</td>\n",
              "      <td>shared</td>\n",
              "      <td>0.1</td>\n",
              "      <td>HNL</td>\n",
              "      <td>201.0</td>\n",
              "      <td>2014-01-14 20:23:20.000 +0000</td>\n",
              "      <td>2014-03-26 22:25:07+00:00</td>\n",
              "      <td>2013-12-20 08:00:00+00:00</td>\n",
              "      <td>2014-02-25 06:42:06.000 +0000</td>\n",
              "      <td>8.0</td>\n",
              "      <td>11</td>\n",
              "      <td>2</td>\n",
              "      <td>1</td>\n",
              "      <td>NaN</td>\n",
              "      <td>female</td>\n",
              "      <td>true</td>\n",
              "      <td>monthly</td>\n",
              "      <td>field_partner</td>\n",
              "      <td>96 days 14:25:07</td>\n",
              "      <td>2013.0</td>\n",
              "    </tr>\n",
              "    <tr>\n",
              "      <th>2</th>\n",
              "      <td>658010</td>\n",
              "      <td>Aasia</td>\n",
              "      <td>English</td>\n",
              "      <td>Aasia is a 45-year-old married lady and she ha...</td>\n",
              "      <td>NaN</td>\n",
              "      <td>400.0</td>\n",
              "      <td>400.0</td>\n",
              "      <td>funded</td>\n",
              "      <td>General Store</td>\n",
              "      <td>Retail</td>\n",
              "      <td>to buy stock of rice, sugar and flour</td>\n",
              "      <td>PK</td>\n",
              "      <td>Pakistan</td>\n",
              "      <td>Lala Musa</td>\n",
              "      <td>shared</td>\n",
              "      <td>0.1</td>\n",
              "      <td>PKR</td>\n",
              "      <td>245.0</td>\n",
              "      <td>2014-01-16 11:32:58.000 +0000</td>\n",
              "      <td>2014-02-15 21:10:05+00:00</td>\n",
              "      <td>2014-01-09 08:00:00+00:00</td>\n",
              "      <td>2014-01-24 23:06:18.000 +0000</td>\n",
              "      <td>14.0</td>\n",
              "      <td>16</td>\n",
              "      <td>2</td>\n",
              "      <td>1</td>\n",
              "      <td>#Woman Owned Biz, #Supporting Family, user_fav...</td>\n",
              "      <td>female</td>\n",
              "      <td>true</td>\n",
              "      <td>monthly</td>\n",
              "      <td>field_partner</td>\n",
              "      <td>37 days 13:10:05</td>\n",
              "      <td>2014.0</td>\n",
              "    </tr>\n",
              "    <tr>\n",
              "      <th>3</th>\n",
              "      <td>659347</td>\n",
              "      <td>Gulmira</td>\n",
              "      <td>Russian</td>\n",
              "      <td>Гулмире 36 лет, замужем, вместе с супругом вос...</td>\n",
              "      <td>Gulmira is 36 years old and married.  She and ...</td>\n",
              "      <td>625.0</td>\n",
              "      <td>625.0</td>\n",
              "      <td>funded</td>\n",
              "      <td>Farming</td>\n",
              "      <td>Agriculture</td>\n",
              "      <td>to buy cucumber and tomato seeds, as well as f...</td>\n",
              "      <td>KG</td>\n",
              "      <td>Kyrgyzstan</td>\n",
              "      <td>Aravan village, Osh region</td>\n",
              "      <td>shared</td>\n",
              "      <td>0.1</td>\n",
              "      <td>KGS</td>\n",
              "      <td>171.0</td>\n",
              "      <td>2014-01-20 09:59:48.000 +0000</td>\n",
              "      <td>2014-02-21 03:10:02+00:00</td>\n",
              "      <td>2014-01-17 08:00:00+00:00</td>\n",
              "      <td>2014-01-22 05:29:28.000 +0000</td>\n",
              "      <td>14.0</td>\n",
              "      <td>21</td>\n",
              "      <td>2</td>\n",
              "      <td>1</td>\n",
              "      <td>user_favorite</td>\n",
              "      <td>female</td>\n",
              "      <td>true</td>\n",
              "      <td>monthly</td>\n",
              "      <td>field_partner</td>\n",
              "      <td>34 days 19:10:02</td>\n",
              "      <td>2014.0</td>\n",
              "    </tr>\n",
              "    <tr>\n",
              "      <th>4</th>\n",
              "      <td>656933</td>\n",
              "      <td>Ricky\\t</td>\n",
              "      <td>English</td>\n",
              "      <td>Ricky is a farmer who currently cultivates his...</td>\n",
              "      <td>NaN</td>\n",
              "      <td>425.0</td>\n",
              "      <td>425.0</td>\n",
              "      <td>funded</td>\n",
              "      <td>Farming</td>\n",
              "      <td>Agriculture</td>\n",
              "      <td>to buy organic fertilizer and agrochemical pr...</td>\n",
              "      <td>PH</td>\n",
              "      <td>Philippines</td>\n",
              "      <td>Baleleng, Sto. Thomas, Isabela</td>\n",
              "      <td>shared</td>\n",
              "      <td>0.1</td>\n",
              "      <td>PHP</td>\n",
              "      <td>123.0</td>\n",
              "      <td>2014-01-14 05:46:21.000 +0000</td>\n",
              "      <td>2014-02-13 06:10:02+00:00</td>\n",
              "      <td>2013-12-17 08:00:00+00:00</td>\n",
              "      <td>2014-01-14 17:29:27.000 +0000</td>\n",
              "      <td>7.0</td>\n",
              "      <td>15</td>\n",
              "      <td>2</td>\n",
              "      <td>1</td>\n",
              "      <td>#Animals, #Eco-friendly, #Sustainable Ag</td>\n",
              "      <td>male</td>\n",
              "      <td>true</td>\n",
              "      <td>bullet</td>\n",
              "      <td>field_partner</td>\n",
              "      <td>57 days 22:10:02</td>\n",
              "      <td>2013.0</td>\n",
              "    </tr>\n",
              "  </tbody>\n",
              "</table>\n",
              "</div>"
            ],
            "text/plain": [
              "   loan_id       loan_name  ...   loans_duration disburse_years\n",
              "0   657307            Aivy  ... 53 days 19:30:06         2013.0\n",
              "1   657259  Idalia Marizza  ... 96 days 14:25:07         2013.0\n",
              "2   658010           Aasia  ... 37 days 13:10:05         2014.0\n",
              "3   659347         Gulmira  ... 34 days 19:10:02         2014.0\n",
              "4   656933         Ricky\\t  ... 57 days 22:10:02         2013.0\n",
              "\n",
              "[5 rows x 33 columns]"
            ]
          },
          "metadata": {
            "tags": []
          },
          "execution_count": 78
        }
      ]
    },
    {
      "cell_type": "markdown",
      "metadata": {
        "id": "99stIpDKMdEh",
        "colab_type": "text"
      },
      "source": [
        "Metodo poco efficace in quanto utilizza dei dataframe per memorizzare le informazioni:"
      ]
    },
    {
      "cell_type": "code",
      "metadata": {
        "id": "WEaHASa-8iUx",
        "colab_type": "code",
        "colab": {}
      },
      "source": [
        "loans_short=loans[0:1000]"
      ],
      "execution_count": 0,
      "outputs": []
    },
    {
      "cell_type": "code",
      "metadata": {
        "id": "x691oL2yApe6",
        "colab_type": "code",
        "outputId": "df0e8cae-f36c-481f-eeec-f60d32f482a8",
        "colab": {
          "base_uri": "https://localhost:8080/",
          "height": 221
        }
      },
      "source": [
        "loans_short['disburse_time']=pd.to_datetime(loans_short['disburse_time'])\n",
        "loans_short['planned_expiration_time']=pd.to_datetime(loans_short['planned_expiration_time'])"
      ],
      "execution_count": 80,
      "outputs": [
        {
          "output_type": "stream",
          "text": [
            "/usr/local/lib/python3.6/dist-packages/ipykernel_launcher.py:1: SettingWithCopyWarning: \n",
            "A value is trying to be set on a copy of a slice from a DataFrame.\n",
            "Try using .loc[row_indexer,col_indexer] = value instead\n",
            "\n",
            "See the caveats in the documentation: http://pandas.pydata.org/pandas-docs/stable/user_guide/indexing.html#returning-a-view-versus-a-copy\n",
            "  \"\"\"Entry point for launching an IPython kernel.\n",
            "/usr/local/lib/python3.6/dist-packages/ipykernel_launcher.py:2: SettingWithCopyWarning: \n",
            "A value is trying to be set on a copy of a slice from a DataFrame.\n",
            "Try using .loc[row_indexer,col_indexer] = value instead\n",
            "\n",
            "See the caveats in the documentation: http://pandas.pydata.org/pandas-docs/stable/user_guide/indexing.html#returning-a-view-versus-a-copy\n",
            "  \n"
          ],
          "name": "stderr"
        }
      ]
    },
    {
      "cell_type": "code",
      "metadata": {
        "id": "9eGPbmDS-TZi",
        "colab_type": "code",
        "colab": {}
      },
      "source": [
        "dataframe=pd.DataFrame({'loan_id':[], 'anno':[], 'cash':[]})\n",
        "\n",
        "#Inizializzo il contatore per le righe del nuovo dataset\n",
        "k=0\n",
        "\n",
        "for i in range(0,len(loans_short)):\n",
        "  \n",
        "  loan_id=loans_short.iloc[i]['loan_id']\n",
        "  amount=loans_short.iloc[i]['loan_amount']\n",
        "  anno_inizio=loans_short.iloc[i]['disburse_time'].year\n",
        "  anno_fine=loans_short.iloc[i]['planned_expiration_time'].year\n",
        "  giorni=(loans_short.iloc[i]['planned_expiration_time']-loans_short.iloc[i]['disburse_time']).days\n",
        "  \n",
        "  # Non ha senso considerare una planned expiration time precedente alla disburse time\n",
        "  if giorni > 1:\n",
        "    if anno_inizio==anno_fine:\n",
        "      dataframe.loc[k]=[loan_id,anno_inizio,amount]\n",
        "      k+=1\n",
        "\n",
        "    #Eseguo il calcolo per i loans aperti e chiusi in anni differenti\n",
        "    else:\n",
        "      #Creo una lista con tutti gli anni.\n",
        "      anni=list(range(anno_inizio,anno_fine+1))  \n",
        "    \n",
        "      righe=len(anni)\n",
        "      indice_righe=list(range(k,k+righe+1))\n",
        "\n",
        "      #Primo anno\n",
        "      anno=anni[0]\n",
        "      n=365-pd.to_datetime(loans_short['disburse_time'][i]).dayofyear\n",
        "      cash=(n*amount)/giorni\n",
        "      dataframe.loc[indice_righe[0]]=[loan_id,anno,cash]\n",
        "\n",
        "      #Anni centrali\n",
        "      for l in range(1,len(anni)-1):\n",
        "        anno=anni[l]\n",
        "        cash=(365*amount)/giorni\n",
        "        dataframe.loc[indice_righe[l]]=[loan_id,anno,cash]\n",
        "\n",
        "      #Ultimo anno\n",
        "      anno=anni[-1]\n",
        "      n=pd.to_datetime(loans_short['planned_expiration_time'][i]).dayofyear\n",
        "      cash=(n*amount)/giorni\n",
        "      dataframe.loc[indice_righe[-1]]=[loan_id,anno,cash]\n",
        "\n",
        "      k=k+righe"
      ],
      "execution_count": 0,
      "outputs": []
    },
    {
      "cell_type": "code",
      "metadata": {
        "id": "qAmtL__2-TWi",
        "colab_type": "code",
        "outputId": "e39b4551-02c7-4b91-9f71-c15c5846f202",
        "colab": {
          "base_uri": "https://localhost:8080/",
          "height": 419
        }
      },
      "source": [
        "dataframe"
      ],
      "execution_count": 82,
      "outputs": [
        {
          "output_type": "execute_result",
          "data": {
            "text/html": [
              "<div>\n",
              "<style scoped>\n",
              "    .dataframe tbody tr th:only-of-type {\n",
              "        vertical-align: middle;\n",
              "    }\n",
              "\n",
              "    .dataframe tbody tr th {\n",
              "        vertical-align: top;\n",
              "    }\n",
              "\n",
              "    .dataframe thead th {\n",
              "        text-align: right;\n",
              "    }\n",
              "</style>\n",
              "<table border=\"1\" class=\"dataframe\">\n",
              "  <thead>\n",
              "    <tr style=\"text-align: right;\">\n",
              "      <th></th>\n",
              "      <th>loan_id</th>\n",
              "      <th>anno</th>\n",
              "      <th>cash</th>\n",
              "    </tr>\n",
              "  </thead>\n",
              "  <tbody>\n",
              "    <tr>\n",
              "      <th>0</th>\n",
              "      <td>657307.0</td>\n",
              "      <td>2013.0</td>\n",
              "      <td>21.226415</td>\n",
              "    </tr>\n",
              "    <tr>\n",
              "      <th>2</th>\n",
              "      <td>657259.0</td>\n",
              "      <td>2013.0</td>\n",
              "      <td>45.833333</td>\n",
              "    </tr>\n",
              "    <tr>\n",
              "      <th>4</th>\n",
              "      <td>658010.0</td>\n",
              "      <td>2014.0</td>\n",
              "      <td>400.000000</td>\n",
              "    </tr>\n",
              "    <tr>\n",
              "      <th>5</th>\n",
              "      <td>659347.0</td>\n",
              "      <td>2014.0</td>\n",
              "      <td>625.000000</td>\n",
              "    </tr>\n",
              "    <tr>\n",
              "      <th>6</th>\n",
              "      <td>656933.0</td>\n",
              "      <td>2013.0</td>\n",
              "      <td>104.385965</td>\n",
              "    </tr>\n",
              "    <tr>\n",
              "      <th>...</th>\n",
              "      <td>...</td>\n",
              "      <td>...</td>\n",
              "      <td>...</td>\n",
              "    </tr>\n",
              "    <tr>\n",
              "      <th>1010</th>\n",
              "      <td>659317.0</td>\n",
              "      <td>2013.0</td>\n",
              "      <td>22.169811</td>\n",
              "    </tr>\n",
              "    <tr>\n",
              "      <th>1012</th>\n",
              "      <td>660410.0</td>\n",
              "      <td>2014.0</td>\n",
              "      <td>125.000000</td>\n",
              "    </tr>\n",
              "    <tr>\n",
              "      <th>1013</th>\n",
              "      <td>663077.0</td>\n",
              "      <td>2014.0</td>\n",
              "      <td>225.000000</td>\n",
              "    </tr>\n",
              "    <tr>\n",
              "      <th>1014</th>\n",
              "      <td>663849.0</td>\n",
              "      <td>2014.0</td>\n",
              "      <td>1200.000000</td>\n",
              "    </tr>\n",
              "    <tr>\n",
              "      <th>1015</th>\n",
              "      <td>663948.0</td>\n",
              "      <td>2014.0</td>\n",
              "      <td>3000.000000</td>\n",
              "    </tr>\n",
              "  </tbody>\n",
              "</table>\n",
              "<p>922 rows × 3 columns</p>\n",
              "</div>"
            ],
            "text/plain": [
              "       loan_id    anno         cash\n",
              "0     657307.0  2013.0    21.226415\n",
              "2     657259.0  2013.0    45.833333\n",
              "4     658010.0  2014.0   400.000000\n",
              "5     659347.0  2014.0   625.000000\n",
              "6     656933.0  2013.0   104.385965\n",
              "...        ...     ...          ...\n",
              "1010  659317.0  2013.0    22.169811\n",
              "1012  660410.0  2014.0   125.000000\n",
              "1013  663077.0  2014.0   225.000000\n",
              "1014  663849.0  2014.0  1200.000000\n",
              "1015  663948.0  2014.0  3000.000000\n",
              "\n",
              "[922 rows x 3 columns]"
            ]
          },
          "metadata": {
            "tags": []
          },
          "execution_count": 82
        }
      ]
    },
    {
      "cell_type": "code",
      "metadata": {
        "id": "-b6hHYD4mEEN",
        "colab_type": "code",
        "colab": {}
      },
      "source": [
        "new_dataframe=dataframe.groupby('anno')['cash'].sum()"
      ],
      "execution_count": 0,
      "outputs": []
    },
    {
      "cell_type": "code",
      "metadata": {
        "id": "CEOm0QhHng_r",
        "colab_type": "code",
        "outputId": "6565af5b-a519-46a9-c09b-72ea9b0b6475",
        "colab": {
          "base_uri": "https://localhost:8080/",
          "height": 153
        }
      },
      "source": [
        "new_dataframe"
      ],
      "execution_count": 84,
      "outputs": [
        {
          "output_type": "execute_result",
          "data": {
            "text/plain": [
              "anno\n",
              "2012.0    252775.000000\n",
              "2013.0     10901.806282\n",
              "2014.0    211475.920748\n",
              "2015.0    108225.000000\n",
              "2016.0    125124.902352\n",
              "2017.0     21025.000000\n",
              "Name: cash, dtype: float64"
            ]
          },
          "metadata": {
            "tags": []
          },
          "execution_count": 84
        }
      ]
    },
    {
      "cell_type": "markdown",
      "metadata": {
        "id": "ECzizwuEVSFi",
        "colab_type": "text"
      },
      "source": [
        "Metodo più efficace (con l'utilizzo di liste):"
      ]
    },
    {
      "cell_type": "code",
      "metadata": {
        "id": "eqRRVo10XWXJ",
        "colab_type": "code",
        "colab": {}
      },
      "source": [
        "loans['disburse_time']=pd.to_datetime(loans['disburse_time'])\n",
        "loans['planned_expiration_time']=pd.to_datetime(loans['planned_expiration_time'])"
      ],
      "execution_count": 0,
      "outputs": []
    },
    {
      "cell_type": "code",
      "metadata": {
        "id": "24zdbNKrdEhv",
        "colab_type": "code",
        "colab": {}
      },
      "source": [
        "dataframe=pd.DataFrame({'anno':[], 'cash':[]})\n",
        "lista_anni=[]\n",
        "lista_amount=[]\n",
        "\n",
        "amounts=[x for x in loans['loan_amount']]\n",
        "anni_inizio=[x.year for x in loans['disburse_time']]\n",
        "anni_fine=[x.year for x in loans['planned_expiration_time']]\n",
        "\n",
        "for i in range(0,len(loans)):\n",
        "  \n",
        "  amount=amounts[i]\n",
        "  anno_inizio=anni_inizio[i]\n",
        "  anno_fine=anni_fine[i]\n",
        "  giorni=(loans.iloc[i]['planned_expiration_time']-loans.iloc[i]['disburse_time']).days\n",
        "\n",
        "  #Non ha senso considerare una planned expiration time precedente alla disburse time\n",
        "  if giorni > 1:\n",
        "    if anno_inizio==anno_fine:\n",
        "      lista_anni.append(anno_inizio)\n",
        "      lista_amount.append(amount)\n",
        "      #Inserisco direttamente l'amount in quanto il n giorni dell'anno equivale\n",
        "      #al numero di giorni totale.\n",
        "\n",
        "    #Eseguo il calcolo per i loans aperti e chiusi in anni differenti\n",
        "    else:\n",
        "      #Creo una lista con tutti gli anni.\n",
        "      anni=list(range(anno_inizio,anno_fine+1))  \n",
        "    \n",
        "      #Primo anno\n",
        "      anno=anni[0]\n",
        "      n=365-pd.to_datetime(loans['disburse_time'][i]).dayofyear\n",
        "      cash=(n*amount)/giorni\n",
        "      lista_anni.append(anno)\n",
        "      lista_amount.append(cash)\n",
        "\n",
        "      #Anni centrali\n",
        "      for l in range(1,len(anni)-1):\n",
        "        anno=anni[l]\n",
        "        cash=(365*amount)/giorni\n",
        "        lista_anni.append(anno)\n",
        "        lista_amount.append(cash)\n",
        "\n",
        "      #Ultimo anno\n",
        "      anno=anni[-1]\n",
        "      n=pd.to_datetime(loans['planned_expiration_time'][i]).dayofyear\n",
        "      cash=(n*amount)/giorni\n",
        "      lista_anni.append(anno)\n",
        "      lista_amount.append(cash)"
      ],
      "execution_count": 0,
      "outputs": []
    },
    {
      "cell_type": "code",
      "metadata": {
        "id": "K1kScDt-pjmL",
        "colab_type": "code",
        "colab": {}
      },
      "source": [
        "dataframe=pd.DataFrame({'anno':lista_anni, 'cash':lista_amount})"
      ],
      "execution_count": 0,
      "outputs": []
    },
    {
      "cell_type": "code",
      "metadata": {
        "id": "af2DluLpVaMF",
        "colab_type": "code",
        "outputId": "2d58e6bc-24f8-41d3-c1cf-c04d70a7d0bc",
        "colab": {
          "base_uri": "https://localhost:8080/",
          "height": 419
        }
      },
      "source": [
        "dataframe"
      ],
      "execution_count": 88,
      "outputs": [
        {
          "output_type": "execute_result",
          "data": {
            "text/html": [
              "<div>\n",
              "<style scoped>\n",
              "    .dataframe tbody tr th:only-of-type {\n",
              "        vertical-align: middle;\n",
              "    }\n",
              "\n",
              "    .dataframe tbody tr th {\n",
              "        vertical-align: top;\n",
              "    }\n",
              "\n",
              "    .dataframe thead th {\n",
              "        text-align: right;\n",
              "    }\n",
              "</style>\n",
              "<table border=\"1\" class=\"dataframe\">\n",
              "  <thead>\n",
              "    <tr style=\"text-align: right;\">\n",
              "      <th></th>\n",
              "      <th>anno</th>\n",
              "      <th>cash</th>\n",
              "    </tr>\n",
              "  </thead>\n",
              "  <tbody>\n",
              "    <tr>\n",
              "      <th>0</th>\n",
              "      <td>2013</td>\n",
              "      <td>21.226415</td>\n",
              "    </tr>\n",
              "    <tr>\n",
              "      <th>1</th>\n",
              "      <td>2014</td>\n",
              "      <td>106.132075</td>\n",
              "    </tr>\n",
              "    <tr>\n",
              "      <th>2</th>\n",
              "      <td>2013</td>\n",
              "      <td>45.833333</td>\n",
              "    </tr>\n",
              "    <tr>\n",
              "      <th>3</th>\n",
              "      <td>2014</td>\n",
              "      <td>354.166667</td>\n",
              "    </tr>\n",
              "    <tr>\n",
              "      <th>4</th>\n",
              "      <td>2014</td>\n",
              "      <td>400.000000</td>\n",
              "    </tr>\n",
              "    <tr>\n",
              "      <th>...</th>\n",
              "      <td>...</td>\n",
              "      <td>...</td>\n",
              "    </tr>\n",
              "    <tr>\n",
              "      <th>1179868</th>\n",
              "      <td>2016</td>\n",
              "      <td>142.647059</td>\n",
              "    </tr>\n",
              "    <tr>\n",
              "      <th>1179869</th>\n",
              "      <td>2015</td>\n",
              "      <td>92.063492</td>\n",
              "    </tr>\n",
              "    <tr>\n",
              "      <th>1179870</th>\n",
              "      <td>2016</td>\n",
              "      <td>7.936508</td>\n",
              "    </tr>\n",
              "    <tr>\n",
              "      <th>1179871</th>\n",
              "      <td>2015</td>\n",
              "      <td>166.393443</td>\n",
              "    </tr>\n",
              "    <tr>\n",
              "      <th>1179872</th>\n",
              "      <td>2016</td>\n",
              "      <td>8.606557</td>\n",
              "    </tr>\n",
              "  </tbody>\n",
              "</table>\n",
              "<p>1179873 rows × 2 columns</p>\n",
              "</div>"
            ],
            "text/plain": [
              "         anno        cash\n",
              "0        2013   21.226415\n",
              "1        2014  106.132075\n",
              "2        2013   45.833333\n",
              "3        2014  354.166667\n",
              "4        2014  400.000000\n",
              "...       ...         ...\n",
              "1179868  2016  142.647059\n",
              "1179869  2015   92.063492\n",
              "1179870  2016    7.936508\n",
              "1179871  2015  166.393443\n",
              "1179872  2016    8.606557\n",
              "\n",
              "[1179873 rows x 2 columns]"
            ]
          },
          "metadata": {
            "tags": []
          },
          "execution_count": 88
        }
      ]
    },
    {
      "cell_type": "code",
      "metadata": {
        "id": "DbcqYLuUVcKp",
        "colab_type": "code",
        "colab": {}
      },
      "source": [
        "new_dataframe=pd.DataFrame(dataframe.groupby('anno')['cash'].sum())"
      ],
      "execution_count": 0,
      "outputs": []
    },
    {
      "cell_type": "code",
      "metadata": {
        "id": "WMsgYwfbVcwt",
        "colab_type": "code",
        "outputId": "7a54fab7-ab82-474e-9e83-6f016e7628a9",
        "colab": {
          "base_uri": "https://localhost:8080/",
          "height": 328
        }
      },
      "source": [
        "new_dataframe"
      ],
      "execution_count": 90,
      "outputs": [
        {
          "output_type": "execute_result",
          "data": {
            "text/html": [
              "<div>\n",
              "<style scoped>\n",
              "    .dataframe tbody tr th:only-of-type {\n",
              "        vertical-align: middle;\n",
              "    }\n",
              "\n",
              "    .dataframe tbody tr th {\n",
              "        vertical-align: top;\n",
              "    }\n",
              "\n",
              "    .dataframe thead th {\n",
              "        text-align: right;\n",
              "    }\n",
              "</style>\n",
              "<table border=\"1\" class=\"dataframe\">\n",
              "  <thead>\n",
              "    <tr style=\"text-align: right;\">\n",
              "      <th></th>\n",
              "      <th>cash</th>\n",
              "    </tr>\n",
              "    <tr>\n",
              "      <th>anno</th>\n",
              "      <th></th>\n",
              "    </tr>\n",
              "  </thead>\n",
              "  <tbody>\n",
              "    <tr>\n",
              "      <th>2011</th>\n",
              "      <td>6.316783e+05</td>\n",
              "    </tr>\n",
              "    <tr>\n",
              "      <th>2012</th>\n",
              "      <td>1.126923e+08</td>\n",
              "    </tr>\n",
              "    <tr>\n",
              "      <th>2013</th>\n",
              "      <td>1.234157e+08</td>\n",
              "    </tr>\n",
              "    <tr>\n",
              "      <th>2014</th>\n",
              "      <td>1.502110e+08</td>\n",
              "    </tr>\n",
              "    <tr>\n",
              "      <th>2015</th>\n",
              "      <td>1.546097e+08</td>\n",
              "    </tr>\n",
              "    <tr>\n",
              "      <th>2016</th>\n",
              "      <td>1.530061e+08</td>\n",
              "    </tr>\n",
              "    <tr>\n",
              "      <th>2017</th>\n",
              "      <td>1.645561e+08</td>\n",
              "    </tr>\n",
              "    <tr>\n",
              "      <th>2018</th>\n",
              "      <td>5.097248e+06</td>\n",
              "    </tr>\n",
              "  </tbody>\n",
              "</table>\n",
              "</div>"
            ],
            "text/plain": [
              "              cash\n",
              "anno              \n",
              "2011  6.316783e+05\n",
              "2012  1.126923e+08\n",
              "2013  1.234157e+08\n",
              "2014  1.502110e+08\n",
              "2015  1.546097e+08\n",
              "2016  1.530061e+08\n",
              "2017  1.645561e+08\n",
              "2018  5.097248e+06"
            ]
          },
          "metadata": {
            "tags": []
          },
          "execution_count": 90
        }
      ]
    },
    {
      "cell_type": "code",
      "metadata": {
        "id": "J30vxPI53bHw",
        "colab_type": "code",
        "outputId": "c1d50304-c615-47f3-e4b1-b43ec42ed182",
        "colab": {
          "base_uri": "https://localhost:8080/",
          "height": 34
        }
      },
      "source": [
        "sum(new_dataframe['cash'])"
      ],
      "execution_count": 91,
      "outputs": [
        {
          "output_type": "execute_result",
          "data": {
            "text/plain": [
              "864219710.1047662"
            ]
          },
          "metadata": {
            "tags": []
          },
          "execution_count": 91
        }
      ]
    }
  ]
}