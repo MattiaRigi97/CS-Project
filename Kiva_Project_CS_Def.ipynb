{
 "cells": [
  {
   "cell_type": "markdown",
   "metadata": {
    "colab_type": "text",
    "id": "V_rJV9buHiWy"
   },
   "source": [
    "# Kiva Project: Computer Science"
   ]
  },
  {
   "cell_type": "markdown",
   "metadata": {
    "colab_type": "text",
    "id": "iD9RT69pQzKE"
   },
   "source": [
    "Foundation of Computer Science Project on Kiva Dataset\n",
    "\n",
    "Mattia Rigiroli, 819987\n",
    "\n",
    "21-01-2020"
   ]
  },
  {
   "cell_type": "markdown",
   "metadata": {
    "colab_type": "text",
    "id": "qY2oHRhs-bln"
   },
   "source": [
    "Importo tutte le librerie necessarie:"
   ]
  },
  {
   "cell_type": "code",
   "execution_count": 1,
   "metadata": {
    "colab": {},
    "colab_type": "code",
    "id": "AFQ42keEHiW3"
   },
   "outputs": [],
   "source": [
    "import pandas as pd\n",
    "import numpy as np\n",
    "import time\n",
    "import datetime\n",
    "import random"
   ]
  },
  {
   "cell_type": "code",
   "execution_count": 2,
   "metadata": {},
   "outputs": [],
   "source": [
    "# Impostiamo il numero di cifre decimali da mostrare\n",
    "pd.set_option('display.float_format', lambda x: '%.2f' % x)"
   ]
  },
  {
   "cell_type": "markdown",
   "metadata": {
    "colab_type": "text",
    "id": "gToRsX0OHiW7"
   },
   "source": [
    "# 1- Normalize the loan_lenders table. In the normalized table, each row must have one loan_id and one lender."
   ]
  },
  {
   "cell_type": "code",
   "execution_count": 3,
   "metadata": {
    "colab": {},
    "colab_type": "code",
    "id": "S_IdzK-iHiW8"
   },
   "outputs": [],
   "source": [
    "loan_lenders=pd.read_csv(r\"C:\\Users\\matti\\OneDrive - Universita degli Studi di Milano-Bicocca\\Uni\\LM-DataScience\\1-Anno\\Computer Science\\Final Project\\Final Project CS\\Kiva_Dataset\\loans_lenders.csv\")"
   ]
  },
  {
   "cell_type": "code",
   "execution_count": 4,
   "metadata": {
    "colab": {
     "base_uri": "https://localhost:8080/",
     "height": 204
    },
    "colab_type": "code",
    "executionInfo": {
     "elapsed": 8248,
     "status": "ok",
     "timestamp": 1579453258022,
     "user": {
      "displayName": "Mattia Rigiroli",
      "photoUrl": "",
      "userId": "16974970111569695540"
     },
     "user_tz": -60
    },
    "id": "N7vYQG2HHiW-",
    "outputId": "00955971-8e73-4c5f-a0d3-5dd3a09cf9ae"
   },
   "outputs": [
    {
     "data": {
      "text/html": [
       "<div>\n",
       "<style scoped>\n",
       "    .dataframe tbody tr th:only-of-type {\n",
       "        vertical-align: middle;\n",
       "    }\n",
       "\n",
       "    .dataframe tbody tr th {\n",
       "        vertical-align: top;\n",
       "    }\n",
       "\n",
       "    .dataframe thead th {\n",
       "        text-align: right;\n",
       "    }\n",
       "</style>\n",
       "<table border=\"1\" class=\"dataframe\">\n",
       "  <thead>\n",
       "    <tr style=\"text-align: right;\">\n",
       "      <th></th>\n",
       "      <th>loan_id</th>\n",
       "      <th>lenders</th>\n",
       "    </tr>\n",
       "  </thead>\n",
       "  <tbody>\n",
       "    <tr>\n",
       "      <th>0</th>\n",
       "      <td>483693</td>\n",
       "      <td>muc888, sam4326, camaran3922, lachheb1865, reb...</td>\n",
       "    </tr>\n",
       "    <tr>\n",
       "      <th>1</th>\n",
       "      <td>483738</td>\n",
       "      <td>muc888, nora3555, williammanashi, barbara5610,...</td>\n",
       "    </tr>\n",
       "    <tr>\n",
       "      <th>2</th>\n",
       "      <td>485000</td>\n",
       "      <td>muc888, terrystl, richardandsusan8352, sherri4...</td>\n",
       "    </tr>\n",
       "    <tr>\n",
       "      <th>3</th>\n",
       "      <td>486087</td>\n",
       "      <td>muc888, james5068, rudi5955, daniel9859, don92...</td>\n",
       "    </tr>\n",
       "    <tr>\n",
       "      <th>4</th>\n",
       "      <td>534428</td>\n",
       "      <td>muc888, niki3008, teresa9174, mike4896, david7...</td>\n",
       "    </tr>\n",
       "  </tbody>\n",
       "</table>\n",
       "</div>"
      ],
      "text/plain": [
       "   loan_id                                            lenders\n",
       "0   483693  muc888, sam4326, camaran3922, lachheb1865, reb...\n",
       "1   483738  muc888, nora3555, williammanashi, barbara5610,...\n",
       "2   485000  muc888, terrystl, richardandsusan8352, sherri4...\n",
       "3   486087  muc888, james5068, rudi5955, daniel9859, don92...\n",
       "4   534428  muc888, niki3008, teresa9174, mike4896, david7..."
      ]
     },
     "execution_count": 4,
     "metadata": {},
     "output_type": "execute_result"
    }
   ],
   "source": [
    "loan_lenders.head()"
   ]
  },
  {
   "cell_type": "code",
   "execution_count": 5,
   "metadata": {},
   "outputs": [
    {
     "data": {
      "text/plain": [
       "(1387432, 2)"
      ]
     },
     "execution_count": 5,
     "metadata": {},
     "output_type": "execute_result"
    }
   ],
   "source": [
    "loan_lenders.shape"
   ]
  },
  {
   "cell_type": "code",
   "execution_count": 6,
   "metadata": {
    "colab": {
     "base_uri": "https://localhost:8080/",
     "height": 204
    },
    "colab_type": "code",
    "executionInfo": {
     "elapsed": 11292,
     "status": "ok",
     "timestamp": 1579453261227,
     "user": {
      "displayName": "Mattia Rigiroli",
      "photoUrl": "",
      "userId": "16974970111569695540"
     },
     "user_tz": -60
    },
    "id": "22EU-zDx_OWT",
    "outputId": "b77b87d8-464f-465d-fbde-93b61897e3fb"
   },
   "outputs": [
    {
     "data": {
      "text/html": [
       "<div>\n",
       "<style scoped>\n",
       "    .dataframe tbody tr th:only-of-type {\n",
       "        vertical-align: middle;\n",
       "    }\n",
       "\n",
       "    .dataframe tbody tr th {\n",
       "        vertical-align: top;\n",
       "    }\n",
       "\n",
       "    .dataframe thead th {\n",
       "        text-align: right;\n",
       "    }\n",
       "</style>\n",
       "<table border=\"1\" class=\"dataframe\">\n",
       "  <thead>\n",
       "    <tr style=\"text-align: right;\">\n",
       "      <th></th>\n",
       "      <th>loan_id</th>\n",
       "      <th>lender</th>\n",
       "    </tr>\n",
       "  </thead>\n",
       "  <tbody>\n",
       "    <tr>\n",
       "      <th>0</th>\n",
       "      <td>338792</td>\n",
       "      <td>emily3379</td>\n",
       "    </tr>\n",
       "    <tr>\n",
       "      <th>1</th>\n",
       "      <td>338792</td>\n",
       "      <td>shannon3680</td>\n",
       "    </tr>\n",
       "    <tr>\n",
       "      <th>2</th>\n",
       "      <td>338792</td>\n",
       "      <td>anders5148</td>\n",
       "    </tr>\n",
       "    <tr>\n",
       "      <th>3</th>\n",
       "      <td>338792</td>\n",
       "      <td>scott9318</td>\n",
       "    </tr>\n",
       "    <tr>\n",
       "      <th>4</th>\n",
       "      <td>282917</td>\n",
       "      <td>rs7257</td>\n",
       "    </tr>\n",
       "  </tbody>\n",
       "</table>\n",
       "</div>"
      ],
      "text/plain": [
       "  loan_id        lender\n",
       "0  338792     emily3379\n",
       "1  338792   shannon3680\n",
       "2  338792    anders5148\n",
       "3  338792     scott9318\n",
       "4  282917        rs7257"
      ]
     },
     "execution_count": 6,
     "metadata": {},
     "output_type": "execute_result"
    }
   ],
   "source": [
    "loan_short=loan_lenders[0:100]\n",
    "df = pd.DataFrame({'loan_id':[], 'lender':[]})\n",
    "for i in range(0,len(loan_short)):\n",
    "    loan_id=loan_short[\"loan_id\"].iloc[i]\n",
    "    lenders=loan_short['lenders'].iloc[i]\n",
    "    lenders_list=lenders.split(',')\n",
    "    for k in range(0,len(lenders_list)):\n",
    "        # Aggiungo al DataFrame df la coppia id:lender\n",
    "        df = pd.DataFrame(np.array([[loan_id,lenders_list[k]]]),columns=[\"loan_id\", \"lender\"]).append(df, ignore_index=True)\n",
    "df.head()"
   ]
  },
  {
   "cell_type": "markdown",
   "metadata": {
    "colab_type": "text",
    "id": "wD7gHlH3_X4U"
   },
   "source": [
    "Questo metodo applicato all'intero dataset risulta molto lento e inefficace. Ho quindi applicato un altra metodologia."
   ]
  },
  {
   "cell_type": "markdown",
   "metadata": {
    "colab_type": "text",
    "id": "pATImbD1HiXH"
   },
   "source": [
    "Elaborazione sull'intero dataset:"
   ]
  },
  {
   "cell_type": "code",
   "execution_count": 7,
   "metadata": {
    "colab": {
     "base_uri": "https://localhost:8080/",
     "height": 187
    },
    "colab_type": "code",
    "executionInfo": {
     "elapsed": 10846,
     "status": "ok",
     "timestamp": 1579453261229,
     "user": {
      "displayName": "Mattia Rigiroli",
      "photoUrl": "",
      "userId": "16974970111569695540"
     },
     "user_tz": -60
    },
    "id": "aDMa5o68HiXH",
    "outputId": "343897af-db37-4bae-e083-70c544401c00"
   },
   "outputs": [
    {
     "data": {
      "text/plain": [
       "[483693,\n",
       " 483738,\n",
       " 485000,\n",
       " 486087,\n",
       " 534428,\n",
       " 558112,\n",
       " 563395,\n",
       " 575414,\n",
       " 578029,\n",
       " 551251]"
      ]
     },
     "execution_count": 7,
     "metadata": {},
     "output_type": "execute_result"
    }
   ],
   "source": [
    "# Creo una lista di ID \n",
    "id_list=[x for x in loan_lenders['loan_id']]\n",
    "id_list[0:10]"
   ]
  },
  {
   "cell_type": "code",
   "execution_count": 8,
   "metadata": {
    "colab": {
     "base_uri": "https://localhost:8080/",
     "height": 357
    },
    "colab_type": "code",
    "executionInfo": {
     "elapsed": 15100,
     "status": "ok",
     "timestamp": 1579453265613,
     "user": {
      "displayName": "Mattia Rigiroli",
      "photoUrl": "",
      "userId": "16974970111569695540"
     },
     "user_tz": -60
    },
    "id": "p-QVjnNMHiXN",
    "outputId": "33e02eb6-bda7-47e2-d263-4da8f6e67358"
   },
   "outputs": [
    {
     "data": {
      "text/plain": [
       "['muc888',\n",
       " ' sam4326',\n",
       " ' camaran3922',\n",
       " ' lachheb1865',\n",
       " ' rebecca3499',\n",
       " ' karlheinz4543',\n",
       " ' jerrydb',\n",
       " ' paula8951',\n",
       " ' gmct',\n",
       " ' amra9383',\n",
       " ' r3922',\n",
       " ' brian9451',\n",
       " ' shree8053',\n",
       " ' alan5513',\n",
       " ' oisin3389',\n",
       " ' helle8622',\n",
       " ' bo3186',\n",
       " ' ric8947',\n",
       " ' daniel98469874',\n",
       " ' nick9464']"
      ]
     },
     "execution_count": 8,
     "metadata": {},
     "output_type": "execute_result"
    }
   ],
   "source": [
    "# Creo una lista di lenders\n",
    "lenders_list=[y for x in loan_lenders['lenders'] for y in x.split(',')]\n",
    "lenders_list[0:20]"
   ]
  },
  {
   "cell_type": "code",
   "execution_count": 9,
   "metadata": {
    "colab": {
     "base_uri": "https://localhost:8080/",
     "height": 34
    },
    "colab_type": "code",
    "executionInfo": {
     "elapsed": 14935,
     "status": "ok",
     "timestamp": 1579453265614,
     "user": {
      "displayName": "Mattia Rigiroli",
      "photoUrl": "",
      "userId": "16974970111569695540"
     },
     "user_tz": -60
    },
    "id": "iWal8MLjHiXP",
    "outputId": "bec9431c-7212-43fb-9248-48320e1c905d"
   },
   "outputs": [
    {
     "data": {
      "text/plain": [
       "28293931"
      ]
     },
     "execution_count": 9,
     "metadata": {},
     "output_type": "execute_result"
    }
   ],
   "source": [
    "len(lenders_list)"
   ]
  },
  {
   "cell_type": "code",
   "execution_count": 10,
   "metadata": {
    "colab": {
     "base_uri": "https://localhost:8080/",
     "height": 34
    },
    "colab_type": "code",
    "executionInfo": {
     "elapsed": 16622,
     "status": "ok",
     "timestamp": 1579453267432,
     "user": {
      "displayName": "Mattia Rigiroli",
      "photoUrl": "",
      "userId": "16974970111569695540"
     },
     "user_tz": -60
    },
    "id": "EfwPcOLDHiXU",
    "outputId": "1a4a9643-3ac8-45c7-b4c5-ff9db7a1b2a4"
   },
   "outputs": [
    {
     "data": {
      "text/plain": [
       "[40, 15, 15, 13, 19, 13, 11, 23, 13, 32]"
      ]
     },
     "execution_count": 10,
     "metadata": {},
     "output_type": "execute_result"
    }
   ],
   "source": [
    "# Creo una lista che contiene il numero di lenders per ciascun ID\n",
    "# In questo caso, al primo loan_id corrispondono 40 lenders e così via. \n",
    "lunghezza=[len(x.split(',')) for x in loan_lenders['lenders']]\n",
    "lunghezza[0:10]"
   ]
  },
  {
   "cell_type": "code",
   "execution_count": 11,
   "metadata": {
    "colab": {
     "base_uri": "https://localhost:8080/",
     "height": 187
    },
    "colab_type": "code",
    "executionInfo": {
     "elapsed": 24209,
     "status": "ok",
     "timestamp": 1579453275164,
     "user": {
      "displayName": "Mattia Rigiroli",
      "photoUrl": "",
      "userId": "16974970111569695540"
     },
     "user_tz": -60
    },
    "id": "43Fyt4zXHiXa",
    "outputId": "3265ddfe-4149-48e0-ca1c-d7f116fb8106"
   },
   "outputs": [
    {
     "data": {
      "text/plain": [
       "[483693,\n",
       " 483693,\n",
       " 483693,\n",
       " 483693,\n",
       " 483693,\n",
       " 483693,\n",
       " 483693,\n",
       " 483693,\n",
       " 483693,\n",
       " 483693]"
      ]
     },
     "execution_count": 11,
     "metadata": {},
     "output_type": "execute_result"
    }
   ],
   "source": [
    "# Aggiungo ad una nuova lista ciascun ID presente nella lista id_list per il numero di volte \n",
    "# presente in lunghezza (n di lenders per ciascun ID). \n",
    "id_list1=[]\n",
    "for i in range(0,len(lunghezza)):\n",
    "    id_list1.append([id_list[i]]*lunghezza[i])\n",
    "# Il risultato è una lista di liste: estraggo perciò i singoli ID e li metto in un'unica lista. \n",
    "id_finale=[y for x in id_list1 for y in x]\n",
    "id_finale[0:10]    "
   ]
  },
  {
   "cell_type": "code",
   "execution_count": 12,
   "metadata": {
    "colab": {
     "base_uri": "https://localhost:8080/",
     "height": 34
    },
    "colab_type": "code",
    "executionInfo": {
     "elapsed": 24069,
     "status": "ok",
     "timestamp": 1579453275165,
     "user": {
      "displayName": "Mattia Rigiroli",
      "photoUrl": "",
      "userId": "16974970111569695540"
     },
     "user_tz": -60
    },
    "id": "T8WqrabtHiXj",
    "outputId": "15168f44-282e-43d7-918d-2697bd01ba87"
   },
   "outputs": [
    {
     "data": {
      "text/plain": [
       "28293931"
      ]
     },
     "execution_count": 12,
     "metadata": {},
     "output_type": "execute_result"
    }
   ],
   "source": [
    "# Verifico che il numero di ID sia uguale al numero di lenders. \n",
    "len(id_finale)"
   ]
  },
  {
   "cell_type": "code",
   "execution_count": 13,
   "metadata": {
    "colab": {},
    "colab_type": "code",
    "id": "hWO759PBHiXr"
   },
   "outputs": [],
   "source": [
    "# Creo il dataset loan lender normalizzato\n",
    "loan_lender_norm = pd.DataFrame({'loan_id':id_finale, 'lender':lenders_list})"
   ]
  },
  {
   "cell_type": "code",
   "execution_count": 14,
   "metadata": {
    "colab": {
     "base_uri": "https://localhost:8080/",
     "height": 419
    },
    "colab_type": "code",
    "executionInfo": {
     "elapsed": 32303,
     "status": "ok",
     "timestamp": 1579453283706,
     "user": {
      "displayName": "Mattia Rigiroli",
      "photoUrl": "",
      "userId": "16974970111569695540"
     },
     "user_tz": -60
    },
    "id": "DvsfbnexHiXu",
    "outputId": "41d6905a-e55a-44e9-b783-6219666c07e0"
   },
   "outputs": [
    {
     "data": {
      "text/html": [
       "<div>\n",
       "<style scoped>\n",
       "    .dataframe tbody tr th:only-of-type {\n",
       "        vertical-align: middle;\n",
       "    }\n",
       "\n",
       "    .dataframe tbody tr th {\n",
       "        vertical-align: top;\n",
       "    }\n",
       "\n",
       "    .dataframe thead th {\n",
       "        text-align: right;\n",
       "    }\n",
       "</style>\n",
       "<table border=\"1\" class=\"dataframe\">\n",
       "  <thead>\n",
       "    <tr style=\"text-align: right;\">\n",
       "      <th></th>\n",
       "      <th>loan_id</th>\n",
       "      <th>lender</th>\n",
       "    </tr>\n",
       "  </thead>\n",
       "  <tbody>\n",
       "    <tr>\n",
       "      <th>0</th>\n",
       "      <td>483693</td>\n",
       "      <td>muc888</td>\n",
       "    </tr>\n",
       "    <tr>\n",
       "      <th>1</th>\n",
       "      <td>483693</td>\n",
       "      <td>sam4326</td>\n",
       "    </tr>\n",
       "    <tr>\n",
       "      <th>2</th>\n",
       "      <td>483693</td>\n",
       "      <td>camaran3922</td>\n",
       "    </tr>\n",
       "    <tr>\n",
       "      <th>3</th>\n",
       "      <td>483693</td>\n",
       "      <td>lachheb1865</td>\n",
       "    </tr>\n",
       "    <tr>\n",
       "      <th>4</th>\n",
       "      <td>483693</td>\n",
       "      <td>rebecca3499</td>\n",
       "    </tr>\n",
       "    <tr>\n",
       "      <th>...</th>\n",
       "      <td>...</td>\n",
       "      <td>...</td>\n",
       "    </tr>\n",
       "    <tr>\n",
       "      <th>28293926</th>\n",
       "      <td>1206425</td>\n",
       "      <td>trogdorfamily7622</td>\n",
       "    </tr>\n",
       "    <tr>\n",
       "      <th>28293927</th>\n",
       "      <td>1206425</td>\n",
       "      <td>danny6470</td>\n",
       "    </tr>\n",
       "    <tr>\n",
       "      <th>28293928</th>\n",
       "      <td>1206425</td>\n",
       "      <td>don6118</td>\n",
       "    </tr>\n",
       "    <tr>\n",
       "      <th>28293929</th>\n",
       "      <td>1206486</td>\n",
       "      <td>alan5175</td>\n",
       "    </tr>\n",
       "    <tr>\n",
       "      <th>28293930</th>\n",
       "      <td>1206486</td>\n",
       "      <td>amy38101311</td>\n",
       "    </tr>\n",
       "  </tbody>\n",
       "</table>\n",
       "<p>28293931 rows × 2 columns</p>\n",
       "</div>"
      ],
      "text/plain": [
       "          loan_id              lender\n",
       "0          483693              muc888\n",
       "1          483693             sam4326\n",
       "2          483693         camaran3922\n",
       "3          483693         lachheb1865\n",
       "4          483693         rebecca3499\n",
       "...           ...                 ...\n",
       "28293926  1206425   trogdorfamily7622\n",
       "28293927  1206425           danny6470\n",
       "28293928  1206425             don6118\n",
       "28293929  1206486            alan5175\n",
       "28293930  1206486         amy38101311\n",
       "\n",
       "[28293931 rows x 2 columns]"
      ]
     },
     "execution_count": 14,
     "metadata": {},
     "output_type": "execute_result"
    }
   ],
   "source": [
    "loan_lender_norm"
   ]
  },
  {
   "cell_type": "markdown",
   "metadata": {
    "colab_type": "text",
    "id": "SICgtnf1HiYE"
   },
   "source": [
    "# 2- For each loan, add a column duration corresponding to the number of days between the disburse time and the planned expiration time. If any of those two dates is missing, also the duration must be missing."
   ]
  },
  {
   "cell_type": "code",
   "execution_count": 15,
   "metadata": {
    "colab": {},
    "colab_type": "code",
    "id": "ErFfZ8zIHiYI"
   },
   "outputs": [],
   "source": [
    "loans=pd.read_csv(r\"C:\\Users\\matti\\OneDrive - Universita degli Studi di Milano-Bicocca\\Uni\\LM-DataScience\\1-Anno\\Computer Science\\Final Project\\Final Project CS\\Kiva_Dataset\\loans.csv\")"
   ]
  },
  {
   "cell_type": "code",
   "execution_count": 16,
   "metadata": {
    "colab": {
     "base_uri": "https://localhost:8080/",
     "height": 581
    },
    "colab_type": "code",
    "executionInfo": {
     "elapsed": 69629,
     "status": "ok",
     "timestamp": 1579453321481,
     "user": {
      "displayName": "Mattia Rigiroli",
      "photoUrl": "",
      "userId": "16974970111569695540"
     },
     "user_tz": -60
    },
    "id": "HNTF-pVLHiYL",
    "outputId": "64e01b1c-b80f-4069-9e0f-3966680e87a5"
   },
   "outputs": [
    {
     "data": {
      "text/html": [
       "<div>\n",
       "<style scoped>\n",
       "    .dataframe tbody tr th:only-of-type {\n",
       "        vertical-align: middle;\n",
       "    }\n",
       "\n",
       "    .dataframe tbody tr th {\n",
       "        vertical-align: top;\n",
       "    }\n",
       "\n",
       "    .dataframe thead th {\n",
       "        text-align: right;\n",
       "    }\n",
       "</style>\n",
       "<table border=\"1\" class=\"dataframe\">\n",
       "  <thead>\n",
       "    <tr style=\"text-align: right;\">\n",
       "      <th></th>\n",
       "      <th>loan_id</th>\n",
       "      <th>loan_name</th>\n",
       "      <th>original_language</th>\n",
       "      <th>description</th>\n",
       "      <th>description_translated</th>\n",
       "      <th>funded_amount</th>\n",
       "      <th>loan_amount</th>\n",
       "      <th>status</th>\n",
       "      <th>activity_name</th>\n",
       "      <th>sector_name</th>\n",
       "      <th>...</th>\n",
       "      <th>raised_time</th>\n",
       "      <th>lender_term</th>\n",
       "      <th>num_lenders_total</th>\n",
       "      <th>num_journal_entries</th>\n",
       "      <th>num_bulk_entries</th>\n",
       "      <th>tags</th>\n",
       "      <th>borrower_genders</th>\n",
       "      <th>borrower_pictured</th>\n",
       "      <th>repayment_interval</th>\n",
       "      <th>distribution_model</th>\n",
       "    </tr>\n",
       "  </thead>\n",
       "  <tbody>\n",
       "    <tr>\n",
       "      <th>0</th>\n",
       "      <td>657307</td>\n",
       "      <td>Aivy</td>\n",
       "      <td>English</td>\n",
       "      <td>Aivy, 21 years of age, is single and lives in ...</td>\n",
       "      <td>NaN</td>\n",
       "      <td>125.00</td>\n",
       "      <td>125.00</td>\n",
       "      <td>funded</td>\n",
       "      <td>General Store</td>\n",
       "      <td>Retail</td>\n",
       "      <td>...</td>\n",
       "      <td>2014-01-15 04:48:22.000 +0000</td>\n",
       "      <td>7.00</td>\n",
       "      <td>3</td>\n",
       "      <td>2</td>\n",
       "      <td>1</td>\n",
       "      <td>NaN</td>\n",
       "      <td>female</td>\n",
       "      <td>true</td>\n",
       "      <td>irregular</td>\n",
       "      <td>field_partner</td>\n",
       "    </tr>\n",
       "    <tr>\n",
       "      <th>1</th>\n",
       "      <td>657259</td>\n",
       "      <td>Idalia Marizza</td>\n",
       "      <td>Spanish</td>\n",
       "      <td>Doña Idalia, esta casada, tiene 57 años de eda...</td>\n",
       "      <td>Idalia, 57, is married and lives with her husb...</td>\n",
       "      <td>400.00</td>\n",
       "      <td>400.00</td>\n",
       "      <td>funded</td>\n",
       "      <td>Used Clothing</td>\n",
       "      <td>Clothing</td>\n",
       "      <td>...</td>\n",
       "      <td>2014-02-25 06:42:06.000 +0000</td>\n",
       "      <td>8.00</td>\n",
       "      <td>11</td>\n",
       "      <td>2</td>\n",
       "      <td>1</td>\n",
       "      <td>NaN</td>\n",
       "      <td>female</td>\n",
       "      <td>true</td>\n",
       "      <td>monthly</td>\n",
       "      <td>field_partner</td>\n",
       "    </tr>\n",
       "    <tr>\n",
       "      <th>2</th>\n",
       "      <td>658010</td>\n",
       "      <td>Aasia</td>\n",
       "      <td>English</td>\n",
       "      <td>Aasia is a 45-year-old married lady and she ha...</td>\n",
       "      <td>NaN</td>\n",
       "      <td>400.00</td>\n",
       "      <td>400.00</td>\n",
       "      <td>funded</td>\n",
       "      <td>General Store</td>\n",
       "      <td>Retail</td>\n",
       "      <td>...</td>\n",
       "      <td>2014-01-24 23:06:18.000 +0000</td>\n",
       "      <td>14.00</td>\n",
       "      <td>16</td>\n",
       "      <td>2</td>\n",
       "      <td>1</td>\n",
       "      <td>#Woman Owned Biz, #Supporting Family, user_fav...</td>\n",
       "      <td>female</td>\n",
       "      <td>true</td>\n",
       "      <td>monthly</td>\n",
       "      <td>field_partner</td>\n",
       "    </tr>\n",
       "    <tr>\n",
       "      <th>3</th>\n",
       "      <td>659347</td>\n",
       "      <td>Gulmira</td>\n",
       "      <td>Russian</td>\n",
       "      <td>Гулмире 36 лет, замужем, вместе с супругом вос...</td>\n",
       "      <td>Gulmira is 36 years old and married.  She and ...</td>\n",
       "      <td>625.00</td>\n",
       "      <td>625.00</td>\n",
       "      <td>funded</td>\n",
       "      <td>Farming</td>\n",
       "      <td>Agriculture</td>\n",
       "      <td>...</td>\n",
       "      <td>2014-01-22 05:29:28.000 +0000</td>\n",
       "      <td>14.00</td>\n",
       "      <td>21</td>\n",
       "      <td>2</td>\n",
       "      <td>1</td>\n",
       "      <td>user_favorite</td>\n",
       "      <td>female</td>\n",
       "      <td>true</td>\n",
       "      <td>monthly</td>\n",
       "      <td>field_partner</td>\n",
       "    </tr>\n",
       "    <tr>\n",
       "      <th>4</th>\n",
       "      <td>656933</td>\n",
       "      <td>Ricky\\t</td>\n",
       "      <td>English</td>\n",
       "      <td>Ricky is a farmer who currently cultivates his...</td>\n",
       "      <td>NaN</td>\n",
       "      <td>425.00</td>\n",
       "      <td>425.00</td>\n",
       "      <td>funded</td>\n",
       "      <td>Farming</td>\n",
       "      <td>Agriculture</td>\n",
       "      <td>...</td>\n",
       "      <td>2014-01-14 17:29:27.000 +0000</td>\n",
       "      <td>7.00</td>\n",
       "      <td>15</td>\n",
       "      <td>2</td>\n",
       "      <td>1</td>\n",
       "      <td>#Animals, #Eco-friendly, #Sustainable Ag</td>\n",
       "      <td>male</td>\n",
       "      <td>true</td>\n",
       "      <td>bullet</td>\n",
       "      <td>field_partner</td>\n",
       "    </tr>\n",
       "  </tbody>\n",
       "</table>\n",
       "<p>5 rows × 31 columns</p>\n",
       "</div>"
      ],
      "text/plain": [
       "   loan_id       loan_name original_language  \\\n",
       "0   657307            Aivy           English   \n",
       "1   657259  Idalia Marizza           Spanish   \n",
       "2   658010           Aasia           English   \n",
       "3   659347         Gulmira           Russian   \n",
       "4   656933         Ricky\\t           English   \n",
       "\n",
       "                                         description  \\\n",
       "0  Aivy, 21 years of age, is single and lives in ...   \n",
       "1  Doña Idalia, esta casada, tiene 57 años de eda...   \n",
       "2  Aasia is a 45-year-old married lady and she ha...   \n",
       "3  Гулмире 36 лет, замужем, вместе с супругом вос...   \n",
       "4  Ricky is a farmer who currently cultivates his...   \n",
       "\n",
       "                              description_translated  funded_amount  \\\n",
       "0                                                NaN         125.00   \n",
       "1  Idalia, 57, is married and lives with her husb...         400.00   \n",
       "2                                                NaN         400.00   \n",
       "3  Gulmira is 36 years old and married.  She and ...         625.00   \n",
       "4                                                NaN         425.00   \n",
       "\n",
       "   loan_amount  status  activity_name  sector_name  ...  \\\n",
       "0       125.00  funded  General Store       Retail  ...   \n",
       "1       400.00  funded  Used Clothing     Clothing  ...   \n",
       "2       400.00  funded  General Store       Retail  ...   \n",
       "3       625.00  funded        Farming  Agriculture  ...   \n",
       "4       425.00  funded        Farming  Agriculture  ...   \n",
       "\n",
       "                     raised_time lender_term num_lenders_total  \\\n",
       "0  2014-01-15 04:48:22.000 +0000        7.00                 3   \n",
       "1  2014-02-25 06:42:06.000 +0000        8.00                11   \n",
       "2  2014-01-24 23:06:18.000 +0000       14.00                16   \n",
       "3  2014-01-22 05:29:28.000 +0000       14.00                21   \n",
       "4  2014-01-14 17:29:27.000 +0000        7.00                15   \n",
       "\n",
       "  num_journal_entries num_bulk_entries  \\\n",
       "0                   2                1   \n",
       "1                   2                1   \n",
       "2                   2                1   \n",
       "3                   2                1   \n",
       "4                   2                1   \n",
       "\n",
       "                                                tags borrower_genders  \\\n",
       "0                                                NaN           female   \n",
       "1                                                NaN           female   \n",
       "2  #Woman Owned Biz, #Supporting Family, user_fav...           female   \n",
       "3                                      user_favorite           female   \n",
       "4           #Animals, #Eco-friendly, #Sustainable Ag             male   \n",
       "\n",
       "   borrower_pictured repayment_interval distribution_model  \n",
       "0               true          irregular      field_partner  \n",
       "1               true            monthly      field_partner  \n",
       "2               true            monthly      field_partner  \n",
       "3               true            monthly      field_partner  \n",
       "4               true             bullet      field_partner  \n",
       "\n",
       "[5 rows x 31 columns]"
      ]
     },
     "execution_count": 16,
     "metadata": {},
     "output_type": "execute_result"
    }
   ],
   "source": [
    "loans.head()"
   ]
  },
  {
   "cell_type": "code",
   "execution_count": 17,
   "metadata": {
    "colab": {
     "base_uri": "https://localhost:8080/",
     "height": 34
    },
    "colab_type": "code",
    "executionInfo": {
     "elapsed": 69462,
     "status": "ok",
     "timestamp": 1579453321482,
     "user": {
      "displayName": "Mattia Rigiroli",
      "photoUrl": "",
      "userId": "16974970111569695540"
     },
     "user_tz": -60
    },
    "id": "8D4O0dI4HiYV",
    "outputId": "0a18848c-841a-43d7-d069-93990fb187e6"
   },
   "outputs": [
    {
     "data": {
      "text/plain": [
       "str"
      ]
     },
     "execution_count": 17,
     "metadata": {},
     "output_type": "execute_result"
    }
   ],
   "source": [
    "type(loans['disburse_time'][1])"
   ]
  },
  {
   "cell_type": "code",
   "execution_count": 18,
   "metadata": {
    "colab": {
     "base_uri": "https://localhost:8080/",
     "height": 34
    },
    "colab_type": "code",
    "executionInfo": {
     "elapsed": 69316,
     "status": "ok",
     "timestamp": 1579453321483,
     "user": {
      "displayName": "Mattia Rigiroli",
      "photoUrl": "",
      "userId": "16974970111569695540"
     },
     "user_tz": -60
    },
    "id": "UmO1U01gD1ru",
    "outputId": "c21fb1d9-9a1c-4758-c703-4fb5a154450d"
   },
   "outputs": [
    {
     "data": {
      "text/plain": [
       "str"
      ]
     },
     "execution_count": 18,
     "metadata": {},
     "output_type": "execute_result"
    }
   ],
   "source": [
    "type(loans['planned_expiration_time'][1])"
   ]
  },
  {
   "cell_type": "code",
   "execution_count": 19,
   "metadata": {
    "colab": {},
    "colab_type": "code",
    "id": "kTpgsAeaHiYd"
   },
   "outputs": [],
   "source": [
    "loans['planned_expiration_time'] = pd.to_datetime(loans['planned_expiration_time'])\n",
    "loans['disburse_time']= pd.to_datetime(loans['disburse_time'])"
   ]
  },
  {
   "cell_type": "code",
   "execution_count": 20,
   "metadata": {
    "colab": {},
    "colab_type": "code",
    "id": "KOuW4KM0HiYg"
   },
   "outputs": [],
   "source": [
    "loans['loans_duration']=abs(loans['planned_expiration_time']-loans['disburse_time'])"
   ]
  },
  {
   "cell_type": "code",
   "execution_count": 21,
   "metadata": {
    "colab": {
     "base_uri": "https://localhost:8080/",
     "height": 119
    },
    "colab_type": "code",
    "executionInfo": {
     "elapsed": 70783,
     "status": "ok",
     "timestamp": 1579453323587,
     "user": {
      "displayName": "Mattia Rigiroli",
      "photoUrl": "",
      "userId": "16974970111569695540"
     },
     "user_tz": -60
    },
    "id": "sMTJLQeWHiYj",
    "outputId": "8ec191db-98d1-43dd-be06-266a25203e91"
   },
   "outputs": [
    {
     "data": {
      "text/plain": [
       "0   53 days 19:30:06\n",
       "1   96 days 14:25:07\n",
       "2   37 days 13:10:05\n",
       "3   34 days 19:10:02\n",
       "4   57 days 22:10:02\n",
       "Name: loans_duration, dtype: timedelta64[ns]"
      ]
     },
     "execution_count": 21,
     "metadata": {},
     "output_type": "execute_result"
    }
   ],
   "source": [
    "loans['loans_duration'][0:5]"
   ]
  },
  {
   "cell_type": "markdown",
   "metadata": {
    "colab_type": "text",
    "id": "fwm4mhLnFgW3"
   },
   "source": [
    "Controllo sui valori mancanti: quando disburse_time o planned_expiration_time sono nulle (o entrambe sono nulle), loans_duration è nulla."
   ]
  },
  {
   "cell_type": "code",
   "execution_count": 22,
   "metadata": {
    "colab": {
     "base_uri": "https://localhost:8080/",
     "height": 68
    },
    "colab_type": "code",
    "executionInfo": {
     "elapsed": 70629,
     "status": "ok",
     "timestamp": 1579453323588,
     "user": {
      "displayName": "Mattia Rigiroli",
      "photoUrl": "",
      "userId": "16974970111569695540"
     },
     "user_tz": -60
    },
    "id": "3Rk1bPcXzmuN",
    "outputId": "7f44ac08-40b6-4c92-d2a2-0d94339082d9"
   },
   "outputs": [
    {
     "name": "stdout",
     "output_type": "stream",
     "text": [
      "True\n",
      "True\n",
      "True\n"
     ]
    }
   ],
   "source": [
    "# Controllo la persenza di valori nulli nelle due variabili considerate:\n",
    "print(loans['disburse_time'].isnull().any())\n",
    "print(loans['planned_expiration_time'].isnull().any())\n",
    "print(loans['loans_duration'].isnull().any())"
   ]
  },
  {
   "cell_type": "code",
   "execution_count": 23,
   "metadata": {
    "colab": {
     "base_uri": "https://localhost:8080/",
     "height": 85
    },
    "colab_type": "code",
    "executionInfo": {
     "elapsed": 70468,
     "status": "ok",
     "timestamp": 1579453323589,
     "user": {
      "displayName": "Mattia Rigiroli",
      "photoUrl": "",
      "userId": "16974970111569695540"
     },
     "user_tz": -60
    },
    "id": "HTGgAd7DC-B9",
    "outputId": "19838f48-fa3a-42cc-ea34-37a2d7fdb5f3"
   },
   "outputs": [
    {
     "data": {
      "text/plain": [
       "disburse_time              2010-11-18 08:00:00+00:00\n",
       "planned_expiration_time                          NaT\n",
       "loans_duration                                   NaT\n",
       "Name: 64, dtype: object"
      ]
     },
     "execution_count": 23,
     "metadata": {},
     "output_type": "execute_result"
    }
   ],
   "source": [
    "# Valore nullo in planned_expiration_time e loans_duration\n",
    "loans[['disburse_time','planned_expiration_time','loans_duration']].iloc[64]"
   ]
  },
  {
   "cell_type": "code",
   "execution_count": 24,
   "metadata": {
    "colab": {
     "base_uri": "https://localhost:8080/",
     "height": 85
    },
    "colab_type": "code",
    "executionInfo": {
     "elapsed": 70315,
     "status": "ok",
     "timestamp": 1579453323590,
     "user": {
      "displayName": "Mattia Rigiroli",
      "photoUrl": "",
      "userId": "16974970111569695540"
     },
     "user_tz": -60
    },
    "id": "3mWxA8hiDsZV",
    "outputId": "4eb81904-8334-42db-f9cc-dd31c8933935"
   },
   "outputs": [
    {
     "data": {
      "text/plain": [
       "disburse_time                                    NaT\n",
       "planned_expiration_time    2017-12-06 16:41:36+00:00\n",
       "loans_duration                                   NaT\n",
       "Name: 31106, dtype: object"
      ]
     },
     "execution_count": 24,
     "metadata": {},
     "output_type": "execute_result"
    }
   ],
   "source": [
    "# Valore nullo in disburse_time e loans_duration\n",
    "loans[['disburse_time','planned_expiration_time','loans_duration']].iloc[31106]"
   ]
  },
  {
   "cell_type": "code",
   "execution_count": 25,
   "metadata": {},
   "outputs": [
    {
     "data": {
      "text/plain": [
       "disburse_time                2813\n",
       "planned_expiration_time    371834\n",
       "loans_duration             374645\n",
       "dtype: int64"
      ]
     },
     "execution_count": 25,
     "metadata": {},
     "output_type": "execute_result"
    }
   ],
   "source": [
    "loans[['disburse_time','planned_expiration_time','loans_duration']].isna().sum()  "
   ]
  },
  {
   "cell_type": "code",
   "execution_count": 26,
   "metadata": {
    "colab": {
     "base_uri": "https://localhost:8080/",
     "height": 359
    },
    "colab_type": "code",
    "executionInfo": {
     "elapsed": 69998,
     "status": "ok",
     "timestamp": 1579453323591,
     "user": {
      "displayName": "Mattia Rigiroli",
      "photoUrl": "",
      "userId": "16974970111569695540"
     },
     "user_tz": -60
    },
    "id": "XEZB_rciRI-u",
    "outputId": "db169e4b-84ef-439c-aac2-0d2b43f68432"
   },
   "outputs": [
    {
     "data": {
      "text/html": [
       "<div>\n",
       "<style scoped>\n",
       "    .dataframe tbody tr th:only-of-type {\n",
       "        vertical-align: middle;\n",
       "    }\n",
       "\n",
       "    .dataframe tbody tr th {\n",
       "        vertical-align: top;\n",
       "    }\n",
       "\n",
       "    .dataframe thead th {\n",
       "        text-align: right;\n",
       "    }\n",
       "</style>\n",
       "<table border=\"1\" class=\"dataframe\">\n",
       "  <thead>\n",
       "    <tr style=\"text-align: right;\">\n",
       "      <th></th>\n",
       "      <th>loan_id</th>\n",
       "      <th>loans_duration</th>\n",
       "    </tr>\n",
       "  </thead>\n",
       "  <tbody>\n",
       "    <tr>\n",
       "      <th>0</th>\n",
       "      <td>657307</td>\n",
       "      <td>53 days 19:30:06</td>\n",
       "    </tr>\n",
       "    <tr>\n",
       "      <th>1</th>\n",
       "      <td>657259</td>\n",
       "      <td>96 days 14:25:07</td>\n",
       "    </tr>\n",
       "    <tr>\n",
       "      <th>2</th>\n",
       "      <td>658010</td>\n",
       "      <td>37 days 13:10:05</td>\n",
       "    </tr>\n",
       "    <tr>\n",
       "      <th>3</th>\n",
       "      <td>659347</td>\n",
       "      <td>34 days 19:10:02</td>\n",
       "    </tr>\n",
       "    <tr>\n",
       "      <th>4</th>\n",
       "      <td>656933</td>\n",
       "      <td>57 days 22:10:02</td>\n",
       "    </tr>\n",
       "    <tr>\n",
       "      <th>5</th>\n",
       "      <td>659605</td>\n",
       "      <td>35 days 18:30:07</td>\n",
       "    </tr>\n",
       "    <tr>\n",
       "      <th>6</th>\n",
       "      <td>660240</td>\n",
       "      <td>31 days 23:50:11</td>\n",
       "    </tr>\n",
       "    <tr>\n",
       "      <th>7</th>\n",
       "      <td>661601</td>\n",
       "      <td>46 days 01:50:03</td>\n",
       "    </tr>\n",
       "    <tr>\n",
       "      <th>8</th>\n",
       "      <td>661960</td>\n",
       "      <td>33 days 16:10:03</td>\n",
       "    </tr>\n",
       "    <tr>\n",
       "      <th>9</th>\n",
       "      <td>662117</td>\n",
       "      <td>68 days 05:40:02</td>\n",
       "    </tr>\n",
       "  </tbody>\n",
       "</table>\n",
       "</div>"
      ],
      "text/plain": [
       "   loan_id   loans_duration\n",
       "0   657307 53 days 19:30:06\n",
       "1   657259 96 days 14:25:07\n",
       "2   658010 37 days 13:10:05\n",
       "3   659347 34 days 19:10:02\n",
       "4   656933 57 days 22:10:02\n",
       "5   659605 35 days 18:30:07\n",
       "6   660240 31 days 23:50:11\n",
       "7   661601 46 days 01:50:03\n",
       "8   661960 33 days 16:10:03\n",
       "9   662117 68 days 05:40:02"
      ]
     },
     "execution_count": 26,
     "metadata": {},
     "output_type": "execute_result"
    }
   ],
   "source": [
    "loans[['loan_id','loans_duration']].head(10)"
   ]
  },
  {
   "cell_type": "code",
   "execution_count": 27,
   "metadata": {
    "colab": {
     "base_uri": "https://localhost:8080/",
     "height": 359
    },
    "colab_type": "code",
    "executionInfo": {
     "elapsed": 69826,
     "status": "ok",
     "timestamp": 1579453323591,
     "user": {
      "displayName": "Mattia Rigiroli",
      "photoUrl": "",
      "userId": "16974970111569695540"
     },
     "user_tz": -60
    },
    "id": "TVvpKNMnQ-f5",
    "outputId": "906173ce-ed99-416e-d740-b70be75be113"
   },
   "outputs": [
    {
     "data": {
      "text/html": [
       "<div>\n",
       "<style scoped>\n",
       "    .dataframe tbody tr th:only-of-type {\n",
       "        vertical-align: middle;\n",
       "    }\n",
       "\n",
       "    .dataframe tbody tr th {\n",
       "        vertical-align: top;\n",
       "    }\n",
       "\n",
       "    .dataframe thead th {\n",
       "        text-align: right;\n",
       "    }\n",
       "</style>\n",
       "<table border=\"1\" class=\"dataframe\">\n",
       "  <thead>\n",
       "    <tr style=\"text-align: right;\">\n",
       "      <th></th>\n",
       "      <th>loan_id</th>\n",
       "      <th>loans_duration</th>\n",
       "    </tr>\n",
       "  </thead>\n",
       "  <tbody>\n",
       "    <tr>\n",
       "      <th>1419597</th>\n",
       "      <td>984735</td>\n",
       "      <td>63 days 06:20:02</td>\n",
       "    </tr>\n",
       "    <tr>\n",
       "      <th>1419598</th>\n",
       "      <td>985764</td>\n",
       "      <td>46 days 02:40:05</td>\n",
       "    </tr>\n",
       "    <tr>\n",
       "      <th>1419599</th>\n",
       "      <td>986756</td>\n",
       "      <td>44 days 12:20:04</td>\n",
       "    </tr>\n",
       "    <tr>\n",
       "      <th>1419600</th>\n",
       "      <td>986789</td>\n",
       "      <td>40 days 11:50:04</td>\n",
       "    </tr>\n",
       "    <tr>\n",
       "      <th>1419601</th>\n",
       "      <td>987606</td>\n",
       "      <td>42 days 08:30:11</td>\n",
       "    </tr>\n",
       "    <tr>\n",
       "      <th>1419602</th>\n",
       "      <td>988180</td>\n",
       "      <td>39 days 17:00:03</td>\n",
       "    </tr>\n",
       "    <tr>\n",
       "      <th>1419603</th>\n",
       "      <td>988213</td>\n",
       "      <td>39 days 08:40:07</td>\n",
       "    </tr>\n",
       "    <tr>\n",
       "      <th>1419604</th>\n",
       "      <td>989109</td>\n",
       "      <td>51 days 14:20:04</td>\n",
       "    </tr>\n",
       "    <tr>\n",
       "      <th>1419605</th>\n",
       "      <td>989143</td>\n",
       "      <td>63 days 00:50:02</td>\n",
       "    </tr>\n",
       "    <tr>\n",
       "      <th>1419606</th>\n",
       "      <td>989240</td>\n",
       "      <td>61 days 12:50:06</td>\n",
       "    </tr>\n",
       "  </tbody>\n",
       "</table>\n",
       "</div>"
      ],
      "text/plain": [
       "         loan_id   loans_duration\n",
       "1419597   984735 63 days 06:20:02\n",
       "1419598   985764 46 days 02:40:05\n",
       "1419599   986756 44 days 12:20:04\n",
       "1419600   986789 40 days 11:50:04\n",
       "1419601   987606 42 days 08:30:11\n",
       "1419602   988180 39 days 17:00:03\n",
       "1419603   988213 39 days 08:40:07\n",
       "1419604   989109 51 days 14:20:04\n",
       "1419605   989143 63 days 00:50:02\n",
       "1419606   989240 61 days 12:50:06"
      ]
     },
     "execution_count": 27,
     "metadata": {},
     "output_type": "execute_result"
    }
   ],
   "source": [
    "loans[['loan_id','loans_duration']].tail(10)"
   ]
  },
  {
   "cell_type": "markdown",
   "metadata": {
    "colab_type": "text",
    "id": "gexF2tSGHiYs"
   },
   "source": [
    "# 3- Find the lenders that have funded at least twice."
   ]
  },
  {
   "cell_type": "code",
   "execution_count": 28,
   "metadata": {
    "colab": {
     "base_uri": "https://localhost:8080/",
     "height": 204
    },
    "colab_type": "code",
    "executionInfo": {
     "elapsed": 69521,
     "status": "ok",
     "timestamp": 1579453323592,
     "user": {
      "displayName": "Mattia Rigiroli",
      "photoUrl": "",
      "userId": "16974970111569695540"
     },
     "user_tz": -60
    },
    "id": "lXaA37iKHiY6",
    "outputId": "1783a1ea-48a8-4889-9640-3f9cbf99b066"
   },
   "outputs": [
    {
     "data": {
      "text/html": [
       "<div>\n",
       "<style scoped>\n",
       "    .dataframe tbody tr th:only-of-type {\n",
       "        vertical-align: middle;\n",
       "    }\n",
       "\n",
       "    .dataframe tbody tr th {\n",
       "        vertical-align: top;\n",
       "    }\n",
       "\n",
       "    .dataframe thead th {\n",
       "        text-align: right;\n",
       "    }\n",
       "</style>\n",
       "<table border=\"1\" class=\"dataframe\">\n",
       "  <thead>\n",
       "    <tr style=\"text-align: right;\">\n",
       "      <th></th>\n",
       "      <th>loan_id</th>\n",
       "      <th>lender</th>\n",
       "    </tr>\n",
       "  </thead>\n",
       "  <tbody>\n",
       "    <tr>\n",
       "      <th>0</th>\n",
       "      <td>483693</td>\n",
       "      <td>muc888</td>\n",
       "    </tr>\n",
       "    <tr>\n",
       "      <th>1</th>\n",
       "      <td>483693</td>\n",
       "      <td>sam4326</td>\n",
       "    </tr>\n",
       "    <tr>\n",
       "      <th>2</th>\n",
       "      <td>483693</td>\n",
       "      <td>camaran3922</td>\n",
       "    </tr>\n",
       "    <tr>\n",
       "      <th>3</th>\n",
       "      <td>483693</td>\n",
       "      <td>lachheb1865</td>\n",
       "    </tr>\n",
       "    <tr>\n",
       "      <th>4</th>\n",
       "      <td>483693</td>\n",
       "      <td>rebecca3499</td>\n",
       "    </tr>\n",
       "  </tbody>\n",
       "</table>\n",
       "</div>"
      ],
      "text/plain": [
       "   loan_id        lender\n",
       "0   483693        muc888\n",
       "1   483693       sam4326\n",
       "2   483693   camaran3922\n",
       "3   483693   lachheb1865\n",
       "4   483693   rebecca3499"
      ]
     },
     "execution_count": 28,
     "metadata": {},
     "output_type": "execute_result"
    }
   ],
   "source": [
    "loan_lender_norm.head()"
   ]
  },
  {
   "cell_type": "code",
   "execution_count": 29,
   "metadata": {
    "colab": {},
    "colab_type": "code",
    "id": "R1CMEWaNHiZI"
   },
   "outputs": [],
   "source": [
    "d_funded=loan_lender_norm.groupby('lender').count()\n",
    "d_funded.rename(columns={'loan_id': 'n loan x lender'}, inplace=True)"
   ]
  },
  {
   "cell_type": "code",
   "execution_count": 30,
   "metadata": {
    "colab": {
     "base_uri": "https://localhost:8080/",
     "height": 235
    },
    "colab_type": "code",
    "executionInfo": {
     "elapsed": 81571,
     "status": "ok",
     "timestamp": 1579453335982,
     "user": {
      "displayName": "Mattia Rigiroli",
      "photoUrl": "",
      "userId": "16974970111569695540"
     },
     "user_tz": -60
    },
    "id": "SrTpQq01HiZK",
    "outputId": "7f55236c-6efc-4a75-dfe7-b93dd8501aea"
   },
   "outputs": [
    {
     "data": {
      "text/html": [
       "<div>\n",
       "<style scoped>\n",
       "    .dataframe tbody tr th:only-of-type {\n",
       "        vertical-align: middle;\n",
       "    }\n",
       "\n",
       "    .dataframe tbody tr th {\n",
       "        vertical-align: top;\n",
       "    }\n",
       "\n",
       "    .dataframe thead th {\n",
       "        text-align: right;\n",
       "    }\n",
       "</style>\n",
       "<table border=\"1\" class=\"dataframe\">\n",
       "  <thead>\n",
       "    <tr style=\"text-align: right;\">\n",
       "      <th></th>\n",
       "      <th>n loan x lender</th>\n",
       "    </tr>\n",
       "    <tr>\n",
       "      <th>lender</th>\n",
       "      <th></th>\n",
       "    </tr>\n",
       "  </thead>\n",
       "  <tbody>\n",
       "    <tr>\n",
       "      <th>000</th>\n",
       "      <td>39</td>\n",
       "    </tr>\n",
       "    <tr>\n",
       "      <th>00000</th>\n",
       "      <td>39</td>\n",
       "    </tr>\n",
       "    <tr>\n",
       "      <th>0002</th>\n",
       "      <td>70</td>\n",
       "    </tr>\n",
       "    <tr>\n",
       "      <th>00mike00</th>\n",
       "      <td>1</td>\n",
       "    </tr>\n",
       "    <tr>\n",
       "      <th>0101craign0101</th>\n",
       "      <td>71</td>\n",
       "    </tr>\n",
       "  </tbody>\n",
       "</table>\n",
       "</div>"
      ],
      "text/plain": [
       "                 n loan x lender\n",
       "lender                          \n",
       " 000                          39\n",
       " 00000                        39\n",
       " 0002                         70\n",
       " 00mike00                      1\n",
       " 0101craign0101               71"
      ]
     },
     "execution_count": 30,
     "metadata": {},
     "output_type": "execute_result"
    }
   ],
   "source": [
    "d_funded.head()"
   ]
  },
  {
   "cell_type": "code",
   "execution_count": 31,
   "metadata": {
    "colab": {
     "base_uri": "https://localhost:8080/",
     "height": 450
    },
    "colab_type": "code",
    "executionInfo": {
     "elapsed": 81762,
     "status": "ok",
     "timestamp": 1579453336334,
     "user": {
      "displayName": "Mattia Rigiroli",
      "photoUrl": "",
      "userId": "16974970111569695540"
     },
     "user_tz": -60
    },
    "id": "8mK9pnHHHiZQ",
    "outputId": "b61f120f-7c84-45fb-ab8b-a9bb3932da7d"
   },
   "outputs": [
    {
     "data": {
      "text/html": [
       "<div>\n",
       "<style scoped>\n",
       "    .dataframe tbody tr th:only-of-type {\n",
       "        vertical-align: middle;\n",
       "    }\n",
       "\n",
       "    .dataframe tbody tr th {\n",
       "        vertical-align: top;\n",
       "    }\n",
       "\n",
       "    .dataframe thead th {\n",
       "        text-align: right;\n",
       "    }\n",
       "</style>\n",
       "<table border=\"1\" class=\"dataframe\">\n",
       "  <thead>\n",
       "    <tr style=\"text-align: right;\">\n",
       "      <th></th>\n",
       "      <th>n loan x lender</th>\n",
       "    </tr>\n",
       "    <tr>\n",
       "      <th>lender</th>\n",
       "      <th></th>\n",
       "    </tr>\n",
       "  </thead>\n",
       "  <tbody>\n",
       "    <tr>\n",
       "      <th>gooddogg1</th>\n",
       "      <td>151307</td>\n",
       "    </tr>\n",
       "    <tr>\n",
       "      <th>trolltech4460</th>\n",
       "      <td>148347</td>\n",
       "    </tr>\n",
       "    <tr>\n",
       "      <th>gmct</th>\n",
       "      <td>127089</td>\n",
       "    </tr>\n",
       "    <tr>\n",
       "      <th>nms</th>\n",
       "      <td>100360</td>\n",
       "    </tr>\n",
       "    <tr>\n",
       "      <th>themissionbeltco</th>\n",
       "      <td>76986</td>\n",
       "    </tr>\n",
       "    <tr>\n",
       "      <th>...</th>\n",
       "      <td>...</td>\n",
       "    </tr>\n",
       "    <tr>\n",
       "      <th>omurhu9493</th>\n",
       "      <td>2</td>\n",
       "    </tr>\n",
       "    <tr>\n",
       "      <th>beth36573246</th>\n",
       "      <td>2</td>\n",
       "    </tr>\n",
       "    <tr>\n",
       "      <th>omri1441</th>\n",
       "      <td>2</td>\n",
       "    </tr>\n",
       "    <tr>\n",
       "      <th>omprasad9006</th>\n",
       "      <td>2</td>\n",
       "    </tr>\n",
       "    <tr>\n",
       "      <th>zzrvmf8538</th>\n",
       "      <td>2</td>\n",
       "    </tr>\n",
       "  </tbody>\n",
       "</table>\n",
       "<p>1005111 rows × 1 columns</p>\n",
       "</div>"
      ],
      "text/plain": [
       "                   n loan x lender\n",
       "lender                            \n",
       " gooddogg1                  151307\n",
       " trolltech4460              148347\n",
       " gmct                       127089\n",
       " nms                        100360\n",
       " themissionbeltco            76986\n",
       "...                            ...\n",
       " omurhu9493                      2\n",
       " beth36573246                    2\n",
       " omri1441                        2\n",
       " omprasad9006                    2\n",
       "zzrvmf8538                       2\n",
       "\n",
       "[1005111 rows x 1 columns]"
      ]
     },
     "execution_count": 31,
     "metadata": {},
     "output_type": "execute_result"
    }
   ],
   "source": [
    "# Seleziono solamente i lenders che hanno finanziato almeno due volte e creo un nuovo DataFrame. \n",
    "d_funded_2=d_funded[d_funded['n loan x lender']>=2].sort_values(by='n loan x lender', ascending=False)\n",
    "d_funded_2"
   ]
  },
  {
   "cell_type": "markdown",
   "metadata": {
    "colab_type": "text",
    "id": "4SNQ8-wbHiZX"
   },
   "source": [
    "# 4-  For each country, compute how many loans have involved that country as borrowers."
   ]
  },
  {
   "cell_type": "code",
   "execution_count": 32,
   "metadata": {
    "colab": {
     "base_uri": "https://localhost:8080/",
     "height": 581
    },
    "colab_type": "code",
    "executionInfo": {
     "elapsed": 81425,
     "status": "ok",
     "timestamp": 1579453336335,
     "user": {
      "displayName": "Mattia Rigiroli",
      "photoUrl": "",
      "userId": "16974970111569695540"
     },
     "user_tz": -60
    },
    "id": "Y_P8vAYEHiZa",
    "outputId": "796f34ac-e9b9-4f3d-c68a-ed1d7100d8c9"
   },
   "outputs": [
    {
     "data": {
      "text/html": [
       "<div>\n",
       "<style scoped>\n",
       "    .dataframe tbody tr th:only-of-type {\n",
       "        vertical-align: middle;\n",
       "    }\n",
       "\n",
       "    .dataframe tbody tr th {\n",
       "        vertical-align: top;\n",
       "    }\n",
       "\n",
       "    .dataframe thead th {\n",
       "        text-align: right;\n",
       "    }\n",
       "</style>\n",
       "<table border=\"1\" class=\"dataframe\">\n",
       "  <thead>\n",
       "    <tr style=\"text-align: right;\">\n",
       "      <th></th>\n",
       "      <th>loan_id</th>\n",
       "      <th>loan_name</th>\n",
       "      <th>original_language</th>\n",
       "      <th>description</th>\n",
       "      <th>description_translated</th>\n",
       "      <th>funded_amount</th>\n",
       "      <th>loan_amount</th>\n",
       "      <th>status</th>\n",
       "      <th>activity_name</th>\n",
       "      <th>sector_name</th>\n",
       "      <th>...</th>\n",
       "      <th>lender_term</th>\n",
       "      <th>num_lenders_total</th>\n",
       "      <th>num_journal_entries</th>\n",
       "      <th>num_bulk_entries</th>\n",
       "      <th>tags</th>\n",
       "      <th>borrower_genders</th>\n",
       "      <th>borrower_pictured</th>\n",
       "      <th>repayment_interval</th>\n",
       "      <th>distribution_model</th>\n",
       "      <th>loans_duration</th>\n",
       "    </tr>\n",
       "  </thead>\n",
       "  <tbody>\n",
       "    <tr>\n",
       "      <th>0</th>\n",
       "      <td>657307</td>\n",
       "      <td>Aivy</td>\n",
       "      <td>English</td>\n",
       "      <td>Aivy, 21 years of age, is single and lives in ...</td>\n",
       "      <td>NaN</td>\n",
       "      <td>125.00</td>\n",
       "      <td>125.00</td>\n",
       "      <td>funded</td>\n",
       "      <td>General Store</td>\n",
       "      <td>Retail</td>\n",
       "      <td>...</td>\n",
       "      <td>7.00</td>\n",
       "      <td>3</td>\n",
       "      <td>2</td>\n",
       "      <td>1</td>\n",
       "      <td>NaN</td>\n",
       "      <td>female</td>\n",
       "      <td>true</td>\n",
       "      <td>irregular</td>\n",
       "      <td>field_partner</td>\n",
       "      <td>53 days 19:30:06</td>\n",
       "    </tr>\n",
       "    <tr>\n",
       "      <th>1</th>\n",
       "      <td>657259</td>\n",
       "      <td>Idalia Marizza</td>\n",
       "      <td>Spanish</td>\n",
       "      <td>Doña Idalia, esta casada, tiene 57 años de eda...</td>\n",
       "      <td>Idalia, 57, is married and lives with her husb...</td>\n",
       "      <td>400.00</td>\n",
       "      <td>400.00</td>\n",
       "      <td>funded</td>\n",
       "      <td>Used Clothing</td>\n",
       "      <td>Clothing</td>\n",
       "      <td>...</td>\n",
       "      <td>8.00</td>\n",
       "      <td>11</td>\n",
       "      <td>2</td>\n",
       "      <td>1</td>\n",
       "      <td>NaN</td>\n",
       "      <td>female</td>\n",
       "      <td>true</td>\n",
       "      <td>monthly</td>\n",
       "      <td>field_partner</td>\n",
       "      <td>96 days 14:25:07</td>\n",
       "    </tr>\n",
       "    <tr>\n",
       "      <th>2</th>\n",
       "      <td>658010</td>\n",
       "      <td>Aasia</td>\n",
       "      <td>English</td>\n",
       "      <td>Aasia is a 45-year-old married lady and she ha...</td>\n",
       "      <td>NaN</td>\n",
       "      <td>400.00</td>\n",
       "      <td>400.00</td>\n",
       "      <td>funded</td>\n",
       "      <td>General Store</td>\n",
       "      <td>Retail</td>\n",
       "      <td>...</td>\n",
       "      <td>14.00</td>\n",
       "      <td>16</td>\n",
       "      <td>2</td>\n",
       "      <td>1</td>\n",
       "      <td>#Woman Owned Biz, #Supporting Family, user_fav...</td>\n",
       "      <td>female</td>\n",
       "      <td>true</td>\n",
       "      <td>monthly</td>\n",
       "      <td>field_partner</td>\n",
       "      <td>37 days 13:10:05</td>\n",
       "    </tr>\n",
       "    <tr>\n",
       "      <th>3</th>\n",
       "      <td>659347</td>\n",
       "      <td>Gulmira</td>\n",
       "      <td>Russian</td>\n",
       "      <td>Гулмире 36 лет, замужем, вместе с супругом вос...</td>\n",
       "      <td>Gulmira is 36 years old and married.  She and ...</td>\n",
       "      <td>625.00</td>\n",
       "      <td>625.00</td>\n",
       "      <td>funded</td>\n",
       "      <td>Farming</td>\n",
       "      <td>Agriculture</td>\n",
       "      <td>...</td>\n",
       "      <td>14.00</td>\n",
       "      <td>21</td>\n",
       "      <td>2</td>\n",
       "      <td>1</td>\n",
       "      <td>user_favorite</td>\n",
       "      <td>female</td>\n",
       "      <td>true</td>\n",
       "      <td>monthly</td>\n",
       "      <td>field_partner</td>\n",
       "      <td>34 days 19:10:02</td>\n",
       "    </tr>\n",
       "    <tr>\n",
       "      <th>4</th>\n",
       "      <td>656933</td>\n",
       "      <td>Ricky\\t</td>\n",
       "      <td>English</td>\n",
       "      <td>Ricky is a farmer who currently cultivates his...</td>\n",
       "      <td>NaN</td>\n",
       "      <td>425.00</td>\n",
       "      <td>425.00</td>\n",
       "      <td>funded</td>\n",
       "      <td>Farming</td>\n",
       "      <td>Agriculture</td>\n",
       "      <td>...</td>\n",
       "      <td>7.00</td>\n",
       "      <td>15</td>\n",
       "      <td>2</td>\n",
       "      <td>1</td>\n",
       "      <td>#Animals, #Eco-friendly, #Sustainable Ag</td>\n",
       "      <td>male</td>\n",
       "      <td>true</td>\n",
       "      <td>bullet</td>\n",
       "      <td>field_partner</td>\n",
       "      <td>57 days 22:10:02</td>\n",
       "    </tr>\n",
       "  </tbody>\n",
       "</table>\n",
       "<p>5 rows × 32 columns</p>\n",
       "</div>"
      ],
      "text/plain": [
       "   loan_id       loan_name original_language  \\\n",
       "0   657307            Aivy           English   \n",
       "1   657259  Idalia Marizza           Spanish   \n",
       "2   658010           Aasia           English   \n",
       "3   659347         Gulmira           Russian   \n",
       "4   656933         Ricky\\t           English   \n",
       "\n",
       "                                         description  \\\n",
       "0  Aivy, 21 years of age, is single and lives in ...   \n",
       "1  Doña Idalia, esta casada, tiene 57 años de eda...   \n",
       "2  Aasia is a 45-year-old married lady and she ha...   \n",
       "3  Гулмире 36 лет, замужем, вместе с супругом вос...   \n",
       "4  Ricky is a farmer who currently cultivates his...   \n",
       "\n",
       "                              description_translated  funded_amount  \\\n",
       "0                                                NaN         125.00   \n",
       "1  Idalia, 57, is married and lives with her husb...         400.00   \n",
       "2                                                NaN         400.00   \n",
       "3  Gulmira is 36 years old and married.  She and ...         625.00   \n",
       "4                                                NaN         425.00   \n",
       "\n",
       "   loan_amount  status  activity_name  sector_name  ... lender_term  \\\n",
       "0       125.00  funded  General Store       Retail  ...        7.00   \n",
       "1       400.00  funded  Used Clothing     Clothing  ...        8.00   \n",
       "2       400.00  funded  General Store       Retail  ...       14.00   \n",
       "3       625.00  funded        Farming  Agriculture  ...       14.00   \n",
       "4       425.00  funded        Farming  Agriculture  ...        7.00   \n",
       "\n",
       "  num_lenders_total num_journal_entries num_bulk_entries  \\\n",
       "0                 3                   2                1   \n",
       "1                11                   2                1   \n",
       "2                16                   2                1   \n",
       "3                21                   2                1   \n",
       "4                15                   2                1   \n",
       "\n",
       "                                                tags  borrower_genders  \\\n",
       "0                                                NaN            female   \n",
       "1                                                NaN            female   \n",
       "2  #Woman Owned Biz, #Supporting Family, user_fav...            female   \n",
       "3                                      user_favorite            female   \n",
       "4           #Animals, #Eco-friendly, #Sustainable Ag              male   \n",
       "\n",
       "  borrower_pictured  repayment_interval distribution_model   loans_duration  \n",
       "0              true           irregular      field_partner 53 days 19:30:06  \n",
       "1              true             monthly      field_partner 96 days 14:25:07  \n",
       "2              true             monthly      field_partner 37 days 13:10:05  \n",
       "3              true             monthly      field_partner 34 days 19:10:02  \n",
       "4              true              bullet      field_partner 57 days 22:10:02  \n",
       "\n",
       "[5 rows x 32 columns]"
      ]
     },
     "execution_count": 32,
     "metadata": {},
     "output_type": "execute_result"
    }
   ],
   "source": [
    "loans.head()"
   ]
  },
  {
   "cell_type": "code",
   "execution_count": 33,
   "metadata": {
    "colab": {
     "base_uri": "https://localhost:8080/",
     "height": 450
    },
    "colab_type": "code",
    "executionInfo": {
     "elapsed": 90467,
     "status": "ok",
     "timestamp": 1579453345528,
     "user": {
      "displayName": "Mattia Rigiroli",
      "photoUrl": "",
      "userId": "16974970111569695540"
     },
     "user_tz": -60
    },
    "id": "eI2bGT46HiZd",
    "outputId": "98924ce4-465a-45b1-ad88-84305b8a47bd"
   },
   "outputs": [
    {
     "data": {
      "text/html": [
       "<div>\n",
       "<style scoped>\n",
       "    .dataframe tbody tr th:only-of-type {\n",
       "        vertical-align: middle;\n",
       "    }\n",
       "\n",
       "    .dataframe tbody tr th {\n",
       "        vertical-align: top;\n",
       "    }\n",
       "\n",
       "    .dataframe thead th {\n",
       "        text-align: right;\n",
       "    }\n",
       "</style>\n",
       "<table border=\"1\" class=\"dataframe\">\n",
       "  <thead>\n",
       "    <tr style=\"text-align: right;\">\n",
       "      <th></th>\n",
       "      <th>tot_loan</th>\n",
       "    </tr>\n",
       "    <tr>\n",
       "      <th>country_name</th>\n",
       "      <th></th>\n",
       "    </tr>\n",
       "  </thead>\n",
       "  <tbody>\n",
       "    <tr>\n",
       "      <th>Philippines</th>\n",
       "      <td>285336</td>\n",
       "    </tr>\n",
       "    <tr>\n",
       "      <th>Kenya</th>\n",
       "      <td>143699</td>\n",
       "    </tr>\n",
       "    <tr>\n",
       "      <th>Peru</th>\n",
       "      <td>86000</td>\n",
       "    </tr>\n",
       "    <tr>\n",
       "      <th>Cambodia</th>\n",
       "      <td>79701</td>\n",
       "    </tr>\n",
       "    <tr>\n",
       "      <th>El Salvador</th>\n",
       "      <td>64037</td>\n",
       "    </tr>\n",
       "    <tr>\n",
       "      <th>...</th>\n",
       "      <td>...</td>\n",
       "    </tr>\n",
       "    <tr>\n",
       "      <th>Canada</th>\n",
       "      <td>1</td>\n",
       "    </tr>\n",
       "    <tr>\n",
       "      <th>Papua New Guinea</th>\n",
       "      <td>1</td>\n",
       "    </tr>\n",
       "    <tr>\n",
       "      <th>Botswana</th>\n",
       "      <td>1</td>\n",
       "    </tr>\n",
       "    <tr>\n",
       "      <th>Uruguay</th>\n",
       "      <td>1</td>\n",
       "    </tr>\n",
       "    <tr>\n",
       "      <th>Mauritania</th>\n",
       "      <td>1</td>\n",
       "    </tr>\n",
       "  </tbody>\n",
       "</table>\n",
       "<p>96 rows × 1 columns</p>\n",
       "</div>"
      ],
      "text/plain": [
       "                  tot_loan\n",
       "country_name              \n",
       "Philippines         285336\n",
       "Kenya               143699\n",
       "Peru                 86000\n",
       "Cambodia             79701\n",
       "El Salvador          64037\n",
       "...                    ...\n",
       "Canada                   1\n",
       "Papua New Guinea         1\n",
       "Botswana                 1\n",
       "Uruguay                  1\n",
       "Mauritania               1\n",
       "\n",
       "[96 rows x 1 columns]"
      ]
     },
     "execution_count": 33,
     "metadata": {},
     "output_type": "execute_result"
    }
   ],
   "source": [
    "# Il dataset loans si riferisce ai mutui perciò ho raggruppato per paese\n",
    "# contando quante volte ciauscun paese compariva.\n",
    "count_borrowers=pd.DataFrame(loans.groupby('country_name').count()['loan_id'])\n",
    "count_borrowers.rename(columns={'loan_id': 'tot_loan'}, inplace=True)\n",
    "count_borrowers=count_borrowers.sort_values(by='tot_loan', ascending=False)\n",
    "count_borrowers"
   ]
  },
  {
   "cell_type": "markdown",
   "metadata": {
    "colab_type": "text",
    "id": "mZue--lCHiZh"
   },
   "source": [
    "# 5- For each country, compute the overall amount of money borrowed."
   ]
  },
  {
   "cell_type": "code",
   "execution_count": 34,
   "metadata": {
    "colab": {
     "base_uri": "https://localhost:8080/",
     "height": 450
    },
    "colab_type": "code",
    "executionInfo": {
     "elapsed": 90484,
     "status": "ok",
     "timestamp": 1579453345864,
     "user": {
      "displayName": "Mattia Rigiroli",
      "photoUrl": "",
      "userId": "16974970111569695540"
     },
     "user_tz": -60
    },
    "id": "8WsXgBW7HiZi",
    "outputId": "b1965fd5-b7ee-44bf-fb4d-61b498f49886"
   },
   "outputs": [
    {
     "data": {
      "text/html": [
       "<div>\n",
       "<style scoped>\n",
       "    .dataframe tbody tr th:only-of-type {\n",
       "        vertical-align: middle;\n",
       "    }\n",
       "\n",
       "    .dataframe tbody tr th {\n",
       "        vertical-align: top;\n",
       "    }\n",
       "\n",
       "    .dataframe thead th {\n",
       "        text-align: right;\n",
       "    }\n",
       "</style>\n",
       "<table border=\"1\" class=\"dataframe\">\n",
       "  <thead>\n",
       "    <tr style=\"text-align: right;\">\n",
       "      <th></th>\n",
       "      <th>overall_amount</th>\n",
       "    </tr>\n",
       "    <tr>\n",
       "      <th>country_name</th>\n",
       "      <th></th>\n",
       "    </tr>\n",
       "  </thead>\n",
       "  <tbody>\n",
       "    <tr>\n",
       "      <th>Philippines</th>\n",
       "      <td>97984600.00</td>\n",
       "    </tr>\n",
       "    <tr>\n",
       "      <th>Peru</th>\n",
       "      <td>79437775.00</td>\n",
       "    </tr>\n",
       "    <tr>\n",
       "      <th>Kenya</th>\n",
       "      <td>66735975.00</td>\n",
       "    </tr>\n",
       "    <tr>\n",
       "      <th>Paraguay</th>\n",
       "      <td>53964700.00</td>\n",
       "    </tr>\n",
       "    <tr>\n",
       "      <th>Cambodia</th>\n",
       "      <td>51613525.00</td>\n",
       "    </tr>\n",
       "    <tr>\n",
       "      <th>...</th>\n",
       "      <td>...</td>\n",
       "    </tr>\n",
       "    <tr>\n",
       "      <th>Virgin Islands</th>\n",
       "      <td>10000.00</td>\n",
       "    </tr>\n",
       "    <tr>\n",
       "      <th>Vanuatu</th>\n",
       "      <td>9250.00</td>\n",
       "    </tr>\n",
       "    <tr>\n",
       "      <th>Botswana</th>\n",
       "      <td>8000.00</td>\n",
       "    </tr>\n",
       "    <tr>\n",
       "      <th>Uruguay</th>\n",
       "      <td>8000.00</td>\n",
       "    </tr>\n",
       "    <tr>\n",
       "      <th>Gaza</th>\n",
       "      <td>5000.00</td>\n",
       "    </tr>\n",
       "  </tbody>\n",
       "</table>\n",
       "<p>96 rows × 1 columns</p>\n",
       "</div>"
      ],
      "text/plain": [
       "                overall_amount\n",
       "country_name                  \n",
       "Philippines        97984600.00\n",
       "Peru               79437775.00\n",
       "Kenya              66735975.00\n",
       "Paraguay           53964700.00\n",
       "Cambodia           51613525.00\n",
       "...                        ...\n",
       "Virgin Islands        10000.00\n",
       "Vanuatu                9250.00\n",
       "Botswana               8000.00\n",
       "Uruguay                8000.00\n",
       "Gaza                   5000.00\n",
       "\n",
       "[96 rows x 1 columns]"
      ]
     },
     "execution_count": 34,
     "metadata": {},
     "output_type": "execute_result"
    }
   ],
   "source": [
    "cash_borrowed=pd.DataFrame(loans.groupby('country_name').sum()['loan_amount'])\n",
    "cash_borrowed.rename(columns={'loan_amount': 'overall_amount'}, inplace=True)\n",
    "cash_borrowed=cash_borrowed.sort_values(by='overall_amount', ascending=False)\n",
    "cash_borrowed"
   ]
  },
  {
   "cell_type": "markdown",
   "metadata": {},
   "source": [
    "Le Filippine sono lo stato che ha preso a prestito la quantità di denaro più alta. "
   ]
  },
  {
   "cell_type": "code",
   "execution_count": 35,
   "metadata": {
    "colab": {
     "base_uri": "https://localhost:8080/",
     "height": 34
    },
    "colab_type": "code",
    "executionInfo": {
     "elapsed": 90315,
     "status": "ok",
     "timestamp": 1579453345865,
     "user": {
      "displayName": "Mattia Rigiroli",
      "photoUrl": "",
      "userId": "16974970111569695540"
     },
     "user_tz": -60
    },
    "id": "W-39CYsKHiZm",
    "outputId": "96025751-19fa-4493-9bc5-b6aa36726693"
   },
   "outputs": [
    {
     "data": {
      "text/plain": [
       "1181437300.0"
      ]
     },
     "execution_count": 35,
     "metadata": {},
     "output_type": "execute_result"
    }
   ],
   "source": [
    "# Calcolo il totale di soldi finanziati che servirà nei punti successivi. \n",
    "totale=sum(cash_borrowed['overall_amount'])\n",
    "totale"
   ]
  },
  {
   "cell_type": "markdown",
   "metadata": {
    "colab_type": "text",
    "id": "FRC-0oECHiZq"
   },
   "source": [
    "# 6- Like the previous point, but expressed as a percentage of the overall amount lent.\n"
   ]
  },
  {
   "cell_type": "code",
   "execution_count": 36,
   "metadata": {
    "colab": {
     "base_uri": "https://localhost:8080/",
     "height": 450
    },
    "colab_type": "code",
    "executionInfo": {
     "elapsed": 92443,
     "status": "ok",
     "timestamp": 1579453348334,
     "user": {
      "displayName": "Mattia Rigiroli",
      "photoUrl": "",
      "userId": "16974970111569695540"
     },
     "user_tz": -60
    },
    "id": "x26DSanFHiZq",
    "outputId": "dc3aff87-bc5f-4982-d6d1-ac8ce0674cec"
   },
   "outputs": [
    {
     "data": {
      "text/html": [
       "<div>\n",
       "<style scoped>\n",
       "    .dataframe tbody tr th:only-of-type {\n",
       "        vertical-align: middle;\n",
       "    }\n",
       "\n",
       "    .dataframe tbody tr th {\n",
       "        vertical-align: top;\n",
       "    }\n",
       "\n",
       "    .dataframe thead th {\n",
       "        text-align: right;\n",
       "    }\n",
       "</style>\n",
       "<table border=\"1\" class=\"dataframe\">\n",
       "  <thead>\n",
       "    <tr style=\"text-align: right;\">\n",
       "      <th></th>\n",
       "      <th>perc_total_amount</th>\n",
       "    </tr>\n",
       "    <tr>\n",
       "      <th>country_name</th>\n",
       "      <th></th>\n",
       "    </tr>\n",
       "  </thead>\n",
       "  <tbody>\n",
       "    <tr>\n",
       "      <th>Philippines</th>\n",
       "      <td>8.29</td>\n",
       "    </tr>\n",
       "    <tr>\n",
       "      <th>Peru</th>\n",
       "      <td>6.72</td>\n",
       "    </tr>\n",
       "    <tr>\n",
       "      <th>Kenya</th>\n",
       "      <td>5.65</td>\n",
       "    </tr>\n",
       "    <tr>\n",
       "      <th>Paraguay</th>\n",
       "      <td>4.57</td>\n",
       "    </tr>\n",
       "    <tr>\n",
       "      <th>Cambodia</th>\n",
       "      <td>4.37</td>\n",
       "    </tr>\n",
       "    <tr>\n",
       "      <th>...</th>\n",
       "      <td>...</td>\n",
       "    </tr>\n",
       "    <tr>\n",
       "      <th>Virgin Islands</th>\n",
       "      <td>0.00</td>\n",
       "    </tr>\n",
       "    <tr>\n",
       "      <th>Vanuatu</th>\n",
       "      <td>0.00</td>\n",
       "    </tr>\n",
       "    <tr>\n",
       "      <th>Botswana</th>\n",
       "      <td>0.00</td>\n",
       "    </tr>\n",
       "    <tr>\n",
       "      <th>Uruguay</th>\n",
       "      <td>0.00</td>\n",
       "    </tr>\n",
       "    <tr>\n",
       "      <th>Gaza</th>\n",
       "      <td>0.00</td>\n",
       "    </tr>\n",
       "  </tbody>\n",
       "</table>\n",
       "<p>96 rows × 1 columns</p>\n",
       "</div>"
      ],
      "text/plain": [
       "                perc_total_amount\n",
       "country_name                     \n",
       "Philippines                  8.29\n",
       "Peru                         6.72\n",
       "Kenya                        5.65\n",
       "Paraguay                     4.57\n",
       "Cambodia                     4.37\n",
       "...                           ...\n",
       "Virgin Islands               0.00\n",
       "Vanuatu                      0.00\n",
       "Botswana                     0.00\n",
       "Uruguay                      0.00\n",
       "Gaza                         0.00\n",
       "\n",
       "[96 rows x 1 columns]"
      ]
     },
     "execution_count": 36,
     "metadata": {},
     "output_type": "execute_result"
    }
   ],
   "source": [
    "perc_cash_borrowed=pd.DataFrame(((loans.groupby('country_name').sum()['loan_amount'])/totale)*100)\n",
    "perc_cash_borrowed.rename(columns={'loan_amount': 'perc_total_amount'}, inplace=True)\n",
    "perc_cash_borrowed=perc_cash_borrowed.sort_values(by='perc_total_amount', ascending=False)\n",
    "perc_cash_borrowed"
   ]
  },
  {
   "cell_type": "markdown",
   "metadata": {},
   "source": [
    "Le Filippine hanno preso a prestito l'8,3% del denaro prestato totale."
   ]
  },
  {
   "cell_type": "markdown",
   "metadata": {
    "colab_type": "text",
    "id": "NDvYJv_xHiZu"
   },
   "source": [
    "# 7- Like the three previous points, but split for each year (with respect to disburse time).\n"
   ]
  },
  {
   "cell_type": "code",
   "execution_count": 37,
   "metadata": {
    "colab": {},
    "colab_type": "code",
    "id": "CoetxXmTHiZv"
   },
   "outputs": [],
   "source": [
    "# Creo una variabile anno per ciascun loans:\n",
    "loans['disburse_years']=pd.to_datetime(loans['disburse_time']).dt.year"
   ]
  },
  {
   "cell_type": "code",
   "execution_count": 38,
   "metadata": {
    "colab": {
     "base_uri": "https://localhost:8080/",
     "height": 514
    },
    "colab_type": "code",
    "executionInfo": {
     "elapsed": 91926,
     "status": "ok",
     "timestamp": 1579453348336,
     "user": {
      "displayName": "Mattia Rigiroli",
      "photoUrl": "",
      "userId": "16974970111569695540"
     },
     "user_tz": -60
    },
    "id": "lof8fKa4HiZx",
    "outputId": "c45cd822-799b-4eb7-e9b5-17f2c946f872"
   },
   "outputs": [
    {
     "data": {
      "text/html": [
       "<div>\n",
       "<style scoped>\n",
       "    .dataframe tbody tr th:only-of-type {\n",
       "        vertical-align: middle;\n",
       "    }\n",
       "\n",
       "    .dataframe tbody tr th {\n",
       "        vertical-align: top;\n",
       "    }\n",
       "\n",
       "    .dataframe thead th {\n",
       "        text-align: right;\n",
       "    }\n",
       "</style>\n",
       "<table border=\"1\" class=\"dataframe\">\n",
       "  <thead>\n",
       "    <tr style=\"text-align: right;\">\n",
       "      <th></th>\n",
       "      <th>year_overall_amount</th>\n",
       "    </tr>\n",
       "    <tr>\n",
       "      <th>disburse_years</th>\n",
       "      <th></th>\n",
       "    </tr>\n",
       "  </thead>\n",
       "  <tbody>\n",
       "    <tr>\n",
       "      <th>2005.00</th>\n",
       "      <td>102850.00</td>\n",
       "    </tr>\n",
       "    <tr>\n",
       "      <th>2006.00</th>\n",
       "      <td>1376575.00</td>\n",
       "    </tr>\n",
       "    <tr>\n",
       "      <th>2007.00</th>\n",
       "      <td>15446525.00</td>\n",
       "    </tr>\n",
       "    <tr>\n",
       "      <th>2008.00</th>\n",
       "      <td>39423050.00</td>\n",
       "    </tr>\n",
       "    <tr>\n",
       "      <th>2009.00</th>\n",
       "      <td>59689475.00</td>\n",
       "    </tr>\n",
       "    <tr>\n",
       "      <th>2010.00</th>\n",
       "      <td>72609150.00</td>\n",
       "    </tr>\n",
       "    <tr>\n",
       "      <th>2011.00</th>\n",
       "      <td>93699300.00</td>\n",
       "    </tr>\n",
       "    <tr>\n",
       "      <th>2012.00</th>\n",
       "      <td>119977575.00</td>\n",
       "    </tr>\n",
       "    <tr>\n",
       "      <th>2013.00</th>\n",
       "      <td>132043925.00</td>\n",
       "    </tr>\n",
       "    <tr>\n",
       "      <th>2014.00</th>\n",
       "      <td>152270425.00</td>\n",
       "    </tr>\n",
       "    <tr>\n",
       "      <th>2015.00</th>\n",
       "      <td>155835650.00</td>\n",
       "    </tr>\n",
       "    <tr>\n",
       "      <th>2016.00</th>\n",
       "      <td>160978375.00</td>\n",
       "    </tr>\n",
       "    <tr>\n",
       "      <th>2017.00</th>\n",
       "      <td>166053650.00</td>\n",
       "    </tr>\n",
       "    <tr>\n",
       "      <th>2018.00</th>\n",
       "      <td>990025.00</td>\n",
       "    </tr>\n",
       "  </tbody>\n",
       "</table>\n",
       "</div>"
      ],
      "text/plain": [
       "                year_overall_amount\n",
       "disburse_years                     \n",
       "2005.00                   102850.00\n",
       "2006.00                  1376575.00\n",
       "2007.00                 15446525.00\n",
       "2008.00                 39423050.00\n",
       "2009.00                 59689475.00\n",
       "2010.00                 72609150.00\n",
       "2011.00                 93699300.00\n",
       "2012.00                119977575.00\n",
       "2013.00                132043925.00\n",
       "2014.00                152270425.00\n",
       "2015.00                155835650.00\n",
       "2016.00                160978375.00\n",
       "2017.00                166053650.00\n",
       "2018.00                   990025.00"
      ]
     },
     "execution_count": 38,
     "metadata": {},
     "output_type": "execute_result"
    }
   ],
   "source": [
    "# Calcolo il totale per ogni anno:\n",
    "tot_year=pd.DataFrame(loans.groupby('disburse_years').sum()['loan_amount'])\n",
    "tot_year.rename(columns={'loan_amount': 'year_overall_amount'}, inplace=True)\n",
    "tot_year"
   ]
  },
  {
   "cell_type": "code",
   "execution_count": 39,
   "metadata": {
    "colab": {
     "base_uri": "https://localhost:8080/",
     "height": 34
    },
    "colab_type": "code",
    "executionInfo": {
     "elapsed": 91759,
     "status": "ok",
     "timestamp": 1579453348337,
     "user": {
      "displayName": "Mattia Rigiroli",
      "photoUrl": "",
      "userId": "16974970111569695540"
     },
     "user_tz": -60
    },
    "id": "OkAoWEnjHiZz",
    "outputId": "1e354428-e25f-4d5f-939f-c8770abe36b1"
   },
   "outputs": [
    {
     "data": {
      "text/plain": [
       "1170496550.0"
      ]
     },
     "execution_count": 39,
     "metadata": {},
     "output_type": "execute_result"
    }
   ],
   "source": [
    "sum(tot_year['year_overall_amount'])\n",
    "# Il totale non corrisponde al totale calcolato al punto precedente\n",
    "# ed è minore in quanto vi sono più valori nulli in\n",
    "# disrburse time rispetto che al country_name. "
   ]
  },
  {
   "cell_type": "code",
   "execution_count": 40,
   "metadata": {},
   "outputs": [
    {
     "data": {
      "text/plain": [
       "disburse_time     2813\n",
       "disburse_years    2813\n",
       "country_name         0\n",
       "dtype: int64"
      ]
     },
     "execution_count": 40,
     "metadata": {},
     "output_type": "execute_result"
    }
   ],
   "source": [
    "loans[['disburse_time','disburse_years','country_name']].isna().sum()  "
   ]
  },
  {
   "cell_type": "code",
   "execution_count": 41,
   "metadata": {
    "colab": {
     "base_uri": "https://localhost:8080/",
     "height": 450
    },
    "colab_type": "code",
    "executionInfo": {
     "elapsed": 91538,
     "status": "ok",
     "timestamp": 1579453348338,
     "user": {
      "displayName": "Mattia Rigiroli",
      "photoUrl": "",
      "userId": "16974970111569695540"
     },
     "user_tz": -60
    },
    "id": "YPMa1CVrHiZ0",
    "outputId": "6e02d870-4340-47ed-cf36-e3edc3eeddca"
   },
   "outputs": [
    {
     "data": {
      "text/html": [
       "<div>\n",
       "<style scoped>\n",
       "    .dataframe tbody tr th:only-of-type {\n",
       "        vertical-align: middle;\n",
       "    }\n",
       "\n",
       "    .dataframe tbody tr th {\n",
       "        vertical-align: top;\n",
       "    }\n",
       "\n",
       "    .dataframe thead th {\n",
       "        text-align: right;\n",
       "    }\n",
       "</style>\n",
       "<table border=\"1\" class=\"dataframe\">\n",
       "  <thead>\n",
       "    <tr style=\"text-align: right;\">\n",
       "      <th></th>\n",
       "      <th></th>\n",
       "      <th>perc_total_amount</th>\n",
       "    </tr>\n",
       "    <tr>\n",
       "      <th>country_name</th>\n",
       "      <th>disburse_years</th>\n",
       "      <th></th>\n",
       "    </tr>\n",
       "  </thead>\n",
       "  <tbody>\n",
       "    <tr>\n",
       "      <th rowspan=\"5\" valign=\"top\">Afghanistan</th>\n",
       "      <th>2007.00</th>\n",
       "      <td>1.26</td>\n",
       "    </tr>\n",
       "    <tr>\n",
       "      <th>2008.00</th>\n",
       "      <td>0.93</td>\n",
       "    </tr>\n",
       "    <tr>\n",
       "      <th>2009.00</th>\n",
       "      <td>0.98</td>\n",
       "    </tr>\n",
       "    <tr>\n",
       "      <th>2010.00</th>\n",
       "      <td>0.78</td>\n",
       "    </tr>\n",
       "    <tr>\n",
       "      <th>2011.00</th>\n",
       "      <td>0.26</td>\n",
       "    </tr>\n",
       "    <tr>\n",
       "      <th>...</th>\n",
       "      <th>...</th>\n",
       "      <td>...</td>\n",
       "    </tr>\n",
       "    <tr>\n",
       "      <th rowspan=\"5\" valign=\"top\">Zimbabwe</th>\n",
       "      <th>2013.00</th>\n",
       "      <td>0.51</td>\n",
       "    </tr>\n",
       "    <tr>\n",
       "      <th>2014.00</th>\n",
       "      <td>0.86</td>\n",
       "    </tr>\n",
       "    <tr>\n",
       "      <th>2015.00</th>\n",
       "      <td>0.46</td>\n",
       "    </tr>\n",
       "    <tr>\n",
       "      <th>2016.00</th>\n",
       "      <td>0.49</td>\n",
       "    </tr>\n",
       "    <tr>\n",
       "      <th>2017.00</th>\n",
       "      <td>0.75</td>\n",
       "    </tr>\n",
       "  </tbody>\n",
       "</table>\n",
       "<p>748 rows × 1 columns</p>\n",
       "</div>"
      ],
      "text/plain": [
       "                             perc_total_amount\n",
       "country_name disburse_years                   \n",
       "Afghanistan  2007.00                      1.26\n",
       "             2008.00                      0.93\n",
       "             2009.00                      0.98\n",
       "             2010.00                      0.78\n",
       "             2011.00                      0.26\n",
       "...                                        ...\n",
       "Zimbabwe     2013.00                      0.51\n",
       "             2014.00                      0.86\n",
       "             2015.00                      0.46\n",
       "             2016.00                      0.49\n",
       "             2017.00                      0.75\n",
       "\n",
       "[748 rows x 1 columns]"
      ]
     },
     "execution_count": 41,
     "metadata": {},
     "output_type": "execute_result"
    }
   ],
   "source": [
    "perc_cash_borrowed_year=pd.DataFrame(((loans.groupby(['country_name','disburse_years']).sum()['loan_amount'])/(loans.groupby('disburse_years').sum()['loan_amount']))*100)\n",
    "perc_cash_borrowed_year.rename(columns={'loan_amount': 'perc_total_amount'}, inplace=True)\n",
    "perc_cash_borrowed_year"
   ]
  },
  {
   "cell_type": "markdown",
   "metadata": {
    "colab_type": "text",
    "id": "3_SamG2WF5-A"
   },
   "source": [
    "Ad esempio, l'Afghanistan nel 2007 ha preso in prestito l'1,26% del totale di soldi presi in prestito nel 2007."
   ]
  },
  {
   "cell_type": "markdown",
   "metadata": {
    "colab_type": "text",
    "id": "v4KTGfFiHiZ7"
   },
   "source": [
    "# 8- For each lender, compute the overall amount of money lent. For each loan that has more than one lender, you must assume that all lenders contributed the same amount."
   ]
  },
  {
   "cell_type": "code",
   "execution_count": 42,
   "metadata": {
    "colab": {
     "base_uri": "https://localhost:8080/",
     "height": 581
    },
    "colab_type": "code",
    "executionInfo": {
     "elapsed": 91523,
     "status": "ok",
     "timestamp": 1579453348753,
     "user": {
      "displayName": "Mattia Rigiroli",
      "photoUrl": "",
      "userId": "16974970111569695540"
     },
     "user_tz": -60
    },
    "id": "if-QkjngZUIP",
    "outputId": "377d950f-681a-4f1e-e6b5-7368edfc08b6"
   },
   "outputs": [
    {
     "data": {
      "text/html": [
       "<div>\n",
       "<style scoped>\n",
       "    .dataframe tbody tr th:only-of-type {\n",
       "        vertical-align: middle;\n",
       "    }\n",
       "\n",
       "    .dataframe tbody tr th {\n",
       "        vertical-align: top;\n",
       "    }\n",
       "\n",
       "    .dataframe thead th {\n",
       "        text-align: right;\n",
       "    }\n",
       "</style>\n",
       "<table border=\"1\" class=\"dataframe\">\n",
       "  <thead>\n",
       "    <tr style=\"text-align: right;\">\n",
       "      <th></th>\n",
       "      <th>loan_id</th>\n",
       "      <th>loan_name</th>\n",
       "      <th>original_language</th>\n",
       "      <th>description</th>\n",
       "      <th>description_translated</th>\n",
       "      <th>funded_amount</th>\n",
       "      <th>loan_amount</th>\n",
       "      <th>status</th>\n",
       "      <th>activity_name</th>\n",
       "      <th>sector_name</th>\n",
       "      <th>...</th>\n",
       "      <th>num_lenders_total</th>\n",
       "      <th>num_journal_entries</th>\n",
       "      <th>num_bulk_entries</th>\n",
       "      <th>tags</th>\n",
       "      <th>borrower_genders</th>\n",
       "      <th>borrower_pictured</th>\n",
       "      <th>repayment_interval</th>\n",
       "      <th>distribution_model</th>\n",
       "      <th>loans_duration</th>\n",
       "      <th>disburse_years</th>\n",
       "    </tr>\n",
       "  </thead>\n",
       "  <tbody>\n",
       "    <tr>\n",
       "      <th>0</th>\n",
       "      <td>657307</td>\n",
       "      <td>Aivy</td>\n",
       "      <td>English</td>\n",
       "      <td>Aivy, 21 years of age, is single and lives in ...</td>\n",
       "      <td>NaN</td>\n",
       "      <td>125.00</td>\n",
       "      <td>125.00</td>\n",
       "      <td>funded</td>\n",
       "      <td>General Store</td>\n",
       "      <td>Retail</td>\n",
       "      <td>...</td>\n",
       "      <td>3</td>\n",
       "      <td>2</td>\n",
       "      <td>1</td>\n",
       "      <td>NaN</td>\n",
       "      <td>female</td>\n",
       "      <td>true</td>\n",
       "      <td>irregular</td>\n",
       "      <td>field_partner</td>\n",
       "      <td>53 days 19:30:06</td>\n",
       "      <td>2013.00</td>\n",
       "    </tr>\n",
       "    <tr>\n",
       "      <th>1</th>\n",
       "      <td>657259</td>\n",
       "      <td>Idalia Marizza</td>\n",
       "      <td>Spanish</td>\n",
       "      <td>Doña Idalia, esta casada, tiene 57 años de eda...</td>\n",
       "      <td>Idalia, 57, is married and lives with her husb...</td>\n",
       "      <td>400.00</td>\n",
       "      <td>400.00</td>\n",
       "      <td>funded</td>\n",
       "      <td>Used Clothing</td>\n",
       "      <td>Clothing</td>\n",
       "      <td>...</td>\n",
       "      <td>11</td>\n",
       "      <td>2</td>\n",
       "      <td>1</td>\n",
       "      <td>NaN</td>\n",
       "      <td>female</td>\n",
       "      <td>true</td>\n",
       "      <td>monthly</td>\n",
       "      <td>field_partner</td>\n",
       "      <td>96 days 14:25:07</td>\n",
       "      <td>2013.00</td>\n",
       "    </tr>\n",
       "    <tr>\n",
       "      <th>2</th>\n",
       "      <td>658010</td>\n",
       "      <td>Aasia</td>\n",
       "      <td>English</td>\n",
       "      <td>Aasia is a 45-year-old married lady and she ha...</td>\n",
       "      <td>NaN</td>\n",
       "      <td>400.00</td>\n",
       "      <td>400.00</td>\n",
       "      <td>funded</td>\n",
       "      <td>General Store</td>\n",
       "      <td>Retail</td>\n",
       "      <td>...</td>\n",
       "      <td>16</td>\n",
       "      <td>2</td>\n",
       "      <td>1</td>\n",
       "      <td>#Woman Owned Biz, #Supporting Family, user_fav...</td>\n",
       "      <td>female</td>\n",
       "      <td>true</td>\n",
       "      <td>monthly</td>\n",
       "      <td>field_partner</td>\n",
       "      <td>37 days 13:10:05</td>\n",
       "      <td>2014.00</td>\n",
       "    </tr>\n",
       "    <tr>\n",
       "      <th>3</th>\n",
       "      <td>659347</td>\n",
       "      <td>Gulmira</td>\n",
       "      <td>Russian</td>\n",
       "      <td>Гулмире 36 лет, замужем, вместе с супругом вос...</td>\n",
       "      <td>Gulmira is 36 years old and married.  She and ...</td>\n",
       "      <td>625.00</td>\n",
       "      <td>625.00</td>\n",
       "      <td>funded</td>\n",
       "      <td>Farming</td>\n",
       "      <td>Agriculture</td>\n",
       "      <td>...</td>\n",
       "      <td>21</td>\n",
       "      <td>2</td>\n",
       "      <td>1</td>\n",
       "      <td>user_favorite</td>\n",
       "      <td>female</td>\n",
       "      <td>true</td>\n",
       "      <td>monthly</td>\n",
       "      <td>field_partner</td>\n",
       "      <td>34 days 19:10:02</td>\n",
       "      <td>2014.00</td>\n",
       "    </tr>\n",
       "    <tr>\n",
       "      <th>4</th>\n",
       "      <td>656933</td>\n",
       "      <td>Ricky\\t</td>\n",
       "      <td>English</td>\n",
       "      <td>Ricky is a farmer who currently cultivates his...</td>\n",
       "      <td>NaN</td>\n",
       "      <td>425.00</td>\n",
       "      <td>425.00</td>\n",
       "      <td>funded</td>\n",
       "      <td>Farming</td>\n",
       "      <td>Agriculture</td>\n",
       "      <td>...</td>\n",
       "      <td>15</td>\n",
       "      <td>2</td>\n",
       "      <td>1</td>\n",
       "      <td>#Animals, #Eco-friendly, #Sustainable Ag</td>\n",
       "      <td>male</td>\n",
       "      <td>true</td>\n",
       "      <td>bullet</td>\n",
       "      <td>field_partner</td>\n",
       "      <td>57 days 22:10:02</td>\n",
       "      <td>2013.00</td>\n",
       "    </tr>\n",
       "  </tbody>\n",
       "</table>\n",
       "<p>5 rows × 33 columns</p>\n",
       "</div>"
      ],
      "text/plain": [
       "   loan_id       loan_name original_language  \\\n",
       "0   657307            Aivy           English   \n",
       "1   657259  Idalia Marizza           Spanish   \n",
       "2   658010           Aasia           English   \n",
       "3   659347         Gulmira           Russian   \n",
       "4   656933         Ricky\\t           English   \n",
       "\n",
       "                                         description  \\\n",
       "0  Aivy, 21 years of age, is single and lives in ...   \n",
       "1  Doña Idalia, esta casada, tiene 57 años de eda...   \n",
       "2  Aasia is a 45-year-old married lady and she ha...   \n",
       "3  Гулмире 36 лет, замужем, вместе с супругом вос...   \n",
       "4  Ricky is a farmer who currently cultivates his...   \n",
       "\n",
       "                              description_translated  funded_amount  \\\n",
       "0                                                NaN         125.00   \n",
       "1  Idalia, 57, is married and lives with her husb...         400.00   \n",
       "2                                                NaN         400.00   \n",
       "3  Gulmira is 36 years old and married.  She and ...         625.00   \n",
       "4                                                NaN         425.00   \n",
       "\n",
       "   loan_amount  status  activity_name  sector_name  ... num_lenders_total  \\\n",
       "0       125.00  funded  General Store       Retail  ...                 3   \n",
       "1       400.00  funded  Used Clothing     Clothing  ...                11   \n",
       "2       400.00  funded  General Store       Retail  ...                16   \n",
       "3       625.00  funded        Farming  Agriculture  ...                21   \n",
       "4       425.00  funded        Farming  Agriculture  ...                15   \n",
       "\n",
       "  num_journal_entries num_bulk_entries  \\\n",
       "0                   2                1   \n",
       "1                   2                1   \n",
       "2                   2                1   \n",
       "3                   2                1   \n",
       "4                   2                1   \n",
       "\n",
       "                                                tags borrower_genders  \\\n",
       "0                                                NaN           female   \n",
       "1                                                NaN           female   \n",
       "2  #Woman Owned Biz, #Supporting Family, user_fav...           female   \n",
       "3                                      user_favorite           female   \n",
       "4           #Animals, #Eco-friendly, #Sustainable Ag             male   \n",
       "\n",
       "   borrower_pictured repayment_interval  distribution_model   loans_duration  \\\n",
       "0               true          irregular       field_partner 53 days 19:30:06   \n",
       "1               true            monthly       field_partner 96 days 14:25:07   \n",
       "2               true            monthly       field_partner 37 days 13:10:05   \n",
       "3               true            monthly       field_partner 34 days 19:10:02   \n",
       "4               true             bullet       field_partner 57 days 22:10:02   \n",
       "\n",
       "  disburse_years  \n",
       "0        2013.00  \n",
       "1        2013.00  \n",
       "2        2014.00  \n",
       "3        2014.00  \n",
       "4        2013.00  \n",
       "\n",
       "[5 rows x 33 columns]"
      ]
     },
     "execution_count": 42,
     "metadata": {},
     "output_type": "execute_result"
    }
   ],
   "source": [
    "loans.head()"
   ]
  },
  {
   "cell_type": "code",
   "execution_count": 43,
   "metadata": {
    "colab": {},
    "colab_type": "code",
    "id": "ZeRFR7r4fw6C"
   },
   "outputs": [],
   "source": [
    "# Creo un sottodataset di loans con le sole variabili d'interesse\n",
    "# per snellire la procedura di merge. \n",
    "loans_sel=loans[['loan_id','num_lenders_total','funded_amount']]"
   ]
  },
  {
   "cell_type": "code",
   "execution_count": 44,
   "metadata": {
    "colab": {},
    "colab_type": "code",
    "id": "9-3pFYhuHiaH"
   },
   "outputs": [
    {
     "data": {
      "text/html": [
       "<div>\n",
       "<style scoped>\n",
       "    .dataframe tbody tr th:only-of-type {\n",
       "        vertical-align: middle;\n",
       "    }\n",
       "\n",
       "    .dataframe tbody tr th {\n",
       "        vertical-align: top;\n",
       "    }\n",
       "\n",
       "    .dataframe thead th {\n",
       "        text-align: right;\n",
       "    }\n",
       "</style>\n",
       "<table border=\"1\" class=\"dataframe\">\n",
       "  <thead>\n",
       "    <tr style=\"text-align: right;\">\n",
       "      <th></th>\n",
       "      <th>loan_id</th>\n",
       "      <th>lender</th>\n",
       "      <th>num_lenders_total</th>\n",
       "      <th>funded_amount</th>\n",
       "    </tr>\n",
       "  </thead>\n",
       "  <tbody>\n",
       "    <tr>\n",
       "      <th>0</th>\n",
       "      <td>483693</td>\n",
       "      <td>muc888</td>\n",
       "      <td>44</td>\n",
       "      <td>1225.00</td>\n",
       "    </tr>\n",
       "    <tr>\n",
       "      <th>1</th>\n",
       "      <td>483693</td>\n",
       "      <td>sam4326</td>\n",
       "      <td>44</td>\n",
       "      <td>1225.00</td>\n",
       "    </tr>\n",
       "    <tr>\n",
       "      <th>2</th>\n",
       "      <td>483693</td>\n",
       "      <td>camaran3922</td>\n",
       "      <td>44</td>\n",
       "      <td>1225.00</td>\n",
       "    </tr>\n",
       "    <tr>\n",
       "      <th>3</th>\n",
       "      <td>483693</td>\n",
       "      <td>lachheb1865</td>\n",
       "      <td>44</td>\n",
       "      <td>1225.00</td>\n",
       "    </tr>\n",
       "    <tr>\n",
       "      <th>4</th>\n",
       "      <td>483693</td>\n",
       "      <td>rebecca3499</td>\n",
       "      <td>44</td>\n",
       "      <td>1225.00</td>\n",
       "    </tr>\n",
       "  </tbody>\n",
       "</table>\n",
       "</div>"
      ],
      "text/plain": [
       "   loan_id        lender  num_lenders_total  funded_amount\n",
       "0   483693        muc888                 44        1225.00\n",
       "1   483693       sam4326                 44        1225.00\n",
       "2   483693   camaran3922                 44        1225.00\n",
       "3   483693   lachheb1865                 44        1225.00\n",
       "4   483693   rebecca3499                 44        1225.00"
      ]
     },
     "execution_count": 44,
     "metadata": {},
     "output_type": "execute_result"
    }
   ],
   "source": [
    "# Unisco il dataset normnalizzato con il sottodataset di loans\n",
    "df=pd.merge(loan_lender_norm,loans_sel,on='loan_id')\n",
    "df.head()"
   ]
  },
  {
   "cell_type": "code",
   "execution_count": 45,
   "metadata": {
    "colab": {},
    "colab_type": "code",
    "id": "GJW3TeS0HiaK"
   },
   "outputs": [
    {
     "data": {
      "text/html": [
       "<div>\n",
       "<style scoped>\n",
       "    .dataframe tbody tr th:only-of-type {\n",
       "        vertical-align: middle;\n",
       "    }\n",
       "\n",
       "    .dataframe tbody tr th {\n",
       "        vertical-align: top;\n",
       "    }\n",
       "\n",
       "    .dataframe thead th {\n",
       "        text-align: right;\n",
       "    }\n",
       "</style>\n",
       "<table border=\"1\" class=\"dataframe\">\n",
       "  <thead>\n",
       "    <tr style=\"text-align: right;\">\n",
       "      <th></th>\n",
       "      <th>loan_id</th>\n",
       "      <th>lender</th>\n",
       "      <th>num_lenders_total</th>\n",
       "      <th>funded_amount</th>\n",
       "      <th>$lenders</th>\n",
       "    </tr>\n",
       "  </thead>\n",
       "  <tbody>\n",
       "    <tr>\n",
       "      <th>0</th>\n",
       "      <td>483693</td>\n",
       "      <td>muc888</td>\n",
       "      <td>44</td>\n",
       "      <td>1225.00</td>\n",
       "      <td>27.84</td>\n",
       "    </tr>\n",
       "    <tr>\n",
       "      <th>1</th>\n",
       "      <td>483693</td>\n",
       "      <td>sam4326</td>\n",
       "      <td>44</td>\n",
       "      <td>1225.00</td>\n",
       "      <td>27.84</td>\n",
       "    </tr>\n",
       "    <tr>\n",
       "      <th>2</th>\n",
       "      <td>483693</td>\n",
       "      <td>camaran3922</td>\n",
       "      <td>44</td>\n",
       "      <td>1225.00</td>\n",
       "      <td>27.84</td>\n",
       "    </tr>\n",
       "    <tr>\n",
       "      <th>3</th>\n",
       "      <td>483693</td>\n",
       "      <td>lachheb1865</td>\n",
       "      <td>44</td>\n",
       "      <td>1225.00</td>\n",
       "      <td>27.84</td>\n",
       "    </tr>\n",
       "    <tr>\n",
       "      <th>4</th>\n",
       "      <td>483693</td>\n",
       "      <td>rebecca3499</td>\n",
       "      <td>44</td>\n",
       "      <td>1225.00</td>\n",
       "      <td>27.84</td>\n",
       "    </tr>\n",
       "  </tbody>\n",
       "</table>\n",
       "</div>"
      ],
      "text/plain": [
       "   loan_id        lender  num_lenders_total  funded_amount  $lenders\n",
       "0   483693        muc888                 44        1225.00     27.84\n",
       "1   483693       sam4326                 44        1225.00     27.84\n",
       "2   483693   camaran3922                 44        1225.00     27.84\n",
       "3   483693   lachheb1865                 44        1225.00     27.84\n",
       "4   483693   rebecca3499                 44        1225.00     27.84"
      ]
     },
     "execution_count": 45,
     "metadata": {},
     "output_type": "execute_result"
    }
   ],
   "source": [
    "# Calcolo il contributo di ciascun lenders per ciascun loans\n",
    "df['$lenders']=df['funded_amount']/df['num_lenders_total']\n",
    "df.head()"
   ]
  },
  {
   "cell_type": "code",
   "execution_count": 46,
   "metadata": {
    "colab": {
     "base_uri": "https://localhost:8080/",
     "height": 419
    },
    "colab_type": "code",
    "executionInfo": {
     "elapsed": 109629,
     "status": "ok",
     "timestamp": 1579453367899,
     "user": {
      "displayName": "Mattia Rigiroli",
      "photoUrl": "",
      "userId": "16974970111569695540"
     },
     "user_tz": -60
    },
    "id": "Eh4vW4U-HiaO",
    "outputId": "9ef9f7bf-3f11-448b-b7a2-083b50254f14"
   },
   "outputs": [
    {
     "data": {
      "text/html": [
       "<div>\n",
       "<style scoped>\n",
       "    .dataframe tbody tr th:only-of-type {\n",
       "        vertical-align: middle;\n",
       "    }\n",
       "\n",
       "    .dataframe tbody tr th {\n",
       "        vertical-align: top;\n",
       "    }\n",
       "\n",
       "    .dataframe thead th {\n",
       "        text-align: right;\n",
       "    }\n",
       "</style>\n",
       "<table border=\"1\" class=\"dataframe\">\n",
       "  <thead>\n",
       "    <tr style=\"text-align: right;\">\n",
       "      <th></th>\n",
       "      <th>lender</th>\n",
       "      <th>$lenders</th>\n",
       "    </tr>\n",
       "  </thead>\n",
       "  <tbody>\n",
       "    <tr>\n",
       "      <th>0</th>\n",
       "      <td>000</td>\n",
       "      <td>1485.31</td>\n",
       "    </tr>\n",
       "    <tr>\n",
       "      <th>1</th>\n",
       "      <td>00000</td>\n",
       "      <td>1249.13</td>\n",
       "    </tr>\n",
       "    <tr>\n",
       "      <th>2</th>\n",
       "      <td>0002</td>\n",
       "      <td>2201.18</td>\n",
       "    </tr>\n",
       "    <tr>\n",
       "      <th>3</th>\n",
       "      <td>00mike00</td>\n",
       "      <td>38.46</td>\n",
       "    </tr>\n",
       "    <tr>\n",
       "      <th>4</th>\n",
       "      <td>0101craign0101</td>\n",
       "      <td>2424.09</td>\n",
       "    </tr>\n",
       "    <tr>\n",
       "      <th>...</th>\n",
       "      <td>...</td>\n",
       "      <td>...</td>\n",
       "    </tr>\n",
       "    <tr>\n",
       "      <th>1639021</th>\n",
       "      <td>zzanita</td>\n",
       "      <td>62.50</td>\n",
       "    </tr>\n",
       "    <tr>\n",
       "      <th>1639022</th>\n",
       "      <td>zzcyna7269</td>\n",
       "      <td>44.29</td>\n",
       "    </tr>\n",
       "    <tr>\n",
       "      <th>1639023</th>\n",
       "      <td>zzinnia</td>\n",
       "      <td>32.76</td>\n",
       "    </tr>\n",
       "    <tr>\n",
       "      <th>1639024</th>\n",
       "      <td>zzmcfate</td>\n",
       "      <td>1889.70</td>\n",
       "    </tr>\n",
       "    <tr>\n",
       "      <th>1639025</th>\n",
       "      <td>zzrvmf8538</td>\n",
       "      <td>70.51</td>\n",
       "    </tr>\n",
       "  </tbody>\n",
       "</table>\n",
       "<p>1639026 rows × 2 columns</p>\n",
       "</div>"
      ],
      "text/plain": [
       "                  lender  $lenders\n",
       "0                    000   1485.31\n",
       "1                  00000   1249.13\n",
       "2                   0002   2201.18\n",
       "3               00mike00     38.46\n",
       "4         0101craign0101   2424.09\n",
       "...                  ...       ...\n",
       "1639021          zzanita     62.50\n",
       "1639022       zzcyna7269     44.29\n",
       "1639023          zzinnia     32.76\n",
       "1639024         zzmcfate   1889.70\n",
       "1639025       zzrvmf8538     70.51\n",
       "\n",
       "[1639026 rows x 2 columns]"
      ]
     },
     "execution_count": 46,
     "metadata": {},
     "output_type": "execute_result"
    }
   ],
   "source": [
    "df1=pd.DataFrame(df.groupby('lender').sum()['$lenders'])\n",
    "#df1=df1.sort_values(by='$lenders', ascending=False)\n",
    "df1=df1.reset_index()\n",
    "df1"
   ]
  },
  {
   "cell_type": "markdown",
   "metadata": {
    "colab_type": "text",
    "id": "PyM3oGMNHibB"
   },
   "source": [
    "# 9- For each country, compute the difference between the overall amount of money lent and the overall amount of money borrowed. Since the country of the lender is often unknown, you can assume that the true distribution among the countries is the same as the one computed from the rows where the country is known."
   ]
  },
  {
   "cell_type": "code",
   "execution_count": 47,
   "metadata": {
    "colab": {},
    "colab_type": "code",
    "id": "XWb_BAsHHibD"
   },
   "outputs": [],
   "source": [
    "lender=pd.read_csv(r\"C:\\Users\\matti\\OneDrive - Universita degli Studi di Milano-Bicocca\\Uni\\LM-DataScience\\1-Anno\\Computer Science\\Final Project\\Final Project CS\\Kiva_Dataset\\lenders.csv\")"
   ]
  },
  {
   "cell_type": "code",
   "execution_count": 48,
   "metadata": {
    "colab": {
     "base_uri": "https://localhost:8080/",
     "height": 204
    },
    "colab_type": "code",
    "executionInfo": {
     "elapsed": 114875,
     "status": "ok",
     "timestamp": 1579453373667,
     "user": {
      "displayName": "Mattia Rigiroli",
      "photoUrl": "",
      "userId": "16974970111569695540"
     },
     "user_tz": -60
    },
    "id": "hyh78vUaHibG",
    "outputId": "78d56b8d-81c4-4ead-c732-c1e1b05abfdc"
   },
   "outputs": [
    {
     "data": {
      "text/html": [
       "<div>\n",
       "<style scoped>\n",
       "    .dataframe tbody tr th:only-of-type {\n",
       "        vertical-align: middle;\n",
       "    }\n",
       "\n",
       "    .dataframe tbody tr th {\n",
       "        vertical-align: top;\n",
       "    }\n",
       "\n",
       "    .dataframe thead th {\n",
       "        text-align: right;\n",
       "    }\n",
       "</style>\n",
       "<table border=\"1\" class=\"dataframe\">\n",
       "  <thead>\n",
       "    <tr style=\"text-align: right;\">\n",
       "      <th></th>\n",
       "      <th>permanent_name</th>\n",
       "      <th>display_name</th>\n",
       "      <th>city</th>\n",
       "      <th>state</th>\n",
       "      <th>country_code</th>\n",
       "      <th>member_since</th>\n",
       "      <th>occupation</th>\n",
       "      <th>loan_because</th>\n",
       "      <th>loan_purchase_num</th>\n",
       "      <th>invited_by</th>\n",
       "      <th>num_invited</th>\n",
       "    </tr>\n",
       "  </thead>\n",
       "  <tbody>\n",
       "    <tr>\n",
       "      <th>0</th>\n",
       "      <td>qian3013</td>\n",
       "      <td>Qian</td>\n",
       "      <td>NaN</td>\n",
       "      <td>NaN</td>\n",
       "      <td>NaN</td>\n",
       "      <td>1461300457</td>\n",
       "      <td>NaN</td>\n",
       "      <td>NaN</td>\n",
       "      <td>1.00</td>\n",
       "      <td>NaN</td>\n",
       "      <td>0</td>\n",
       "    </tr>\n",
       "    <tr>\n",
       "      <th>1</th>\n",
       "      <td>reena6733</td>\n",
       "      <td>Reena</td>\n",
       "      <td>NaN</td>\n",
       "      <td>NaN</td>\n",
       "      <td>NaN</td>\n",
       "      <td>1461300634</td>\n",
       "      <td>NaN</td>\n",
       "      <td>NaN</td>\n",
       "      <td>9.00</td>\n",
       "      <td>NaN</td>\n",
       "      <td>0</td>\n",
       "    </tr>\n",
       "    <tr>\n",
       "      <th>2</th>\n",
       "      <td>mai5982</td>\n",
       "      <td>Mai</td>\n",
       "      <td>NaN</td>\n",
       "      <td>NaN</td>\n",
       "      <td>NaN</td>\n",
       "      <td>1461300853</td>\n",
       "      <td>NaN</td>\n",
       "      <td>NaN</td>\n",
       "      <td>nan</td>\n",
       "      <td>NaN</td>\n",
       "      <td>0</td>\n",
       "    </tr>\n",
       "    <tr>\n",
       "      <th>3</th>\n",
       "      <td>andrew86079135</td>\n",
       "      <td>Andrew</td>\n",
       "      <td>NaN</td>\n",
       "      <td>NaN</td>\n",
       "      <td>NaN</td>\n",
       "      <td>1461301091</td>\n",
       "      <td>NaN</td>\n",
       "      <td>NaN</td>\n",
       "      <td>5.00</td>\n",
       "      <td>Peter Tan</td>\n",
       "      <td>0</td>\n",
       "    </tr>\n",
       "    <tr>\n",
       "      <th>4</th>\n",
       "      <td>nguyen6962</td>\n",
       "      <td>Nguyen</td>\n",
       "      <td>NaN</td>\n",
       "      <td>NaN</td>\n",
       "      <td>NaN</td>\n",
       "      <td>1461301154</td>\n",
       "      <td>NaN</td>\n",
       "      <td>NaN</td>\n",
       "      <td>nan</td>\n",
       "      <td>NaN</td>\n",
       "      <td>0</td>\n",
       "    </tr>\n",
       "  </tbody>\n",
       "</table>\n",
       "</div>"
      ],
      "text/plain": [
       "   permanent_name display_name city state country_code  member_since  \\\n",
       "0        qian3013         Qian  NaN   NaN          NaN    1461300457   \n",
       "1       reena6733        Reena  NaN   NaN          NaN    1461300634   \n",
       "2         mai5982          Mai  NaN   NaN          NaN    1461300853   \n",
       "3  andrew86079135       Andrew  NaN   NaN          NaN    1461301091   \n",
       "4      nguyen6962       Nguyen  NaN   NaN          NaN    1461301154   \n",
       "\n",
       "  occupation loan_because  loan_purchase_num invited_by  num_invited  \n",
       "0        NaN          NaN               1.00        NaN            0  \n",
       "1        NaN          NaN               9.00        NaN            0  \n",
       "2        NaN          NaN                nan        NaN            0  \n",
       "3        NaN          NaN               5.00  Peter Tan            0  \n",
       "4        NaN          NaN                nan        NaN            0  "
      ]
     },
     "execution_count": 48,
     "metadata": {},
     "output_type": "execute_result"
    }
   ],
   "source": [
    "lender.head()"
   ]
  },
  {
   "cell_type": "code",
   "execution_count": 49,
   "metadata": {},
   "outputs": [
    {
     "data": {
      "text/plain": [
       "permanent_name             0\n",
       "display_name            2768\n",
       "city                 1619306\n",
       "state                1713481\n",
       "country_code         1458635\n",
       "member_since               0\n",
       "occupation           1844514\n",
       "loan_because         2174852\n",
       "loan_purchase_num     894281\n",
       "invited_by           1852349\n",
       "num_invited                0\n",
       "dtype: int64"
      ]
     },
     "execution_count": 49,
     "metadata": {},
     "output_type": "execute_result"
    }
   ],
   "source": [
    "lender.isna().sum()"
   ]
  },
  {
   "cell_type": "code",
   "execution_count": 50,
   "metadata": {
    "colab": {
     "base_uri": "https://localhost:8080/",
     "height": 34
    },
    "colab_type": "code",
    "executionInfo": {
     "elapsed": 115740,
     "status": "ok",
     "timestamp": 1579453374689,
     "user": {
      "displayName": "Mattia Rigiroli",
      "photoUrl": "",
      "userId": "16974970111569695540"
     },
     "user_tz": -60
    },
    "id": "Iebma1xUHXx_",
    "outputId": "074efc6a-8625-41af-ea4a-e12cdbdcc4cc"
   },
   "outputs": [
    {
     "data": {
      "text/plain": [
       "62.09"
      ]
     },
     "execution_count": 50,
     "metadata": {},
     "output_type": "execute_result"
    }
   ],
   "source": [
    "round(sum(lender['country_code'].isnull())/len(lender)*100,2)"
   ]
  },
  {
   "cell_type": "markdown",
   "metadata": {
    "colab_type": "text",
    "id": "dyFWPjeuiFBb"
   },
   "source": [
    "Notiamo che la presenza di valori mancanti per country_code è rilevante:\n",
    "imputo i valori mancati per country_code simulando la distribuzione dei valori di country_code non mancanti. "
   ]
  },
  {
   "cell_type": "code",
   "execution_count": 51,
   "metadata": {
    "colab": {},
    "colab_type": "code",
    "id": "lVfPscxdHibH"
   },
   "outputs": [
    {
     "data": {
      "text/plain": [
       "(1458635, 11)"
      ]
     },
     "execution_count": 51,
     "metadata": {},
     "output_type": "execute_result"
    }
   ],
   "source": [
    "# Creo un dataset con tutti i valori nulli per country_code:\n",
    "lender_vuoto=lender[lender['country_code'].isnull()==True]\n",
    "lender_vuoto.shape"
   ]
  },
  {
   "cell_type": "code",
   "execution_count": 52,
   "metadata": {
    "colab": {},
    "colab_type": "code",
    "id": "FvCTnyFFHibI",
    "scrolled": true
   },
   "outputs": [
    {
     "data": {
      "text/plain": [
       "(890539, 11)"
      ]
     },
     "execution_count": 52,
     "metadata": {},
     "output_type": "execute_result"
    }
   ],
   "source": [
    "# Creo un dataset con tutti i valori non nulli per country_code:\n",
    "lender_pieno=lender[lender['country_code'].isnull()==False]\n",
    "lender_pieno.shape"
   ]
  },
  {
   "cell_type": "code",
   "execution_count": 53,
   "metadata": {
    "colab": {
     "base_uri": "https://localhost:8080/",
     "height": 204
    },
    "colab_type": "code",
    "executionInfo": {
     "elapsed": 114907,
     "status": "ok",
     "timestamp": 1579453374693,
     "user": {
      "displayName": "Mattia Rigiroli",
      "photoUrl": "",
      "userId": "16974970111569695540"
     },
     "user_tz": -60
    },
    "id": "KV7AKZRXHibK",
    "outputId": "7b483458-eb71-4247-c86b-4224bd31b0c5"
   },
   "outputs": [
    {
     "data": {
      "text/html": [
       "<div>\n",
       "<style scoped>\n",
       "    .dataframe tbody tr th:only-of-type {\n",
       "        vertical-align: middle;\n",
       "    }\n",
       "\n",
       "    .dataframe tbody tr th {\n",
       "        vertical-align: top;\n",
       "    }\n",
       "\n",
       "    .dataframe thead th {\n",
       "        text-align: right;\n",
       "    }\n",
       "</style>\n",
       "<table border=\"1\" class=\"dataframe\">\n",
       "  <thead>\n",
       "    <tr style=\"text-align: right;\">\n",
       "      <th></th>\n",
       "      <th>country_code</th>\n",
       "      <th>n_stati</th>\n",
       "    </tr>\n",
       "  </thead>\n",
       "  <tbody>\n",
       "    <tr>\n",
       "      <th>0</th>\n",
       "      <td>AD</td>\n",
       "      <td>15</td>\n",
       "    </tr>\n",
       "    <tr>\n",
       "      <th>1</th>\n",
       "      <td>AE</td>\n",
       "      <td>1043</td>\n",
       "    </tr>\n",
       "    <tr>\n",
       "      <th>2</th>\n",
       "      <td>AF</td>\n",
       "      <td>228</td>\n",
       "    </tr>\n",
       "    <tr>\n",
       "      <th>3</th>\n",
       "      <td>AG</td>\n",
       "      <td>8</td>\n",
       "    </tr>\n",
       "    <tr>\n",
       "      <th>4</th>\n",
       "      <td>AI</td>\n",
       "      <td>4</td>\n",
       "    </tr>\n",
       "  </tbody>\n",
       "</table>\n",
       "</div>"
      ],
      "text/plain": [
       "  country_code  n_stati\n",
       "0           AD       15\n",
       "1           AE     1043\n",
       "2           AF      228\n",
       "3           AG        8\n",
       "4           AI        4"
      ]
     },
     "execution_count": 53,
     "metadata": {},
     "output_type": "execute_result"
    }
   ],
   "source": [
    "# Conto quante volte appare ogni stato nel dataset relativo ai valori non nulli:\n",
    "n_stati=pd.DataFrame(lender_pieno.groupby('country_code').size())\n",
    "n_stati.rename(columns={0: 'n_stati'}, inplace=True)\n",
    "n_stati=n_stati.reset_index()\n",
    "n_stati.head()"
   ]
  },
  {
   "cell_type": "code",
   "execution_count": 54,
   "metadata": {
    "colab": {},
    "colab_type": "code",
    "id": "uMWYxeEVHibO"
   },
   "outputs": [],
   "source": [
    "# Creo una lista in cui ogni country_code è ripetuto per il numero di volte che \n",
    "# compare nel dataset dei valori non nulli. \n",
    "# Creo la lista di stati.\n",
    "lista_stati=[x for x in n_stati['country_code']]\n",
    "# Conto quante volte compare ogni stato\n",
    "volte=[x for x in n_stati['n_stati']]\n",
    "# Ripeto ogni stato per il numero di volte in cui compare: creo la lista da cui posso \n",
    "# poi estrarre in modo casuale dei valori per country_code. \n",
    "ll=[]\n",
    "for i in range(0,len(n_stati)):\n",
    "    ll.append([lista_stati[i]]*volte[i])\n",
    "lista_stati_real=[y for x in ll for y in x]"
   ]
  },
  {
   "cell_type": "code",
   "execution_count": 55,
   "metadata": {
    "colab": {
     "base_uri": "https://localhost:8080/",
     "height": 119
    },
    "colab_type": "code",
    "executionInfo": {
     "elapsed": 119157,
     "status": "ok",
     "timestamp": 1579453379299,
     "user": {
      "displayName": "Mattia Rigiroli",
      "photoUrl": "",
      "userId": "16974970111569695540"
     },
     "user_tz": -60
    },
    "id": "YI8TsMJoHibY",
    "outputId": "573c3ce1-741d-446e-a010-cbe15bb4085b"
   },
   "outputs": [
    {
     "name": "stderr",
     "output_type": "stream",
     "text": [
      "C:\\Users\\matti\\Anaconda3\\lib\\site-packages\\ipykernel_launcher.py:7: SettingWithCopyWarning: \n",
      "A value is trying to be set on a copy of a slice from a DataFrame.\n",
      "Try using .loc[row_indexer,col_indexer] = value instead\n",
      "\n",
      "See the caveats in the documentation: http://pandas.pydata.org/pandas-docs/stable/user_guide/indexing.html#returning-a-view-versus-a-copy\n",
      "  import sys\n"
     ]
    }
   ],
   "source": [
    "# Vado a riempire la colonna country_code nel dataset vuoto simulando in modo\n",
    "# casuale (basandomi sulla lista appena creata) il country_code. \n",
    "random.seed(9999)\n",
    "ll_casual=[]\n",
    "for i in range (0,len(lender_vuoto)):\n",
    "    ll_casual.append(random.sample(lista_stati_real,1)[0])\n",
    "lender_vuoto['country_code']=ll_casual"
   ]
  },
  {
   "cell_type": "code",
   "execution_count": 56,
   "metadata": {
    "colab": {
     "base_uri": "https://localhost:8080/",
     "height": 34
    },
    "colab_type": "code",
    "executionInfo": {
     "elapsed": 118975,
     "status": "ok",
     "timestamp": 1579453379300,
     "user": {
      "displayName": "Mattia Rigiroli",
      "photoUrl": "",
      "userId": "16974970111569695540"
     },
     "user_tz": -60
    },
    "id": "fltkwNzCHibZ",
    "outputId": "5e97919d-71ba-4502-e148-9552fa37b248"
   },
   "outputs": [
    {
     "data": {
      "text/plain": [
       "1458635"
      ]
     },
     "execution_count": 56,
     "metadata": {},
     "output_type": "execute_result"
    }
   ],
   "source": [
    "len(ll_casual)"
   ]
  },
  {
   "cell_type": "code",
   "execution_count": 57,
   "metadata": {
    "colab": {},
    "colab_type": "code",
    "id": "BscTXk2gHibc"
   },
   "outputs": [],
   "source": [
    "# Unisco i due dataset:\n",
    "lender_pieno=lender_pieno.append(lender_vuoto)"
   ]
  },
  {
   "cell_type": "code",
   "execution_count": 58,
   "metadata": {
    "colab": {
     "base_uri": "https://localhost:8080/",
     "height": 204
    },
    "colab_type": "code",
    "executionInfo": {
     "elapsed": 119302,
     "status": "ok",
     "timestamp": 1579453379995,
     "user": {
      "displayName": "Mattia Rigiroli",
      "photoUrl": "",
      "userId": "16974970111569695540"
     },
     "user_tz": -60
    },
    "id": "dM4RBbe5Hibd",
    "outputId": "6cd092be-bd75-4360-b83d-bfc49b7596d0"
   },
   "outputs": [
    {
     "data": {
      "text/html": [
       "<div>\n",
       "<style scoped>\n",
       "    .dataframe tbody tr th:only-of-type {\n",
       "        vertical-align: middle;\n",
       "    }\n",
       "\n",
       "    .dataframe tbody tr th {\n",
       "        vertical-align: top;\n",
       "    }\n",
       "\n",
       "    .dataframe thead th {\n",
       "        text-align: right;\n",
       "    }\n",
       "</style>\n",
       "<table border=\"1\" class=\"dataframe\">\n",
       "  <thead>\n",
       "    <tr style=\"text-align: right;\">\n",
       "      <th></th>\n",
       "      <th>permanent_name</th>\n",
       "      <th>display_name</th>\n",
       "      <th>city</th>\n",
       "      <th>state</th>\n",
       "      <th>country_code</th>\n",
       "      <th>member_since</th>\n",
       "      <th>occupation</th>\n",
       "      <th>loan_because</th>\n",
       "      <th>loan_purchase_num</th>\n",
       "      <th>invited_by</th>\n",
       "      <th>num_invited</th>\n",
       "    </tr>\n",
       "  </thead>\n",
       "  <tbody>\n",
       "    <tr>\n",
       "      <th>16</th>\n",
       "      <td>naresh2074</td>\n",
       "      <td>Naresh</td>\n",
       "      <td>NaN</td>\n",
       "      <td>NaN</td>\n",
       "      <td>US</td>\n",
       "      <td>1461303119</td>\n",
       "      <td>NaN</td>\n",
       "      <td>NaN</td>\n",
       "      <td>3.00</td>\n",
       "      <td>NaN</td>\n",
       "      <td>0</td>\n",
       "    </tr>\n",
       "    <tr>\n",
       "      <th>31</th>\n",
       "      <td>christina27976796</td>\n",
       "      <td>Christina</td>\n",
       "      <td>NaN</td>\n",
       "      <td>NaN</td>\n",
       "      <td>US</td>\n",
       "      <td>1461303341</td>\n",
       "      <td>NaN</td>\n",
       "      <td>NaN</td>\n",
       "      <td>1.00</td>\n",
       "      <td>Peter Tan</td>\n",
       "      <td>0</td>\n",
       "    </tr>\n",
       "    <tr>\n",
       "      <th>37</th>\n",
       "      <td>vikas1098</td>\n",
       "      <td>Vikas</td>\n",
       "      <td>Bengaluru</td>\n",
       "      <td>NaN</td>\n",
       "      <td>IN</td>\n",
       "      <td>1461301846</td>\n",
       "      <td>Software Engineer</td>\n",
       "      <td>NaN</td>\n",
       "      <td>2.00</td>\n",
       "      <td>NaN</td>\n",
       "      <td>0</td>\n",
       "    </tr>\n",
       "    <tr>\n",
       "      <th>39</th>\n",
       "      <td>qian1385</td>\n",
       "      <td>Qian</td>\n",
       "      <td>NaN</td>\n",
       "      <td>NaN</td>\n",
       "      <td>US</td>\n",
       "      <td>1461302036</td>\n",
       "      <td>NaN</td>\n",
       "      <td>NaN</td>\n",
       "      <td>2.00</td>\n",
       "      <td>NaN</td>\n",
       "      <td>0</td>\n",
       "    </tr>\n",
       "    <tr>\n",
       "      <th>42</th>\n",
       "      <td>xigg8769</td>\n",
       "      <td>Darla</td>\n",
       "      <td>Madison</td>\n",
       "      <td>NaN</td>\n",
       "      <td>US</td>\n",
       "      <td>1461302503</td>\n",
       "      <td>NaN</td>\n",
       "      <td>NaN</td>\n",
       "      <td>nan</td>\n",
       "      <td>NaN</td>\n",
       "      <td>0</td>\n",
       "    </tr>\n",
       "  </tbody>\n",
       "</table>\n",
       "</div>"
      ],
      "text/plain": [
       "       permanent_name display_name       city state country_code  \\\n",
       "16         naresh2074       Naresh        NaN   NaN           US   \n",
       "31  christina27976796    Christina        NaN   NaN           US   \n",
       "37          vikas1098        Vikas  Bengaluru   NaN           IN   \n",
       "39           qian1385         Qian        NaN   NaN           US   \n",
       "42           xigg8769        Darla    Madison   NaN           US   \n",
       "\n",
       "    member_since         occupation loan_because  loan_purchase_num  \\\n",
       "16    1461303119                NaN          NaN               3.00   \n",
       "31    1461303341                NaN          NaN               1.00   \n",
       "37    1461301846  Software Engineer          NaN               2.00   \n",
       "39    1461302036                NaN          NaN               2.00   \n",
       "42    1461302503                NaN          NaN                nan   \n",
       "\n",
       "   invited_by  num_invited  \n",
       "16        NaN            0  \n",
       "31  Peter Tan            0  \n",
       "37        NaN            0  \n",
       "39        NaN            0  \n",
       "42        NaN            0  "
      ]
     },
     "execution_count": 58,
     "metadata": {},
     "output_type": "execute_result"
    }
   ],
   "source": [
    "lender_pieno.head()"
   ]
  },
  {
   "cell_type": "code",
   "execution_count": 59,
   "metadata": {
    "colab": {
     "base_uri": "https://localhost:8080/",
     "height": 102
    },
    "colab_type": "code",
    "executionInfo": {
     "elapsed": 119547,
     "status": "ok",
     "timestamp": 1579453380407,
     "user": {
      "displayName": "Mattia Rigiroli",
      "photoUrl": "",
      "userId": "16974970111569695540"
     },
     "user_tz": -60
    },
    "id": "C9s3nOIBll2V",
    "outputId": "0e0e0791-51f0-4b66-db08-58253638496f"
   },
   "outputs": [
    {
     "name": "stderr",
     "output_type": "stream",
     "text": [
      "C:\\Users\\matti\\Anaconda3\\lib\\site-packages\\pandas\\core\\frame.py:4238: SettingWithCopyWarning: \n",
      "A value is trying to be set on a copy of a slice from a DataFrame\n",
      "\n",
      "See the caveats in the documentation: http://pandas.pydata.org/pandas-docs/stable/user_guide/indexing.html#returning-a-view-versus-a-copy\n",
      "  return super().rename(**kwargs)\n"
     ]
    }
   ],
   "source": [
    "lender_sel=lender_pieno[['permanent_name','country_code']]\n",
    "lender_sel.rename(columns={'permanent_name': 'lender'}, inplace=True)"
   ]
  },
  {
   "cell_type": "code",
   "execution_count": 60,
   "metadata": {
    "colab": {
     "base_uri": "https://localhost:8080/",
     "height": 204
    },
    "colab_type": "code",
    "executionInfo": {
     "elapsed": 119412,
     "status": "ok",
     "timestamp": 1579453380408,
     "user": {
      "displayName": "Mattia Rigiroli",
      "photoUrl": "",
      "userId": "16974970111569695540"
     },
     "user_tz": -60
    },
    "id": "YcNUER9bmA5s",
    "outputId": "337386f5-9135-4d01-b224-65be11ef63fa"
   },
   "outputs": [
    {
     "data": {
      "text/html": [
       "<div>\n",
       "<style scoped>\n",
       "    .dataframe tbody tr th:only-of-type {\n",
       "        vertical-align: middle;\n",
       "    }\n",
       "\n",
       "    .dataframe tbody tr th {\n",
       "        vertical-align: top;\n",
       "    }\n",
       "\n",
       "    .dataframe thead th {\n",
       "        text-align: right;\n",
       "    }\n",
       "</style>\n",
       "<table border=\"1\" class=\"dataframe\">\n",
       "  <thead>\n",
       "    <tr style=\"text-align: right;\">\n",
       "      <th></th>\n",
       "      <th>lender</th>\n",
       "      <th>country_code</th>\n",
       "    </tr>\n",
       "  </thead>\n",
       "  <tbody>\n",
       "    <tr>\n",
       "      <th>16</th>\n",
       "      <td>naresh2074</td>\n",
       "      <td>US</td>\n",
       "    </tr>\n",
       "    <tr>\n",
       "      <th>31</th>\n",
       "      <td>christina27976796</td>\n",
       "      <td>US</td>\n",
       "    </tr>\n",
       "    <tr>\n",
       "      <th>37</th>\n",
       "      <td>vikas1098</td>\n",
       "      <td>IN</td>\n",
       "    </tr>\n",
       "    <tr>\n",
       "      <th>39</th>\n",
       "      <td>qian1385</td>\n",
       "      <td>US</td>\n",
       "    </tr>\n",
       "    <tr>\n",
       "      <th>42</th>\n",
       "      <td>xigg8769</td>\n",
       "      <td>US</td>\n",
       "    </tr>\n",
       "  </tbody>\n",
       "</table>\n",
       "</div>"
      ],
      "text/plain": [
       "               lender country_code\n",
       "16         naresh2074           US\n",
       "31  christina27976796           US\n",
       "37          vikas1098           IN\n",
       "39           qian1385           US\n",
       "42           xigg8769           US"
      ]
     },
     "execution_count": 60,
     "metadata": {},
     "output_type": "execute_result"
    }
   ],
   "source": [
    "# Lenders e rispettivi country_code\n",
    "lender_sel.head()"
   ]
  },
  {
   "cell_type": "code",
   "execution_count": 61,
   "metadata": {
    "colab": {
     "base_uri": "https://localhost:8080/",
     "height": 204
    },
    "colab_type": "code",
    "executionInfo": {
     "elapsed": 119209,
     "status": "ok",
     "timestamp": 1579453380409,
     "user": {
      "displayName": "Mattia Rigiroli",
      "photoUrl": "",
      "userId": "16974970111569695540"
     },
     "user_tz": -60
    },
    "id": "Ld25_EA1kgGz",
    "outputId": "6914a6ed-9332-4839-9733-a5864d7b3e07"
   },
   "outputs": [
    {
     "data": {
      "text/html": [
       "<div>\n",
       "<style scoped>\n",
       "    .dataframe tbody tr th:only-of-type {\n",
       "        vertical-align: middle;\n",
       "    }\n",
       "\n",
       "    .dataframe tbody tr th {\n",
       "        vertical-align: top;\n",
       "    }\n",
       "\n",
       "    .dataframe thead th {\n",
       "        text-align: right;\n",
       "    }\n",
       "</style>\n",
       "<table border=\"1\" class=\"dataframe\">\n",
       "  <thead>\n",
       "    <tr style=\"text-align: right;\">\n",
       "      <th></th>\n",
       "      <th>lender</th>\n",
       "      <th>$lenders</th>\n",
       "    </tr>\n",
       "  </thead>\n",
       "  <tbody>\n",
       "    <tr>\n",
       "      <th>0</th>\n",
       "      <td>000</td>\n",
       "      <td>1485.31</td>\n",
       "    </tr>\n",
       "    <tr>\n",
       "      <th>1</th>\n",
       "      <td>00000</td>\n",
       "      <td>1249.13</td>\n",
       "    </tr>\n",
       "    <tr>\n",
       "      <th>2</th>\n",
       "      <td>0002</td>\n",
       "      <td>2201.18</td>\n",
       "    </tr>\n",
       "    <tr>\n",
       "      <th>3</th>\n",
       "      <td>00mike00</td>\n",
       "      <td>38.46</td>\n",
       "    </tr>\n",
       "    <tr>\n",
       "      <th>4</th>\n",
       "      <td>0101craign0101</td>\n",
       "      <td>2424.09</td>\n",
       "    </tr>\n",
       "  </tbody>\n",
       "</table>\n",
       "</div>"
      ],
      "text/plain": [
       "            lender  $lenders\n",
       "0              000   1485.31\n",
       "1            00000   1249.13\n",
       "2             0002   2201.18\n",
       "3         00mike00     38.46\n",
       "4   0101craign0101   2424.09"
      ]
     },
     "execution_count": 61,
     "metadata": {},
     "output_type": "execute_result"
    }
   ],
   "source": [
    "# Contributo totale per ciascun lender\n",
    "df1.head()"
   ]
  },
  {
   "cell_type": "code",
   "execution_count": 62,
   "metadata": {
    "colab": {},
    "colab_type": "code",
    "id": "NGWPkqdalGIW"
   },
   "outputs": [
    {
     "data": {
      "text/html": [
       "<div>\n",
       "<style scoped>\n",
       "    .dataframe tbody tr th:only-of-type {\n",
       "        vertical-align: middle;\n",
       "    }\n",
       "\n",
       "    .dataframe tbody tr th {\n",
       "        vertical-align: top;\n",
       "    }\n",
       "\n",
       "    .dataframe thead th {\n",
       "        text-align: right;\n",
       "    }\n",
       "</style>\n",
       "<table border=\"1\" class=\"dataframe\">\n",
       "  <thead>\n",
       "    <tr style=\"text-align: right;\">\n",
       "      <th></th>\n",
       "      <th>lender</th>\n",
       "      <th>$lenders</th>\n",
       "      <th>country_code</th>\n",
       "    </tr>\n",
       "  </thead>\n",
       "  <tbody>\n",
       "    <tr>\n",
       "      <th>0</th>\n",
       "      <td>000</td>\n",
       "      <td>26.79</td>\n",
       "      <td>US</td>\n",
       "    </tr>\n",
       "    <tr>\n",
       "      <th>1</th>\n",
       "      <td>0161130</td>\n",
       "      <td>25.00</td>\n",
       "      <td>US</td>\n",
       "    </tr>\n",
       "    <tr>\n",
       "      <th>2</th>\n",
       "      <td>0169713</td>\n",
       "      <td>25.00</td>\n",
       "      <td>US</td>\n",
       "    </tr>\n",
       "    <tr>\n",
       "      <th>3</th>\n",
       "      <td>0197462</td>\n",
       "      <td>25.00</td>\n",
       "      <td>IT</td>\n",
       "    </tr>\n",
       "    <tr>\n",
       "      <th>4</th>\n",
       "      <td>0206338</td>\n",
       "      <td>29.69</td>\n",
       "      <td>US</td>\n",
       "    </tr>\n",
       "  </tbody>\n",
       "</table>\n",
       "</div>"
      ],
      "text/plain": [
       "    lender  $lenders country_code\n",
       "0      000     26.79           US\n",
       "1  0161130     25.00           US\n",
       "2  0169713     25.00           US\n",
       "3  0197462     25.00           IT\n",
       "4  0206338     29.69           US"
      ]
     },
     "execution_count": 62,
     "metadata": {},
     "output_type": "execute_result"
    }
   ],
   "source": [
    "df2=pd.merge(df1,lender_sel,on='lender')\n",
    "df2.head()"
   ]
  },
  {
   "cell_type": "code",
   "execution_count": 63,
   "metadata": {
    "colab": {
     "base_uri": "https://localhost:8080/",
     "height": 450
    },
    "colab_type": "code",
    "executionInfo": {
     "elapsed": 123659,
     "status": "ok",
     "timestamp": 1579453385358,
     "user": {
      "displayName": "Mattia Rigiroli",
      "photoUrl": "",
      "userId": "16974970111569695540"
     },
     "user_tz": -60
    },
    "id": "7BRLpyzFmVO0",
    "outputId": "484354f5-2308-4262-f93a-15c6150faebb"
   },
   "outputs": [
    {
     "data": {
      "text/html": [
       "<div>\n",
       "<style scoped>\n",
       "    .dataframe tbody tr th:only-of-type {\n",
       "        vertical-align: middle;\n",
       "    }\n",
       "\n",
       "    .dataframe tbody tr th {\n",
       "        vertical-align: top;\n",
       "    }\n",
       "\n",
       "    .dataframe thead th {\n",
       "        text-align: right;\n",
       "    }\n",
       "</style>\n",
       "<table border=\"1\" class=\"dataframe\">\n",
       "  <thead>\n",
       "    <tr style=\"text-align: right;\">\n",
       "      <th></th>\n",
       "      <th>$lenders</th>\n",
       "    </tr>\n",
       "    <tr>\n",
       "      <th>country_code</th>\n",
       "      <th></th>\n",
       "    </tr>\n",
       "  </thead>\n",
       "  <tbody>\n",
       "    <tr>\n",
       "      <th>AD</th>\n",
       "      <td>101.19</td>\n",
       "    </tr>\n",
       "    <tr>\n",
       "      <th>AE</th>\n",
       "      <td>101048.68</td>\n",
       "    </tr>\n",
       "    <tr>\n",
       "      <th>AF</th>\n",
       "      <td>6556.19</td>\n",
       "    </tr>\n",
       "    <tr>\n",
       "      <th>AI</th>\n",
       "      <td>29.69</td>\n",
       "    </tr>\n",
       "    <tr>\n",
       "      <th>AL</th>\n",
       "      <td>1190.34</td>\n",
       "    </tr>\n",
       "    <tr>\n",
       "      <th>...</th>\n",
       "      <td>...</td>\n",
       "    </tr>\n",
       "    <tr>\n",
       "      <th>YE</th>\n",
       "      <td>6462.32</td>\n",
       "    </tr>\n",
       "    <tr>\n",
       "      <th>YT</th>\n",
       "      <td>64.66</td>\n",
       "    </tr>\n",
       "    <tr>\n",
       "      <th>ZA</th>\n",
       "      <td>30814.84</td>\n",
       "    </tr>\n",
       "    <tr>\n",
       "      <th>ZM</th>\n",
       "      <td>665.99</td>\n",
       "    </tr>\n",
       "    <tr>\n",
       "      <th>ZW</th>\n",
       "      <td>327.03</td>\n",
       "    </tr>\n",
       "  </tbody>\n",
       "</table>\n",
       "<p>218 rows × 1 columns</p>\n",
       "</div>"
      ],
      "text/plain": [
       "              $lenders\n",
       "country_code          \n",
       "AD              101.19\n",
       "AE           101048.68\n",
       "AF             6556.19\n",
       "AI               29.69\n",
       "AL             1190.34\n",
       "...                ...\n",
       "YE             6462.32\n",
       "YT               64.66\n",
       "ZA            30814.84\n",
       "ZM              665.99\n",
       "ZW              327.03\n",
       "\n",
       "[218 rows x 1 columns]"
      ]
     },
     "execution_count": 63,
     "metadata": {},
     "output_type": "execute_result"
    }
   ],
   "source": [
    "df3=pd.DataFrame(df2.groupby('country_code').sum()['$lenders'])\n",
    "#df3=df3.reset_index()\n",
    "df3"
   ]
  },
  {
   "cell_type": "markdown",
   "metadata": {
    "colab_type": "text",
    "id": "fuWSi0iCI8e9"
   },
   "source": [
    "Qui ho calcolato l'ammontare di denaro prestato da ogni stato."
   ]
  },
  {
   "cell_type": "code",
   "execution_count": 64,
   "metadata": {
    "colab": {
     "base_uri": "https://localhost:8080/",
     "height": 450
    },
    "colab_type": "code",
    "executionInfo": {
     "elapsed": 123324,
     "status": "ok",
     "timestamp": 1579453385359,
     "user": {
      "displayName": "Mattia Rigiroli",
      "photoUrl": "",
      "userId": "16974970111569695540"
     },
     "user_tz": -60
    },
    "id": "JXaw6Ls1j99z",
    "outputId": "0a27ef7e-e9a3-4c19-c0ab-b1a2cb351414"
   },
   "outputs": [
    {
     "data": {
      "text/html": [
       "<div>\n",
       "<style scoped>\n",
       "    .dataframe tbody tr th:only-of-type {\n",
       "        vertical-align: middle;\n",
       "    }\n",
       "\n",
       "    .dataframe tbody tr th {\n",
       "        vertical-align: top;\n",
       "    }\n",
       "\n",
       "    .dataframe thead th {\n",
       "        text-align: right;\n",
       "    }\n",
       "</style>\n",
       "<table border=\"1\" class=\"dataframe\">\n",
       "  <thead>\n",
       "    <tr style=\"text-align: right;\">\n",
       "      <th></th>\n",
       "      <th>overall_amount</th>\n",
       "    </tr>\n",
       "    <tr>\n",
       "      <th>country_code</th>\n",
       "      <th></th>\n",
       "    </tr>\n",
       "  </thead>\n",
       "  <tbody>\n",
       "    <tr>\n",
       "      <th>AF</th>\n",
       "      <td>1967950.00</td>\n",
       "    </tr>\n",
       "    <tr>\n",
       "      <th>AL</th>\n",
       "      <td>4307350.00</td>\n",
       "    </tr>\n",
       "    <tr>\n",
       "      <th>AM</th>\n",
       "      <td>22950475.00</td>\n",
       "    </tr>\n",
       "    <tr>\n",
       "      <th>AZ</th>\n",
       "      <td>14784625.00</td>\n",
       "    </tr>\n",
       "    <tr>\n",
       "      <th>BA</th>\n",
       "      <td>477250.00</td>\n",
       "    </tr>\n",
       "    <tr>\n",
       "      <th>...</th>\n",
       "      <td>...</td>\n",
       "    </tr>\n",
       "    <tr>\n",
       "      <th>XK</th>\n",
       "      <td>3083025.00</td>\n",
       "    </tr>\n",
       "    <tr>\n",
       "      <th>YE</th>\n",
       "      <td>3444000.00</td>\n",
       "    </tr>\n",
       "    <tr>\n",
       "      <th>ZA</th>\n",
       "      <td>1006525.00</td>\n",
       "    </tr>\n",
       "    <tr>\n",
       "      <th>ZM</th>\n",
       "      <td>1978975.00</td>\n",
       "    </tr>\n",
       "    <tr>\n",
       "      <th>ZW</th>\n",
       "      <td>5851875.00</td>\n",
       "    </tr>\n",
       "  </tbody>\n",
       "</table>\n",
       "<p>95 rows × 1 columns</p>\n",
       "</div>"
      ],
      "text/plain": [
       "              overall_amount\n",
       "country_code                \n",
       "AF                1967950.00\n",
       "AL                4307350.00\n",
       "AM               22950475.00\n",
       "AZ               14784625.00\n",
       "BA                 477250.00\n",
       "...                      ...\n",
       "XK                3083025.00\n",
       "YE                3444000.00\n",
       "ZA                1006525.00\n",
       "ZM                1978975.00\n",
       "ZW                5851875.00\n",
       "\n",
       "[95 rows x 1 columns]"
      ]
     },
     "execution_count": 64,
     "metadata": {},
     "output_type": "execute_result"
    }
   ],
   "source": [
    "cash_borrowed=pd.DataFrame(loans.groupby('country_code').sum()['loan_amount'])\n",
    "cash_borrowed.rename(columns={'loan_amount': 'overall_amount'}, inplace=True)\n",
    "#cash_borrowed=cash_borrowed.reset_index()\n",
    "cash_borrowed"
   ]
  },
  {
   "cell_type": "markdown",
   "metadata": {},
   "source": [
    "Qui ho calcolato l'ammontare di denaro preso a prestito da ogni stato."
   ]
  },
  {
   "cell_type": "code",
   "execution_count": 65,
   "metadata": {
    "colab": {
     "base_uri": "https://localhost:8080/",
     "height": 419
    },
    "colab_type": "code",
    "executionInfo": {
     "elapsed": 123146,
     "status": "ok",
     "timestamp": 1579453385360,
     "user": {
      "displayName": "Mattia Rigiroli",
      "photoUrl": "",
      "userId": "16974970111569695540"
     },
     "user_tz": -60
    },
    "id": "gC6p6RFF1mar",
    "outputId": "ed2cbf71-bcaa-4035-b1a5-f79d1fbb59de"
   },
   "outputs": [
    {
     "data": {
      "text/html": [
       "<div>\n",
       "<style scoped>\n",
       "    .dataframe tbody tr th:only-of-type {\n",
       "        vertical-align: middle;\n",
       "    }\n",
       "\n",
       "    .dataframe tbody tr th {\n",
       "        vertical-align: top;\n",
       "    }\n",
       "\n",
       "    .dataframe thead th {\n",
       "        text-align: right;\n",
       "    }\n",
       "</style>\n",
       "<table border=\"1\" class=\"dataframe\">\n",
       "  <thead>\n",
       "    <tr style=\"text-align: right;\">\n",
       "      <th></th>\n",
       "      <th>country_code</th>\n",
       "      <th>difference_amount</th>\n",
       "    </tr>\n",
       "  </thead>\n",
       "  <tbody>\n",
       "    <tr>\n",
       "      <th>0</th>\n",
       "      <td>AD</td>\n",
       "      <td>nan</td>\n",
       "    </tr>\n",
       "    <tr>\n",
       "      <th>1</th>\n",
       "      <td>AE</td>\n",
       "      <td>nan</td>\n",
       "    </tr>\n",
       "    <tr>\n",
       "      <th>2</th>\n",
       "      <td>AF</td>\n",
       "      <td>-1961393.81</td>\n",
       "    </tr>\n",
       "    <tr>\n",
       "      <th>3</th>\n",
       "      <td>AI</td>\n",
       "      <td>nan</td>\n",
       "    </tr>\n",
       "    <tr>\n",
       "      <th>4</th>\n",
       "      <td>AL</td>\n",
       "      <td>-4306159.66</td>\n",
       "    </tr>\n",
       "    <tr>\n",
       "      <th>...</th>\n",
       "      <td>...</td>\n",
       "      <td>...</td>\n",
       "    </tr>\n",
       "    <tr>\n",
       "      <th>215</th>\n",
       "      <td>YE</td>\n",
       "      <td>-3437537.68</td>\n",
       "    </tr>\n",
       "    <tr>\n",
       "      <th>216</th>\n",
       "      <td>YT</td>\n",
       "      <td>nan</td>\n",
       "    </tr>\n",
       "    <tr>\n",
       "      <th>217</th>\n",
       "      <td>ZA</td>\n",
       "      <td>-975710.16</td>\n",
       "    </tr>\n",
       "    <tr>\n",
       "      <th>218</th>\n",
       "      <td>ZM</td>\n",
       "      <td>-1978309.01</td>\n",
       "    </tr>\n",
       "    <tr>\n",
       "      <th>219</th>\n",
       "      <td>ZW</td>\n",
       "      <td>-5851547.97</td>\n",
       "    </tr>\n",
       "  </tbody>\n",
       "</table>\n",
       "<p>220 rows × 2 columns</p>\n",
       "</div>"
      ],
      "text/plain": [
       "    country_code  difference_amount\n",
       "0             AD                nan\n",
       "1             AE                nan\n",
       "2             AF        -1961393.81\n",
       "3             AI                nan\n",
       "4             AL        -4306159.66\n",
       "..           ...                ...\n",
       "215           YE        -3437537.68\n",
       "216           YT                nan\n",
       "217           ZA         -975710.16\n",
       "218           ZM        -1978309.01\n",
       "219           ZW        -5851547.97\n",
       "\n",
       "[220 rows x 2 columns]"
      ]
     },
     "execution_count": 65,
     "metadata": {},
     "output_type": "execute_result"
    }
   ],
   "source": [
    "difference=pd.DataFrame(df3['$lenders']-cash_borrowed['overall_amount'])\n",
    "difference.rename(columns={0: 'difference_amount'}, inplace=True)\n",
    "difference=difference.reset_index()\n",
    "difference.rename(columns={'index': 'country_code'}, inplace=True)\n",
    "difference\n",
    "# Vi sono dei valori nulli in quanto alcuni stati non hanno mai prestato / preso \n",
    "# a prestito... (e quindi hanno magari solamente prestato / preso a prestito))"
   ]
  },
  {
   "cell_type": "code",
   "execution_count": 66,
   "metadata": {
    "colab": {},
    "colab_type": "code",
    "id": "C4yU-VeXDABQ"
   },
   "outputs": [],
   "source": [
    "# Creo due dizionari che contengono i precedenti dataset:\n",
    "# chiave (stato) : valore ($)\n",
    "diz_lenders=df3.to_dict()\n",
    "diz_lenders=diz_lenders['$lenders']\n",
    "diz_borrowers=cash_borrowed.to_dict()\n",
    "diz_borrowers=diz_borrowers['overall_amount']"
   ]
  },
  {
   "cell_type": "code",
   "execution_count": 67,
   "metadata": {
    "colab": {
     "base_uri": "https://localhost:8080/",
     "height": 187
    },
    "colab_type": "code",
    "executionInfo": {
     "elapsed": 122771,
     "status": "ok",
     "timestamp": 1579453385362,
     "user": {
      "displayName": "Mattia Rigiroli",
      "photoUrl": "",
      "userId": "16974970111569695540"
     },
     "user_tz": -60
    },
    "id": "1Y6L_QCQCptr",
    "outputId": "b41b32d8-1128-4933-aa73-38ba13ab26db"
   },
   "outputs": [
    {
     "name": "stderr",
     "output_type": "stream",
     "text": [
      "C:\\Users\\matti\\Anaconda3\\lib\\site-packages\\pandas\\core\\indexing.py:205: SettingWithCopyWarning: \n",
      "A value is trying to be set on a copy of a slice from a DataFrame\n",
      "\n",
      "See the caveats in the documentation: http://pandas.pydata.org/pandas-docs/stable/user_guide/indexing.html#returning-a-view-versus-a-copy\n",
      "  self._setitem_with_indexer(indexer, value)\n"
     ]
    }
   ],
   "source": [
    "for i in range(0,len(difference)):\n",
    "  #se il valore in difference è nullo, vado ad insierire il valore che si trova in uno dei due dizionari precedentemente creati.\n",
    "  if pd.isna(difference.iloc[i]['difference_amount'])==True:                               #se il valore di difference è nullo:\n",
    "    if difference['country_code'].iloc[i] in diz_lenders:                                 \n",
    "      difference['difference_amount'].iloc[i]=diz_lenders[difference['country_code'][i]]   #denaro prestato\n",
    "    else:\n",
    "      difference['difference_amount'].iloc[i]=diz_borrowers[difference['country_code'][i]]  #denaro preso a prestito"
   ]
  },
  {
   "cell_type": "code",
   "execution_count": 68,
   "metadata": {
    "colab": {
     "base_uri": "https://localhost:8080/",
     "height": 419
    },
    "colab_type": "code",
    "executionInfo": {
     "elapsed": 122940,
     "status": "ok",
     "timestamp": 1579453385693,
     "user": {
      "displayName": "Mattia Rigiroli",
      "photoUrl": "",
      "userId": "16974970111569695540"
     },
     "user_tz": -60
    },
    "id": "mDLHM_gvCpyc",
    "outputId": "04f36c91-309f-4f54-fdec-e474be4afd40"
   },
   "outputs": [
    {
     "data": {
      "text/html": [
       "<div>\n",
       "<style scoped>\n",
       "    .dataframe tbody tr th:only-of-type {\n",
       "        vertical-align: middle;\n",
       "    }\n",
       "\n",
       "    .dataframe tbody tr th {\n",
       "        vertical-align: top;\n",
       "    }\n",
       "\n",
       "    .dataframe thead th {\n",
       "        text-align: right;\n",
       "    }\n",
       "</style>\n",
       "<table border=\"1\" class=\"dataframe\">\n",
       "  <thead>\n",
       "    <tr style=\"text-align: right;\">\n",
       "      <th></th>\n",
       "      <th>country_code</th>\n",
       "      <th>difference_amount</th>\n",
       "    </tr>\n",
       "  </thead>\n",
       "  <tbody>\n",
       "    <tr>\n",
       "      <th>0</th>\n",
       "      <td>AD</td>\n",
       "      <td>101.19</td>\n",
       "    </tr>\n",
       "    <tr>\n",
       "      <th>1</th>\n",
       "      <td>AE</td>\n",
       "      <td>101048.68</td>\n",
       "    </tr>\n",
       "    <tr>\n",
       "      <th>2</th>\n",
       "      <td>AF</td>\n",
       "      <td>-1961393.81</td>\n",
       "    </tr>\n",
       "    <tr>\n",
       "      <th>3</th>\n",
       "      <td>AI</td>\n",
       "      <td>29.69</td>\n",
       "    </tr>\n",
       "    <tr>\n",
       "      <th>4</th>\n",
       "      <td>AL</td>\n",
       "      <td>-4306159.66</td>\n",
       "    </tr>\n",
       "    <tr>\n",
       "      <th>...</th>\n",
       "      <td>...</td>\n",
       "      <td>...</td>\n",
       "    </tr>\n",
       "    <tr>\n",
       "      <th>215</th>\n",
       "      <td>YE</td>\n",
       "      <td>-3437537.68</td>\n",
       "    </tr>\n",
       "    <tr>\n",
       "      <th>216</th>\n",
       "      <td>YT</td>\n",
       "      <td>64.66</td>\n",
       "    </tr>\n",
       "    <tr>\n",
       "      <th>217</th>\n",
       "      <td>ZA</td>\n",
       "      <td>-975710.16</td>\n",
       "    </tr>\n",
       "    <tr>\n",
       "      <th>218</th>\n",
       "      <td>ZM</td>\n",
       "      <td>-1978309.01</td>\n",
       "    </tr>\n",
       "    <tr>\n",
       "      <th>219</th>\n",
       "      <td>ZW</td>\n",
       "      <td>-5851547.97</td>\n",
       "    </tr>\n",
       "  </tbody>\n",
       "</table>\n",
       "<p>220 rows × 2 columns</p>\n",
       "</div>"
      ],
      "text/plain": [
       "    country_code  difference_amount\n",
       "0             AD             101.19\n",
       "1             AE          101048.68\n",
       "2             AF        -1961393.81\n",
       "3             AI              29.69\n",
       "4             AL        -4306159.66\n",
       "..           ...                ...\n",
       "215           YE        -3437537.68\n",
       "216           YT              64.66\n",
       "217           ZA         -975710.16\n",
       "218           ZM        -1978309.01\n",
       "219           ZW        -5851547.97\n",
       "\n",
       "[220 rows x 2 columns]"
      ]
     },
     "execution_count": 68,
     "metadata": {},
     "output_type": "execute_result"
    }
   ],
   "source": [
    "difference"
   ]
  },
  {
   "cell_type": "markdown",
   "metadata": {
    "colab_type": "text",
    "id": "LditlrnLJuRW"
   },
   "source": [
    "In questo modo, abbiamo risolto il problema per tutti gli stati che avevano solo prestato o preso a prestito."
   ]
  },
  {
   "cell_type": "markdown",
   "metadata": {},
   "source": [
    "I valori positivi indicano gli stati che hanno prestato più di quanto hanno preso a prestito;\n",
    "al contrario, i valori negativi indicano gli stati che hanno prestato meno di quanto hanno \n",
    "preso a prestito.\n"
   ]
  },
  {
   "cell_type": "markdown",
   "metadata": {
    "colab_type": "text",
    "id": "OS5ECfqFHibh"
   },
   "source": [
    "# 10- Which country has the highest ratio between the difference computed at the previous point and the population?\n"
   ]
  },
  {
   "cell_type": "code",
   "execution_count": 69,
   "metadata": {
    "colab": {},
    "colab_type": "code",
    "id": "QYS-m6rWHibi"
   },
   "outputs": [],
   "source": [
    "country=pd.read_csv(r'C:\\Users\\matti\\OneDrive - Universita degli Studi di Milano-Bicocca\\Uni\\LM-DataScience\\1-Anno\\Computer Science\\Final Project\\Final Project CS\\Kiva_Dataset\\country_stats.csv')"
   ]
  },
  {
   "cell_type": "code",
   "execution_count": 70,
   "metadata": {
    "colab": {
     "base_uri": "https://localhost:8080/",
     "height": 592
    },
    "colab_type": "code",
    "executionInfo": {
     "elapsed": 123058,
     "status": "ok",
     "timestamp": 1579453386536,
     "user": {
      "displayName": "Mattia Rigiroli",
      "photoUrl": "",
      "userId": "16974970111569695540"
     },
     "user_tz": -60
    },
    "id": "P65elO_gqamn",
    "outputId": "edd0c7c7-2fc7-4b2c-99ca-077128b044be"
   },
   "outputs": [
    {
     "data": {
      "text/html": [
       "<div>\n",
       "<style scoped>\n",
       "    .dataframe tbody tr th:only-of-type {\n",
       "        vertical-align: middle;\n",
       "    }\n",
       "\n",
       "    .dataframe tbody tr th {\n",
       "        vertical-align: top;\n",
       "    }\n",
       "\n",
       "    .dataframe thead th {\n",
       "        text-align: right;\n",
       "    }\n",
       "</style>\n",
       "<table border=\"1\" class=\"dataframe\">\n",
       "  <thead>\n",
       "    <tr style=\"text-align: right;\">\n",
       "      <th></th>\n",
       "      <th>country_name</th>\n",
       "      <th>country_code</th>\n",
       "      <th>country_code3</th>\n",
       "      <th>continent</th>\n",
       "      <th>region</th>\n",
       "      <th>population</th>\n",
       "      <th>population_below_poverty_line</th>\n",
       "      <th>hdi</th>\n",
       "      <th>life_expectancy</th>\n",
       "      <th>expected_years_of_schooling</th>\n",
       "      <th>mean_years_of_schooling</th>\n",
       "      <th>gni</th>\n",
       "      <th>kiva_country_name</th>\n",
       "    </tr>\n",
       "  </thead>\n",
       "  <tbody>\n",
       "    <tr>\n",
       "      <th>0</th>\n",
       "      <td>India</td>\n",
       "      <td>IN</td>\n",
       "      <td>IND</td>\n",
       "      <td>Asia</td>\n",
       "      <td>Southern Asia</td>\n",
       "      <td>1339180127</td>\n",
       "      <td>21.90</td>\n",
       "      <td>0.62</td>\n",
       "      <td>68.32</td>\n",
       "      <td>11.70</td>\n",
       "      <td>6.30</td>\n",
       "      <td>5663.47</td>\n",
       "      <td>India</td>\n",
       "    </tr>\n",
       "    <tr>\n",
       "      <th>1</th>\n",
       "      <td>Nigeria</td>\n",
       "      <td>NG</td>\n",
       "      <td>NGA</td>\n",
       "      <td>Africa</td>\n",
       "      <td>Western Africa</td>\n",
       "      <td>190886311</td>\n",
       "      <td>70.00</td>\n",
       "      <td>0.53</td>\n",
       "      <td>53.06</td>\n",
       "      <td>9.97</td>\n",
       "      <td>6.00</td>\n",
       "      <td>5442.90</td>\n",
       "      <td>Nigeria</td>\n",
       "    </tr>\n",
       "    <tr>\n",
       "      <th>2</th>\n",
       "      <td>Mexico</td>\n",
       "      <td>MX</td>\n",
       "      <td>MEX</td>\n",
       "      <td>Americas</td>\n",
       "      <td>Central America</td>\n",
       "      <td>129163276</td>\n",
       "      <td>46.20</td>\n",
       "      <td>0.76</td>\n",
       "      <td>76.97</td>\n",
       "      <td>13.30</td>\n",
       "      <td>8.55</td>\n",
       "      <td>16383.11</td>\n",
       "      <td>Mexico</td>\n",
       "    </tr>\n",
       "    <tr>\n",
       "      <th>3</th>\n",
       "      <td>Pakistan</td>\n",
       "      <td>PK</td>\n",
       "      <td>PAK</td>\n",
       "      <td>Asia</td>\n",
       "      <td>Southern Asia</td>\n",
       "      <td>197015955</td>\n",
       "      <td>29.50</td>\n",
       "      <td>0.55</td>\n",
       "      <td>66.36</td>\n",
       "      <td>8.11</td>\n",
       "      <td>5.09</td>\n",
       "      <td>5031.17</td>\n",
       "      <td>Pakistan</td>\n",
       "    </tr>\n",
       "    <tr>\n",
       "      <th>4</th>\n",
       "      <td>Bangladesh</td>\n",
       "      <td>BD</td>\n",
       "      <td>BGD</td>\n",
       "      <td>Asia</td>\n",
       "      <td>Southern Asia</td>\n",
       "      <td>164669751</td>\n",
       "      <td>31.50</td>\n",
       "      <td>0.58</td>\n",
       "      <td>71.98</td>\n",
       "      <td>10.18</td>\n",
       "      <td>5.24</td>\n",
       "      <td>3341.49</td>\n",
       "      <td>Bangladesh</td>\n",
       "    </tr>\n",
       "    <tr>\n",
       "      <th>...</th>\n",
       "      <td>...</td>\n",
       "      <td>...</td>\n",
       "      <td>...</td>\n",
       "      <td>...</td>\n",
       "      <td>...</td>\n",
       "      <td>...</td>\n",
       "      <td>...</td>\n",
       "      <td>...</td>\n",
       "      <td>...</td>\n",
       "      <td>...</td>\n",
       "      <td>...</td>\n",
       "      <td>...</td>\n",
       "      <td>...</td>\n",
       "    </tr>\n",
       "    <tr>\n",
       "      <th>169</th>\n",
       "      <td>Somalia</td>\n",
       "      <td>SO</td>\n",
       "      <td>SOM</td>\n",
       "      <td>Africa</td>\n",
       "      <td>Eastern Africa</td>\n",
       "      <td>14742523</td>\n",
       "      <td>nan</td>\n",
       "      <td>nan</td>\n",
       "      <td>nan</td>\n",
       "      <td>nan</td>\n",
       "      <td>nan</td>\n",
       "      <td>nan</td>\n",
       "      <td>Somalia</td>\n",
       "    </tr>\n",
       "    <tr>\n",
       "      <th>170</th>\n",
       "      <td>Central African Republic</td>\n",
       "      <td>CF</td>\n",
       "      <td>CAF</td>\n",
       "      <td>Africa</td>\n",
       "      <td>Middle Africa</td>\n",
       "      <td>4659080</td>\n",
       "      <td>nan</td>\n",
       "      <td>0.35</td>\n",
       "      <td>51.46</td>\n",
       "      <td>7.10</td>\n",
       "      <td>4.23</td>\n",
       "      <td>587.47</td>\n",
       "      <td>Central African Republic</td>\n",
       "    </tr>\n",
       "    <tr>\n",
       "      <th>171</th>\n",
       "      <td>Samoa</td>\n",
       "      <td>WS</td>\n",
       "      <td>WSM</td>\n",
       "      <td>Oceania</td>\n",
       "      <td>Polynesia</td>\n",
       "      <td>196440</td>\n",
       "      <td>nan</td>\n",
       "      <td>0.70</td>\n",
       "      <td>nan</td>\n",
       "      <td>nan</td>\n",
       "      <td>nan</td>\n",
       "      <td>nan</td>\n",
       "      <td>Samoa</td>\n",
       "    </tr>\n",
       "    <tr>\n",
       "      <th>172</th>\n",
       "      <td>Palestine</td>\n",
       "      <td>PS</td>\n",
       "      <td>PS</td>\n",
       "      <td>Asia</td>\n",
       "      <td>Western Asia</td>\n",
       "      <td>4920724</td>\n",
       "      <td>nan</td>\n",
       "      <td>0.68</td>\n",
       "      <td>nan</td>\n",
       "      <td>nan</td>\n",
       "      <td>nan</td>\n",
       "      <td>nan</td>\n",
       "      <td>Palestine</td>\n",
       "    </tr>\n",
       "    <tr>\n",
       "      <th>173</th>\n",
       "      <td>Kosovo</td>\n",
       "      <td>XK</td>\n",
       "      <td>NaN</td>\n",
       "      <td>Europe</td>\n",
       "      <td>Southern Europe</td>\n",
       "      <td>1895250</td>\n",
       "      <td>30.00</td>\n",
       "      <td>0.79</td>\n",
       "      <td>nan</td>\n",
       "      <td>nan</td>\n",
       "      <td>nan</td>\n",
       "      <td>nan</td>\n",
       "      <td>Kosovo</td>\n",
       "    </tr>\n",
       "  </tbody>\n",
       "</table>\n",
       "<p>174 rows × 13 columns</p>\n",
       "</div>"
      ],
      "text/plain": [
       "                 country_name country_code country_code3 continent  \\\n",
       "0                       India           IN           IND      Asia   \n",
       "1                     Nigeria           NG           NGA    Africa   \n",
       "2                      Mexico           MX           MEX  Americas   \n",
       "3                    Pakistan           PK           PAK      Asia   \n",
       "4                  Bangladesh           BD           BGD      Asia   \n",
       "..                        ...          ...           ...       ...   \n",
       "169                   Somalia           SO           SOM    Africa   \n",
       "170  Central African Republic           CF           CAF    Africa   \n",
       "171                     Samoa           WS           WSM   Oceania   \n",
       "172                 Palestine           PS            PS      Asia   \n",
       "173                    Kosovo           XK           NaN    Europe   \n",
       "\n",
       "              region  population  population_below_poverty_line  hdi  \\\n",
       "0      Southern Asia  1339180127                          21.90 0.62   \n",
       "1     Western Africa   190886311                          70.00 0.53   \n",
       "2    Central America   129163276                          46.20 0.76   \n",
       "3      Southern Asia   197015955                          29.50 0.55   \n",
       "4      Southern Asia   164669751                          31.50 0.58   \n",
       "..               ...         ...                            ...  ...   \n",
       "169   Eastern Africa    14742523                            nan  nan   \n",
       "170    Middle Africa     4659080                            nan 0.35   \n",
       "171        Polynesia      196440                            nan 0.70   \n",
       "172     Western Asia     4920724                            nan 0.68   \n",
       "173  Southern Europe     1895250                          30.00 0.79   \n",
       "\n",
       "     life_expectancy  expected_years_of_schooling  mean_years_of_schooling  \\\n",
       "0              68.32                        11.70                     6.30   \n",
       "1              53.06                         9.97                     6.00   \n",
       "2              76.97                        13.30                     8.55   \n",
       "3              66.36                         8.11                     5.09   \n",
       "4              71.98                        10.18                     5.24   \n",
       "..               ...                          ...                      ...   \n",
       "169              nan                          nan                      nan   \n",
       "170            51.46                         7.10                     4.23   \n",
       "171              nan                          nan                      nan   \n",
       "172              nan                          nan                      nan   \n",
       "173              nan                          nan                      nan   \n",
       "\n",
       "         gni         kiva_country_name  \n",
       "0    5663.47                     India  \n",
       "1    5442.90                   Nigeria  \n",
       "2   16383.11                    Mexico  \n",
       "3    5031.17                  Pakistan  \n",
       "4    3341.49                Bangladesh  \n",
       "..       ...                       ...  \n",
       "169      nan                   Somalia  \n",
       "170   587.47  Central African Republic  \n",
       "171      nan                     Samoa  \n",
       "172      nan                 Palestine  \n",
       "173      nan                    Kosovo  \n",
       "\n",
       "[174 rows x 13 columns]"
      ]
     },
     "execution_count": 70,
     "metadata": {},
     "output_type": "execute_result"
    }
   ],
   "source": [
    "country"
   ]
  },
  {
   "cell_type": "code",
   "execution_count": 71,
   "metadata": {
    "colab": {},
    "colab_type": "code",
    "id": "aVOsKq89NOZs"
   },
   "outputs": [],
   "source": [
    "ratio=pd.merge(country,difference,on='country_code')[['country_code','difference_amount','population','population_below_poverty_line']]"
   ]
  },
  {
   "cell_type": "code",
   "execution_count": 72,
   "metadata": {
    "colab": {
     "base_uri": "https://localhost:8080/",
     "height": 204
    },
    "colab_type": "code",
    "executionInfo": {
     "elapsed": 122667,
     "status": "ok",
     "timestamp": 1579453386538,
     "user": {
      "displayName": "Mattia Rigiroli",
      "photoUrl": "",
      "userId": "16974970111569695540"
     },
     "user_tz": -60
    },
    "id": "pFcXI6iVNtHr",
    "outputId": "bf2da0b3-1fbb-415e-b2a7-370deb40443f"
   },
   "outputs": [
    {
     "data": {
      "text/html": [
       "<div>\n",
       "<style scoped>\n",
       "    .dataframe tbody tr th:only-of-type {\n",
       "        vertical-align: middle;\n",
       "    }\n",
       "\n",
       "    .dataframe tbody tr th {\n",
       "        vertical-align: top;\n",
       "    }\n",
       "\n",
       "    .dataframe thead th {\n",
       "        text-align: right;\n",
       "    }\n",
       "</style>\n",
       "<table border=\"1\" class=\"dataframe\">\n",
       "  <thead>\n",
       "    <tr style=\"text-align: right;\">\n",
       "      <th></th>\n",
       "      <th>country_code</th>\n",
       "      <th>difference_amount</th>\n",
       "      <th>population</th>\n",
       "      <th>population_below_poverty_line</th>\n",
       "    </tr>\n",
       "  </thead>\n",
       "  <tbody>\n",
       "    <tr>\n",
       "      <th>0</th>\n",
       "      <td>IN</td>\n",
       "      <td>-8862555.38</td>\n",
       "      <td>1339180127</td>\n",
       "      <td>21.90</td>\n",
       "    </tr>\n",
       "    <tr>\n",
       "      <th>1</th>\n",
       "      <td>NG</td>\n",
       "      <td>-7741916.28</td>\n",
       "      <td>190886311</td>\n",
       "      <td>70.00</td>\n",
       "    </tr>\n",
       "    <tr>\n",
       "      <th>2</th>\n",
       "      <td>MX</td>\n",
       "      <td>-25043776.72</td>\n",
       "      <td>129163276</td>\n",
       "      <td>46.20</td>\n",
       "    </tr>\n",
       "    <tr>\n",
       "      <th>3</th>\n",
       "      <td>PK</td>\n",
       "      <td>-24977887.42</td>\n",
       "      <td>197015955</td>\n",
       "      <td>29.50</td>\n",
       "    </tr>\n",
       "    <tr>\n",
       "      <th>4</th>\n",
       "      <td>BD</td>\n",
       "      <td>12860.30</td>\n",
       "      <td>164669751</td>\n",
       "      <td>31.50</td>\n",
       "    </tr>\n",
       "  </tbody>\n",
       "</table>\n",
       "</div>"
      ],
      "text/plain": [
       "  country_code  difference_amount  population  population_below_poverty_line\n",
       "0           IN        -8862555.38  1339180127                          21.90\n",
       "1           NG        -7741916.28   190886311                          70.00\n",
       "2           MX       -25043776.72   129163276                          46.20\n",
       "3           PK       -24977887.42   197015955                          29.50\n",
       "4           BD           12860.30   164669751                          31.50"
      ]
     },
     "execution_count": 72,
     "metadata": {},
     "output_type": "execute_result"
    }
   ],
   "source": [
    "ratio.head()"
   ]
  },
  {
   "cell_type": "code",
   "execution_count": 73,
   "metadata": {
    "colab": {
     "base_uri": "https://localhost:8080/",
     "height": 419
    },
    "colab_type": "code",
    "executionInfo": {
     "elapsed": 122496,
     "status": "ok",
     "timestamp": 1579453386539,
     "user": {
      "displayName": "Mattia Rigiroli",
      "photoUrl": "",
      "userId": "16974970111569695540"
     },
     "user_tz": -60
    },
    "id": "3x4fehUdqauh",
    "outputId": "5a3a5e1e-8465-4bcd-8f28-9ccbef933b9b"
   },
   "outputs": [
    {
     "data": {
      "text/html": [
       "<div>\n",
       "<style scoped>\n",
       "    .dataframe tbody tr th:only-of-type {\n",
       "        vertical-align: middle;\n",
       "    }\n",
       "\n",
       "    .dataframe tbody tr th {\n",
       "        vertical-align: top;\n",
       "    }\n",
       "\n",
       "    .dataframe thead th {\n",
       "        text-align: right;\n",
       "    }\n",
       "</style>\n",
       "<table border=\"1\" class=\"dataframe\">\n",
       "  <thead>\n",
       "    <tr style=\"text-align: right;\">\n",
       "      <th></th>\n",
       "      <th>country_code</th>\n",
       "      <th>ratio1</th>\n",
       "    </tr>\n",
       "  </thead>\n",
       "  <tbody>\n",
       "    <tr>\n",
       "      <th>154</th>\n",
       "      <td>LU</td>\n",
       "      <td>0.23</td>\n",
       "    </tr>\n",
       "    <tr>\n",
       "      <th>156</th>\n",
       "      <td>NO</td>\n",
       "      <td>0.18</td>\n",
       "    </tr>\n",
       "    <tr>\n",
       "      <th>72</th>\n",
       "      <td>CA</td>\n",
       "      <td>0.16</td>\n",
       "    </tr>\n",
       "    <tr>\n",
       "      <th>146</th>\n",
       "      <td>AU</td>\n",
       "      <td>0.13</td>\n",
       "    </tr>\n",
       "    <tr>\n",
       "      <th>152</th>\n",
       "      <td>IS</td>\n",
       "      <td>0.11</td>\n",
       "    </tr>\n",
       "    <tr>\n",
       "      <th>...</th>\n",
       "      <td>...</td>\n",
       "      <td>...</td>\n",
       "    </tr>\n",
       "    <tr>\n",
       "      <th>116</th>\n",
       "      <td>MN</td>\n",
       "      <td>-4.99</td>\n",
       "    </tr>\n",
       "    <tr>\n",
       "      <th>82</th>\n",
       "      <td>SV</td>\n",
       "      <td>-6.54</td>\n",
       "    </tr>\n",
       "    <tr>\n",
       "      <th>108</th>\n",
       "      <td>AM</td>\n",
       "      <td>-7.83</td>\n",
       "    </tr>\n",
       "    <tr>\n",
       "      <th>93</th>\n",
       "      <td>PY</td>\n",
       "      <td>-7.92</td>\n",
       "    </tr>\n",
       "    <tr>\n",
       "      <th>164</th>\n",
       "      <td>WS</td>\n",
       "      <td>-62.16</td>\n",
       "    </tr>\n",
       "  </tbody>\n",
       "</table>\n",
       "<p>167 rows × 2 columns</p>\n",
       "</div>"
      ],
      "text/plain": [
       "    country_code  ratio1\n",
       "154           LU    0.23\n",
       "156           NO    0.18\n",
       "72            CA    0.16\n",
       "146           AU    0.13\n",
       "152           IS    0.11\n",
       "..           ...     ...\n",
       "116           MN   -4.99\n",
       "82            SV   -6.54\n",
       "108           AM   -7.83\n",
       "93            PY   -7.92\n",
       "164           WS  -62.16\n",
       "\n",
       "[167 rows x 2 columns]"
      ]
     },
     "execution_count": 73,
     "metadata": {},
     "output_type": "execute_result"
    }
   ],
   "source": [
    "ratio['ratio1']=ratio['difference_amount']/ratio['population']\n",
    "ratio=ratio.sort_values(by='ratio1', ascending=False)\n",
    "ratio[['country_code','ratio1']]"
   ]
  },
  {
   "cell_type": "markdown",
   "metadata": {
    "colab_type": "text",
    "id": "APgblcsi9TnH"
   },
   "source": [
    "Il Lussemburgo è il paese con il rapporto maggiore."
   ]
  },
  {
   "cell_type": "markdown",
   "metadata": {
    "colab_type": "text",
    "id": "P5Xnh11lHibj"
   },
   "source": [
    "# 11- Which country has the highest ratio between the difference computed at point 9 and the population that is not below the poverty line?"
   ]
  },
  {
   "cell_type": "code",
   "execution_count": 74,
   "metadata": {
    "colab": {
     "base_uri": "https://localhost:8080/",
     "height": 309
    },
    "colab_type": "code",
    "executionInfo": {
     "elapsed": 121933,
     "status": "ok",
     "timestamp": 1579453386541,
     "user": {
      "displayName": "Mattia Rigiroli",
      "photoUrl": "",
      "userId": "16974970111569695540"
     },
     "user_tz": -60
    },
    "id": "-1zN7f-TtXSO",
    "outputId": "11d71937-3e88-454a-cba1-b480d689e8c6"
   },
   "outputs": [
    {
     "data": {
      "text/html": [
       "<div>\n",
       "<style scoped>\n",
       "    .dataframe tbody tr th:only-of-type {\n",
       "        vertical-align: middle;\n",
       "    }\n",
       "\n",
       "    .dataframe tbody tr th {\n",
       "        vertical-align: top;\n",
       "    }\n",
       "\n",
       "    .dataframe thead th {\n",
       "        text-align: right;\n",
       "    }\n",
       "</style>\n",
       "<table border=\"1\" class=\"dataframe\">\n",
       "  <thead>\n",
       "    <tr style=\"text-align: right;\">\n",
       "      <th></th>\n",
       "      <th>country_name</th>\n",
       "      <th>country_code</th>\n",
       "      <th>country_code3</th>\n",
       "      <th>continent</th>\n",
       "      <th>region</th>\n",
       "      <th>population</th>\n",
       "      <th>population_below_poverty_line</th>\n",
       "      <th>hdi</th>\n",
       "      <th>life_expectancy</th>\n",
       "      <th>expected_years_of_schooling</th>\n",
       "      <th>mean_years_of_schooling</th>\n",
       "      <th>gni</th>\n",
       "      <th>kiva_country_name</th>\n",
       "    </tr>\n",
       "  </thead>\n",
       "  <tbody>\n",
       "    <tr>\n",
       "      <th>0</th>\n",
       "      <td>India</td>\n",
       "      <td>IN</td>\n",
       "      <td>IND</td>\n",
       "      <td>Asia</td>\n",
       "      <td>Southern Asia</td>\n",
       "      <td>1339180127</td>\n",
       "      <td>21.90</td>\n",
       "      <td>0.62</td>\n",
       "      <td>68.32</td>\n",
       "      <td>11.70</td>\n",
       "      <td>6.30</td>\n",
       "      <td>5663.47</td>\n",
       "      <td>India</td>\n",
       "    </tr>\n",
       "    <tr>\n",
       "      <th>1</th>\n",
       "      <td>Nigeria</td>\n",
       "      <td>NG</td>\n",
       "      <td>NGA</td>\n",
       "      <td>Africa</td>\n",
       "      <td>Western Africa</td>\n",
       "      <td>190886311</td>\n",
       "      <td>70.00</td>\n",
       "      <td>0.53</td>\n",
       "      <td>53.06</td>\n",
       "      <td>9.97</td>\n",
       "      <td>6.00</td>\n",
       "      <td>5442.90</td>\n",
       "      <td>Nigeria</td>\n",
       "    </tr>\n",
       "    <tr>\n",
       "      <th>2</th>\n",
       "      <td>Mexico</td>\n",
       "      <td>MX</td>\n",
       "      <td>MEX</td>\n",
       "      <td>Americas</td>\n",
       "      <td>Central America</td>\n",
       "      <td>129163276</td>\n",
       "      <td>46.20</td>\n",
       "      <td>0.76</td>\n",
       "      <td>76.97</td>\n",
       "      <td>13.30</td>\n",
       "      <td>8.55</td>\n",
       "      <td>16383.11</td>\n",
       "      <td>Mexico</td>\n",
       "    </tr>\n",
       "    <tr>\n",
       "      <th>3</th>\n",
       "      <td>Pakistan</td>\n",
       "      <td>PK</td>\n",
       "      <td>PAK</td>\n",
       "      <td>Asia</td>\n",
       "      <td>Southern Asia</td>\n",
       "      <td>197015955</td>\n",
       "      <td>29.50</td>\n",
       "      <td>0.55</td>\n",
       "      <td>66.36</td>\n",
       "      <td>8.11</td>\n",
       "      <td>5.09</td>\n",
       "      <td>5031.17</td>\n",
       "      <td>Pakistan</td>\n",
       "    </tr>\n",
       "    <tr>\n",
       "      <th>4</th>\n",
       "      <td>Bangladesh</td>\n",
       "      <td>BD</td>\n",
       "      <td>BGD</td>\n",
       "      <td>Asia</td>\n",
       "      <td>Southern Asia</td>\n",
       "      <td>164669751</td>\n",
       "      <td>31.50</td>\n",
       "      <td>0.58</td>\n",
       "      <td>71.98</td>\n",
       "      <td>10.18</td>\n",
       "      <td>5.24</td>\n",
       "      <td>3341.49</td>\n",
       "      <td>Bangladesh</td>\n",
       "    </tr>\n",
       "  </tbody>\n",
       "</table>\n",
       "</div>"
      ],
      "text/plain": [
       "  country_name country_code country_code3 continent           region  \\\n",
       "0        India           IN           IND      Asia    Southern Asia   \n",
       "1      Nigeria           NG           NGA    Africa   Western Africa   \n",
       "2       Mexico           MX           MEX  Americas  Central America   \n",
       "3     Pakistan           PK           PAK      Asia    Southern Asia   \n",
       "4   Bangladesh           BD           BGD      Asia    Southern Asia   \n",
       "\n",
       "   population  population_below_poverty_line  hdi  life_expectancy  \\\n",
       "0  1339180127                          21.90 0.62            68.32   \n",
       "1   190886311                          70.00 0.53            53.06   \n",
       "2   129163276                          46.20 0.76            76.97   \n",
       "3   197015955                          29.50 0.55            66.36   \n",
       "4   164669751                          31.50 0.58            71.98   \n",
       "\n",
       "   expected_years_of_schooling  mean_years_of_schooling      gni  \\\n",
       "0                        11.70                     6.30  5663.47   \n",
       "1                         9.97                     6.00  5442.90   \n",
       "2                        13.30                     8.55 16383.11   \n",
       "3                         8.11                     5.09  5031.17   \n",
       "4                        10.18                     5.24  3341.49   \n",
       "\n",
       "  kiva_country_name  \n",
       "0             India  \n",
       "1           Nigeria  \n",
       "2            Mexico  \n",
       "3          Pakistan  \n",
       "4        Bangladesh  "
      ]
     },
     "execution_count": 74,
     "metadata": {},
     "output_type": "execute_result"
    }
   ],
   "source": [
    "country.head()"
   ]
  },
  {
   "cell_type": "code",
   "execution_count": 75,
   "metadata": {
    "colab": {},
    "colab_type": "code",
    "id": "2IqOsuYQtcvG"
   },
   "outputs": [],
   "source": [
    "country['population_not_poor']=country['population']-(country['population_below_poverty_line']*country['population']/100)"
   ]
  },
  {
   "cell_type": "code",
   "execution_count": 76,
   "metadata": {
    "colab": {
     "base_uri": "https://localhost:8080/",
     "height": 419
    },
    "colab_type": "code",
    "executionInfo": {
     "elapsed": 121578,
     "status": "ok",
     "timestamp": 1579453386543,
     "user": {
      "displayName": "Mattia Rigiroli",
      "photoUrl": "",
      "userId": "16974970111569695540"
     },
     "user_tz": -60
    },
    "id": "FBCSWL-xPMLn",
    "outputId": "27c4d9d0-bd5e-443a-d50e-4f725b9a2151"
   },
   "outputs": [
    {
     "data": {
      "text/html": [
       "<div>\n",
       "<style scoped>\n",
       "    .dataframe tbody tr th:only-of-type {\n",
       "        vertical-align: middle;\n",
       "    }\n",
       "\n",
       "    .dataframe tbody tr th {\n",
       "        vertical-align: top;\n",
       "    }\n",
       "\n",
       "    .dataframe thead th {\n",
       "        text-align: right;\n",
       "    }\n",
       "</style>\n",
       "<table border=\"1\" class=\"dataframe\">\n",
       "  <thead>\n",
       "    <tr style=\"text-align: right;\">\n",
       "      <th></th>\n",
       "      <th>country_code</th>\n",
       "      <th>ratio2</th>\n",
       "    </tr>\n",
       "  </thead>\n",
       "  <tbody>\n",
       "    <tr>\n",
       "      <th>146</th>\n",
       "      <td>AU</td>\n",
       "      <td>2.71</td>\n",
       "    </tr>\n",
       "    <tr>\n",
       "      <th>132</th>\n",
       "      <td>AT</td>\n",
       "      <td>0.81</td>\n",
       "    </tr>\n",
       "    <tr>\n",
       "      <th>119</th>\n",
       "      <td>CH</td>\n",
       "      <td>0.22</td>\n",
       "    </tr>\n",
       "    <tr>\n",
       "      <th>72</th>\n",
       "      <td>CA</td>\n",
       "      <td>0.17</td>\n",
       "    </tr>\n",
       "    <tr>\n",
       "      <th>103</th>\n",
       "      <td>MY</td>\n",
       "      <td>0.15</td>\n",
       "    </tr>\n",
       "    <tr>\n",
       "      <th>...</th>\n",
       "      <td>...</td>\n",
       "      <td>...</td>\n",
       "    </tr>\n",
       "    <tr>\n",
       "      <th>158</th>\n",
       "      <td>PR</td>\n",
       "      <td>nan</td>\n",
       "    </tr>\n",
       "    <tr>\n",
       "      <th>162</th>\n",
       "      <td>SB</td>\n",
       "      <td>nan</td>\n",
       "    </tr>\n",
       "    <tr>\n",
       "      <th>166</th>\n",
       "      <td>XK</td>\n",
       "      <td>nan</td>\n",
       "    </tr>\n",
       "    <tr>\n",
       "      <th>165</th>\n",
       "      <td>PS</td>\n",
       "      <td>nan</td>\n",
       "    </tr>\n",
       "    <tr>\n",
       "      <th>164</th>\n",
       "      <td>WS</td>\n",
       "      <td>nan</td>\n",
       "    </tr>\n",
       "  </tbody>\n",
       "</table>\n",
       "<p>167 rows × 2 columns</p>\n",
       "</div>"
      ],
      "text/plain": [
       "    country_code  ratio2\n",
       "146           AU    2.71\n",
       "132           AT    0.81\n",
       "119           CH    0.22\n",
       "72            CA    0.17\n",
       "103           MY    0.15\n",
       "..           ...     ...\n",
       "158           PR     nan\n",
       "162           SB     nan\n",
       "166           XK     nan\n",
       "165           PS     nan\n",
       "164           WS     nan\n",
       "\n",
       "[167 rows x 2 columns]"
      ]
     },
     "execution_count": 76,
     "metadata": {},
     "output_type": "execute_result"
    }
   ],
   "source": [
    "ratio['ratio2']=ratio['difference_amount']/country['population_not_poor']\n",
    "ratio=ratio.sort_values(by='ratio2', ascending=False)\n",
    "ratio[['country_code','ratio2']]"
   ]
  },
  {
   "cell_type": "markdown",
   "metadata": {},
   "source": [
    "L'Australia è il paese con il rapporto maggiore. "
   ]
  },
  {
   "cell_type": "markdown",
   "metadata": {
    "colab_type": "text",
    "id": "1lKkE4dMHibj"
   },
   "source": [
    "# 12- For each year, compute the total amount of loans. Each loan that has planned expiration time and disburse time in different years must have its amount distributed proportionally to the number of days in each year. For example, a loan with disburse time December 1st, 2016, planned expiration time January 30th 2018, and amount 5000USD has an amount of 5000USD * 31 / (31+365+30) = 363.85 for 2016, 5000USD * 365 / (31+365+30) = 4284.04 for 2017, and 5000USD * 30 / (31+365+30) = 352.11 for 2018."
   ]
  },
  {
   "cell_type": "code",
   "execution_count": 77,
   "metadata": {
    "colab": {
     "base_uri": "https://localhost:8080/",
     "height": 581
    },
    "colab_type": "code",
    "executionInfo": {
     "elapsed": 121191,
     "status": "ok",
     "timestamp": 1579453386544,
     "user": {
      "displayName": "Mattia Rigiroli",
      "photoUrl": "",
      "userId": "16974970111569695540"
     },
     "user_tz": -60
    },
    "id": "qiVEepeHHibj",
    "outputId": "01076cb7-831c-4097-99ee-eaa7a9c24f28"
   },
   "outputs": [
    {
     "data": {
      "text/html": [
       "<div>\n",
       "<style scoped>\n",
       "    .dataframe tbody tr th:only-of-type {\n",
       "        vertical-align: middle;\n",
       "    }\n",
       "\n",
       "    .dataframe tbody tr th {\n",
       "        vertical-align: top;\n",
       "    }\n",
       "\n",
       "    .dataframe thead th {\n",
       "        text-align: right;\n",
       "    }\n",
       "</style>\n",
       "<table border=\"1\" class=\"dataframe\">\n",
       "  <thead>\n",
       "    <tr style=\"text-align: right;\">\n",
       "      <th></th>\n",
       "      <th>loan_id</th>\n",
       "      <th>loan_name</th>\n",
       "      <th>original_language</th>\n",
       "      <th>description</th>\n",
       "      <th>description_translated</th>\n",
       "      <th>funded_amount</th>\n",
       "      <th>loan_amount</th>\n",
       "      <th>status</th>\n",
       "      <th>activity_name</th>\n",
       "      <th>sector_name</th>\n",
       "      <th>...</th>\n",
       "      <th>num_lenders_total</th>\n",
       "      <th>num_journal_entries</th>\n",
       "      <th>num_bulk_entries</th>\n",
       "      <th>tags</th>\n",
       "      <th>borrower_genders</th>\n",
       "      <th>borrower_pictured</th>\n",
       "      <th>repayment_interval</th>\n",
       "      <th>distribution_model</th>\n",
       "      <th>loans_duration</th>\n",
       "      <th>disburse_years</th>\n",
       "    </tr>\n",
       "  </thead>\n",
       "  <tbody>\n",
       "    <tr>\n",
       "      <th>0</th>\n",
       "      <td>657307</td>\n",
       "      <td>Aivy</td>\n",
       "      <td>English</td>\n",
       "      <td>Aivy, 21 years of age, is single and lives in ...</td>\n",
       "      <td>NaN</td>\n",
       "      <td>125.00</td>\n",
       "      <td>125.00</td>\n",
       "      <td>funded</td>\n",
       "      <td>General Store</td>\n",
       "      <td>Retail</td>\n",
       "      <td>...</td>\n",
       "      <td>3</td>\n",
       "      <td>2</td>\n",
       "      <td>1</td>\n",
       "      <td>NaN</td>\n",
       "      <td>female</td>\n",
       "      <td>true</td>\n",
       "      <td>irregular</td>\n",
       "      <td>field_partner</td>\n",
       "      <td>53 days 19:30:06</td>\n",
       "      <td>2013.00</td>\n",
       "    </tr>\n",
       "    <tr>\n",
       "      <th>1</th>\n",
       "      <td>657259</td>\n",
       "      <td>Idalia Marizza</td>\n",
       "      <td>Spanish</td>\n",
       "      <td>Doña Idalia, esta casada, tiene 57 años de eda...</td>\n",
       "      <td>Idalia, 57, is married and lives with her husb...</td>\n",
       "      <td>400.00</td>\n",
       "      <td>400.00</td>\n",
       "      <td>funded</td>\n",
       "      <td>Used Clothing</td>\n",
       "      <td>Clothing</td>\n",
       "      <td>...</td>\n",
       "      <td>11</td>\n",
       "      <td>2</td>\n",
       "      <td>1</td>\n",
       "      <td>NaN</td>\n",
       "      <td>female</td>\n",
       "      <td>true</td>\n",
       "      <td>monthly</td>\n",
       "      <td>field_partner</td>\n",
       "      <td>96 days 14:25:07</td>\n",
       "      <td>2013.00</td>\n",
       "    </tr>\n",
       "    <tr>\n",
       "      <th>2</th>\n",
       "      <td>658010</td>\n",
       "      <td>Aasia</td>\n",
       "      <td>English</td>\n",
       "      <td>Aasia is a 45-year-old married lady and she ha...</td>\n",
       "      <td>NaN</td>\n",
       "      <td>400.00</td>\n",
       "      <td>400.00</td>\n",
       "      <td>funded</td>\n",
       "      <td>General Store</td>\n",
       "      <td>Retail</td>\n",
       "      <td>...</td>\n",
       "      <td>16</td>\n",
       "      <td>2</td>\n",
       "      <td>1</td>\n",
       "      <td>#Woman Owned Biz, #Supporting Family, user_fav...</td>\n",
       "      <td>female</td>\n",
       "      <td>true</td>\n",
       "      <td>monthly</td>\n",
       "      <td>field_partner</td>\n",
       "      <td>37 days 13:10:05</td>\n",
       "      <td>2014.00</td>\n",
       "    </tr>\n",
       "    <tr>\n",
       "      <th>3</th>\n",
       "      <td>659347</td>\n",
       "      <td>Gulmira</td>\n",
       "      <td>Russian</td>\n",
       "      <td>Гулмире 36 лет, замужем, вместе с супругом вос...</td>\n",
       "      <td>Gulmira is 36 years old and married.  She and ...</td>\n",
       "      <td>625.00</td>\n",
       "      <td>625.00</td>\n",
       "      <td>funded</td>\n",
       "      <td>Farming</td>\n",
       "      <td>Agriculture</td>\n",
       "      <td>...</td>\n",
       "      <td>21</td>\n",
       "      <td>2</td>\n",
       "      <td>1</td>\n",
       "      <td>user_favorite</td>\n",
       "      <td>female</td>\n",
       "      <td>true</td>\n",
       "      <td>monthly</td>\n",
       "      <td>field_partner</td>\n",
       "      <td>34 days 19:10:02</td>\n",
       "      <td>2014.00</td>\n",
       "    </tr>\n",
       "    <tr>\n",
       "      <th>4</th>\n",
       "      <td>656933</td>\n",
       "      <td>Ricky\\t</td>\n",
       "      <td>English</td>\n",
       "      <td>Ricky is a farmer who currently cultivates his...</td>\n",
       "      <td>NaN</td>\n",
       "      <td>425.00</td>\n",
       "      <td>425.00</td>\n",
       "      <td>funded</td>\n",
       "      <td>Farming</td>\n",
       "      <td>Agriculture</td>\n",
       "      <td>...</td>\n",
       "      <td>15</td>\n",
       "      <td>2</td>\n",
       "      <td>1</td>\n",
       "      <td>#Animals, #Eco-friendly, #Sustainable Ag</td>\n",
       "      <td>male</td>\n",
       "      <td>true</td>\n",
       "      <td>bullet</td>\n",
       "      <td>field_partner</td>\n",
       "      <td>57 days 22:10:02</td>\n",
       "      <td>2013.00</td>\n",
       "    </tr>\n",
       "  </tbody>\n",
       "</table>\n",
       "<p>5 rows × 33 columns</p>\n",
       "</div>"
      ],
      "text/plain": [
       "   loan_id       loan_name original_language  \\\n",
       "0   657307            Aivy           English   \n",
       "1   657259  Idalia Marizza           Spanish   \n",
       "2   658010           Aasia           English   \n",
       "3   659347         Gulmira           Russian   \n",
       "4   656933         Ricky\\t           English   \n",
       "\n",
       "                                         description  \\\n",
       "0  Aivy, 21 years of age, is single and lives in ...   \n",
       "1  Doña Idalia, esta casada, tiene 57 años de eda...   \n",
       "2  Aasia is a 45-year-old married lady and she ha...   \n",
       "3  Гулмире 36 лет, замужем, вместе с супругом вос...   \n",
       "4  Ricky is a farmer who currently cultivates his...   \n",
       "\n",
       "                              description_translated  funded_amount  \\\n",
       "0                                                NaN         125.00   \n",
       "1  Idalia, 57, is married and lives with her husb...         400.00   \n",
       "2                                                NaN         400.00   \n",
       "3  Gulmira is 36 years old and married.  She and ...         625.00   \n",
       "4                                                NaN         425.00   \n",
       "\n",
       "   loan_amount  status  activity_name  sector_name  ... num_lenders_total  \\\n",
       "0       125.00  funded  General Store       Retail  ...                 3   \n",
       "1       400.00  funded  Used Clothing     Clothing  ...                11   \n",
       "2       400.00  funded  General Store       Retail  ...                16   \n",
       "3       625.00  funded        Farming  Agriculture  ...                21   \n",
       "4       425.00  funded        Farming  Agriculture  ...                15   \n",
       "\n",
       "  num_journal_entries num_bulk_entries  \\\n",
       "0                   2                1   \n",
       "1                   2                1   \n",
       "2                   2                1   \n",
       "3                   2                1   \n",
       "4                   2                1   \n",
       "\n",
       "                                                tags borrower_genders  \\\n",
       "0                                                NaN           female   \n",
       "1                                                NaN           female   \n",
       "2  #Woman Owned Biz, #Supporting Family, user_fav...           female   \n",
       "3                                      user_favorite           female   \n",
       "4           #Animals, #Eco-friendly, #Sustainable Ag             male   \n",
       "\n",
       "   borrower_pictured repayment_interval  distribution_model   loans_duration  \\\n",
       "0               true          irregular       field_partner 53 days 19:30:06   \n",
       "1               true            monthly       field_partner 96 days 14:25:07   \n",
       "2               true            monthly       field_partner 37 days 13:10:05   \n",
       "3               true            monthly       field_partner 34 days 19:10:02   \n",
       "4               true             bullet       field_partner 57 days 22:10:02   \n",
       "\n",
       "  disburse_years  \n",
       "0        2013.00  \n",
       "1        2013.00  \n",
       "2        2014.00  \n",
       "3        2014.00  \n",
       "4        2013.00  \n",
       "\n",
       "[5 rows x 33 columns]"
      ]
     },
     "execution_count": 77,
     "metadata": {},
     "output_type": "execute_result"
    }
   ],
   "source": [
    "loans.head()"
   ]
  },
  {
   "cell_type": "markdown",
   "metadata": {
    "colab_type": "text",
    "id": "99stIpDKMdEh"
   },
   "source": [
    "Metodo poco efficace in quanto utilizza dei dataframe per memorizzare le informazioni:"
   ]
  },
  {
   "cell_type": "code",
   "execution_count": 78,
   "metadata": {
    "colab": {},
    "colab_type": "code",
    "id": "WEaHASa-8iUx"
   },
   "outputs": [],
   "source": [
    "loans_short=loans[0:1000]"
   ]
  },
  {
   "cell_type": "code",
   "execution_count": 79,
   "metadata": {
    "colab": {
     "base_uri": "https://localhost:8080/",
     "height": 221
    },
    "colab_type": "code",
    "executionInfo": {
     "elapsed": 120608,
     "status": "ok",
     "timestamp": 1579453386545,
     "user": {
      "displayName": "Mattia Rigiroli",
      "photoUrl": "",
      "userId": "16974970111569695540"
     },
     "user_tz": -60
    },
    "id": "x691oL2yApe6",
    "outputId": "df0e8cae-f36c-481f-eeec-f60d32f482a8"
   },
   "outputs": [
    {
     "name": "stderr",
     "output_type": "stream",
     "text": [
      "C:\\Users\\matti\\Anaconda3\\lib\\site-packages\\ipykernel_launcher.py:1: SettingWithCopyWarning: \n",
      "A value is trying to be set on a copy of a slice from a DataFrame.\n",
      "Try using .loc[row_indexer,col_indexer] = value instead\n",
      "\n",
      "See the caveats in the documentation: http://pandas.pydata.org/pandas-docs/stable/user_guide/indexing.html#returning-a-view-versus-a-copy\n",
      "  \"\"\"Entry point for launching an IPython kernel.\n",
      "C:\\Users\\matti\\Anaconda3\\lib\\site-packages\\ipykernel_launcher.py:2: SettingWithCopyWarning: \n",
      "A value is trying to be set on a copy of a slice from a DataFrame.\n",
      "Try using .loc[row_indexer,col_indexer] = value instead\n",
      "\n",
      "See the caveats in the documentation: http://pandas.pydata.org/pandas-docs/stable/user_guide/indexing.html#returning-a-view-versus-a-copy\n",
      "  \n"
     ]
    }
   ],
   "source": [
    "loans_short['disburse_time']=pd.to_datetime(loans_short['disburse_time'])\n",
    "loans_short['planned_expiration_time']=pd.to_datetime(loans_short['planned_expiration_time'])"
   ]
  },
  {
   "cell_type": "code",
   "execution_count": 80,
   "metadata": {
    "colab": {},
    "colab_type": "code",
    "id": "9eGPbmDS-TZi"
   },
   "outputs": [],
   "source": [
    "dataframe=pd.DataFrame({'loan_id':[], 'anno':[], 'cash':[]})\n",
    "\n",
    "#Inizializzo il contatore per le righe del nuovo dataset\n",
    "k=0\n",
    "\n",
    "for i in range(0,len(loans_short)):\n",
    "  \n",
    "  loan_id=loans_short.iloc[i]['loan_id']\n",
    "  amount=loans_short.iloc[i]['loan_amount']\n",
    "  anno_inizio=loans_short.iloc[i]['disburse_time'].year\n",
    "  anno_fine=loans_short.iloc[i]['planned_expiration_time'].year\n",
    "  giorni=(loans_short.iloc[i]['planned_expiration_time']-loans_short.iloc[i]['disburse_time']).days\n",
    "  \n",
    "  # Non ha senso considerare una planned expiration time precedente alla disburse time\n",
    "  if giorni > 1:\n",
    "    if anno_inizio==anno_fine:\n",
    "      dataframe.loc[k]=[loan_id,anno_inizio,amount]\n",
    "      k+=1\n",
    "\n",
    "    #Eseguo il calcolo per i loans aperti e chiusi in anni differenti\n",
    "    else:\n",
    "      #Creo una lista con tutti gli anni.\n",
    "      anni=list(range(anno_inizio,anno_fine+1))  \n",
    "    \n",
    "      righe=len(anni)\n",
    "      indice_righe=list(range(k,k+righe+1))\n",
    "\n",
    "      #Primo anno\n",
    "      anno=anni[0]\n",
    "      n=365-pd.to_datetime(loans_short['disburse_time'][i]).dayofyear\n",
    "      cash=(n*amount)/giorni\n",
    "      dataframe.loc[indice_righe[0]]=[loan_id,anno,cash]\n",
    "\n",
    "      #Anni centrali\n",
    "      for l in range(1,len(anni)-1):\n",
    "        anno=anni[l]\n",
    "        cash=(365*amount)/giorni\n",
    "        dataframe.loc[indice_righe[l]]=[loan_id,anno,cash]\n",
    "\n",
    "      #Ultimo anno\n",
    "      anno=anni[-1]\n",
    "      n=pd.to_datetime(loans_short['planned_expiration_time'][i]).dayofyear\n",
    "      cash=(n*amount)/giorni\n",
    "      dataframe.loc[indice_righe[-1]]=[loan_id,anno,cash]\n",
    "\n",
    "      k=k+righe"
   ]
  },
  {
   "cell_type": "code",
   "execution_count": 81,
   "metadata": {
    "colab": {
     "base_uri": "https://localhost:8080/",
     "height": 419
    },
    "colab_type": "code",
    "executionInfo": {
     "elapsed": 122757,
     "status": "ok",
     "timestamp": 1579453389087,
     "user": {
      "displayName": "Mattia Rigiroli",
      "photoUrl": "",
      "userId": "16974970111569695540"
     },
     "user_tz": -60
    },
    "id": "qAmtL__2-TWi",
    "outputId": "e39b4551-02c7-4b91-9f71-c15c5846f202"
   },
   "outputs": [
    {
     "data": {
      "text/html": [
       "<div>\n",
       "<style scoped>\n",
       "    .dataframe tbody tr th:only-of-type {\n",
       "        vertical-align: middle;\n",
       "    }\n",
       "\n",
       "    .dataframe tbody tr th {\n",
       "        vertical-align: top;\n",
       "    }\n",
       "\n",
       "    .dataframe thead th {\n",
       "        text-align: right;\n",
       "    }\n",
       "</style>\n",
       "<table border=\"1\" class=\"dataframe\">\n",
       "  <thead>\n",
       "    <tr style=\"text-align: right;\">\n",
       "      <th></th>\n",
       "      <th>loan_id</th>\n",
       "      <th>anno</th>\n",
       "      <th>cash</th>\n",
       "    </tr>\n",
       "  </thead>\n",
       "  <tbody>\n",
       "    <tr>\n",
       "      <th>0</th>\n",
       "      <td>657307.00</td>\n",
       "      <td>2013.00</td>\n",
       "      <td>21.23</td>\n",
       "    </tr>\n",
       "    <tr>\n",
       "      <th>2</th>\n",
       "      <td>657259.00</td>\n",
       "      <td>2013.00</td>\n",
       "      <td>45.83</td>\n",
       "    </tr>\n",
       "    <tr>\n",
       "      <th>4</th>\n",
       "      <td>658010.00</td>\n",
       "      <td>2014.00</td>\n",
       "      <td>400.00</td>\n",
       "    </tr>\n",
       "    <tr>\n",
       "      <th>5</th>\n",
       "      <td>659347.00</td>\n",
       "      <td>2014.00</td>\n",
       "      <td>625.00</td>\n",
       "    </tr>\n",
       "    <tr>\n",
       "      <th>6</th>\n",
       "      <td>656933.00</td>\n",
       "      <td>2013.00</td>\n",
       "      <td>104.39</td>\n",
       "    </tr>\n",
       "    <tr>\n",
       "      <th>...</th>\n",
       "      <td>...</td>\n",
       "      <td>...</td>\n",
       "      <td>...</td>\n",
       "    </tr>\n",
       "    <tr>\n",
       "      <th>1010</th>\n",
       "      <td>659317.00</td>\n",
       "      <td>2013.00</td>\n",
       "      <td>22.17</td>\n",
       "    </tr>\n",
       "    <tr>\n",
       "      <th>1012</th>\n",
       "      <td>660410.00</td>\n",
       "      <td>2014.00</td>\n",
       "      <td>125.00</td>\n",
       "    </tr>\n",
       "    <tr>\n",
       "      <th>1013</th>\n",
       "      <td>663077.00</td>\n",
       "      <td>2014.00</td>\n",
       "      <td>225.00</td>\n",
       "    </tr>\n",
       "    <tr>\n",
       "      <th>1014</th>\n",
       "      <td>663849.00</td>\n",
       "      <td>2014.00</td>\n",
       "      <td>1200.00</td>\n",
       "    </tr>\n",
       "    <tr>\n",
       "      <th>1015</th>\n",
       "      <td>663948.00</td>\n",
       "      <td>2014.00</td>\n",
       "      <td>3000.00</td>\n",
       "    </tr>\n",
       "  </tbody>\n",
       "</table>\n",
       "<p>922 rows × 3 columns</p>\n",
       "</div>"
      ],
      "text/plain": [
       "       loan_id    anno    cash\n",
       "0    657307.00 2013.00   21.23\n",
       "2    657259.00 2013.00   45.83\n",
       "4    658010.00 2014.00  400.00\n",
       "5    659347.00 2014.00  625.00\n",
       "6    656933.00 2013.00  104.39\n",
       "...        ...     ...     ...\n",
       "1010 659317.00 2013.00   22.17\n",
       "1012 660410.00 2014.00  125.00\n",
       "1013 663077.00 2014.00  225.00\n",
       "1014 663849.00 2014.00 1200.00\n",
       "1015 663948.00 2014.00 3000.00\n",
       "\n",
       "[922 rows x 3 columns]"
      ]
     },
     "execution_count": 81,
     "metadata": {},
     "output_type": "execute_result"
    }
   ],
   "source": [
    "dataframe"
   ]
  },
  {
   "cell_type": "code",
   "execution_count": 82,
   "metadata": {
    "colab": {},
    "colab_type": "code",
    "id": "-b6hHYD4mEEN"
   },
   "outputs": [],
   "source": [
    "new_dataframe=dataframe.groupby('anno')['cash'].sum()"
   ]
  },
  {
   "cell_type": "code",
   "execution_count": 83,
   "metadata": {
    "colab": {
     "base_uri": "https://localhost:8080/",
     "height": 153
    },
    "colab_type": "code",
    "executionInfo": {
     "elapsed": 120441,
     "status": "ok",
     "timestamp": 1579453389089,
     "user": {
      "displayName": "Mattia Rigiroli",
      "photoUrl": "",
      "userId": "16974970111569695540"
     },
     "user_tz": -60
    },
    "id": "CEOm0QhHng_r",
    "outputId": "6565af5b-a519-46a9-c09b-72ea9b0b6475"
   },
   "outputs": [
    {
     "data": {
      "text/plain": [
       "anno\n",
       "2012.00   252775.00\n",
       "2013.00    10901.81\n",
       "2014.00   211475.92\n",
       "2015.00   108225.00\n",
       "2016.00   125124.90\n",
       "2017.00    21025.00\n",
       "Name: cash, dtype: float64"
      ]
     },
     "execution_count": 83,
     "metadata": {},
     "output_type": "execute_result"
    }
   ],
   "source": [
    "new_dataframe"
   ]
  },
  {
   "cell_type": "markdown",
   "metadata": {
    "colab_type": "text",
    "id": "ECzizwuEVSFi"
   },
   "source": [
    "Metodo più efficace (con l'utilizzo di liste):"
   ]
  },
  {
   "cell_type": "code",
   "execution_count": 84,
   "metadata": {
    "colab": {},
    "colab_type": "code",
    "id": "eqRRVo10XWXJ"
   },
   "outputs": [],
   "source": [
    "loans['disburse_time']=pd.to_datetime(loans['disburse_time'])\n",
    "loans['planned_expiration_time']=pd.to_datetime(loans['planned_expiration_time'])"
   ]
  },
  {
   "cell_type": "code",
   "execution_count": 85,
   "metadata": {
    "colab": {},
    "colab_type": "code",
    "id": "24zdbNKrdEhv"
   },
   "outputs": [],
   "source": [
    "dataframe=pd.DataFrame({'anno':[], 'cash':[]})\n",
    "lista_anni=[]\n",
    "lista_amount=[]\n",
    "\n",
    "amounts=[x for x in loans['loan_amount']]\n",
    "anni_inizio=[x.year for x in loans['disburse_time']]\n",
    "anni_fine=[x.year for x in loans['planned_expiration_time']]\n",
    "\n",
    "for i in range(0,len(loans)):\n",
    "  \n",
    "  amount=amounts[i]\n",
    "  anno_inizio=anni_inizio[i]\n",
    "  anno_fine=anni_fine[i]\n",
    "  giorni=(loans.iloc[i]['planned_expiration_time']-loans.iloc[i]['disburse_time']).days\n",
    "\n",
    "  #Non ha senso considerare una planned expiration time precedente alla disburse time.\n",
    "  #Non sono quindi considerati tali loans.\n",
    "  if giorni > 1:\n",
    "    if anno_inizio==anno_fine:\n",
    "      lista_anni.append(anno_inizio)\n",
    "      lista_amount.append(amount)\n",
    "      #Inserisco direttamente l'amount in quanto il n giorni dell'anno equivale\n",
    "      #al numero di giorni totale.\n",
    "\n",
    "    #Eseguo il calcolo per i loans aperti e chiusi in anni differenti\n",
    "    else:\n",
    "      #Creo una lista con tutti gli anni.\n",
    "      anni=list(range(anno_inizio,anno_fine+1))  \n",
    "    \n",
    "      #Primo anno\n",
    "      anno=anni[0]\n",
    "      n=365-pd.to_datetime(loans['disburse_time'][i]).dayofyear\n",
    "      cash=(n*amount)/giorni\n",
    "      lista_anni.append(anno)\n",
    "      lista_amount.append(cash)\n",
    "\n",
    "      #Anni centrali\n",
    "      for l in range(1,len(anni)-1):\n",
    "        anno=anni[l]\n",
    "        cash=(365*amount)/giorni\n",
    "        lista_anni.append(anno)\n",
    "        lista_amount.append(cash)\n",
    "\n",
    "      #Ultimo anno\n",
    "      anno=anni[-1]\n",
    "      n=pd.to_datetime(loans['planned_expiration_time'][i]).dayofyear\n",
    "      cash=(n*amount)/giorni\n",
    "      lista_anni.append(anno)\n",
    "      lista_amount.append(cash)"
   ]
  },
  {
   "cell_type": "code",
   "execution_count": 86,
   "metadata": {
    "colab": {},
    "colab_type": "code",
    "id": "K1kScDt-pjmL"
   },
   "outputs": [],
   "source": [
    "dataframe=pd.DataFrame({'anno':lista_anni, 'cash':lista_amount})"
   ]
  },
  {
   "cell_type": "code",
   "execution_count": 87,
   "metadata": {
    "colab": {
     "base_uri": "https://localhost:8080/",
     "height": 419
    },
    "colab_type": "code",
    "executionInfo": {
     "elapsed": 862622,
     "status": "ok",
     "timestamp": 1579454133427,
     "user": {
      "displayName": "Mattia Rigiroli",
      "photoUrl": "",
      "userId": "16974970111569695540"
     },
     "user_tz": -60
    },
    "id": "af2DluLpVaMF",
    "outputId": "2d58e6bc-24f8-41d3-c1cf-c04d70a7d0bc"
   },
   "outputs": [
    {
     "data": {
      "text/html": [
       "<div>\n",
       "<style scoped>\n",
       "    .dataframe tbody tr th:only-of-type {\n",
       "        vertical-align: middle;\n",
       "    }\n",
       "\n",
       "    .dataframe tbody tr th {\n",
       "        vertical-align: top;\n",
       "    }\n",
       "\n",
       "    .dataframe thead th {\n",
       "        text-align: right;\n",
       "    }\n",
       "</style>\n",
       "<table border=\"1\" class=\"dataframe\">\n",
       "  <thead>\n",
       "    <tr style=\"text-align: right;\">\n",
       "      <th></th>\n",
       "      <th>anno</th>\n",
       "      <th>cash</th>\n",
       "    </tr>\n",
       "  </thead>\n",
       "  <tbody>\n",
       "    <tr>\n",
       "      <th>0</th>\n",
       "      <td>2013</td>\n",
       "      <td>21.23</td>\n",
       "    </tr>\n",
       "    <tr>\n",
       "      <th>1</th>\n",
       "      <td>2014</td>\n",
       "      <td>106.13</td>\n",
       "    </tr>\n",
       "    <tr>\n",
       "      <th>2</th>\n",
       "      <td>2013</td>\n",
       "      <td>45.83</td>\n",
       "    </tr>\n",
       "    <tr>\n",
       "      <th>3</th>\n",
       "      <td>2014</td>\n",
       "      <td>354.17</td>\n",
       "    </tr>\n",
       "    <tr>\n",
       "      <th>4</th>\n",
       "      <td>2014</td>\n",
       "      <td>400.00</td>\n",
       "    </tr>\n",
       "    <tr>\n",
       "      <th>...</th>\n",
       "      <td>...</td>\n",
       "      <td>...</td>\n",
       "    </tr>\n",
       "    <tr>\n",
       "      <th>1179868</th>\n",
       "      <td>2016</td>\n",
       "      <td>142.65</td>\n",
       "    </tr>\n",
       "    <tr>\n",
       "      <th>1179869</th>\n",
       "      <td>2015</td>\n",
       "      <td>92.06</td>\n",
       "    </tr>\n",
       "    <tr>\n",
       "      <th>1179870</th>\n",
       "      <td>2016</td>\n",
       "      <td>7.94</td>\n",
       "    </tr>\n",
       "    <tr>\n",
       "      <th>1179871</th>\n",
       "      <td>2015</td>\n",
       "      <td>166.39</td>\n",
       "    </tr>\n",
       "    <tr>\n",
       "      <th>1179872</th>\n",
       "      <td>2016</td>\n",
       "      <td>8.61</td>\n",
       "    </tr>\n",
       "  </tbody>\n",
       "</table>\n",
       "<p>1179873 rows × 2 columns</p>\n",
       "</div>"
      ],
      "text/plain": [
       "         anno   cash\n",
       "0        2013  21.23\n",
       "1        2014 106.13\n",
       "2        2013  45.83\n",
       "3        2014 354.17\n",
       "4        2014 400.00\n",
       "...       ...    ...\n",
       "1179868  2016 142.65\n",
       "1179869  2015  92.06\n",
       "1179870  2016   7.94\n",
       "1179871  2015 166.39\n",
       "1179872  2016   8.61\n",
       "\n",
       "[1179873 rows x 2 columns]"
      ]
     },
     "execution_count": 87,
     "metadata": {},
     "output_type": "execute_result"
    }
   ],
   "source": [
    "dataframe"
   ]
  },
  {
   "cell_type": "code",
   "execution_count": 88,
   "metadata": {
    "colab": {},
    "colab_type": "code",
    "id": "DbcqYLuUVcKp"
   },
   "outputs": [],
   "source": [
    "new_dataframe=pd.DataFrame(dataframe.groupby('anno')['cash'].sum())"
   ]
  },
  {
   "cell_type": "code",
   "execution_count": 89,
   "metadata": {
    "colab": {
     "base_uri": "https://localhost:8080/",
     "height": 328
    },
    "colab_type": "code",
    "executionInfo": {
     "elapsed": 861430,
     "status": "ok",
     "timestamp": 1579454133429,
     "user": {
      "displayName": "Mattia Rigiroli",
      "photoUrl": "",
      "userId": "16974970111569695540"
     },
     "user_tz": -60
    },
    "id": "WMsgYwfbVcwt",
    "outputId": "7a54fab7-ab82-474e-9e83-6f016e7628a9"
   },
   "outputs": [
    {
     "data": {
      "text/html": [
       "<div>\n",
       "<style scoped>\n",
       "    .dataframe tbody tr th:only-of-type {\n",
       "        vertical-align: middle;\n",
       "    }\n",
       "\n",
       "    .dataframe tbody tr th {\n",
       "        vertical-align: top;\n",
       "    }\n",
       "\n",
       "    .dataframe thead th {\n",
       "        text-align: right;\n",
       "    }\n",
       "</style>\n",
       "<table border=\"1\" class=\"dataframe\">\n",
       "  <thead>\n",
       "    <tr style=\"text-align: right;\">\n",
       "      <th></th>\n",
       "      <th>cash</th>\n",
       "    </tr>\n",
       "    <tr>\n",
       "      <th>anno</th>\n",
       "      <th></th>\n",
       "    </tr>\n",
       "  </thead>\n",
       "  <tbody>\n",
       "    <tr>\n",
       "      <th>2011</th>\n",
       "      <td>631678.34</td>\n",
       "    </tr>\n",
       "    <tr>\n",
       "      <th>2012</th>\n",
       "      <td>112692261.55</td>\n",
       "    </tr>\n",
       "    <tr>\n",
       "      <th>2013</th>\n",
       "      <td>123415680.29</td>\n",
       "    </tr>\n",
       "    <tr>\n",
       "      <th>2014</th>\n",
       "      <td>150210963.41</td>\n",
       "    </tr>\n",
       "    <tr>\n",
       "      <th>2015</th>\n",
       "      <td>154609678.39</td>\n",
       "    </tr>\n",
       "    <tr>\n",
       "      <th>2016</th>\n",
       "      <td>153006054.15</td>\n",
       "    </tr>\n",
       "    <tr>\n",
       "      <th>2017</th>\n",
       "      <td>164556145.63</td>\n",
       "    </tr>\n",
       "    <tr>\n",
       "      <th>2018</th>\n",
       "      <td>5097248.35</td>\n",
       "    </tr>\n",
       "  </tbody>\n",
       "</table>\n",
       "</div>"
      ],
      "text/plain": [
       "             cash\n",
       "anno             \n",
       "2011    631678.34\n",
       "2012 112692261.55\n",
       "2013 123415680.29\n",
       "2014 150210963.41\n",
       "2015 154609678.39\n",
       "2016 153006054.15\n",
       "2017 164556145.63\n",
       "2018   5097248.35"
      ]
     },
     "execution_count": 89,
     "metadata": {},
     "output_type": "execute_result"
    }
   ],
   "source": [
    "new_dataframe"
   ]
  },
  {
   "cell_type": "code",
   "execution_count": 90,
   "metadata": {
    "colab": {
     "base_uri": "https://localhost:8080/",
     "height": 34
    },
    "colab_type": "code",
    "executionInfo": {
     "elapsed": 860579,
     "status": "ok",
     "timestamp": 1579454133430,
     "user": {
      "displayName": "Mattia Rigiroli",
      "photoUrl": "",
      "userId": "16974970111569695540"
     },
     "user_tz": -60
    },
    "id": "J30vxPI53bHw",
    "outputId": "c1d50304-c615-47f3-e4b1-b43ec42ed182"
   },
   "outputs": [
    {
     "data": {
      "text/plain": [
       "864219710.1047662"
      ]
     },
     "execution_count": 90,
     "metadata": {},
     "output_type": "execute_result"
    }
   ],
   "source": [
    "sum(new_dataframe['cash'])"
   ]
  }
 ],
 "metadata": {
  "colab": {
   "collapsed_sections": [],
   "machine_shape": "hm",
   "name": "Kiva_Project_CS_Def.ipynb",
   "provenance": [],
   "toc_visible": true
  },
  "kernelspec": {
   "display_name": "Python 3",
   "language": "python",
   "name": "python3"
  },
  "language_info": {
   "codemirror_mode": {
    "name": "ipython",
    "version": 3
   },
   "file_extension": ".py",
   "mimetype": "text/x-python",
   "name": "python",
   "nbconvert_exporter": "python",
   "pygments_lexer": "ipython3",
   "version": "3.7.6"
  }
 },
 "nbformat": 4,
 "nbformat_minor": 1
}
